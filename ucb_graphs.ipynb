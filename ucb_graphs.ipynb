{
 "cells": [
  {
   "cell_type": "code",
   "execution_count": null,
   "source": [
    "from SocialNetwork.social_network_environment import *\r\n",
    "from pprint import pprint\r\n",
    "import numpy as np\r\n",
    "import matplotlib.pyplot as plt\r\n",
    "#from SocialNetwork.cascade import *\r\n",
    "from Advertising.learners.greedyLearner import *\r\n",
    "from Advertising.learners.UCB_no_anything import *\r\n",
    "from Advertising.learners.UCB_no_qualities import *\r\n",
    "seed = 6789 \r\n",
    "random.seed(seed)\r\n",
    "deltas=[0.5,0.42,0.38,0.30,0.2,0.05]\r\n",
    "social_network = social_network_environment()\r\n",
    "social_network.init_from_json(json_path_network='Config/network.json', json_path_features='Config/features.json')\r\n",
    "adversary_bids = []\r\n",
    "for _ in range(0, 10): \r\n",
    "    adversary_i_bids = []\r\n",
    "    for _ in range(0, 5):\r\n",
    "        adversary_i_bids.append(random.randint(0, 4))\r\n",
    "    adversary_bids.append(adversary_i_bids)\r\n",
    "array_estimation = compute_array_estimated_influence(social_network, 2000)\r\n"
   ],
   "outputs": [],
   "metadata": {}
  },
  {
   "cell_type": "code",
   "execution_count": null,
   "source": [
    "arms = arms_creation(number_of_arms=20, seed=30291)\r\n",
    "expected_values = []\r\n",
    "vcg = VCG()\r\n",
    "for i in range(0, len(arms)):\r\n",
    "    expected_i=0\r\n",
    "    bids = []\r\n",
    "    bids.append(arms[i])\r\n",
    "    for element in adversary_bids:\r\n",
    "        bids.append(element)\r\n",
    "    bids = setup(bids, 5)\r\n",
    "    ad_allocation_list=vcg.all_best_allocations(bids, social_network)\r\n",
    "    if i == 14:\r\n",
    "        print(ad_allocation_list)\r\n",
    "    payments = vcg.payments(bids, ad_allocation_list, social_network)\r\n",
    "\r\n",
    "\r\n",
    "    for _ in range(3000):\r\n",
    "        gain, active_by_click = activate_cascade(social_network, ad_allocation_list, 1, deltas)\r\n",
    "        payments_tot = calculate_total_payment(payments, social_network.categories, active_by_click)\r\n",
    "        reward = gain-payments_tot\r\n",
    "        expected_i+=reward\r\n",
    "        reset_nodes(social_network)\r\n",
    "    \r\n",
    "    expected_i = expected_i/3000\r\n",
    "    expected_values.append(expected_i)\r\n"
   ],
   "outputs": [
    {
     "output_type": "stream",
     "name": "stdout",
     "text": [
      "[[(bid=4, id=6), (bid=3, id=3), (bid=3, id=5), (bid=3, id=9), (bid=3, id=10), (bid=2, id=1)], [(bid=4, id=2), (bid=4, id=6), (bid=4, id=11), (bid=3, id=1), (bid=3, id=3), (bid=2, id=7)], [(bid=3, id=3), (bid=2, id=1), (bid=2, id=4), (bid=2, id=8), (bid=1, id=2), (bid=1, id=7)], [(bid=4, id=5), (bid=4, id=9), (bid=3, id=4), (bid=3, id=10), (bid=2, id=6), (bid=2, id=7)], [(bid=4, id=4), (bid=4, id=5), (bid=3, id=2), (bid=2, id=6), (bid=2, id=7), (bid=1, id=1)]]\n"
     ]
    }
   ],
   "metadata": {}
  },
  {
   "cell_type": "code",
   "execution_count": null,
   "source": [
    "print(\"Here are the maximum expected value and the arm that provides it, computed with the above \\\"Greedy\\\" approach\")\r\n",
    "print(max(expected_values))\r\n",
    "print(arms[np.argmax(expected_values)])"
   ],
   "outputs": [
    {
     "output_type": "stream",
     "name": "stdout",
     "text": [
      "Here are the maximum expected value and the arm that provides it, computed with the above \"Greedy\" approach\n",
      "2.2299857142857116\n",
      "[2, 3, 2, 1, 1]\n"
     ]
    }
   ],
   "metadata": {}
  },
  {
   "cell_type": "code",
   "execution_count": 4,
   "source": [
    "rounds=10000\r\n",
    "repetitions=4"
   ],
   "outputs": [],
   "metadata": {}
  },
  {
   "cell_type": "code",
   "execution_count": 5,
   "source": [
    "print(\"Here are some outputs for the case without ad qualities, with only ads in first position\")\r\n",
    "for i in range(0, repetitions):\r\n",
    "    best_arm_no_qualities, expected_values_no_qualities, number_of_pulls_no_qualities, index_no_qualities, bounds_no_qualities, plotting_no_qualities = ucb_no_qualities(arms, rounds, adversary_bids, array_estimation, social_network, deltas, 1, True)\r\n",
    "    print(best_arm_no_qualities)\r\n",
    "    print(expected_values_no_qualities[index_no_qualities])\r\n"
   ],
   "outputs": [
    {
     "output_type": "stream",
     "name": "stdout",
     "text": [
      "Here are some outputs for the case without ad qualities, with only ads in first position\n",
      "[3, 3, 4, 2, 3]\n",
      "1.8418592205950635\n",
      "[3, 3, 4, 2, 3]\n",
      "1.8108656962859244\n",
      "[3, 3, 4, 2, 3]\n",
      "1.8275829374887609\n",
      "[3, 3, 4, 2, 3]\n",
      "1.8919504105187743\n"
     ]
    }
   ],
   "metadata": {}
  },
  {
   "cell_type": "code",
   "execution_count": 6,
   "source": [
    "print(\"Here are some outputs for the case without ad qualities, with all ads\")\r\n",
    "for i in range(0, repetitions):\r\n",
    "    best_arm_no_qualities2, expected_values_no_qualities2, number_of_pulls_no_qualities2, index_no_qualities2, bounds_no_qualities2, plotting_no_qualities2 = ucb_no_qualities(arms, rounds, adversary_bids, array_estimation, social_network, deltas, 1)\r\n",
    "    print(best_arm_no_qualities2)\r\n",
    "    print(expected_values_no_qualities2[index_no_qualities2])\r\n"
   ],
   "outputs": [
    {
     "output_type": "stream",
     "name": "stdout",
     "text": [
      "Here are some outputs for the case without ad qualities, with all ads\n",
      "[2, 3, 2, 1, 1]\n",
      "1.742482528980222\n",
      "[2, 3, 2, 1, 1]\n",
      "1.7793081105114625\n",
      "[2, 3, 2, 1, 1]\n",
      "1.750992480698442\n",
      "[2, 3, 2, 1, 1]\n",
      "1.7656552156624836\n"
     ]
    }
   ],
   "metadata": {}
  },
  {
   "cell_type": "code",
   "execution_count": 7,
   "source": [
    "print(\"Here are some outputs for the case without anything, with only ads in first position\")\r\n",
    "for i in range(0, repetitions):\r\n",
    "    best_arm, expected_values, number_of_pulls, index, bounds, plotting = ucb(arms, rounds, adversary_bids, social_network, deltas, 1, True)\r\n",
    "    print(best_arm)\r\n",
    "    print(expected_values[index])\r\n"
   ],
   "outputs": [
    {
     "output_type": "stream",
     "name": "stdout",
     "text": [
      "Here are some outputs for the case without anything, with only ads in first position\n",
      "[3, 3, 4, 2, 3]\n",
      "1.6842306820756627\n",
      "[3, 3, 4, 2, 3]\n",
      "1.6450698466780302\n",
      "[3, 3, 4, 2, 3]\n",
      "1.7057872696817522\n",
      "[3, 3, 4, 2, 3]\n",
      "1.7423187085015477\n"
     ]
    }
   ],
   "metadata": {}
  },
  {
   "cell_type": "code",
   "execution_count": 8,
   "source": [
    "print(\"Here are some outputs for the case without anything, with all ads\")\r\n",
    "for j in range(0, repetitions):\r\n",
    "    best_arm2, expected_values2, number_of_pulls2, index2, bounds2, plotting2 = ucb(arms, rounds, adversary_bids, social_network, deltas, 1)\r\n",
    "    print(best_arm2)\r\n",
    "    print(expected_values2[index2])\r\n"
   ],
   "outputs": [
    {
     "output_type": "stream",
     "name": "stdout",
     "text": [
      "Here are some outputs for the case without anything, with all ads\n",
      "[2, 3, 2, 1, 1]\n",
      "2.131207761252633\n",
      "[2, 3, 2, 1, 1]\n",
      "2.1942050234222115\n",
      "[2, 3, 2, 1, 1]\n",
      "2.1467559192754186\n",
      "[2, 3, 2, 1, 1]\n",
      "2.1078623963376133\n"
     ]
    }
   ],
   "metadata": {}
  },
  {
   "cell_type": "code",
   "execution_count": 9,
   "source": [
    "print(\"Here are reward and regret for the case without ad qualities, with only ads in first position\")\r\n",
    "clairvoyant_no_qualities = expected_values_no_qualities[index_no_qualities]\r\n",
    "regret_no_qualities = [expected_values_no_qualities[index_no_qualities] - x for x in plotting_no_qualities]\r\n",
    "plt.figure(0)\r\n",
    "plt.plot(plotting_no_qualities, 'y')\r\n",
    "plt.axhline(y=expected_values_no_qualities[index_no_qualities], color='r', linestyle='-')\r\n",
    "print(index_no_qualities)\r\n",
    "plt.figure(1)\r\n",
    "plt.plot(regret_no_qualities) "
   ],
   "outputs": [
    {
     "output_type": "stream",
     "name": "stdout",
     "text": [
      "Here are reward and regret for the case without ad qualities, with only ads in first position\n",
      "1\n"
     ]
    },
    {
     "output_type": "execute_result",
     "data": {
      "text/plain": [
       "[<matplotlib.lines.Line2D at 0x2173daa3ee0>]"
      ]
     },
     "metadata": {},
     "execution_count": 9
    },
    {
     "output_type": "display_data",
     "data": {
      "image/png": "[encoded data removed]",
      "text/plain": [
       "<Figure size 432x288 with 1 Axes>"
      ]
     },
     "metadata": {
      "needs_background": "light"
     }
    },
    {
     "output_type": "display_data",
     "data": {
      "image/png": "[encoded data removed]",
      "text/plain": [
       "<Figure size 432x288 with 1 Axes>"
      ]
     },
     "metadata": {
      "needs_background": "light"
     }
    }
   ],
   "metadata": {}
  },
  {
   "cell_type": "code",
   "execution_count": 10,
   "source": [
    "print(\"Here are reward and regret for the case without ad qualities, with all ads\")\r\n",
    "clairvoyant_no_qualities2 = expected_values_no_qualities2[index_no_qualities2]\r\n",
    "regret_no_qualities2 = [expected_values_no_qualities2[index_no_qualities2] - x for x in plotting_no_qualities2]\r\n",
    "plt.figure(2)\r\n",
    "plt.plot(plotting_no_qualities2, 'y')\r\n",
    "plt.axhline(y=expected_values_no_qualities2[index_no_qualities2], color='r', linestyle='-')\r\n",
    "print(index_no_qualities2)\r\n",
    "plt.figure(3)\r\n",
    "plt.plot(regret_no_qualities2) "
   ],
   "outputs": [
    {
     "output_type": "stream",
     "name": "stdout",
     "text": [
      "Here are reward and regret for the case without ad qualities, with all ads\n",
      "14\n"
     ]
    },
    {
     "output_type": "execute_result",
     "data": {
      "text/plain": [
       "[<matplotlib.lines.Line2D at 0x2173db8e880>]"
      ]
     },
     "metadata": {},
     "execution_count": 10
    },
    {
     "output_type": "display_data",
     "data": {
      "image/png": "[encoded data removed]",
      "text/plain": [
       "<Figure size 432x288 with 1 Axes>"
      ]
     },
     "metadata": {
      "needs_background": "light"
     }
    },
    {
     "output_type": "display_data",
     "data": {
      "image/png": "[encoded data removed]",
      "text/plain": [
       "<Figure size 432x288 with 1 Axes>"
      ]
     },
     "metadata": {
      "needs_background": "light"
     }
    }
   ],
   "metadata": {}
  },
  {
   "cell_type": "code",
   "execution_count": 11,
   "source": [
    "print(\"Here are reward and regret for the case without anything, with only ads in first position\")\r\n",
    "clairvoyant = expected_values[index]\r\n",
    "regret = [expected_values[index] - x for x in plotting]\r\n",
    "plt.figure(4)\r\n",
    "plt.plot(plotting, 'y')\r\n",
    "plt.axhline(y=expected_values[index], color='r', linestyle='-')\r\n",
    "print(index)\r\n",
    "plt.figure(5)\r\n",
    "plt.plot(regret) "
   ],
   "outputs": [
    {
     "output_type": "stream",
     "name": "stdout",
     "text": [
      "Here are reward and regret for the case without anything, with only ads in first position\n",
      "1\n"
     ]
    },
    {
     "output_type": "execute_result",
     "data": {
      "text/plain": [
       "[<matplotlib.lines.Line2D at 0x2173ece90d0>]"
      ]
     },
     "metadata": {},
     "execution_count": 11
    },
    {
     "output_type": "display_data",
     "data": {
      "image/png": "[encoded data removed]",
      "text/plain": [
       "<Figure size 432x288 with 1 Axes>"
      ]
     },
     "metadata": {
      "needs_background": "light"
     }
    },
    {
     "output_type": "display_data",
     "data": {
      "image/png": "[encoded data removed]",
      "text/plain": [
       "<Figure size 432x288 with 1 Axes>"
      ]
     },
     "metadata": {
      "needs_background": "light"
     }
    }
   ],
   "metadata": {}
  },
  {
   "cell_type": "code",
   "execution_count": 12,
   "source": [
    "print(\"Here are reward and regret for the case without anything, with all ads\")\r\n",
    "clairvoyant2 = expected_values2[index2]\r\n",
    "regret2 = [expected_values2[index2] - x for x in plotting2]\r\n",
    "plt.figure(6)\r\n",
    "plt.plot(plotting2, 'y')\r\n",
    "plt.axhline(y=expected_values2[index2], color='r', linestyle='-')\r\n",
    "print(index2)\r\n",
    "plt.figure(7)\r\n",
    "plt.plot(regret2) "
   ],
   "outputs": [
    {
     "output_type": "stream",
     "name": "stdout",
     "text": [
      "Here are reward and regret for the case without anything, with all ads\n",
      "14\n"
     ]
    },
    {
     "output_type": "execute_result",
     "data": {
      "text/plain": [
       "[<matplotlib.lines.Line2D at 0x2173dc102e0>]"
      ]
     },
     "metadata": {},
     "execution_count": 12
    },
    {
     "output_type": "display_data",
     "data": {
      "image/png": "[encoded data removed]",
      "text/plain": [
       "<Figure size 432x288 with 1 Axes>"
      ]
     },
     "metadata": {
      "needs_background": "light"
     }
    },
    {
     "output_type": "display_data",
     "data": {
      "image/png": "[encoded data removed]",
      "text/plain": [
       "<Figure size 432x288 with 1 Axes>"
      ]
     },
     "metadata": {
      "needs_background": "light"
     }
    }
   ],
   "metadata": {}
  }
 ],
 "metadata": {
  "orig_nbformat": 4,
  "language_info": {
   "name": "python",
   "version": "3.8.3",
   "mimetype": "text/x-python",
   "codemirror_mode": {
    "name": "ipython",
    "version": 3
   },
   "pygments_lexer": "ipython3",
   "nbconvert_exporter": "python",
   "file_extension": ".py"
  },
  "kernelspec": {
   "name": "python3",
   "display_name": "Python 3.8.3 64-bit ('base': conda)"
  },
  "interpreter": {
   "hash": "c6f967de16b0bff6e471d965b97f90b6b70e6b627c25a55181a3ca712f1e785a"
  }
 },
 "nbformat": 4,
 "nbformat_minor": 2
}