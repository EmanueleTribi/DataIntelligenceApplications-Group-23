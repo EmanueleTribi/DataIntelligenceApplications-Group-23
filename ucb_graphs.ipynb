{
 "cells": [
  {
   "cell_type": "code",
   "execution_count": 1,
   "source": [
    "from SocialNetwork.social_network_environment import *\r\n",
    "from pprint import pprint\r\n",
    "import numpy as np\r\n",
    "import matplotlib.pyplot as plt\r\n",
    "#from SocialNetwork.cascade import *\r\n",
    "from Advertising.learners.greedyLearner import *\r\n",
    "from Advertising.learners.UCB_no_qualities import *\r\n",
    "seed = 6789 \r\n",
    "random.seed(seed)\r\n",
    "deltas=[0.5,0.42,0.38,0.30,0.2,0.05]\r\n",
    "social_network = social_network_environment()\r\n",
    "social_network.init_from_json(json_path_network='Config/network.json', json_path_features='Config/features.json')\r\n",
    "adversary_bids = []\r\n",
    "for _ in range(0, 10): \r\n",
    "    adversary_i_bids = []\r\n",
    "    for _ in range(0, 5):\r\n",
    "        adversary_i_bids.append(random.randint(0, 4))\r\n",
    "    adversary_bids.append(adversary_i_bids)\r\n",
    "#print(evaluate(n_bids=5, n_adversaries=10, social_network=social_network, rounds=5000))\r\n",
    "array_estimation = compute_array_estimated_influence(social_network, 2000)"
   ],
   "outputs": [
    {
     "output_type": "stream",
     "name": "stdout",
     "text": [
      "Doing node number 0\n",
      "Doing node number 1\n",
      "Doing node number 2\n",
      "Doing node number 3\n",
      "Doing node number 4\n",
      "Doing node number 5\n",
      "Doing node number 6\n",
      "Doing node number 7\n",
      "Doing node number 8\n",
      "Doing node number 9\n",
      "Doing node number 10\n",
      "Doing node number 11\n",
      "Doing node number 12\n",
      "Doing node number 13\n",
      "Doing node number 14\n",
      "Doing node number 15\n",
      "Doing node number 16\n",
      "Doing node number 17\n",
      "Doing node number 18\n",
      "Doing node number 19\n",
      "Doing node number 20\n",
      "Doing node number 21\n",
      "Doing node number 22\n",
      "Doing node number 23\n",
      "Doing node number 24\n",
      "Doing node number 25\n",
      "Doing node number 26\n",
      "Doing node number 27\n",
      "Doing node number 28\n",
      "Doing node number 29\n",
      "Doing node number 30\n",
      "Doing node number 31\n",
      "Doing node number 32\n",
      "Doing node number 33\n",
      "Doing node number 34\n",
      "Doing node number 35\n",
      "Doing node number 36\n",
      "Doing node number 37\n",
      "Doing node number 38\n",
      "Doing node number 39\n",
      "Doing node number 40\n",
      "Doing node number 41\n",
      "Doing node number 42\n",
      "Doing node number 43\n",
      "Doing node number 44\n",
      "Doing node number 45\n",
      "Doing node number 46\n",
      "Doing node number 47\n",
      "Doing node number 48\n",
      "Doing node number 49\n"
     ]
    }
   ],
   "metadata": {}
  },
  {
   "cell_type": "code",
   "execution_count": 2,
   "source": [
    "for i in range(0, 1):\r\n",
    "    best_arm = []\r\n",
    "    print(\"This is UCB number \" + str(i))\r\n",
    "    best_arm, expected_values, number_of_pulls, index, bounds = ucb(arms_creation(number_of_arms=20, seed=30291), 5000, adversary_bids, array_estimation, social_network, deltas, 1)\r\n",
    "    print(best_arm)\r\n"
   ],
   "outputs": [
    {
     "output_type": "stream",
     "name": "stdout",
     "text": [
      "This is UCB number 0\n",
      "[[4, 1, 1, 3, 0], [3, 3, 4, 2, 3], [1, 4, 3, 2, 0], [1, 3, 3, 1, 4], [1, 1, 2, 0, 4], [2, 4, 4, 3, 0], [4, 0, 0, 0, 1], [2, 1, 3, 0, 4], [4, 2, 2, 2, 4], [0, 4, 3, 3, 1], [2, 3, 4, 2, 4], [2, 2, 3, 3, 4], [0, 4, 4, 2, 1], [4, 2, 3, 4, 0], [2, 3, 2, 1, 1], [1, 4, 4, 2, 3], [0, 0, 4, 4, 4], [0, 0, 1, 4, 0], [3, 1, 2, 2, 3], [3, 4, 3, 3, 0]]\n",
      "[2, 3, 2, 1, 1]\n"
     ]
    }
   ],
   "metadata": {}
  },
  {
   "cell_type": "code",
   "execution_count": 3,
   "source": [
    "array = [i+1 for i in range(0, 20)]\r\n",
    "print(expected_values)\r\n",
    "print(number_of_pulls)\r\n",
    "print(index)\r\n",
    "\r\n",
    "plt.figure(0)\r\n",
    "plt.errorbar(array, expected_values, yerr=bounds, fmt='o')\r\n",
    "\r\n",
    "plt.show() "
   ],
   "outputs": [
    {
     "output_type": "stream",
     "name": "stdout",
     "text": [
      "[1.5321292022080935, 3.0122622298679773, 2.2834659343797856, 3.104459980341081, 3.283235575008803, 2.6156912460944897, 0.6679549999999849, 3.0102698768187737, 2.151775295874832, 2.485960492060603, 3.1966578636820757, 3.221781449017558, 2.5625385781489864, 2.180195566738796, 3.580351445459016, 2.052507325263009, 2.76831047119169, 2.662292337962953, 2.9084974385120823, 2.4759731596814354]\n",
      "[29, 220, 62, 272, 473, 99, 15, 216, 53, 81, 355, 385, 93, 55, 2069, 48, 129, 108, 172, 85]\n",
      "14\n"
     ]
    },
    {
     "output_type": "display_data",
     "data": {
      "image/png": "[encoded data removed]",
      "text/plain": [
       "<Figure size 432x288 with 1 Axes>"
      ]
     },
     "metadata": {
      "needs_background": "light"
     }
    }
   ],
   "metadata": {}
  }
 ],
 "metadata": {
  "orig_nbformat": 4,
  "language_info": {
   "name": "python",
   "version": "3.8.3",
   "mimetype": "text/x-python",
   "codemirror_mode": {
    "name": "ipython",
    "version": 3
   },
   "pygments_lexer": "ipython3",
   "nbconvert_exporter": "python",
   "file_extension": ".py"
  },
  "kernelspec": {
   "name": "python3",
   "display_name": "Python 3.8.3 64-bit ('base': conda)"
  },
  "interpreter": {
   "hash": "c6f967de16b0bff6e471d965b97f90b6b70e6b627c25a55181a3ca712f1e785a"
  }
 },
 "nbformat": 4,
 "nbformat_minor": 2
}