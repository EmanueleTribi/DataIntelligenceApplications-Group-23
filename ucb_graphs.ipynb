{
 "cells": [
  {
   "cell_type": "code",
   "execution_count": 1,
   "source": [
    "from SocialNetwork.social_network_environment import *\r\n",
    "from pprint import pprint\r\n",
    "import numpy as np\r\n",
    "import matplotlib.pyplot as plt\r\n",
    "#from SocialNetwork.cascade import *\r\n",
    "from Advertising.learners.greedyLearner import *\r\n",
    "from Advertising.learners.UCB_no_anything import *\r\n",
    "seed = 2345 \r\n",
    "random.seed(seed)\r\n",
    "deltas=[0.5,0.42,0.38,0.30,0.2,0.05]\r\n",
    "social_network = social_network_environment()\r\n",
    "social_network.init_from_json(json_path_network='Config/network.json', json_path_features='Config/features.json')\r\n",
    "adversary_bids = []\r\n",
    "for _ in range(0, 10): \r\n",
    "    adversary_i_bids = []\r\n",
    "    for _ in range(0, 5):\r\n",
    "        adversary_i_bids.append(random.randint(0, 4))\r\n",
    "    adversary_bids.append(adversary_i_bids)\r\n",
    "#print(evaluate(n_bids=5, n_adversaries=10, social_network=social_network, rounds=5000))\r\n",
    "array_estimation = compute_array_estimated_influence(social_network, 2000)\r\n",
    "for i in range(0, 1):\r\n",
    "    best_arm = []\r\n",
    "    print(\"This is UCB number \" + str(i))\r\n",
    "    best_arm, expected_values, number_of_pulls, index, bounds, _, _, _ = ucb(arms_creation(number_of_arms=20, seed=seed), 100, adversary_bids, array_estimation, social_network, deltas, 1)\r\n",
    "    print(best_arm)\r\n"
   ],
   "outputs": [
    {
     "output_type": "stream",
     "name": "stdout",
     "text": [
      "Doing node number 0\n",
      "Doing node number 1\n",
      "Doing node number 2\n",
      "Doing node number 3\n",
      "Doing node number 4\n",
      "Doing node number 5\n",
      "Doing node number 6\n",
      "Doing node number 7\n",
      "Doing node number 8\n",
      "Doing node number 9\n",
      "Doing node number 10\n",
      "Doing node number 11\n",
      "Doing node number 12\n",
      "Doing node number 13\n",
      "Doing node number 14\n",
      "Doing node number 15\n",
      "Doing node number 16\n",
      "Doing node number 17\n",
      "Doing node number 18\n",
      "Doing node number 19\n",
      "Doing node number 20\n",
      "Doing node number 21\n",
      "Doing node number 22\n",
      "Doing node number 23\n",
      "Doing node number 24\n",
      "Doing node number 25\n",
      "Doing node number 26\n",
      "Doing node number 27\n",
      "Doing node number 28\n",
      "Doing node number 29\n",
      "Doing node number 30\n",
      "Doing node number 31\n",
      "Doing node number 32\n",
      "Doing node number 33\n",
      "Doing node number 34\n",
      "Doing node number 35\n",
      "Doing node number 36\n",
      "Doing node number 37\n",
      "Doing node number 38\n",
      "Doing node number 39\n",
      "Doing node number 40\n",
      "Doing node number 41\n",
      "Doing node number 42\n",
      "Doing node number 43\n",
      "Doing node number 44\n",
      "Doing node number 45\n",
      "Doing node number 46\n",
      "Doing node number 47\n",
      "Doing node number 48\n",
      "Doing node number 49\n",
      "This is UCB number 0\n",
      "Round number 10000\n",
      "Round number 20000\n",
      "Round number 30000\n",
      "Round number 40000\n",
      "Round number 50000\n",
      "Round number 60000\n",
      "Round number 70000\n",
      "Round number 80000\n",
      "Round number 90000\n",
      "[4, 3, 4, 1, 0]\n"
     ]
    }
   ],
   "metadata": {}
  },
  {
   "cell_type": "code",
   "execution_count": null,
   "source": [],
   "outputs": [],
   "metadata": {}
  },
  {
   "cell_type": "code",
   "execution_count": 2,
   "source": [
    "array = [i+1 for i in range(0, 20)]\n",
    "print(expected_values)\n",
    "print(number_of_pulls)\n",
    "print(index)\n",
    "\n",
    "plt.figure(0)\n",
    "plt.errorbar(array, expected_values, yerr=bounds, fmt='o')\n",
    "\n",
    "plt.show() "
   ],
   "outputs": [
    {
     "output_type": "stream",
     "name": "stdout",
     "text": [
      "[-13.76046714  -9.75481824  -9.04067018  -9.09558537  -9.72471598\n",
      " -10.6248923   -9.21240365 -10.77550857 -15.90094333  -9.06465629\n",
      "  -8.82298697 -10.12876085 -10.07609427 -10.03496547  -8.94348585\n",
      "  -9.11935278  -8.92302714 -13.56812738  -9.15872749  -9.38194877]\n",
      "[1, 29, 536, 286, 28, 11, 169, 8, 1, 409, 92542, 16, 19, 17, 2054, 284, 3318, 2, 217, 72]\n",
      "10\n"
     ]
    },
    {
     "output_type": "display_data",
     "data": {
      "image/png": "[encoded data removed]",
      "text/plain": [
       "<Figure size 432x288 with 1 Axes>"
      ]
     },
     "metadata": {
      "needs_background": "light"
     }
    }
   ],
   "metadata": {}
  }
 ],
 "metadata": {
  "orig_nbformat": 4,
  "language_info": {
   "name": "python",
   "version": "3.8.3",
   "mimetype": "text/x-python",
   "codemirror_mode": {
    "name": "ipython",
    "version": 3
   },
   "pygments_lexer": "ipython3",
   "nbconvert_exporter": "python",
   "file_extension": ".py"
  },
  "kernelspec": {
   "name": "python3",
   "display_name": "Python 3.8.3 64-bit ('base': conda)"
  },
  "interpreter": {
   "hash": "c6f967de16b0bff6e471d965b97f90b6b70e6b627c25a55181a3ca712f1e785a"
  }
 },
 "nbformat": 4,
 "nbformat_minor": 2
}