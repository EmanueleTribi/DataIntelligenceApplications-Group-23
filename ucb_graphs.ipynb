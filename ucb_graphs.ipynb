{
 "cells": [
  {
   "cell_type": "code",
   "execution_count": 1,
   "source": [
    "from SocialNetwork.social_network_environment import *\r\n",
    "from pprint import pprint\r\n",
    "import numpy as np\r\n",
    "import matplotlib.pyplot as plt\r\n",
    "#from SocialNetwork.cascade import *\r\n",
    "from Advertising.learners.greedyLearner import *\r\n",
    "from Advertising.learners.UCB import *\r\n",
    "seed = 2345 \r\n",
    "random.seed(seed)\r\n",
    "deltas=[0.5,0.42,0.38,0.30,0.2,0.05]\r\n",
    "social_network = social_network_environment()\r\n",
    "social_network.init_from_json(json_path_network='Config/network.json', json_path_features='Config/features.json')\r\n",
    "adversary_bids = []\r\n",
    "for _ in range(0, 10): \r\n",
    "    adversary_i_bids = []\r\n",
    "    for _ in range(0, 5):\r\n",
    "        adversary_i_bids.append(random.randint(0, 4))\r\n",
    "    adversary_bids.append(adversary_i_bids)\r\n",
    "#print(evaluate(n_bids=5, n_adversaries=10, social_network=social_network, rounds=5000))\r\n",
    "array_estimation = compute_array_estimated_influence(social_network, 5000)\r\n",
    "for i in range(0, 1):\r\n",
    "    best_arm = []\r\n",
    "    print(\"This is UCB number \" + str(i))\r\n",
    "    best_arm, expected_values, number_of_pulls, index, bounds = ucb(arms_creation(number_of_arms=20, seed=seed), 100000, adversary_bids, array_estimation, social_network, deltas, 1)\r\n",
    "    print(best_arm)\r\n"
   ],
   "outputs": [
    {
     "output_type": "stream",
     "name": "stdout",
     "text": [
      "This is UCB number 0\n",
      "Round number 10000\n",
      "Round number 20000\n",
      "Round number 30000\n",
      "Round number 40000\n",
      "Round number 50000\n",
      "Round number 60000\n",
      "Round number 70000\n",
      "Round number 80000\n",
      "Round number 90000\n",
      "[4, 3, 4, 1, 0]\n"
     ]
    }
   ],
   "metadata": {}
  },
  {
   "cell_type": "code",
   "execution_count": 2,
   "source": [
    "array = [i+1 for i in range(0, 20)]\r\n",
    "print(expected_values)\r\n",
    "print(number_of_pulls)\r\n",
    "print(index)\r\n",
    "\r\n",
    "plt.figure(0)\r\n",
    "plt.errorbar(array, expected_values, yerr=bounds, fmt='o')\r\n",
    "\r\n",
    "plt.show() "
   ],
   "outputs": [
    {
     "output_type": "stream",
     "name": "stdout",
     "text": [
      "[-18.44952381 -12.91701793 -13.10701777 -17.73952381 -14.40042857\n",
      " -14.71940476 -12.8148481  -17.04       -14.18791209 -13.04894527\n",
      " -12.85536309 -20.59       -12.84566945 -13.80224762 -12.80691082\n",
      " -13.76262585 -12.79313651 -12.8682437  -19.49880952 -13.36123288]\n",
      "[1, 1174, 217, 1, 10, 8, 15033, 2, 13, 335, 3806, 1, 4705, 25, 23108, 35, 48811, 2659, 2, 73]\n",
      "16\n"
     ]
    },
    {
     "output_type": "display_data",
     "data": {
      "image/png": "[encoded data removed]",
      "text/plain": [
       "<Figure size 432x288 with 1 Axes>"
      ]
     },
     "metadata": {
      "needs_background": "light"
     }
    }
   ],
   "metadata": {}
  }
 ],
 "metadata": {
  "orig_nbformat": 4,
  "language_info": {
   "name": "python",
   "version": "3.8.3",
   "mimetype": "text/x-python",
   "codemirror_mode": {
    "name": "ipython",
    "version": 3
   },
   "pygments_lexer": "ipython3",
   "nbconvert_exporter": "python",
   "file_extension": ".py"
  },
  "kernelspec": {
   "name": "python3",
   "display_name": "Python 3.8.3 64-bit ('base': conda)"
  },
  "interpreter": {
   "hash": "c6f967de16b0bff6e471d965b97f90b6b70e6b627c25a55181a3ca712f1e785a"
  }
 },
 "nbformat": 4,
 "nbformat_minor": 2
}