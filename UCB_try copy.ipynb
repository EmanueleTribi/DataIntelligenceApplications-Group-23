{
 "cells": [
  {
   "cell_type": "code",
   "execution_count": 1,
   "source": [
    "from SocialNetwork.social_network_environment import *\r\n",
    "from pprint import pprint\r\n",
    "import numpy as np\r\n",
    "import matplotlib.pyplot as plt\r\n",
    "#from SocialNetwork.cascade import *\r\n",
    "from Advertising.learners.Greedy_algorithm import *\r\n",
    "from Advertising.learners.UCB_no_anything import *\r\n",
    "from Advertising.learners.UCB_no_qualities import *\r\n",
    "arms = arms_creation(seed = 30291, number_of_arms= 20)\r\n",
    "seed = 6789 \r\n",
    "random.seed(seed)\r\n",
    "\r\n",
    "exploration=4.2\r\n",
    "\r\n",
    "deltas=[0.5,0.42,0.38,0.30,0.2,0.05]\r\n",
    "\r\n",
    "social_network = social_network_environment()\r\n",
    "social_network.init_from_json(json_path_network='Config/network.json', json_path_features='Config/features.json')\r\n",
    "\r\n",
    "\r\n",
    "\r\n",
    "n_rounds=10000\r\n",
    "estimation_rounds=2000\r\n",
    "vcg=VCG()\r\n",
    "nodes_estimation=[]\r\n",
    "with open('Config/estimated_influence.json', 'r') as file:\r\n",
    "    data = json.load(file)\r\n",
    "    nodes_estimation = data.get('estimated_influence')"
   ],
   "outputs": [],
   "metadata": {}
  },
  {
   "cell_type": "code",
   "execution_count": 2,
   "source": [
    "from tqdm.notebook import tqdm_notebook\r\n",
    "\r\n",
    "def create_adv_bids():\r\n",
    "    \r\n",
    "    adversary_bids = []\r\n",
    "    for _ in range(0, 10): \r\n",
    "        adversary_i_bids = []\r\n",
    "        for _ in range(0, 5):\r\n",
    "            adversary_i_bids.append(random.randint(0, 4))\r\n",
    "        adversary_bids.append(adversary_i_bids)\r\n",
    "    return adversary_bids\r\n",
    "\r\n",
    "def experiment(rounds, learner, all_bids, first = False, qualities = False):\r\n",
    "    \r\n",
    "    vcg = VCG()\r\n",
    "\r\n",
    "    for t in tqdm_notebook(range(0, rounds)):\r\n",
    "\r\n",
    "        index=learner.pull_arm()\r\n",
    "        best_arm = arms[index]\r\n",
    "\r\n",
    "\r\n",
    "        all_bids.insert(0, best_arm)\r\n",
    "        ad_allocation_list = setup(bids=all_bids, n_bids=5)\r\n",
    "        best_allocation = vcg.all_best_allocations(ad_allocation_list, social_network)\r\n",
    "\r\n",
    "        if first:\r\n",
    "            for j in range(0, len(best_allocation)):\r\n",
    "                temp_allocation = []\r\n",
    "                temp_allocation = best_allocation[j]\r\n",
    "                for k in range(0, len(best_allocation[j])):\r\n",
    "                    if temp_allocation[k].ad_id == 1 and k != 0:\r\n",
    "                        temp_allocation[k].ad_id = None\r\n",
    "                        best_allocation[j] = temp_allocation\r\n",
    "\r\n",
    "        # Computing payments\r\n",
    "        payments = vcg.payments(ad_allocation_list, best_allocation, social_network)\r\n",
    "\r\n",
    "        if qualities:\r\n",
    "            active_nodes, total_reward = active_nodes_click(social_network, best_allocation, deltas, learner_id=1)\r\n",
    "        else:     \r\n",
    "            active_nodes, total_reward = activate_cascade(social_network=social_network, ad_allocation_list=best_allocation, slot_prominence=deltas,learner_id=1)\r\n",
    "\r\n",
    "        payments_tot = calculate_total_payment(payments, social_network.categories, active_nodes)\r\n",
    "\r\n",
    "\r\n",
    "        reward = (total_reward-payments_tot)\r\n",
    "\r\n",
    "        if qualities:\r\n",
    "            learner.update(index, reward, np.where(active_nodes==1)[0])\r\n",
    "        else:\r\n",
    "            learner.update(index, reward)\r\n",
    "\r\n",
    "        all_bids.pop(0)\r\n",
    "        reset_nodes(social_network)\r\n",
    "\r\n",
    "# Function for computing the rolling mean (i.e. moving average)\r\n",
    "def compute_ma(collected_rewards):\r\n",
    "    ma = []\r\n",
    "    ma.append(0)\r\n",
    "\r\n",
    "    for t in range(1,len(collected_rewards)):\r\n",
    "        ma.append((ma[-1] * (t-1) +collected_rewards[t]) / t)\r\n",
    "    \r\n",
    "    return ma\r\n",
    "\r\n",
    "def plot_clairvoyant(learner, clairvoyant):\r\n",
    "    collected_rewards = learner.collected_rewards\r\n",
    "    rolling_mean = compute_ma(collected_rewards)\r\n",
    "    clairvoyant = clairvoyant\r\n",
    "\r\n",
    "    plt.figure()\r\n",
    "    plt.axhline(y = clairvoyant, color = 'r', linestyle = '-')\r\n",
    "    plt.plot(rolling_mean, color = 'b')\r\n",
    "    plt.show()\r\n",
    "\r\n",
    "all_bids = create_adv_bids()"
   ],
   "outputs": [],
   "metadata": {}
  },
  {
   "cell_type": "code",
   "execution_count": 3,
   "source": [
    "with open('Config/clairvoyants.json', 'r') as clair_file:\r\n",
    "    data = json.load(clair_file)\r\n",
    "    clairvoyant_q_f = data.get('clairvoyant_q_f')\r\n",
    "    clairvoyant_q_a = data.get('clairvoyant_q_a')\r\n",
    "    clairvoyant_nq_f = data.get('clairvoyant_nq_f')\r\n",
    "    clairvoyant_nq_a = data.get('clairvoyant_nq_a')\r\n",
    "\r\n",
    "print(clairvoyant_q_f)\r\n",
    "print(clairvoyant_q_a)\r\n",
    "print(clairvoyant_nq_f)\r\n",
    "print(clairvoyant_nq_a)"
   ],
   "outputs": [
    {
     "output_type": "stream",
     "name": "stdout",
     "text": [
      "0.24936147844443757\n",
      "0.48842019490079885\n",
      "1.7742390000000792\n",
      "2.1363950000000385\n"
     ]
    }
   ],
   "metadata": {}
  },
  {
   "cell_type": "code",
   "execution_count": 4,
   "source": [
    "from Advertising.learners.UCB_Learner_qualities import*\r\n",
    "learner = UCB_Learner_qualities(arms = arms, hyperpar = exploration, nodes_estimation = nodes_estimation)\r\n",
    "\r\n",
    "experiment(rounds = n_rounds, learner = learner, all_bids = all_bids, first = True, qualities = True)\r\n",
    "\r\n",
    "# Plotting\r\n",
    "plot_clairvoyant(learner = learner, clairvoyant=clairvoyant_q_f)\r\n",
    "print(learner.exp_values)\r\n",
    "print(arms[learner.return_best_arm()])\r\n"
   ],
   "outputs": [
    {
     "output_type": "display_data",
     "data": {
      "application/vnd.jupyter.widget-view+json": {
       "version_major": 2,
       "version_minor": 0,
       "model_id": "c1119986492a4aac9da522d964f540df"
      },
      "text/plain": [
       "HBox(children=(FloatProgress(value=0.0, max=10000.0), HTML(value='')))"
      ]
     },
     "metadata": {}
    },
    {
     "output_type": "stream",
     "name": "stdout",
     "text": [
      "\n"
     ]
    },
    {
     "output_type": "display_data",
     "data": {
      "image/png": "[encoded data removed]",
      "text/plain": [
       "<Figure size 432x288 with 1 Axes>"
      ]
     },
     "metadata": {
      "needs_background": "light"
     }
    },
    {
     "output_type": "stream",
     "name": "stdout",
     "text": [
      "[-3.50099015  0.19611019 -4.56468677 -1.59067893  0.32103952 -2.26269034\n",
      " -2.7915299  -1.26322875 -2.57175942 -3.29694255 -1.89632895 -1.21944777\n",
      " -2.65871083 -8.53126005  0.         -3.59628611 -4.436313   -1.4665174\n",
      "  0.         -2.47935968]\n",
      "[1, 1, 2, 0, 4]\n"
     ]
    }
   ],
   "metadata": {}
  },
  {
   "cell_type": "code",
   "execution_count": 5,
   "source": [
    "learner = UCB_Learner_qualities(arms = arms, hyperpar = exploration, nodes_estimation = nodes_estimation)\r\n",
    "\r\n",
    "experiment(rounds = n_rounds, learner = learner, all_bids = all_bids, first = False, qualities = True)\r\n",
    "\r\n",
    "# Plotting\r\n",
    "plot_clairvoyant(learner = learner, clairvoyant=clairvoyant_q_a)\r\n",
    "print(learner.exp_values)\r\n",
    "print(arms[learner.return_best_arm()])"
   ],
   "outputs": [
    {
     "output_type": "display_data",
     "data": {
      "application/vnd.jupyter.widget-view+json": {
       "version_major": 2,
       "version_minor": 0,
       "model_id": "2d5dd6d222a947eda2ddbea6a3e8481f"
      },
      "text/plain": [
       "HBox(children=(FloatProgress(value=0.0, max=10000.0), HTML(value='')))"
      ]
     },
     "metadata": {}
    },
    {
     "output_type": "stream",
     "name": "stdout",
     "text": [
      "\n"
     ]
    },
    {
     "output_type": "display_data",
     "data": {
      "image/png": "[encoded data removed]",
      "text/plain": [
       "<Figure size 432x288 with 1 Axes>"
      ]
     },
     "metadata": {
      "needs_background": "light"
     }
    },
    {
     "output_type": "stream",
     "name": "stdout",
     "text": [
      "[-3.69687701 -4.74803229 -3.52980056 -2.40743965 -0.4781111  -3.67332977\n",
      " -2.20943148 -0.99312508 -6.48385389 -5.04857657 -3.42380137 -2.80836944\n",
      " -2.76190238 -9.62106759  0.4718384  -5.60483341 -6.55216632 -1.68123229\n",
      " -2.52598211 -4.80115614]\n",
      "[2, 3, 2, 1, 1]\n"
     ]
    }
   ],
   "metadata": {}
  },
  {
   "cell_type": "code",
   "execution_count": 6,
   "source": [
    "from Advertising.learners.UCB_Learner import *\r\n",
    "learner = UCB_Learner(arms = arms, hyperpar = exploration)\r\n",
    "\r\n",
    "experiment(rounds = n_rounds, learner = learner, all_bids = all_bids, first = True, qualities = False)\r\n",
    "\r\n",
    "# Plotting\r\n",
    "plot_clairvoyant(learner = learner, clairvoyant=clairvoyant_nq_f)\r\n",
    "print(learner.exp_values)\r\n",
    "print(arms[learner.return_best_arm()])"
   ],
   "outputs": [
    {
     "output_type": "display_data",
     "data": {
      "application/vnd.jupyter.widget-view+json": {
       "version_major": 2,
       "version_minor": 0,
       "model_id": "fbc9c92d10a546c5a231e7298426f926"
      },
      "text/plain": [
       "HBox(children=(FloatProgress(value=0.0, max=10000.0), HTML(value='')))"
      ]
     },
     "metadata": {}
    },
    {
     "output_type": "stream",
     "name": "stdout",
     "text": [
      "\n"
     ]
    },
    {
     "output_type": "display_data",
     "data": {
      "image/png": "[encoded data removed]",
      "text/plain": [
       "<Figure size 432x288 with 1 Axes>"
      ]
     },
     "metadata": {
      "needs_background": "light"
     }
    },
    {
     "output_type": "stream",
     "name": "stdout",
     "text": [
      "[-0.0797619   1.74386217  0.09844828  1.3747411   0.66630631  0.39173333\n",
      " -2.339       1.2574321  -0.61307692 -1.57714286  1.0132093   1.28644144\n",
      "  0.49174419 -5.784       0.          0.828      -0.05977273 -0.27916667\n",
      "  0.          0.74224   ]\n",
      "[3, 3, 4, 2, 3]\n"
     ]
    }
   ],
   "metadata": {}
  },
  {
   "cell_type": "code",
   "execution_count": 7,
   "source": [
    "learner = UCB_Learner(arms = arms, hyperpar = exploration)\r\n",
    "\r\n",
    "experiment(rounds = n_rounds, learner = learner, all_bids = all_bids, first = False, qualities = False)\r\n",
    "\r\n",
    "# Plotting\r\n",
    "plot_clairvoyant(learner = learner, clairvoyant=clairvoyant_nq_a)\r\n",
    "print(learner.exp_values)\r\n",
    "print(arms[learner.return_best_arm()])\r\n"
   ],
   "outputs": [
    {
     "output_type": "display_data",
     "data": {
      "application/vnd.jupyter.widget-view+json": {
       "version_major": 2,
       "version_minor": 0,
       "model_id": "d85066b3b6ba47fba4191aa64ca92f9a"
      },
      "text/plain": [
       "HBox(children=(FloatProgress(value=0.0, max=10000.0), HTML(value='')))"
      ]
     },
     "metadata": {}
    },
    {
     "output_type": "stream",
     "name": "stdout",
     "text": [
      "\n"
     ]
    },
    {
     "output_type": "display_data",
     "data": {
      "image/png": "[encoded data removed]",
      "text/plain": [
       "<Figure size 432x288 with 1 Axes>"
      ]
     },
     "metadata": {
      "needs_background": "light"
     }
    },
    {
     "output_type": "stream",
     "name": "stdout",
     "text": [
      "[ -1.40105263  -3.97188388   0.07416667   0.68661202   1.7648785\n",
      "  -0.06509868  -4.065        0.7228125  -10.78714286  -7.60868421\n",
      "   0.83792208   0.21227596   1.15142857  -3.41166667   2.19567636\n",
      "  -3.33798246  -0.19692308   0.7196875    0.67149527  -4.33356516]\n",
      "[2, 3, 2, 1, 1]\n"
     ]
    }
   ],
   "metadata": {}
  },
  {
   "cell_type": "code",
   "execution_count": 2,
   "source": [
    "#Clairvoyant for point 4, only first position\r\n",
    "all_exp_rewards=[]\r\n",
    "for arm in arms:\r\n",
    "    print(\"Doing arm \"+ str(arm))\r\n",
    "    exp_reward=0\r\n",
    "    all_bids.insert(0, arm)\r\n",
    "    ad_allocation_list = setup(bids=all_bids, n_bids=5)\r\n",
    "    best_allocation = vcg.all_best_allocations(ad_allocation_list, social_network)\r\n",
    "    for j in range(0, len(best_allocation)):\r\n",
    "            temp_allocation = []\r\n",
    "            temp_allocation = best_allocation[j]\r\n",
    "            for k in range(0, len(best_allocation[j])):\r\n",
    "                if temp_allocation[k].ad_id == 1 and k != 0:\r\n",
    "                    temp_allocation[k].ad_id = None\r\n",
    "                    best_allocation[j] = temp_allocation\r\n",
    "    for i in range(1, n_rounds+1):  \r\n",
    "        payments = vcg.payments(ad_allocation_list, best_allocation, social_network)\r\n",
    "        active_nodes, reward_click = active_nodes_click(social_network, best_allocation, deltas, learner_id=1)\r\n",
    "        reward_influence = 0\r\n",
    "        seeds=np.where(active_nodes==1)[0]\r\n",
    "        if len(seeds) != 0:\r\n",
    "            for k in range(0, len(seeds)):\r\n",
    "                reward_influence += nodes_estimation[seeds[k]]\r\n",
    "            reward_influence = reward_influence/len(seeds)# + reward_influence)/2\r\n",
    "        payments_tot = calculate_total_payment(payments, social_network.categories, active_nodes)\r\n",
    "        reward = (reward_click+reward_influence-payments_tot) \r\n",
    "        reset_nodes(social_network)\r\n",
    "    \r\n",
    "        exp_reward = (exp_reward*(i-1) + reward)/i\r\n",
    "    all_bids.pop(0)\r\n",
    "    all_exp_rewards.append(exp_reward)\r\n",
    "\r\n",
    "clairvoyant_q_f=max(all_exp_rewards)\r\n",
    "index_q_f=np.argmax(all_exp_rewards)"
   ],
   "outputs": [
    {
     "output_type": "stream",
     "name": "stdout",
     "text": [
      "Doing arm [4, 1, 1, 3, 0]\n",
      "Doing arm [3, 3, 4, 2, 3]\n",
      "Doing arm [1, 4, 3, 2, 0]\n",
      "Doing arm [1, 3, 3, 1, 4]\n",
      "Doing arm [1, 1, 2, 0, 4]\n",
      "Doing arm [2, 4, 4, 3, 0]\n",
      "Doing arm [4, 0, 0, 0, 1]\n",
      "Doing arm [2, 1, 3, 0, 4]\n",
      "Doing arm [4, 2, 2, 2, 4]\n",
      "Doing arm [0, 4, 3, 3, 1]\n",
      "Doing arm [2, 3, 4, 2, 4]\n",
      "Doing arm [2, 2, 3, 3, 4]\n",
      "Doing arm [0, 4, 4, 2, 1]\n",
      "Doing arm [4, 2, 3, 4, 0]\n",
      "Doing arm [2, 3, 2, 1, 1]\n",
      "Doing arm [1, 4, 4, 2, 3]\n",
      "Doing arm [0, 0, 4, 4, 4]\n",
      "Doing arm [0, 0, 1, 4, 0]\n",
      "Doing arm [3, 1, 2, 2, 3]\n",
      "Doing arm [3, 4, 3, 3, 0]\n"
     ]
    }
   ],
   "metadata": {}
  },
  {
   "cell_type": "code",
   "execution_count": 3,
   "source": [
    "#Clairvoyant for point 4, with all positions\r\n",
    "all_exp_rewards=[]\r\n",
    "for arm in arms:\r\n",
    "    print(\"Doing arm \"+ str(arm))\r\n",
    "    exp_reward=0\r\n",
    "    all_bids.insert(0, arm)\r\n",
    "    ad_allocation_list = setup(bids=all_bids, n_bids=5)\r\n",
    "    best_allocation = vcg.all_best_allocations(ad_allocation_list, social_network)\r\n",
    "    for i in range(1, n_rounds+1):  \r\n",
    "        payments = vcg.payments(ad_allocation_list, best_allocation, social_network)\r\n",
    "        active_nodes, reward_click = active_nodes_click(social_network, best_allocation, deltas, learner_id=1)\r\n",
    "        reward_influence = 0\r\n",
    "        seeds=np.where(active_nodes==1)[0]\r\n",
    "        if len(seeds) != 0:\r\n",
    "            for k in range(0, len(seeds)):\r\n",
    "                reward_influence += nodes_estimation[seeds[k]]\r\n",
    "            reward_influence = reward_influence/len(seeds)# + reward_influence)/2\r\n",
    "        payments_tot = calculate_total_payment(payments, social_network.categories, active_nodes)\r\n",
    "        reward = (reward_click+reward_influence-payments_tot) \r\n",
    "        reset_nodes(social_network)\r\n",
    "    \r\n",
    "        exp_reward = (exp_reward*(i-1) + reward)/i\r\n",
    "    all_bids.pop(0)\r\n",
    "    all_exp_rewards.append(exp_reward)\r\n",
    "\r\n",
    "clairvoyant_q_a=max(all_exp_rewards)\r\n",
    "index_q_a=np.argmax(all_exp_rewards)"
   ],
   "outputs": [
    {
     "output_type": "stream",
     "name": "stdout",
     "text": [
      "Doing arm [4, 1, 1, 3, 0]\n",
      "Doing arm [3, 3, 4, 2, 3]\n",
      "Doing arm [1, 4, 3, 2, 0]\n",
      "Doing arm [1, 3, 3, 1, 4]\n",
      "Doing arm [1, 1, 2, 0, 4]\n",
      "Doing arm [2, 4, 4, 3, 0]\n",
      "Doing arm [4, 0, 0, 0, 1]\n",
      "Doing arm [2, 1, 3, 0, 4]\n",
      "Doing arm [4, 2, 2, 2, 4]\n",
      "Doing arm [0, 4, 3, 3, 1]\n",
      "Doing arm [2, 3, 4, 2, 4]\n",
      "Doing arm [2, 2, 3, 3, 4]\n",
      "Doing arm [0, 4, 4, 2, 1]\n",
      "Doing arm [4, 2, 3, 4, 0]\n",
      "Doing arm [2, 3, 2, 1, 1]\n",
      "Doing arm [1, 4, 4, 2, 3]\n",
      "Doing arm [0, 0, 4, 4, 4]\n",
      "Doing arm [0, 0, 1, 4, 0]\n",
      "Doing arm [3, 1, 2, 2, 3]\n",
      "Doing arm [3, 4, 3, 3, 0]\n"
     ]
    }
   ],
   "metadata": {}
  },
  {
   "cell_type": "code",
   "execution_count": 4,
   "source": [
    "#Clairvoyant for point 5, only first position\r\n",
    "all_exp_rewards=[]\r\n",
    "for arm in arms:\r\n",
    "    print(\"Doing arm \"+ str(arm))\r\n",
    "    exp_reward=0\r\n",
    "    all_bids.insert(0, arm)\r\n",
    "    ad_allocation_list = setup(bids=all_bids, n_bids=5)\r\n",
    "    best_allocation = vcg.all_best_allocations(ad_allocation_list, social_network)\r\n",
    "    for j in range(0, len(best_allocation)):\r\n",
    "            temp_allocation = []\r\n",
    "            temp_allocation = best_allocation[j]\r\n",
    "            for k in range(0, len(best_allocation[j])):\r\n",
    "                if temp_allocation[k].ad_id == 1 and k != 0:\r\n",
    "                    temp_allocation[k].ad_id = None\r\n",
    "                    best_allocation[j] = temp_allocation\r\n",
    "    for i in range(1, n_rounds+1):  \r\n",
    "        payments = vcg.payments(ad_allocation_list, best_allocation, social_network)\r\n",
    "        active_nodes, total_reward = activate_cascade(social_network=social_network, ad_allocation_list=best_allocation, slot_prominence=deltas,learner_id=1)\r\n",
    "        payments_tot = calculate_total_payment(payments, social_network.categories, active_nodes)\r\n",
    "        reward = (total_reward-payments_tot) \r\n",
    "        reset_nodes(social_network)\r\n",
    "        exp_reward = (exp_reward*(i-1) + reward)/i\r\n",
    "    all_bids.pop(0)\r\n",
    "    all_exp_rewards.append(exp_reward)\r\n",
    "\r\n",
    "clairvoyant_nq_f=max(all_exp_rewards)\r\n",
    "index_nq_f=np.argmax(all_exp_rewards)"
   ],
   "outputs": [
    {
     "output_type": "stream",
     "name": "stdout",
     "text": [
      "Doing arm [4, 1, 1, 3, 0]\n",
      "Doing arm [3, 3, 4, 2, 3]\n",
      "Doing arm [1, 4, 3, 2, 0]\n",
      "Doing arm [1, 3, 3, 1, 4]\n",
      "Doing arm [1, 1, 2, 0, 4]\n",
      "Doing arm [2, 4, 4, 3, 0]\n",
      "Doing arm [4, 0, 0, 0, 1]\n",
      "Doing arm [2, 1, 3, 0, 4]\n",
      "Doing arm [4, 2, 2, 2, 4]\n",
      "Doing arm [0, 4, 3, 3, 1]\n",
      "Doing arm [2, 3, 4, 2, 4]\n",
      "Doing arm [2, 2, 3, 3, 4]\n",
      "Doing arm [0, 4, 4, 2, 1]\n",
      "Doing arm [4, 2, 3, 4, 0]\n",
      "Doing arm [2, 3, 2, 1, 1]\n",
      "Doing arm [1, 4, 4, 2, 3]\n",
      "Doing arm [0, 0, 4, 4, 4]\n",
      "Doing arm [0, 0, 1, 4, 0]\n",
      "Doing arm [3, 1, 2, 2, 3]\n",
      "Doing arm [3, 4, 3, 3, 0]\n"
     ]
    }
   ],
   "metadata": {}
  },
  {
   "cell_type": "code",
   "execution_count": 5,
   "source": [
    "#Clairvoyant for point 5, with all positions\r\n",
    "all_exp_rewards=[]\r\n",
    "for arm in arms:\r\n",
    "    print(\"Doing arm \"+ str(arm))\r\n",
    "    exp_reward=0\r\n",
    "    all_bids.insert(0, arm)\r\n",
    "    ad_allocation_list = setup(bids=all_bids, n_bids=5)\r\n",
    "    best_allocation = vcg.all_best_allocations(ad_allocation_list, social_network)\r\n",
    "    for i in range(1, n_rounds+1):  \r\n",
    "        payments = vcg.payments(ad_allocation_list, best_allocation, social_network)\r\n",
    "        active_nodes, total_reward = activate_cascade(social_network=social_network, ad_allocation_list=best_allocation, slot_prominence=deltas,learner_id=1)\r\n",
    "        payments_tot = calculate_total_payment(payments, social_network.categories, active_nodes)\r\n",
    "        reward = (total_reward-payments_tot) \r\n",
    "        reset_nodes(social_network)\r\n",
    "        exp_reward = (exp_reward*(i-1) + reward)/i\r\n",
    "    all_bids.pop(0)\r\n",
    "    all_exp_rewards.append(exp_reward)\r\n",
    "\r\n",
    "clairvoyant_nq_a=max(all_exp_rewards)\r\n",
    "index_nq_a=np.argmax(all_exp_rewards)\r\n",
    "        "
   ],
   "outputs": [
    {
     "output_type": "stream",
     "name": "stdout",
     "text": [
      "Doing arm [4, 1, 1, 3, 0]\n",
      "Doing arm [3, 3, 4, 2, 3]\n",
      "Doing arm [1, 4, 3, 2, 0]\n",
      "Doing arm [1, 3, 3, 1, 4]\n",
      "Doing arm [1, 1, 2, 0, 4]\n",
      "Doing arm [2, 4, 4, 3, 0]\n",
      "Doing arm [4, 0, 0, 0, 1]\n",
      "Doing arm [2, 1, 3, 0, 4]\n",
      "Doing arm [4, 2, 2, 2, 4]\n",
      "Doing arm [0, 4, 3, 3, 1]\n",
      "Doing arm [2, 3, 4, 2, 4]\n",
      "Doing arm [2, 2, 3, 3, 4]\n",
      "Doing arm [0, 4, 4, 2, 1]\n",
      "Doing arm [4, 2, 3, 4, 0]\n",
      "Doing arm [2, 3, 2, 1, 1]\n",
      "Doing arm [1, 4, 4, 2, 3]\n",
      "Doing arm [0, 0, 4, 4, 4]\n",
      "Doing arm [0, 0, 1, 4, 0]\n",
      "Doing arm [3, 1, 2, 2, 3]\n",
      "Doing arm [3, 4, 3, 3, 0]\n"
     ]
    }
   ],
   "metadata": {}
  },
  {
   "cell_type": "code",
   "execution_count": 6,
   "source": [
    "all_clairvoyants = []\r\n",
    "all_clairvoyants.append(clairvoyant_q_f)\r\n",
    "all_clairvoyants.append(clairvoyant_q_a)\r\n",
    "all_clairvoyants.append(clairvoyant_nq_f)\r\n",
    "all_clairvoyants.append(clairvoyant_nq_a)\r\n",
    "all_indexes = []\r\n",
    "all_indexes.append(index_q_f)\r\n",
    "all_indexes.append(index_q_a)\r\n",
    "all_indexes.append(index_nq_f)\r\n",
    "all_indexes.append(index_nq_a)"
   ],
   "outputs": [],
   "metadata": {}
  },
  {
   "cell_type": "code",
   "execution_count": 10,
   "source": [
    "print(all_exp_rewards)"
   ],
   "outputs": [
    {
     "output_type": "stream",
     "name": "stdout",
     "text": [
      "[-0.35328010526315773, 0.00011997493734329829, 0.6465869999999866, 1.2689900000000092, 1.8127010000000245, -0.3900337894736869, -0.09246100000000279, 1.4587190000000214, -1.0319124285714323, -0.32833947368421224, 1.2106723333333371, 0.5977858421052612, 0.5207969999999917, -2.886649999999981, 2.1363950000000385, 0.1837472631578926, -0.6554040000000033, 0.941994000000002, 0.9879567794486238, -2.6038772305764595]\n"
     ]
    }
   ],
   "metadata": {}
  },
  {
   "cell_type": "code",
   "execution_count": 7,
   "source": [
    "print(all_clairvoyants)\r\n",
    "print(all_indexes)"
   ],
   "outputs": [
    {
     "output_type": "stream",
     "name": "stdout",
     "text": [
      "[0.24936147844443757, 0.48842019490079885, 1.7742390000000792, 2.1363950000000385]\n",
      "[4, 14, 1, 14]\n"
     ]
    }
   ],
   "metadata": {}
  },
  {
   "cell_type": "code",
   "execution_count": 9,
   "source": [
    "import json\r\n",
    "with open('Config/clairvoyants.json', 'w') as file:\r\n",
    "    to_write = {'clairvoyant_q_f': clairvoyant_q_f, 'clairvoyant_q_a': clairvoyant_q_a, 'clairvoyant_nq_f': clairvoyant_nq_f, 'clairvoyant_nq_a': clairvoyant_nq_a}\r\n",
    "    json.dump(to_write, file)\r\n",
    "    \r\n"
   ],
   "outputs": [],
   "metadata": {}
  }
 ],
 "metadata": {
  "orig_nbformat": 4,
  "language_info": {
   "name": "python",
   "version": "3.8.3",
   "mimetype": "text/x-python",
   "codemirror_mode": {
    "name": "ipython",
    "version": 3
   },
   "pygments_lexer": "ipython3",
   "nbconvert_exporter": "python",
   "file_extension": ".py"
  },
  "kernelspec": {
   "name": "python3",
   "display_name": "Python 3.8.3 64-bit ('base': conda)"
  },
  "interpreter": {
   "hash": "c6f967de16b0bff6e471d965b97f90b6b70e6b627c25a55181a3ca712f1e785a"
  }
 },
 "nbformat": 4,
 "nbformat_minor": 2
}