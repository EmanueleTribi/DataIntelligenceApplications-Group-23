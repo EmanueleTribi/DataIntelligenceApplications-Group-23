{
 "cells": [
  {
   "cell_type": "code",
   "execution_count": 1,
   "source": [
    "from SocialNetwork.social_network_environment import *\r\n",
    "from pprint import pprint\r\n",
    "import numpy as np\r\n",
    "import matplotlib.pyplot as plt\r\n",
    "#from SocialNetwork.cascade import *\r\n",
    "from Advertising.learners.Greedy_algorithm import *\r\n",
    "from Advertising.learners.UCB_no_anything import *\r\n",
    "from Advertising.learners.UCB_no_qualities import *\r\n",
    "\r\n",
    "seed = 6789 \r\n",
    "random.seed(seed)\r\n",
    "\r\n",
    "exploration=4.2\r\n",
    "\r\n",
    "deltas=[0.5,0.42,0.38,0.30,0.2,0.05]\r\n",
    "\r\n",
    "social_network = social_network_environment()\r\n",
    "social_network.init_from_json(json_path_network='Config/network.json', json_path_features='Config/features.json')\r\n",
    "\r\n",
    "adversary_bids = []\r\n",
    "for _ in range(0, 10): \r\n",
    "    adversary_i_bids = []\r\n",
    "    for _ in range(0, 5):\r\n",
    "        adversary_i_bids.append(random.randint(0, 4))\r\n",
    "    adversary_bids.append(adversary_i_bids)\r\n",
    "\r\n",
    "arms = arms_creation(seed = 30291, number_of_arms= 20)\r\n",
    "n_rounds=10000\r\n",
    "estimation_rounds=2000\r\n",
    "all_bids = adversary_bids\r\n",
    "vcg=VCG()\r\n",
    "with open('Config/estimated_influence.json', 'r') as file:\r\n",
    "    data = json.load(file)\r\n",
    "    nodes_estimation = data.get('estimated_influence')\r\n",
    "#nodes_estimation=compute_array_estimated_influence(social_network=social_network, rounds=estimation_rounds)"
   ],
   "outputs": [],
   "metadata": {}
  },
  {
   "cell_type": "code",
   "execution_count": 2,
   "source": [
    "#Clairvoyant for point 4, only first position\r\n",
    "all_exp_rewards=[]\r\n",
    "for arm in arms:\r\n",
    "    print(\"Doing arm \"+ str(arm))\r\n",
    "    exp_reward=0\r\n",
    "    all_bids.insert(0, arm)\r\n",
    "    ad_allocation_list = setup(bids=all_bids, n_bids=5)\r\n",
    "    best_allocation = vcg.all_best_allocations(ad_allocation_list, social_network)\r\n",
    "    for j in range(0, len(best_allocation)):\r\n",
    "            temp_allocation = []\r\n",
    "            temp_allocation = best_allocation[j]\r\n",
    "            for k in range(0, len(best_allocation[j])):\r\n",
    "                if temp_allocation[k].ad_id == 1 and k != 0:\r\n",
    "                    temp_allocation[k].ad_id = None\r\n",
    "                    best_allocation[j] = temp_allocation\r\n",
    "    for i in range(1, n_rounds+1):  \r\n",
    "        payments = vcg.payments(ad_allocation_list, best_allocation, social_network)\r\n",
    "        active_nodes, reward_click = active_nodes_click(social_network, best_allocation, deltas, learner_id=1)\r\n",
    "        reward_influence = 0\r\n",
    "        seeds=np.where(active_nodes==1)[0]\r\n",
    "        if len(seeds) != 0:\r\n",
    "            for k in range(0, len(seeds)):\r\n",
    "                reward_influence += nodes_estimation[seeds[k]]\r\n",
    "            reward_influence = reward_influence/len(seeds)# + reward_influence)/2\r\n",
    "        payments_tot = calculate_total_payment(payments, social_network.categories, active_nodes)\r\n",
    "        reward = (reward_click+reward_influence-payments_tot) \r\n",
    "        reset_nodes(social_network)\r\n",
    "    \r\n",
    "        exp_reward = (exp_reward*(i-1) + reward)/i\r\n",
    "    all_bids.pop(0)\r\n",
    "    all_exp_rewards.append(exp_reward)\r\n",
    "\r\n",
    "clairvoyant_q_f=max(all_exp_rewards)\r\n",
    "index_q_f=np.argmax(all_exp_rewards)"
   ],
   "outputs": [
    {
     "output_type": "stream",
     "name": "stdout",
     "text": [
      "Doing arm [4, 1, 1, 3, 0]\n",
      "Doing arm [3, 3, 4, 2, 3]\n",
      "Doing arm [1, 4, 3, 2, 0]\n",
      "Doing arm [1, 3, 3, 1, 4]\n",
      "Doing arm [1, 1, 2, 0, 4]\n",
      "Doing arm [2, 4, 4, 3, 0]\n",
      "Doing arm [4, 0, 0, 0, 1]\n",
      "Doing arm [2, 1, 3, 0, 4]\n",
      "Doing arm [4, 2, 2, 2, 4]\n",
      "Doing arm [0, 4, 3, 3, 1]\n",
      "Doing arm [2, 3, 4, 2, 4]\n",
      "Doing arm [2, 2, 3, 3, 4]\n",
      "Doing arm [0, 4, 4, 2, 1]\n",
      "Doing arm [4, 2, 3, 4, 0]\n",
      "Doing arm [2, 3, 2, 1, 1]\n",
      "Doing arm [1, 4, 4, 2, 3]\n",
      "Doing arm [0, 0, 4, 4, 4]\n",
      "Doing arm [0, 0, 1, 4, 0]\n",
      "Doing arm [3, 1, 2, 2, 3]\n",
      "Doing arm [3, 4, 3, 3, 0]\n"
     ]
    }
   ],
   "metadata": {}
  },
  {
   "cell_type": "code",
   "execution_count": 3,
   "source": [
    "#Clairvoyant for point 4, with all positions\r\n",
    "all_exp_rewards=[]\r\n",
    "for arm in arms:\r\n",
    "    print(\"Doing arm \"+ str(arm))\r\n",
    "    exp_reward=0\r\n",
    "    all_bids.insert(0, arm)\r\n",
    "    ad_allocation_list = setup(bids=all_bids, n_bids=5)\r\n",
    "    best_allocation = vcg.all_best_allocations(ad_allocation_list, social_network)\r\n",
    "    for i in range(1, n_rounds+1):  \r\n",
    "        payments = vcg.payments(ad_allocation_list, best_allocation, social_network)\r\n",
    "        active_nodes, reward_click = active_nodes_click(social_network, best_allocation, deltas, learner_id=1)\r\n",
    "        reward_influence = 0\r\n",
    "        seeds=np.where(active_nodes==1)[0]\r\n",
    "        if len(seeds) != 0:\r\n",
    "            for k in range(0, len(seeds)):\r\n",
    "                reward_influence += nodes_estimation[seeds[k]]\r\n",
    "            reward_influence = reward_influence/len(seeds)# + reward_influence)/2\r\n",
    "        payments_tot = calculate_total_payment(payments, social_network.categories, active_nodes)\r\n",
    "        reward = (reward_click+reward_influence-payments_tot) \r\n",
    "        reset_nodes(social_network)\r\n",
    "    \r\n",
    "        exp_reward = (exp_reward*(i-1) + reward)/i\r\n",
    "    all_bids.pop(0)\r\n",
    "    all_exp_rewards.append(exp_reward)\r\n",
    "\r\n",
    "clairvoyant_q_a=max(all_exp_rewards)\r\n",
    "index_q_a=np.argmax(all_exp_rewards)"
   ],
   "outputs": [
    {
     "output_type": "stream",
     "name": "stdout",
     "text": [
      "Doing arm [4, 1, 1, 3, 0]\n",
      "Doing arm [3, 3, 4, 2, 3]\n",
      "Doing arm [1, 4, 3, 2, 0]\n",
      "Doing arm [1, 3, 3, 1, 4]\n",
      "Doing arm [1, 1, 2, 0, 4]\n",
      "Doing arm [2, 4, 4, 3, 0]\n",
      "Doing arm [4, 0, 0, 0, 1]\n",
      "Doing arm [2, 1, 3, 0, 4]\n",
      "Doing arm [4, 2, 2, 2, 4]\n",
      "Doing arm [0, 4, 3, 3, 1]\n",
      "Doing arm [2, 3, 4, 2, 4]\n",
      "Doing arm [2, 2, 3, 3, 4]\n",
      "Doing arm [0, 4, 4, 2, 1]\n",
      "Doing arm [4, 2, 3, 4, 0]\n",
      "Doing arm [2, 3, 2, 1, 1]\n",
      "Doing arm [1, 4, 4, 2, 3]\n",
      "Doing arm [0, 0, 4, 4, 4]\n",
      "Doing arm [0, 0, 1, 4, 0]\n",
      "Doing arm [3, 1, 2, 2, 3]\n",
      "Doing arm [3, 4, 3, 3, 0]\n"
     ]
    }
   ],
   "metadata": {}
  },
  {
   "cell_type": "code",
   "execution_count": 4,
   "source": [
    "#Clairvoyant for point 5, only first position\r\n",
    "all_exp_rewards=[]\r\n",
    "for arm in arms:\r\n",
    "    print(\"Doing arm \"+ str(arm))\r\n",
    "    exp_reward=0\r\n",
    "    all_bids.insert(0, arm)\r\n",
    "    ad_allocation_list = setup(bids=all_bids, n_bids=5)\r\n",
    "    best_allocation = vcg.all_best_allocations(ad_allocation_list, social_network)\r\n",
    "    for j in range(0, len(best_allocation)):\r\n",
    "            temp_allocation = []\r\n",
    "            temp_allocation = best_allocation[j]\r\n",
    "            for k in range(0, len(best_allocation[j])):\r\n",
    "                if temp_allocation[k].ad_id == 1 and k != 0:\r\n",
    "                    temp_allocation[k].ad_id = None\r\n",
    "                    best_allocation[j] = temp_allocation\r\n",
    "    for i in range(1, n_rounds+1):  \r\n",
    "        payments = vcg.payments(ad_allocation_list, best_allocation, social_network)\r\n",
    "        active_nodes, total_reward = activate_cascade(social_network=social_network, ad_allocation_list=best_allocation, slot_prominence=deltas,learner_id=1)\r\n",
    "        payments_tot = calculate_total_payment(payments, social_network.categories, active_nodes)\r\n",
    "        reward = (total_reward-payments_tot) \r\n",
    "        reset_nodes(social_network)\r\n",
    "        exp_reward = (exp_reward*(i-1) + reward)/i\r\n",
    "    all_bids.pop(0)\r\n",
    "    all_exp_rewards.append(exp_reward)\r\n",
    "\r\n",
    "clairvoyant_nq_f=max(all_exp_rewards)\r\n",
    "index_nq_f=np.argmax(all_exp_rewards)"
   ],
   "outputs": [
    {
     "output_type": "stream",
     "name": "stdout",
     "text": [
      "Doing arm [4, 1, 1, 3, 0]\n",
      "Doing arm [3, 3, 4, 2, 3]\n",
      "Doing arm [1, 4, 3, 2, 0]\n",
      "Doing arm [1, 3, 3, 1, 4]\n",
      "Doing arm [1, 1, 2, 0, 4]\n",
      "Doing arm [2, 4, 4, 3, 0]\n",
      "Doing arm [4, 0, 0, 0, 1]\n",
      "Doing arm [2, 1, 3, 0, 4]\n",
      "Doing arm [4, 2, 2, 2, 4]\n",
      "Doing arm [0, 4, 3, 3, 1]\n",
      "Doing arm [2, 3, 4, 2, 4]\n",
      "Doing arm [2, 2, 3, 3, 4]\n",
      "Doing arm [0, 4, 4, 2, 1]\n",
      "Doing arm [4, 2, 3, 4, 0]\n",
      "Doing arm [2, 3, 2, 1, 1]\n",
      "Doing arm [1, 4, 4, 2, 3]\n",
      "Doing arm [0, 0, 4, 4, 4]\n",
      "Doing arm [0, 0, 1, 4, 0]\n",
      "Doing arm [3, 1, 2, 2, 3]\n",
      "Doing arm [3, 4, 3, 3, 0]\n"
     ]
    }
   ],
   "metadata": {}
  },
  {
   "cell_type": "code",
   "execution_count": 5,
   "source": [
    "#Clairvoyant for point 5, with all positions\r\n",
    "all_exp_rewards=[]\r\n",
    "for arm in arms:\r\n",
    "    print(\"Doing arm \"+ str(arm))\r\n",
    "    exp_reward=0\r\n",
    "    all_bids.insert(0, arm)\r\n",
    "    ad_allocation_list = setup(bids=all_bids, n_bids=5)\r\n",
    "    best_allocation = vcg.all_best_allocations(ad_allocation_list, social_network)\r\n",
    "    for i in range(1, n_rounds+1):  \r\n",
    "        payments = vcg.payments(ad_allocation_list, best_allocation, social_network)\r\n",
    "        active_nodes, total_reward = activate_cascade(social_network=social_network, ad_allocation_list=best_allocation, slot_prominence=deltas,learner_id=1)\r\n",
    "        payments_tot = calculate_total_payment(payments, social_network.categories, active_nodes)\r\n",
    "        reward = (total_reward-payments_tot) \r\n",
    "        reset_nodes(social_network)\r\n",
    "        exp_reward = (exp_reward*(i-1) + reward)/i\r\n",
    "    all_bids.pop(0)\r\n",
    "    all_exp_rewards.append(exp_reward)\r\n",
    "\r\n",
    "clairvoyant_nq_a=max(all_exp_rewards)\r\n",
    "index_nq_a=np.argmax(all_exp_rewards)\r\n",
    "        "
   ],
   "outputs": [
    {
     "output_type": "stream",
     "name": "stdout",
     "text": [
      "Doing arm [4, 1, 1, 3, 0]\n",
      "Doing arm [3, 3, 4, 2, 3]\n",
      "Doing arm [1, 4, 3, 2, 0]\n",
      "Doing arm [1, 3, 3, 1, 4]\n",
      "Doing arm [1, 1, 2, 0, 4]\n",
      "Doing arm [2, 4, 4, 3, 0]\n",
      "Doing arm [4, 0, 0, 0, 1]\n",
      "Doing arm [2, 1, 3, 0, 4]\n",
      "Doing arm [4, 2, 2, 2, 4]\n",
      "Doing arm [0, 4, 3, 3, 1]\n",
      "Doing arm [2, 3, 4, 2, 4]\n",
      "Doing arm [2, 2, 3, 3, 4]\n",
      "Doing arm [0, 4, 4, 2, 1]\n",
      "Doing arm [4, 2, 3, 4, 0]\n",
      "Doing arm [2, 3, 2, 1, 1]\n",
      "Doing arm [1, 4, 4, 2, 3]\n",
      "Doing arm [0, 0, 4, 4, 4]\n",
      "Doing arm [0, 0, 1, 4, 0]\n",
      "Doing arm [3, 1, 2, 2, 3]\n",
      "Doing arm [3, 4, 3, 3, 0]\n"
     ]
    }
   ],
   "metadata": {}
  },
  {
   "cell_type": "code",
   "execution_count": 6,
   "source": [
    "all_clairvoyants = []\r\n",
    "all_clairvoyants.append(clairvoyant_q_f)\r\n",
    "all_clairvoyants.append(clairvoyant_q_a)\r\n",
    "all_clairvoyants.append(clairvoyant_nq_f)\r\n",
    "all_clairvoyants.append(clairvoyant_nq_a)\r\n",
    "all_indexes = []\r\n",
    "all_indexes.append(index_q_f)\r\n",
    "all_indexes.append(index_q_a)\r\n",
    "all_indexes.append(index_nq_f)\r\n",
    "all_indexes.append(index_nq_a)"
   ],
   "outputs": [],
   "metadata": {}
  },
  {
   "cell_type": "code",
   "execution_count": 7,
   "source": [
    "print(all_clairvoyants)\r\n",
    "print(all_indexes)"
   ],
   "outputs": [
    {
     "output_type": "stream",
     "name": "stdout",
     "text": [
      "[0.24936147844443757, 0.48842019490079885, 1.7742390000000792, 2.1363950000000385]\n",
      "[4, 14, 1, 14]\n"
     ]
    }
   ],
   "metadata": {}
  },
  {
   "cell_type": "code",
   "execution_count": 8,
   "source": [
    "import json\r\n",
    "with open('Config/clairvoyants.json', 'w') as file:\r\n",
    "    to_write = {'clairvoyant_q_f': clairvoyant_q_f, 'clairvoyant_q_a': clairvoyant_q_a, 'clairvoyant_nq_f': clairvoyant_nq_f, 'clairvoyant_nq_a': clairvoyant_nq_a}\r\n",
    "    json.dump(to_write, file)\r\n",
    "    \r\n"
   ],
   "outputs": [],
   "metadata": {}
  }
 ],
 "metadata": {
  "orig_nbformat": 4,
  "language_info": {
   "name": "python",
   "version": "3.8.3",
   "mimetype": "text/x-python",
   "codemirror_mode": {
    "name": "ipython",
    "version": 3
   },
   "pygments_lexer": "ipython3",
   "nbconvert_exporter": "python",
   "file_extension": ".py"
  },
  "kernelspec": {
   "name": "python3",
   "display_name": "Python 3.8.3 64-bit ('base': conda)"
  },
  "interpreter": {
   "hash": "c6f967de16b0bff6e471d965b97f90b6b70e6b627c25a55181a3ca712f1e785a"
  }
 },
 "nbformat": 4,
 "nbformat_minor": 2
}