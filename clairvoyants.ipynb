{
 "cells": [
  {
   "cell_type": "code",
   "execution_count": null,
   "source": [
    "from SocialNetwork.social_network_environment import *\r\n",
    "from pprint import pprint\r\n",
    "import numpy as np\r\n",
    "import matplotlib.pyplot as plt\r\n",
    "#from SocialNetwork.cascade import *\r\n",
    "from Advertising.learners.Greedy_algorithm import *\r\n",
    "from experiment_utilities import *\r\n",
    "\r\n",
    "arms = arms_creation(seed = 30291, number_of_arms= 20)\r\n",
    "\r\n",
    "exploration=4.2\r\n",
    "\r\n",
    "deltas=[0.5,0.42,0.38,0.30,0.2,0.05]\r\n",
    "\r\n",
    "social_network = social_network_environment()\r\n",
    "social_network.init_from_json(json_path_network='Config/network.json', json_path_features='Config/features.json')\r\n",
    "\r\n",
    "n_rounds=5000\r\n",
    "vcg=VCG()\r\n",
    "with open('Config/bids.json', 'r') as file:\r\n",
    "    data = json.load(file)\r\n",
    "    all_bids = data.get('bids')\r\n",
    "bids=all_bids[0]"
   ],
   "outputs": [],
   "metadata": {}
  },
  {
   "cell_type": "code",
   "execution_count": null,
   "source": [
    "all_rewards=[]\r\n",
    "for arm in arms:\r\n",
    "    print(arm)\r\n",
    "    reward_total=0\r\n",
    "    bids.insert(0, arm)\r\n",
    "    ad_allocation_list = setup(bids=bids, n_bids=5)\r\n",
    "    best_allocation = vcg.all_best_allocations(ad_allocation_list, social_network)\r\n",
    "    for j in range(0, len(best_allocation)):\r\n",
    "            temp_allocation = []\r\n",
    "            temp_allocation = best_allocation[j]\r\n",
    "            for k in range(0, len(best_allocation[j])):\r\n",
    "                if temp_allocation[k].ad_id == 1 and k != 0:\r\n",
    "                    temp_allocation[k].ad_id = None\r\n",
    "                    best_allocation[j] = temp_allocation\r\n",
    "    payments = vcg.payments(ad_allocation_list, best_allocation, social_network)\r\n",
    "    for j in range(1, n_rounds+1):\r\n",
    "        active_nodes, total_reward = activate_cascade(social_network=social_network, \r\n",
    "                    ad_allocation_list=best_allocation, slot_prominence=deltas,learner_id=1)\r\n",
    "        payments_tot = calculate_total_payment(payments, social_network.categories, active_nodes)\r\n",
    "        reward = (total_reward-payments_tot)\r\n",
    "        reward_total += reward\r\n",
    "        reset_nodes(social_network)\r\n",
    "    reward_total=reward_total/n_rounds\r\n",
    "    all_rewards.append(reward_total)\r\n",
    "    bids.pop(0)\r\n",
    "print(all_rewards)"
   ],
   "outputs": [],
   "metadata": {}
  },
  {
   "cell_type": "code",
   "execution_count": null,
   "source": [],
   "outputs": [],
   "metadata": {}
  },
  {
   "cell_type": "code",
   "execution_count": null,
   "source": [
    "all_estimations_f=[]\r\n",
    "for i in range(0, len(all_bids)):\r\n",
    "    all_rewards=[]\r\n",
    "    bids=all_bids[i]\r\n",
    "    for arm in arms:\r\n",
    "        reward_total=0\r\n",
    "        bids.insert(0, arm)\r\n",
    "        ad_allocation_list = setup(bids=bids, n_bids=5)\r\n",
    "        best_allocation = vcg.all_best_allocations(ad_allocation_list, social_network)\r\n",
    "        for j in range(0, len(best_allocation)):\r\n",
    "            temp_allocation = []\r\n",
    "            temp_allocation = best_allocation[j]\r\n",
    "            for k in range(0, len(best_allocation[j])):\r\n",
    "                if temp_allocation[k].ad_id == 1 and k != 0:\r\n",
    "                    temp_allocation[k].ad_id = None\r\n",
    "                    best_allocation[j] = temp_allocation\r\n",
    "        payments = vcg.payments(ad_allocation_list, best_allocation, social_network)\r\n",
    "        for j in range(1, n_rounds+1):\r\n",
    "            active_nodes, total_reward = activate_cascade(social_network=social_network, \r\n",
    "                        ad_allocation_list=best_allocation, slot_prominence=deltas,learner_id=1)\r\n",
    "            payments_tot = calculate_total_payment(payments, social_network.categories, active_nodes)\r\n",
    "            reward = (total_reward-payments_tot)\r\n",
    "            reward_total += reward\r\n",
    "            reset_nodes(social_network)\r\n",
    "        reward_total=reward_total/n_rounds\r\n",
    "        all_rewards.append(reward_total)\r\n",
    "        bids.pop(0)\r\n",
    "    all_estimations_f.append(max(all_rewards))"
   ],
   "outputs": [],
   "metadata": {}
  },
  {
   "cell_type": "code",
   "execution_count": null,
   "source": [
    "print(all_estimations_f)"
   ],
   "outputs": [],
   "metadata": {}
  }
 ],
 "metadata": {
  "orig_nbformat": 4,
  "language_info": {
   "name": "python",
   "version": "3.8.3",
   "mimetype": "text/x-python",
   "codemirror_mode": {
    "name": "ipython",
    "version": 3
   },
   "pygments_lexer": "ipython3",
   "nbconvert_exporter": "python",
   "file_extension": ".py"
  },
  "kernelspec": {
   "name": "python3",
   "display_name": "Python 3.8.3 64-bit ('base': conda)"
  },
  "interpreter": {
   "hash": "c6f967de16b0bff6e471d965b97f90b6b70e6b627c25a55181a3ca712f1e785a"
  }
 },
 "nbformat": 4,
 "nbformat_minor": 2
}