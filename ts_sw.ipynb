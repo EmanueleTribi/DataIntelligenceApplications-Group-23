{
 "cells": [
  {
   "cell_type": "code",
   "execution_count": 1,
   "source": [
    "import matplotlib.pyplot as plt\n",
    "import numpy as np\n",
    "from SocialNetwork.social_network_environment import *\n",
    "from SocialNetwork.cascade import *\n",
    "from Advertising.enviroment.bid import *\n",
    "from Advertising.enviroment.VCG import *\n",
    "from Advertising.learners.Greedy_algorithm import *\n",
    "from Advertising.learners.GTS_Learner import *\n",
    "from Advertising.learners.GTS_SW_Learner import *\n",
    "from experiment_utilities import*\n",
    "\n",
    "import math\n",
    "\n",
    "from tqdm.autonotebook import tqdm\n",
    "from Advertising.learners.TS_sliding_window import *\n",
    "import itertools\n",
    "\n",
    "arms = arms_creation(seed=30291, number_of_arms=20)\n",
    "\n",
    "seed = 6789\n",
    "random.seed(seed)\n",
    "only_first = True\n",
    "#initialization\n",
    "n_try = 2\n",
    "variance = 20\n",
    "expected_values = []\n",
    "interval = 5000\n",
    "n_experiments=20000\n",
    "sw_size = 1000\n",
    "#sw_size = math.isqrt(n_experiments)\n",
    "n_change = (int)(n_experiments/interval)\n",
    "\n",
    "lambdas = [0.5, 0.42, 0.38, 0.30, 0.2, 0.05]\n",
    "social_network = social_network_environment()\n",
    "social_network.init_from_json(\n",
    "    json_path_network='Config/network.json', json_path_features='Config/features.json')\n",
    "\n",
    "\n",
    "\n",
    "\n",
    "with open(\"Config/estimated_influence.json\", \"r\"):\n",
    "    data = json.load(open(\"Config/estimated_influence.json\"))\n",
    "\n",
    "active_by_influence_reward = np.array(data.get(\"estimated_influence\"))\n",
    "\n",
    "\n",
    "\n",
    "with open('Config/clairvoyants_sw.json', 'r') as file:\n",
    "    clairvoyants = json.load(file)\n",
    "clairvoyants_first = clairvoyants.get('clairvoyant_f_sw')\n",
    "clairvoyants_all = clairvoyants.get('clairvoyant_a_sw')\n",
    "\n",
    "\n",
    "with open('Config/bids.json', 'r') as file:\n",
    "    bids = json.load(file)\n",
    "    list_of_bids = bids.get('bids')\n",
    "#print(list_of_bids)\n"
   ],
   "outputs": [],
   "metadata": {}
  },
  {
   "cell_type": "code",
   "execution_count": 2,
   "source": [
    "ts_learner = GTS_SW_Learner(arms, variance=variance, size_SW=sw_size, ad_id=1)\n",
    "ts_learner2 = GTS_SW_Learner(arms, variance=variance, size_SW=sw_size, ad_id=1)\n",
    "\n",
    "moving_avarage_only_mean = []\n",
    "moving_avarage_all_mean = []\n",
    "for j in range(0, n_try):\n",
    "    print(\"This is TS number \" + str(j))\n",
    "\n",
    "    moving_avarage_only= experiment(n_experiments, ts_learner, list_of_bids, social_network, arms, only_first, sliding_window = True, interval=interval)\n",
    "    moving_avarage_all= experiment(n_experiments, ts_learner2, list_of_bids, social_network, arms, not only_first, sliding_window=True,  interval=interval)\n",
    "    moving_avarage_only_mean.append(moving_avarage_only)\n",
    "    moving_avarage_all_mean.append(moving_avarage_all)\n",
    "# plotting_means = np.mean(thing_to_plot_only_mean, axis=0)\n",
    "# print(plotting_means)\n",
    "cum_mov_avarage_only = np.cumsum(np.mean(moving_avarage_only_mean, axis=0))\n",
    "#moving_avarage_all_mean = moving_avarage_all_mean.pop(1)\n",
    "cum_mov_avarage_all = np.cumsum(np.mean(moving_avarage_all_mean, axis=0))\n",
    "#print(plotting_means_cum_sum)\n"
   ],
   "outputs": [
    {
     "output_type": "stream",
     "name": "stdout",
     "text": [
      "This is TS number 0\n",
      "This is TS number 1\n"
     ]
    }
   ],
   "metadata": {}
  },
  {
   "cell_type": "code",
   "execution_count": 3,
   "source": [
    "\n",
    "# print(\"THE BEST ARM FOR EXPERIMENT ONLY FIRST IS:\",\n",
    "#       arms[best_arm_index], \"INDEX\", best_arm_index)\n",
    "# print(\"THE BEST ARM FOR EXPERIMENT total IS:\",\n",
    "#       arms[best_arm_index2], \"INDEX\", best_arm_index2)\n",
    "\n",
    "# array = [i+1 for i in range(0, 20)]\n",
    "\n",
    "\n",
    "# plt.figure(0)\n",
    "# plt.errorbar(array, expected_values, yerr=(1/ts_learner.tau0), fmt='o')\n",
    "# plt.figure(1)\n",
    "# plt.errorbar(array, expected_values2, yerr=(1/ts_learner2.tau0), fmt='o')\n",
    "\n",
    "# plt.show()\n",
    "\n",
    "\n"
   ],
   "outputs": [],
   "metadata": {}
  },
  {
   "cell_type": "code",
   "execution_count": 4,
   "source": [
    "\n",
    "## Here i calculate the clairvoyant running the algorithm in a static enviroment as much as the times i vary the adversarial bids\n",
    "#clairvoyant_only = []\n",
    "\n",
    "\n",
    "clairvoyant_non_cum_all = []\n",
    "for i in range(0, len(clairvoyants_all)):\n",
    "    for j in range(0, interval):\n",
    "        #clairvoyant_non_cum.append(expected_values_list_only[i][index])\n",
    "        clairvoyant_non_cum_all.append(clairvoyants_all[i])\n",
    "\n",
    "clairvoyant__non_cum_all = clairvoyant_non_cum_all.append(clairvoyant_non_cum_all[-1])\n",
    "clairvoyant_cum_all = np.cumsum(clairvoyant_non_cum_all)\n",
    "\n",
    "clairvoyant_non_cum_only = []\n",
    "for i in range(0, len(clairvoyants_first)):\n",
    "    for j in range(0, interval):\n",
    "        #clairvoyant_non_cum.append(expected_values_list_only[i][index])\n",
    "        clairvoyant_non_cum_only.append(clairvoyants_first[i])\n",
    "\n",
    "clairvoyant_cum_only = clairvoyant_non_cum_only.append(clairvoyant_non_cum_only[-1])\n",
    "clairvoyant_cum_only = np.cumsum(clairvoyant_non_cum_only)\n",
    "\n",
    "\n",
    "\n",
    "\n",
    "# for i in range(0, len(exp_rewards_per_window)):\n",
    "#     if i==0:\n",
    "#         value_cumulative = exp_rewards_per_window[i]\n",
    "#         #value_cumulative = expected_values_list_only[i][index]\n",
    "#     else:\n",
    "#         value_cumulative += exp_rewards_per_window[i]\n",
    "#         #value_cumulative += expected_values_list_only[i][index]\n",
    "#     for j in range(0, interval):\n",
    "#         clairvoyant_only.append(value_cumulative)\n",
    "        \n",
    "\n",
    "\n",
    "print(\"Graphic for TS with ads in all positions\")\n",
    "plt.figure(0)\n",
    "plt.ylabel(\"Reward\")\n",
    "plt.xlabel(\"Rounds\")\n",
    "plt.plot(clairvoyant_cum_all, 'r')\n",
    "plt.plot(cum_mov_avarage_all, 'y')\n",
    "plt.legend([\"Clairvoyant\", \"TS\" ])\n",
    "\n",
    "\n",
    "print(\"Graphic for TS with ads only in first position\")\n",
    "\n",
    "plt.figure(1)\n",
    "plt.ylabel(\"Reward\")\n",
    "plt.xlabel(\"Rounds\")\n",
    "plt.plot(clairvoyant_cum_only, 'r')\n",
    "plt.plot(cum_mov_avarage_only, 'y')\n",
    "plt.legend([\"Clairvoyant\", \"TS\" ])\n",
    "\n",
    "\n",
    "\n",
    "# print(len(clairvoyant_cum_only))\n",
    "# print(len(cum_mov_avarage_only))\n",
    "\n",
    "# regret_only = []\n",
    "# for i in range(0, len(cum_mov_avarage_only)):\n",
    "#     regret_only.append(clairvoyant_cum_only[i] - cum_mov_avarage_only[i])\n",
    "\n",
    "\n",
    "# regret_all = []\n",
    "# for i in range(0, len(cum_mov_avarage_all)):\n",
    "#     regret_all.append(clairvoyant_cum_all[i] - cum_mov_avarage_all[i])\n",
    "\n",
    "# plt.figure(2)\n",
    "# plt.ylabel(\"Regret\")\n",
    "# plt.xlabel(\"Rounds\")\n",
    "# plt.plot(regret_only, 'g')\n",
    "\n",
    "# plt.figure(3)\n",
    "# plt.ylabel(\"Regret\")\n",
    "# plt.xlabel(\"Rounds\")\n",
    "# plt.plot(regret_all, 'g')"
   ],
   "outputs": [
    {
     "output_type": "stream",
     "name": "stdout",
     "text": [
      "Graphic for TS with ads in all positions\n",
      "Graphic for TS with ads only in first position\n"
     ]
    },
    {
     "output_type": "execute_result",
     "data": {
      "text/plain": [
       "<matplotlib.legend.Legend at 0x1209487f0>"
      ]
     },
     "metadata": {},
     "execution_count": 4
    },
    {
     "output_type": "display_data",
     "data": {
      "image/png": "[encoded data removed]",
      "text/plain": [
       "<Figure size 432x288 with 1 Axes>"
      ]
     },
     "metadata": {
      "needs_background": "light"
     }
    },
    {
     "output_type": "display_data",
     "data": {
      "image/png": "[encoded data removed]",
      "text/plain": [
       "<Figure size 432x288 with 1 Axes>"
      ]
     },
     "metadata": {
      "needs_background": "light"
     }
    }
   ],
   "metadata": {}
  },
  {
   "cell_type": "code",
   "execution_count": 5,
   "source": [
    "# clairvoyant_all = []\n",
    "\n",
    "# for i,index in enumerate(best_arm_indexes_all):\n",
    "#     for j in range(0, interval):\n",
    "#         clairvoyant_all.append(expected_values_list_all[i][index])\n",
    "\n",
    "# clairvoyant_all.append(expected_values_list_all[2][best_arm_indexes_all[2]])\n",
    "# clairvoyant_all.append(expected_values_list_all[2][best_arm_indexes_all[2]])\n",
    "# clairvoyant_all.append(expected_values_list_all[2][best_arm_indexes_all[2]])\n",
    "# clairvoyant_all.append(expected_values_list_all[2][best_arm_indexes_all[2]])\n",
    "# clairvoyant_all.append(expected_values_list_all[2][best_arm_indexes_all[2]])\n",
    "\n",
    "        \n",
    "\n",
    "# plt.figure(0)\n",
    "# plt.ylabel(\"Reward\")\n",
    "# plt.xlabel(\"Rounds\")\n",
    "# plt.plot(clairvoyant_all, 'r')\n",
    "# plt.plot(thing_to_plot_all, 'y')\n",
    "# plt.legend([\"Clairvoyant\", \"TS\" ])\n",
    "\n",
    "\n",
    "# regret_all = []\n",
    "# for i in range(0, len(thing_to_plot_all)):\n",
    "#     regret_all.append(clairvoyant_all[i] - thing_to_plot_all[i])\n",
    "\n",
    "\n",
    "\n",
    "\n",
    "# plt.figure(1)\n",
    "# plt.ylabel(\"Regret\")\n",
    "# plt.xlabel(\"Rounds\")\n",
    "# plt.plot(regret_all, 'g')\n",
    "\n"
   ],
   "outputs": [],
   "metadata": {}
  }
 ],
 "metadata": {
  "orig_nbformat": 4,
  "language_info": {
   "name": "python",
   "version": "3.8.8",
   "mimetype": "text/x-python",
   "codemirror_mode": {
    "name": "ipython",
    "version": 3
   },
   "pygments_lexer": "ipython3",
   "nbconvert_exporter": "python",
   "file_extension": ".py"
  },
  "kernelspec": {
   "name": "python3",
   "display_name": "Python 3.8.8 64-bit ('projects_env': conda)"
  },
  "interpreter": {
   "hash": "7b65a0b764bf49cc7947e468da38261005013c03fd7f348ce5375f68cfcbfbf1"
  }
 },
 "nbformat": 4,
 "nbformat_minor": 2
}