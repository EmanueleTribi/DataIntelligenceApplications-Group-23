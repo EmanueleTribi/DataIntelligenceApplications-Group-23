{
 "cells": [
  {
   "cell_type": "code",
   "execution_count": 1,
   "source": [
    "from Advertising.learners.greedyLearner import *\n",
    "import matplotlib.pyplot as plt\n",
    "import numpy as np\n",
    "from SocialNetwork.social_network_environment import *\n",
    "from SocialNetwork.cascade import *\n",
    "from Advertising.enviroment.bid import *\n",
    "from Advertising.enviroment.VCG import *\n",
    "from Advertising.learners.GTS_Learner import *\n",
    "from Advertising.learners.GTS_SW_Learner import *\n",
    "from Advertising.learners.TS_no_qualities import *\n",
    "from tqdm.autonotebook import tqdm\n",
    "from Advertising.learners.TS_sliding_window import *\n",
    "import itertools\n",
    "seed = 6789\n",
    "random.seed(seed)\n",
    "only_first = False\n",
    "\n",
    "\n",
    "lambdas = [0.5, 0.42, 0.38, 0.30, 0.2, 0.05]\n",
    "social_network = social_network_environment()\n",
    "social_network.init_from_json(\n",
    "    json_path_network='Config/network.json', json_path_features='Config/features.json')\n",
    "\n",
    "adversary_bids = []\n",
    "for _ in range(0, 10):\n",
    "    adversary_i_bids = []\n",
    "    for __ in range(0, 5):\n",
    "        adversary_i_bids.append(random.randint(0, 4))\n",
    "    adversary_bids.append(adversary_i_bids)\n",
    "\n",
    "\n",
    "with open(\"Config/estimated_influence.json\", \"r\"):\n",
    "    data = json.load(open(\"Config/estimated_influence.json\"))\n",
    "\n",
    "active_by_influence_reward = np.array(data.get(\"estimated_influence\"))\n"
   ],
   "outputs": [],
   "metadata": {}
  },
  {
   "cell_type": "code",
   "execution_count": 2,
   "source": [
    "expected_values = []\n",
    "expected_values2 = []\n",
    "sw_size = 5000\n",
    "arms = arms_creation(seed=30291, number_of_arms=20)\n",
    "ts_learner = GTS_SW_Learner(20, arms, variance=5, size_SW=sw_size, ad_id=1)\n",
    "ts_learner2 = GTS_SW_Learner(20, arms, variance=5, size_SW=sw_size, ad_id=1)\n",
    "n_experiments=15000\n",
    "\n",
    "for j in range(0, 1):\n",
    "    best_Arm = []\n",
    "    print(\"This is TS number \" + str(j))\n",
    "\n",
    "    best_arm, best_arm_index, number_of_pulls, expected_values, thing_to_plot, clairvoyants, clair_ex = test_sw(\n",
    "        ts_learner, arms, adversary_bids.copy(), only_first, n_experiments, lambdas, social_network, sw_size)\n",
    "    best_arm2, best_arm_index2, number_of_pulls2, expected_values2, thing_to_plot2, clairvoyants2, clair_ex2 = test_sw(\n",
    "        ts_learner2, arms, adversary_bids.copy(), not only_first, n_experiments, lambdas, social_network, sw_size)\n",
    "\n",
    "    print(\"Valori non solo prima posizione:\")\n",
    "    print(best_arm)\n",
    "    print(number_of_pulls)\n",
    "    print(expected_values)\n",
    "\n",
    "    print(\"Valori solo prima posizione:\")\n",
    "    print(best_arm2)\n",
    "    print(number_of_pulls2)\n",
    "    print(expected_values2)\n"
   ],
   "outputs": [
    {
     "output_type": "stream",
     "name": "stdout",
     "text": [
      "This is TS number 0\n"
     ]
    },
    {
     "output_type": "stream",
     "name": "stderr",
     "text": [
      "/Library/Frameworks/Python.framework/Versions/3.9/lib/python3.9/site-packages/numpy/core/fromnumeric.py:87: RuntimeWarning: overflow encountered in reduce\n",
      "  return ufunc.reduce(obj, axis, dtype, out, **passkwargs)\n",
      "/Users/matteomainardi/Library/Mobile Documents/com~apple~CloudDocs/github/DirezioneInvestigativaAntimafia-DIA-/Advertising/learners/GTS_SW_Learner.py:48: RuntimeWarning: invalid value encountered in double_scalars\n",
      "  self.u0[pulled_arm] = (self.tau0[pulled_arm]*self.u0[pulled_arm] +\n"
     ]
    },
    {
     "output_type": "stream",
     "name": "stdout",
     "text": [
      "Valori non solo prima posizione:\n",
      "[2 3 2 1 1]\n",
      "[0.000e+00 0.000e+00 0.000e+00 0.000e+00 1.410e+02 0.000e+00 1.000e+00\n",
      " 0.000e+00 0.000e+00 0.000e+00 0.000e+00 0.000e+00 0.000e+00 0.000e+00\n",
      " 4.857e+03 0.000e+00 0.000e+00 0.000e+00 0.000e+00 0.000e+00]\n",
      "[ 0.          0.          0.          0.          0.9712766   0.\n",
      " -2.63        0.          0.          0.          0.          0.\n",
      "  0.          0.          2.25365795  0.          0.          0.\n",
      "  0.          0.        ]\n",
      "Valori solo prima posizione:\n",
      "[3 4 3 3 0]\n",
      "[   0.    0.    0.    0.    0.    0.    0.    0.    0.    0.    0.    0.\n",
      "    0.    0.    0.    0.    0.    0.    0. 4999.]\n",
      "[0.         0.         0.         0.         0.         0.\n",
      " 0.         0.         0.         0.         0.         0.\n",
      " 0.         0.         0.         0.         0.         0.\n",
      " 0.         1.40933187]\n"
     ]
    }
   ],
   "metadata": {}
  },
  {
   "cell_type": "code",
   "execution_count": 3,
   "source": [
    "print(\"THE BEST ARM FOR EXPERIMENT TOTAL IS:\",\n",
    "      arms[best_arm_index], \"INDEX\", best_arm_index)\n",
    "print(\"THE BEST ARM FOR EXPERIMENT ONLY FIRST IS:\",\n",
    "      arms[best_arm_index2], \"INDEX\", best_arm_index2)\n",
    "\n",
    "array = [i+1 for i in range(0, 20)]\n",
    "\n",
    "\n",
    "plt.figure(1)\n",
    "plt.errorbar(array, expected_values, yerr=(1/ts_learner.tau0), fmt='o')\n",
    "plt.figure(0)\n",
    "plt.errorbar(array, expected_values2, yerr=(1/ts_learner2.tau0), fmt='o')\n",
    "\n",
    "plt.show()\n",
    "print(np.array(arms)[clairvoyants])\n",
    "print(clair_ex)\n",
    "print(np.array(arms)[clairvoyants2])\n",
    "print(clair_ex2)\n"
   ],
   "outputs": [
    {
     "output_type": "stream",
     "name": "stdout",
     "text": [
      "THE BEST ARM FOR EXPERIMENT TOTAL IS: [2 3 2 1 1] INDEX 14\n",
      "THE BEST ARM FOR EXPERIMENT ONLY FIRST IS: [3 4 3 3 0] INDEX 19\n"
     ]
    },
    {
     "output_type": "display_data",
     "data": {
      "image/png": "[encoded data removed]",
      "text/plain": [
       "<Figure size 432x288 with 1 Axes>"
      ]
     },
     "metadata": {
      "needs_background": "light"
     }
    },
    {
     "output_type": "display_data",
     "data": {
      "image/png": "[encoded data removed]",
      "text/plain": [
       "<Figure size 432x288 with 1 Axes>"
      ]
     },
     "metadata": {
      "needs_background": "light"
     }
    },
    {
     "output_type": "stream",
     "name": "stdout",
     "text": [
      "[[2 3 2 1 1]\n",
      " [4 0 0 0 1]\n",
      " [2 3 2 1 1]]\n",
      "[2.1411961275738394, 2.3966666666666665, 2.253657950724053]\n",
      "[[4 2 2 2 4]\n",
      " [0 4 4 2 1]\n",
      " [3 4 3 3 0]]\n",
      "[3.0999999999999934, 3.6500000000000057, 1.4093318663732888]\n"
     ]
    }
   ],
   "metadata": {}
  },
  {
   "cell_type": "code",
   "execution_count": 4,
   "source": [
    "best_values = []\n",
    "j = 0\n",
    "k = 0\n",
    "for i in range(n_experiments):\n",
    "    k += 1\n",
    "    best_values.append(clair_ex[j])\n",
    "    if k == sw_size:\n",
    "        k = 0\n",
    "        j += 1\n",
    "\n",
    "regret_no_qualities = [\n",
    "    best_values[x] - thing_to_plot[x] for x in range(len(thing_to_plot))]\n",
    "plt.figure(0)\n",
    "plt.plot(thing_to_plot, 'y')\n",
    "plt.ylabel(\"Reward\")\n",
    "plt.xlabel(\"Rounds\")\n",
    "plt.plot(best_values, 'r')\n",
    "plt.legend([\"Clairvoyant\", \"TS\"])\n",
    "\n",
    "plt.figure(1)\n",
    "plt.ylabel(\"Regret\")\n",
    "plt.xlabel(\"Rounds\")\n",
    "plt.plot(regret_no_qualities, 'g')\n"
   ],
   "outputs": [
    {
     "output_type": "execute_result",
     "data": {
      "text/plain": [
       "[<matplotlib.lines.Line2D at 0x118f43790>]"
      ]
     },
     "metadata": {},
     "execution_count": 4
    },
    {
     "output_type": "display_data",
     "data": {
      "image/png": "[encoded data removed]",
      "text/plain": [
       "<Figure size 432x288 with 1 Axes>"
      ]
     },
     "metadata": {
      "needs_background": "light"
     }
    },
    {
     "output_type": "display_data",
     "data": {
      "image/png": "[encoded data removed]",
      "text/plain": [
       "<Figure size 432x288 with 1 Axes>"
      ]
     },
     "metadata": {
      "needs_background": "light"
     }
    }
   ],
   "metadata": {}
  },
  {
   "cell_type": "code",
   "execution_count": 5,
   "source": [
    "print(\"Here are reward and regret for the case without ad qualities, with only ads in first position\")\n",
    "best_values2 = []\n",
    "j = 0\n",
    "k = 0\n",
    "for i in range(n_experiments):\n",
    "    k += 1\n",
    "    best_values2.append(clair_ex2[j])\n",
    "    if k == sw_size:\n",
    "        k = 0\n",
    "        j += 1\n",
    "\n",
    "regret_no_qualities2 = [\n",
    "    best_values2[x] - thing_to_plot2[x] for x in range(len(thing_to_plot2))]\n",
    "plt.figure(0)\n",
    "plt.plot(best_values2, 'r')\n",
    "plt.plot(thing_to_plot2, 'y')\n",
    "plt.ylabel(\"Reward\")\n",
    "plt.xlabel(\"Rounds\")\n",
    "plt.legend([\"Clairvoyant\", \"TS\"])\n",
    "\n",
    "plt.figure(1)\n",
    "plt.ylabel(\"Regret\")\n",
    "plt.xlabel(\"Rounds\")\n",
    "plt.plot(regret_no_qualities2, 'g')\n"
   ],
   "outputs": [
    {
     "output_type": "stream",
     "name": "stdout",
     "text": [
      "Here are reward and regret for the case without ad qualities, with only ads in first position\n"
     ]
    },
    {
     "output_type": "execute_result",
     "data": {
      "text/plain": [
       "[<matplotlib.lines.Line2D at 0x1190bf040>]"
      ]
     },
     "metadata": {},
     "execution_count": 5
    },
    {
     "output_type": "display_data",
     "data": {
      "image/png": "[encoded data removed]",
      "text/plain": [
       "<Figure size 432x288 with 1 Axes>"
      ]
     },
     "metadata": {
      "needs_background": "light"
     }
    },
    {
     "output_type": "display_data",
     "data": {
      "image/png": "[encoded data removed]",
      "text/plain": [
       "<Figure size 432x288 with 1 Axes>"
      ]
     },
     "metadata": {
      "needs_background": "light"
     }
    }
   ],
   "metadata": {}
  }
 ],
 "metadata": {
  "orig_nbformat": 4,
  "language_info": {
   "name": "python",
   "version": "3.9.5",
   "mimetype": "text/x-python",
   "codemirror_mode": {
    "name": "ipython",
    "version": 3
   },
   "pygments_lexer": "ipython3",
   "nbconvert_exporter": "python",
   "file_extension": ".py"
  },
  "kernelspec": {
   "name": "python3",
   "display_name": "Python 3.9.5 64-bit"
  },
  "interpreter": {
   "hash": "aee8b7b246df8f9039afb4144a1f6fd8d2ca17a180786b69acc140d282b71a49"
  }
 },
 "nbformat": 4,
 "nbformat_minor": 2
}