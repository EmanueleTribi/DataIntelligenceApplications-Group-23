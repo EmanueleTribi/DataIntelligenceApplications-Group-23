{
 "cells": [
  {
   "cell_type": "code",
   "execution_count": 44,
   "source": [
    "from Advertising.learners.greedyLearner import *\n",
    "import matplotlib.pyplot as plt\n",
    "import numpy as np\n",
    "from SocialNetwork.social_network_environment import *\n",
    "from SocialNetwork.cascade import *\n",
    "from Advertising.enviroment.bid import *\n",
    "from Advertising.enviroment.VCG import *\n",
    "from Advertising.learners.GTS_Learner import *\n",
    "from Advertising.learners.GTS_SW_Learner import *\n",
    "from Advertising.learners.TS_no_qualities import *\n",
    "from tqdm.autonotebook import tqdm\n",
    "import itertools\n",
    "seed = 6789\n",
    "random.seed(seed)\n",
    "only_first = False\n",
    "\n",
    "\n",
    "lambdas = [0.5, 0.42, 0.38, 0.30, 0.2, 0.05]\n",
    "social_network = social_network_environment()\n",
    "social_network.init_from_json(\n",
    "    json_path_network='Config/network.json', json_path_features='Config/features.json')\n",
    "\n",
    "adversary_bids = []\n",
    "for _ in range(0, 10):\n",
    "    adversary_i_bids = []\n",
    "    for __ in range(0, 5):\n",
    "        adversary_i_bids.append(random.randint(0, 4))\n",
    "    adversary_bids.append(adversary_i_bids)\n",
    "\n",
    "\n",
    "with open(\"Config/estimated_influence.json\", \"r\"):\n",
    "    data = json.load(open(\"Config/estimated_influence.json\"))\n",
    "\n",
    "active_by_influence_reward = np.array(data.get(\"estimated_influence\"))\n"
   ],
   "outputs": [],
   "metadata": {}
  },
  {
   "cell_type": "code",
   "execution_count": 45,
   "source": [
    "def test_sw(learner, arms, adversary_bids, only_first, active_by_influence_reward, n_rounds, lambdas, social_network, sw_size):\n",
    "    clairvoyants = []\n",
    "    clair_ex = []\n",
    "    vcg = VCG(lambdas)\n",
    "    number_of_pulls = [0]*len(arms)\n",
    "    sum_expected_values = [0]*len(arms)\n",
    "    expected_values = [0]*len(arms)\n",
    "    thing_to_plot = []\n",
    "    thing_to_plot.append(0)\n",
    "    t = 0\n",
    "    for i in range(0, n_rounds):\n",
    "        t += 1\n",
    "        arm_learner, pulled_arm = learner.pull_arm()\n",
    "\n",
    "        if t > sw_size:\n",
    "            adversary_bids = []\n",
    "            for _ in range(0, 10):\n",
    "                adversary_i_bids = []\n",
    "                for __ in range(0, 5):\n",
    "                    adversary_i_bids.append(random.randint(0, 4))\n",
    "                adversary_bids.append(adversary_i_bids)\n",
    "            clairvoyants.append(np.argmax(expected_values))\n",
    "            clair_ex.append(expected_values[np.argmax(expected_values)])\n",
    "            t = 0\n",
    "\n",
    "        all_bids = []\n",
    "        all_bids.append(arm_learner)\n",
    "        for element in adversary_bids:\n",
    "            all_bids.append(element)\n",
    "        ad_allocation_list = setup(bids=all_bids, n_bids=5)\n",
    "\n",
    "        best_allocation = vcg.all_best_allocations(\n",
    "            list_camp_bids=ad_allocation_list, social_network=social_network)\n",
    "\n",
    "        if only_first:\n",
    "            for j in range(0, len(best_allocation)):\n",
    "                temp_allocation = []\n",
    "                temp_allocation = best_allocation[j]\n",
    "                for k in range(0, len(best_allocation[j])):\n",
    "                    if temp_allocation[k].ad_id == 1 and k != 0:\n",
    "                        temp_allocation[k].ad_id = None\n",
    "                        best_allocation[j] = temp_allocation\n",
    "\n",
    "        total_reward, active_nodes = activate_cascade(\n",
    "            social_network=social_network, ad_allocation_list=best_allocation, slot_prominence=deltas)\n",
    "\n",
    "        payments = vcg.payments(\n",
    "            ad_allocation_list, best_allocation, social_network=social_network)\n",
    "    # with this part of code i set that if the learner is present in the allocation list then get the normal allocation\n",
    "    # reward, if it's not present and it bids 0 then the reward is 0.\n",
    "\n",
    "        payments_tot = calculate_total_payment(\n",
    "            payments, social_network.categories, active_nodes)\n",
    "\n",
    "        reward = total_reward - payments_tot\n",
    "\n",
    "        if i > 0:\n",
    "            thing_to_plot.append((reward+thing_to_plot[-1]*(i-1))/i)\n",
    "\n",
    "        #rew = reward-np.sum(payments_tot)\n",
    "\n",
    "        number_of_pulls[pulled_arm] += 1\n",
    "        sum_expected_values[pulled_arm] += reward\n",
    "        expected_values[pulled_arm] = sum_expected_values[pulled_arm] / \\\n",
    "            number_of_pulls[pulled_arm]\n",
    "\n",
    "    # updating of the learners\n",
    "        learner.update(pulled_arm, reward, number_of_pulls)\n",
    "        reset_nodes(social_network=social_network)\n",
    "\n",
    "    best_arm_index = np.argmax(expected_values)\n",
    "    clairvoyants.append(np.argmax(expected_values))\n",
    "    clair_ex.append(expected_values[np.argmax(expected_values)])\n",
    "\n",
    "    print(expected_values)\n",
    "    print(best_arm_index)\n",
    "\n",
    "    return arms[best_arm_index], best_arm_index, number_of_pulls, expected_values, thing_to_plot, clairvoyants, clair_ex\n"
   ],
   "outputs": [],
   "metadata": {}
  },
  {
   "cell_type": "code",
   "execution_count": 46,
   "source": [
    "expected_values = []\n",
    "expected_values2 = []\n",
    "sw_size = 4000\n",
    "arms = arms_creation(seed=30291, number_of_arms=20)\n",
    "ts_learner = GTS_SW_Learner(20, arms, variance=40, size_SW=sw_size, ad_id=1)\n",
    "ts_learner2 = GTS_SW_Learner(20, arms, variance=40, size_SW=sw_size, ad_id=1)\n",
    "n_experiments=10000\n",
    "\n",
    "for j in range(0, 1):\n",
    "    best_Arm = []\n",
    "    print(\"This is TS number \" + str(j))\n",
    "\n",
    "    best_arm, best_arm_index, number_of_pulls, expected_values, thing_to_plot, clairvoyants, clair_ex = test_sw(\n",
    "        ts_learner, arms, adversary_bids, only_first, active_by_influence_reward, n_experiments, lambdas, social_network, sw_size)\n",
    "    best_arm2, best_arm_index2, number_of_pulls2, expected_values2, thing_to_plot2, clairvoyants2, clair_ex2 = test_sw(\n",
    "        ts_learner2, arms, adversary_bids, not only_first, active_by_influence_reward, n_experiments, lambdas, social_network, sw_size)\n",
    "\n",
    "    print(\"Valori non solo prima posizione:\")\n",
    "    print(best_arm)\n",
    "    print(number_of_pulls)\n",
    "    print(expected_values)\n",
    "\n",
    "    print(\"Valori solo prima posizione:\")\n",
    "    print(best_arm2)\n",
    "    print(number_of_pulls2)\n",
    "    print(expected_values2)\n"
   ],
   "outputs": [
    {
     "output_type": "stream",
     "name": "stdout",
     "text": [
      "This is TS number 0\n",
      "[0.1363742690058453, 0.2079995443153343, 0.04049999999999791, -1.0633333333333326, 0.08785714285714279, -1.6325730994152048, -0.022459016393445407, 1.01137727496311, -2.1205291005291036, -2.7116842105263173, 0.7753410504678963, 0.9627234753550521, -1.1240000000000017, -3.5674999999999986, 2.0034767186165006, -1.9495488721804528, -0.7457499999999977, 0.6180402010050267, 1.5726340606303202, -0.7106265664160415]\n",
      "14\n",
      "[-3.365000000000003, 2.435000000000003, -1.3959999999999975, -0.521666666666665, 0.6011897926634806, 0.9749999999999992, -2.235000000000002, 1.1920000000000013, -0.2540000000000031, -0.7050000000000041, 1.9800000000000009, 1.760000000000001, -2.4775000000000027, -7.506666666666665, 0.0, -3.7266666666666697, 0.1925000000000031, 1.5261896986789394, 0.0, 1.5851851851851853]\n",
      "1\n",
      "Valori non solo prima posizione:\n",
      "[2 3 2 1 1]\n",
      "[18, 132, 40, 5, 6, 9, 61, 428, 27, 5, 278, 63, 5, 4, 6525, 7, 40, 199, 2141, 7]\n",
      "[0.1363742690058453, 0.2079995443153343, 0.04049999999999791, -1.0633333333333326, 0.08785714285714279, -1.6325730994152048, -0.022459016393445407, 1.01137727496311, -2.1205291005291036, -2.7116842105263173, 0.7753410504678963, 0.9627234753550521, -1.1240000000000017, -3.5674999999999986, 2.0034767186165006, -1.9495488721804528, -0.7457499999999977, 0.6180402010050267, 1.5726340606303202, -0.7106265664160415]\n",
      "Valori solo prima posizione:\n",
      "[3 3 4 2 3]\n",
      "[4, 4, 5, 6, 3135, 6, 4, 5, 5, 4, 4, 5, 4, 3, 4, 3, 4, 6737, 4, 54]\n",
      "[-3.365000000000003, 2.435000000000003, -1.3959999999999975, -0.521666666666665, 0.6011897926634806, 0.9749999999999992, -2.235000000000002, 1.1920000000000013, -0.2540000000000031, -0.7050000000000041, 1.9800000000000009, 1.760000000000001, -2.4775000000000027, -7.506666666666665, 0.0, -3.7266666666666697, 0.1925000000000031, 1.5261896986789394, 0.0, 1.5851851851851853]\n"
     ]
    }
   ],
   "metadata": {}
  },
  {
   "cell_type": "code",
   "execution_count": 47,
   "source": [
    "print(\"THE BEST ARM FOR EXPERIMENT TOTAL IS:\",\n",
    "      arms[best_arm_index], \"INDEX\", best_arm_index)\n",
    "print(\"THE BEST ARM FOR EXPERIMENT ONLY FIRST IS:\",\n",
    "      arms[best_arm_index2], \"INDEX\", best_arm_index2)\n",
    "\n",
    "array = [i+1 for i in range(0, 20)]\n",
    "\n",
    "\n",
    "plt.figure(1)\n",
    "plt.errorbar(array, expected_values, yerr=(1/ts_learner.tau0), fmt='o')\n",
    "plt.figure(0)\n",
    "plt.errorbar(array, expected_values2, yerr=(1/ts_learner2.tau0), fmt='o')\n",
    "\n",
    "plt.show()\n"
   ],
   "outputs": [
    {
     "output_type": "stream",
     "name": "stdout",
     "text": [
      "THE BEST ARM FOR EXPERIMENT TOTAL IS: [2 3 2 1 1] INDEX 14\n",
      "THE BEST ARM FOR EXPERIMENT ONLY FIRST IS: [3 3 4 2 3] INDEX 1\n"
     ]
    },
    {
     "output_type": "display_data",
     "data": {
      "image/png": "[encoded data removed]",
      "text/plain": [
       "<Figure size 432x288 with 1 Axes>"
      ]
     },
     "metadata": {
      "needs_background": "light"
     }
    },
    {
     "output_type": "display_data",
     "data": {
      "image/png": "[encoded data removed]",
      "text/plain": [
       "<Figure size 432x288 with 1 Axes>"
      ]
     },
     "metadata": {
      "needs_background": "light"
     }
    }
   ],
   "metadata": {}
  },
  {
   "cell_type": "code",
   "execution_count": 48,
   "source": [
    "#Second test\n",
    "n\n",
    "ts_learner = GTS_SW_Learner(20, arms, variance=40, size_SW=sw_size, ad_id=1)\n",
    "ts_learner2 = GTS_SW_Learner(20, arms, variance=40, size_SW=sw_size, ad_id=1)\n",
    "\n",
    "for j in range(0, 1):\n",
    "    best_Arm = []\n",
    "    print(\"This is TS number \" + str(j))\n",
    "\n",
    "    best_arm, best_arm_index, number_of_pulls, expected_values, thing_to_plot, clairvoyants, clair_ex = test_sw(\n",
    "        ts_learner, arms, adversary_bids, only_first, active_by_influence_reward, n_experiments, lambdas, social_network, sw_size)\n",
    "    best_arm2, best_arm_index2, number_of_pulls2, expected_values2, thing_to_plot2, clairvoyants2, clair_ex2 = test_sw(\n",
    "        ts_learner2, arms, adversary_bids, not only_first, active_by_influence_reward, n_experiments, lambdas, social_network, sw_size)\n",
    "\n",
    "    print(\"Valori non solo prima posizione:\")\n",
    "    print(best_arm)\n",
    "    print(number_of_pulls)\n",
    "    print(expected_values[best_arm_index])\n",
    "\n",
    "    print(\"Valori solo prima posizione:\")\n",
    "    print(best_arm2)\n",
    "    print(number_of_pulls2)\n",
    "    print(expected_values2[best_arm_index2])\n"
   ],
   "outputs": [
    {
     "output_type": "stream",
     "name": "stdout",
     "text": [
      "This is TS number 0\n",
      "[-0.590211670480549, -1.8807171775592846, -4.444000000000005, -0.707542188805347, 1.380647805955565, -2.6282236842105258, 0.2133953488372085, 0.4005436430582636, -2.6728571428571453, 0.39188201687013297, 1.0596396612336216, 0.6177441786283908, -0.18100000000000174, -4.28375, 1.7238086470087823, 0.1078144513826929, -2.0671428571428527, -0.0016568047337262408, 0.953327597486363, -5.786959064327486]\n",
      "14\n"
     ]
    },
    {
     "output_type": "stream",
     "name": "stderr",
     "text": [
      "/Users/matteomainardi/Library/Mobile Documents/com~apple~CloudDocs/github/DirezioneInvestigativaAntimafia-DIA-/Advertising/learners/GTS_SW_Learner.py:47: RuntimeWarning: overflow encountered in double_scalars\n",
      "  self.u0[pulled_arm] = (self.tau0[pulled_arm]*self.u0[pulled_arm] +\n",
      "/Library/Frameworks/Python.framework/Versions/3.9/lib/python3.9/site-packages/numpy/core/fromnumeric.py:87: RuntimeWarning: overflow encountered in reduce\n",
      "  return ufunc.reduce(obj, axis, dtype, out, **passkwargs)\n",
      "/Users/matteomainardi/Library/Mobile Documents/com~apple~CloudDocs/github/DirezioneInvestigativaAntimafia-DIA-/Advertising/learners/GTS_SW_Learner.py:47: RuntimeWarning: invalid value encountered in double_scalars\n",
      "  self.u0[pulled_arm] = (self.tau0[pulled_arm]*self.u0[pulled_arm] +\n"
     ]
    },
    {
     "output_type": "stream",
     "name": "stdout",
     "text": [
      "[-0.12250000000000505, 2.8866666666666685, 3.087999999999997, 2.4400000000000026, -1.1400000000000008, 2.832499999999999, -0.8025000000000033, 1.7550000000000028, 1.0433333333333301, -1.9575000000000005, -0.06666666666666761, 1.0499999999999994, -0.36250000000000426, -6.15333333333333, 0.0, -0.44333333333333336, 0.4675000000000018, -2.27333333333333, 0.0, -0.33769432138542066]\n",
      "2\n",
      "Valori non solo prima posizione:\n",
      "[2 3 2 1 1]\n",
      "[92, 13, 5, 60, 1121, 8, 215, 243, 11, 465, 596, 275, 10, 8, 5431, 177, 7, 169, 1088, 6]\n"
     ]
    },
    {
     "output_type": "error",
     "ename": "TypeError",
     "evalue": "only integer scalar arrays can be converted to a scalar index",
     "traceback": [
      "\u001b[0;31m---------------------------------------------------------------------------\u001b[0m",
      "\u001b[0;31mTypeError\u001b[0m                                 Traceback (most recent call last)",
      "\u001b[0;32m<ipython-input-48-98f6a49139a9>\u001b[0m in \u001b[0;36m<module>\u001b[0;34m\u001b[0m\n\u001b[1;32m     15\u001b[0m     \u001b[0mprint\u001b[0m\u001b[0;34m(\u001b[0m\u001b[0mbest_arm\u001b[0m\u001b[0;34m)\u001b[0m\u001b[0;34m\u001b[0m\u001b[0;34m\u001b[0m\u001b[0m\n\u001b[1;32m     16\u001b[0m     \u001b[0mprint\u001b[0m\u001b[0;34m(\u001b[0m\u001b[0mnumber_of_pulls\u001b[0m\u001b[0;34m)\u001b[0m\u001b[0;34m\u001b[0m\u001b[0;34m\u001b[0m\u001b[0m\n\u001b[0;32m---> 17\u001b[0;31m     \u001b[0mprint\u001b[0m\u001b[0;34m(\u001b[0m\u001b[0mexpected_values\u001b[0m\u001b[0;34m[\u001b[0m\u001b[0mbest_arm\u001b[0m\u001b[0;34m]\u001b[0m\u001b[0;34m)\u001b[0m\u001b[0;34m\u001b[0m\u001b[0;34m\u001b[0m\u001b[0m\n\u001b[0m\u001b[1;32m     18\u001b[0m \u001b[0;34m\u001b[0m\u001b[0m\n\u001b[1;32m     19\u001b[0m     \u001b[0mprint\u001b[0m\u001b[0;34m(\u001b[0m\u001b[0;34m\"Valori solo prima posizione:\"\u001b[0m\u001b[0;34m)\u001b[0m\u001b[0;34m\u001b[0m\u001b[0;34m\u001b[0m\u001b[0m\n",
      "\u001b[0;31mTypeError\u001b[0m: only integer scalar arrays can be converted to a scalar index"
     ]
    }
   ],
   "metadata": {}
  },
  {
   "cell_type": "code",
   "execution_count": 49,
   "source": [
    "print(\"THE BEST ARM FOR EXPERIMENT TOTAL IS:\",\n",
    "      arms[best_arm_index], \"INDEX\", best_arm_index)\n",
    "print(\"THE BEST ARM FOR EXPERIMENT ONLY FIRST IS:\",\n",
    "      arms[best_arm_index2], \"INDEX\", best_arm_index2, \"expected\")\n",
    "\n",
    "array = [i+1 for i in range(0, 20)]\n",
    "\n",
    "\n",
    "plt.figure(1)\n",
    "plt.errorbar(array, expected_values, yerr=(1/ts_learner.tau0), fmt='o')\n",
    "plt.figure(0)\n",
    "plt.errorbar(array, expected_values2, yerr=(1/ts_learner2.tau0), fmt='o')\n",
    "\n",
    "plt.show()\n"
   ],
   "outputs": [
    {
     "output_type": "stream",
     "name": "stdout",
     "text": [
      "THE BEST ARM FOR EXPERIMENT TOTAL IS: [2 3 2 1 1] INDEX 14\n",
      "THE BEST ARM FOR EXPERIMENT ONLY FIRST IS: [1 4 3 2 0] INDEX 2\n"
     ]
    },
    {
     "output_type": "display_data",
     "data": {
      "image/png": "[encoded data removed]",
      "text/plain": [
       "<Figure size 432x288 with 1 Axes>"
      ]
     },
     "metadata": {
      "needs_background": "light"
     }
    },
    {
     "output_type": "display_data",
     "data": {
      "image/png": "[encoded data removed]",
      "text/plain": [
       "<Figure size 432x288 with 1 Axes>"
      ]
     },
     "metadata": {
      "needs_background": "light"
     }
    }
   ],
   "metadata": {}
  },
  {
   "cell_type": "code",
   "execution_count": null,
   "source": [
    "print(\"Here are reward and regret for the case without ad qualities, with only ads in first position\")\n",
    "best_values = []\n",
    "j = 0\n",
    "k = 0\n",
    "for i in range(10000):\n",
    "    k += 1\n",
    "    best_values.append(clair_ex[j])\n",
    "    if k == sw_size:\n",
    "        k = 0\n",
    "        j += 1\n",
    "\n",
    "regret_no_qualities = [\n",
    "    best_values[x] - thing_to_plot[x] for x in range(len(thing_to_plot))]\n",
    "plt.figure(0)\n",
    "plt.plot(thing_to_plot, 'y')\n",
    "plt.plot(best_values, 'r')\n",
    "plt.figure(1)\n",
    "\n",
    "\n",
    "plt.plot(regret_no_qualities, 'g')\n"
   ],
   "outputs": [
    {
     "output_type": "stream",
     "name": "stdout",
     "text": [
      "Here are reward and regret for the case without ad qualities, with only ads in first position\n",
      "14\n"
     ]
    },
    {
     "output_type": "execute_result",
     "data": {
      "text/plain": [
       "[<matplotlib.lines.Line2D at 0x1147366a0>]"
      ]
     },
     "metadata": {},
     "execution_count": 41
    },
    {
     "output_type": "display_data",
     "data": {
      "image/png": "[encoded data removed]",
      "text/plain": [
       "<Figure size 432x288 with 1 Axes>"
      ]
     },
     "metadata": {
      "needs_background": "light"
     }
    },
    {
     "output_type": "display_data",
     "data": {
      "image/png": "[encoded data removed]",
      "text/plain": [
       "<Figure size 432x288 with 1 Axes>"
      ]
     },
     "metadata": {
      "needs_background": "light"
     }
    }
   ],
   "metadata": {}
  },
  {
   "cell_type": "code",
   "execution_count": 55,
   "source": [
    "print(\"Here are reward and regret for the case without ad qualities, with only ads in first position\")\n",
    "best_values2 = []\n",
    "j = 0\n",
    "k = 0\n",
    "for i in range(10000):\n",
    "    k += 1\n",
    "    best_values2.append(clair_ex2[j])\n",
    "    if k == sw_size:\n",
    "        k = 0\n",
    "        j += 1\n",
    "\n",
    "regret_no_qualities2 = [\n",
    "    best_values2[x] - thing_to_plot2[x] for x in range(len(thing_to_plot2))]\n",
    "plt.figure(0)\n",
    "plt.plot(thing_to_plot2, 'y')\n",
    "plt.plot(best_values2, 'r')\n",
    "plt.figure(1)\n",
    "\n",
    "\n",
    "plt.plot(regret_no_qualities2, 'g')\n"
   ],
   "outputs": [
    {
     "output_type": "stream",
     "name": "stdout",
     "text": [
      "Here are reward and regret for the case without ad qualities, with only ads in first position\n"
     ]
    },
    {
     "output_type": "execute_result",
     "data": {
      "text/plain": [
       "[<matplotlib.lines.Line2D at 0x1142378b0>]"
      ]
     },
     "metadata": {},
     "execution_count": 55
    },
    {
     "output_type": "display_data",
     "data": {
      "image/png": "[encoded data removed]",
      "text/plain": [
       "<Figure size 432x288 with 1 Axes>"
      ]
     },
     "metadata": {
      "needs_background": "light"
     }
    },
    {
     "output_type": "display_data",
     "data": {
      "image/png": "[encoded data removed]",
      "text/plain": [
       "<Figure size 432x288 with 1 Axes>"
      ]
     },
     "metadata": {
      "needs_background": "light"
     }
    }
   ],
   "metadata": {}
  }
 ],
 "metadata": {
  "orig_nbformat": 4,
  "language_info": {
   "name": "python",
   "version": "3.9.5",
   "mimetype": "text/x-python",
   "codemirror_mode": {
    "name": "ipython",
    "version": 3
   },
   "pygments_lexer": "ipython3",
   "nbconvert_exporter": "python",
   "file_extension": ".py"
  },
  "kernelspec": {
   "name": "python3",
   "display_name": "Python 3.9.5 64-bit"
  },
  "interpreter": {
   "hash": "aee8b7b246df8f9039afb4144a1f6fd8d2ca17a180786b69acc140d282b71a49"
  }
 },
 "nbformat": 4,
 "nbformat_minor": 2
}