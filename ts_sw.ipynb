{
 "cells": [
  {
   "cell_type": "code",
   "execution_count": 1,
   "source": [
    "import matplotlib.pyplot as plt\n",
    "import numpy as np\n",
    "from SocialNetwork.social_network_environment import *\n",
    "from SocialNetwork.cascade import *\n",
    "from Advertising.enviroment.bid import *\n",
    "from Advertising.enviroment.VCG import *\n",
    "from Advertising.learners.Greedy_algorithm import *\n",
    "from Advertising.learners.GTS_Learner import *\n",
    "from Advertising.learners.GTS_SW_Learner import *\n",
    "from Advertising.learners.TS_no_qualities import *\n",
    "from Advertising.learners.TS_no_anything import *\n",
    "\n",
    "from tqdm.autonotebook import tqdm\n",
    "from Advertising.learners.TS_sliding_window import *\n",
    "import itertools\n",
    "seed = 6789\n",
    "random.seed(seed)\n",
    "only_first = False\n",
    "\n",
    "\n",
    "lambdas = [0.5, 0.42, 0.38, 0.30, 0.2, 0.05]\n",
    "social_network = social_network_environment()\n",
    "social_network.init_from_json(\n",
    "    json_path_network='Config/network.json', json_path_features='Config/features.json')\n",
    "\n",
    "\n",
    "\n",
    "\n",
    "with open(\"Config/estimated_influence.json\", \"r\"):\n",
    "    data = json.load(open(\"Config/estimated_influence.json\"))\n",
    "\n",
    "active_by_influence_reward = np.array(data.get(\"estimated_influence\"))\n"
   ],
   "outputs": [],
   "metadata": {}
  },
  {
   "cell_type": "code",
   "execution_count": 2,
   "source": [
    "def create_adv_bids():\n",
    "\n",
    "    adversary_bids = []\n",
    "    for _ in range(0, 10): \n",
    "        adversary_i_bids = []\n",
    "        for _ in range(0, 5):\n",
    "            adversary_i_bids.append(random.randint(0, 4))\n",
    "        adversary_bids.append(adversary_i_bids)\n",
    "    return adversary_bids"
   ],
   "outputs": [],
   "metadata": {}
  },
  {
   "cell_type": "code",
   "execution_count": 3,
   "source": [
    "variance = 10\n",
    "expected_values = []\n",
    "expected_values2 = []\n",
    "sw_size = 2000\n",
    "interval = 5000\n",
    "n_experiments=15000\n",
    "n_change = (int)(n_experiments/interval)\n",
    "list_of_bids = []\n",
    "\n",
    "\n",
    "arms = arms_creation(seed=30291, number_of_arms=20)\n",
    "\n",
    "for l in range(1, n_change):\n",
    "    list_of_bids.append(create_adv_bids())\n",
    "\n",
    "## we simulate a ts for the clairvoyant, as much as the change in adversary biddings\n",
    "ts_l = [] \n",
    "best_arm_indexes = []\n",
    "expected_values_list = []\n",
    "for r in range(0, n_change-1):\n",
    "    ts_l.append(GTS_Learner(20, arms, variance=variance,ad_id=1))\n",
    "    _, best_arm_index, _, expected_values, _ = ts(ts_l[r], arms, list_of_bids[r], only_first, n_experiments, lambdas, social_network)\n",
    "    best_arm_indexes.append(best_arm_index)\n",
    "    expected_values_list.append(expected_values)\n",
    "\n",
    "\n",
    "\n",
    "\n",
    "\n",
    "\n",
    "ts_learner = GTS_SW_Learner(20, arms, variance=variance, size_SW=sw_size, ad_id=1)\n",
    "#ts_learner2 = GTS_SW_Learner(20, arms, variance=variance, size_SW=sw_size, ad_id=1)\n",
    "\n",
    "\n",
    "for j in range(0, 1):\n",
    "    print(\"This is TS number \" + str(j))\n",
    "\n",
    "    best_arm, best_arm_index, number_of_pulls, expected_values, thing_to_plot= test_sw(ts_learner, arms, list_of_bids, only_first, n_experiments, lambdas, social_network, sw_size)\n",
    "    # best_arm2, best_arm_index2, number_of_pulls2, expected_values2, thing_to_plot2= test_sw(\n",
    "    #     ts_learner2, arms, list_of_bids, not only_first, n_experiments, lambdas, social_network, sw_size)\n"
   ],
   "outputs": [
    {
     "output_type": "error",
     "ename": "TypeError",
     "evalue": "ts() missing 1 required positional argument: 'social_network'",
     "traceback": [
      "\u001b[0;31m---------------------------------------------------------------------------\u001b[0m",
      "\u001b[0;31mTypeError\u001b[0m                                 Traceback (most recent call last)",
      "\u001b[0;32m<ipython-input-3-2c571fdb779e>\u001b[0m in \u001b[0;36m<module>\u001b[0;34m\u001b[0m\n\u001b[1;32m     20\u001b[0m \u001b[0;32mfor\u001b[0m \u001b[0mr\u001b[0m \u001b[0;32min\u001b[0m \u001b[0mrange\u001b[0m\u001b[0;34m(\u001b[0m\u001b[0;36m0\u001b[0m\u001b[0;34m,\u001b[0m \u001b[0mn_change\u001b[0m\u001b[0;34m-\u001b[0m\u001b[0;36m1\u001b[0m\u001b[0;34m)\u001b[0m\u001b[0;34m:\u001b[0m\u001b[0;34m\u001b[0m\u001b[0;34m\u001b[0m\u001b[0m\n\u001b[1;32m     21\u001b[0m     \u001b[0mts_l\u001b[0m\u001b[0;34m.\u001b[0m\u001b[0mappend\u001b[0m\u001b[0;34m(\u001b[0m\u001b[0mGTS_Learner\u001b[0m\u001b[0;34m(\u001b[0m\u001b[0;36m20\u001b[0m\u001b[0;34m,\u001b[0m \u001b[0marms\u001b[0m\u001b[0;34m,\u001b[0m \u001b[0mvariance\u001b[0m\u001b[0;34m=\u001b[0m\u001b[0mvariance\u001b[0m\u001b[0;34m,\u001b[0m\u001b[0mad_id\u001b[0m\u001b[0;34m=\u001b[0m\u001b[0;36m1\u001b[0m\u001b[0;34m)\u001b[0m\u001b[0;34m)\u001b[0m\u001b[0;34m\u001b[0m\u001b[0;34m\u001b[0m\u001b[0m\n\u001b[0;32m---> 22\u001b[0;31m     \u001b[0m_\u001b[0m\u001b[0;34m,\u001b[0m \u001b[0mbest_arm_index\u001b[0m\u001b[0;34m,\u001b[0m \u001b[0m_\u001b[0m\u001b[0;34m,\u001b[0m \u001b[0mexpected_values\u001b[0m\u001b[0;34m,\u001b[0m \u001b[0m_\u001b[0m \u001b[0;34m=\u001b[0m \u001b[0mts\u001b[0m\u001b[0;34m(\u001b[0m\u001b[0mts_l\u001b[0m\u001b[0;34m[\u001b[0m\u001b[0mr\u001b[0m\u001b[0;34m]\u001b[0m\u001b[0;34m,\u001b[0m \u001b[0marms\u001b[0m\u001b[0;34m,\u001b[0m \u001b[0mlist_of_bids\u001b[0m\u001b[0;34m[\u001b[0m\u001b[0mr\u001b[0m\u001b[0;34m]\u001b[0m\u001b[0;34m,\u001b[0m \u001b[0monly_first\u001b[0m\u001b[0;34m,\u001b[0m \u001b[0mn_experiments\u001b[0m\u001b[0;34m,\u001b[0m \u001b[0mlambdas\u001b[0m\u001b[0;34m,\u001b[0m \u001b[0msocial_network\u001b[0m\u001b[0;34m)\u001b[0m\u001b[0;34m\u001b[0m\u001b[0;34m\u001b[0m\u001b[0m\n\u001b[0m\u001b[1;32m     23\u001b[0m     \u001b[0mbest_arm_indexes\u001b[0m\u001b[0;34m.\u001b[0m\u001b[0mappend\u001b[0m\u001b[0;34m(\u001b[0m\u001b[0mbest_arm_index\u001b[0m\u001b[0;34m)\u001b[0m\u001b[0;34m\u001b[0m\u001b[0;34m\u001b[0m\u001b[0m\n\u001b[1;32m     24\u001b[0m     \u001b[0mexpected_values_list\u001b[0m\u001b[0;34m.\u001b[0m\u001b[0mappend\u001b[0m\u001b[0;34m(\u001b[0m\u001b[0mexpected_values\u001b[0m\u001b[0;34m)\u001b[0m\u001b[0;34m\u001b[0m\u001b[0;34m\u001b[0m\u001b[0m\n",
      "\u001b[0;31mTypeError\u001b[0m: ts() missing 1 required positional argument: 'social_network'"
     ]
    }
   ],
   "metadata": {}
  },
  {
   "cell_type": "code",
   "execution_count": null,
   "source": [
    "\n",
    "print(\"THE BEST ARM FOR EXPERIMENT ONLY FIRST IS:\",\n",
    "      arms[best_arm_index], \"INDEX\", best_arm_index)\n",
    "# print(\"THE BEST ARM FOR EXPERIMENT total IS:\",\n",
    "#       arms[best_arm_index2], \"INDEX\", best_arm_index2)\n",
    "\n",
    "array = [i+1 for i in range(0, 20)]\n",
    "\n",
    "\n",
    "plt.figure(1)\n",
    "plt.errorbar(array, expected_values, yerr=(1/ts_learner.tau0), fmt='o')\n",
    "# plt.figure(0)\n",
    "# plt.errorbar(array, expected_values2, yerr=(1/ts_learner2.tau0), fmt='o')\n",
    "\n",
    "plt.show()\n",
    "\n",
    "\n"
   ],
   "outputs": [
    {
     "output_type": "stream",
     "name": "stdout",
     "text": [
      "THE BEST ARM FOR EXPERIMENT TOTAL IS: [3 1 2 2 3] INDEX 18\n",
      "THE BEST ARM FOR EXPERIMENT ONLY FIRST IS: [3 4 3 3 0] INDEX 19\n"
     ]
    },
    {
     "output_type": "display_data",
     "data": {
      "image/png": "[encoded data removed]",
      "text/plain": [
       "<Figure size 432x288 with 1 Axes>"
      ]
     },
     "metadata": {
      "needs_background": "light"
     }
    },
    {
     "output_type": "display_data",
     "data": {
      "image/png": "[encoded data removed]",
      "text/plain": [
       "<Figure size 432x288 with 1 Axes>"
      ]
     },
     "metadata": {
      "needs_background": "light"
     }
    },
    {
     "output_type": "stream",
     "name": "stdout",
     "text": [
      "[[1 1 2 0 4]\n",
      " [3 1 2 2 3]]\n",
      "[1.8722085157182633, 1.7822165542615678]\n",
      "[[3 3 4 2 3]\n",
      " [3 4 3 3 0]]\n",
      "[2.846000000000002, 3.849999999999998]\n"
     ]
    }
   ],
   "metadata": {}
  },
  {
   "cell_type": "code",
   "execution_count": null,
   "source": [
    "# best_values = []\n",
    "# j = 0\n",
    "# k = 0\n",
    "# for i in range(n_experiments):\n",
    "#     k += 1\n",
    "#     best_values.append(clair_ex[j])\n",
    "#     if k == sw_size:\n",
    "#         k = 0\n",
    "#         j += 1\n",
    "\n",
    "# regret_no_qualities = [\n",
    "#     best_values[x] - thing_to_plot[x] for x in range(len(thing_to_plot))]\n",
    "\n",
    "## Here i calculate the clairvoyant running the algorithm in a static enviroment as much as the times i vary the adversarial bids\n",
    "\n",
    "\n",
    "\n",
    "\n",
    "plt.figure(0)\n",
    "plt.plot(thing_to_plot, 'y')\n",
    "plt.ylabel(\"Reward\")\n",
    "plt.xlabel(\"Rounds\")\n",
    "plt.plot(best_values, 'r')\n",
    "plt.legend([\"Clairvoyant\", \"TS\"])\n",
    "\n",
    "plt.figure(1)\n",
    "plt.ylabel(\"Regret\")\n",
    "plt.xlabel(\"Rounds\")\n",
    "plt.plot(regret_no_qualities, 'g')\n"
   ],
   "outputs": [
    {
     "output_type": "error",
     "ename": "IndexError",
     "evalue": "list index out of range",
     "traceback": [
      "\u001b[0;31m---------------------------------------------------------------------------\u001b[0m",
      "\u001b[0;31mIndexError\u001b[0m                                Traceback (most recent call last)",
      "\u001b[0;32m<ipython-input-4-184b58cef81c>\u001b[0m in \u001b[0;36m<module>\u001b[0;34m\u001b[0m\n\u001b[1;32m      4\u001b[0m \u001b[0;32mfor\u001b[0m \u001b[0mi\u001b[0m \u001b[0;32min\u001b[0m \u001b[0mrange\u001b[0m\u001b[0;34m(\u001b[0m\u001b[0mn_experiments\u001b[0m\u001b[0;34m)\u001b[0m\u001b[0;34m:\u001b[0m\u001b[0;34m\u001b[0m\u001b[0;34m\u001b[0m\u001b[0m\n\u001b[1;32m      5\u001b[0m     \u001b[0mk\u001b[0m \u001b[0;34m+=\u001b[0m \u001b[0;36m1\u001b[0m\u001b[0;34m\u001b[0m\u001b[0;34m\u001b[0m\u001b[0m\n\u001b[0;32m----> 6\u001b[0;31m     \u001b[0mbest_values\u001b[0m\u001b[0;34m.\u001b[0m\u001b[0mappend\u001b[0m\u001b[0;34m(\u001b[0m\u001b[0mclair_ex\u001b[0m\u001b[0;34m[\u001b[0m\u001b[0mj\u001b[0m\u001b[0;34m]\u001b[0m\u001b[0;34m)\u001b[0m\u001b[0;34m\u001b[0m\u001b[0;34m\u001b[0m\u001b[0m\n\u001b[0m\u001b[1;32m      7\u001b[0m     \u001b[0;32mif\u001b[0m \u001b[0mk\u001b[0m \u001b[0;34m==\u001b[0m \u001b[0msw_size\u001b[0m\u001b[0;34m:\u001b[0m\u001b[0;34m\u001b[0m\u001b[0;34m\u001b[0m\u001b[0m\n\u001b[1;32m      8\u001b[0m         \u001b[0mk\u001b[0m \u001b[0;34m=\u001b[0m \u001b[0;36m0\u001b[0m\u001b[0;34m\u001b[0m\u001b[0;34m\u001b[0m\u001b[0m\n",
      "\u001b[0;31mIndexError\u001b[0m: list index out of range"
     ]
    }
   ],
   "metadata": {}
  },
  {
   "cell_type": "code",
   "execution_count": null,
   "source": [
    "print(\"Here are reward and regret for the case without ad qualities, with only ads in first position\")\n",
    "best_values2 = []\n",
    "j = 0\n",
    "k = 0\n",
    "for i in range(n_experiments):\n",
    "    k += 1\n",
    "    best_values2.append(clair_ex2[j])\n",
    "    if k == sw_size:\n",
    "        k = 0\n",
    "        j += 1\n",
    "\n",
    "regret_no_qualities2 = [\n",
    "    best_values2[x] - thing_to_plot2[x] for x in range(len(thing_to_plot2))]\n",
    "plt.figure(0)\n",
    "plt.plot(best_values2, 'r')\n",
    "plt.plot(thing_to_plot2, 'y')\n",
    "plt.ylabel(\"Reward\")\n",
    "plt.xlabel(\"Rounds\")\n",
    "plt.legend([\"Clairvoyant\", \"TS\"])\n",
    "\n",
    "plt.figure(1)\n",
    "plt.ylabel(\"Regret\")\n",
    "plt.xlabel(\"Rounds\")\n",
    "plt.plot(regret_no_qualities2, 'g')\n"
   ],
   "outputs": [
    {
     "output_type": "stream",
     "name": "stdout",
     "text": [
      "Here are reward and regret for the case without ad qualities, with only ads in first position\n"
     ]
    },
    {
     "output_type": "error",
     "ename": "IndexError",
     "evalue": "list index out of range",
     "traceback": [
      "\u001b[0;31m---------------------------------------------------------------------------\u001b[0m",
      "\u001b[0;31mIndexError\u001b[0m                                Traceback (most recent call last)",
      "\u001b[0;32m<ipython-input-5-d2d781f59e38>\u001b[0m in \u001b[0;36m<module>\u001b[0;34m\u001b[0m\n\u001b[1;32m      5\u001b[0m \u001b[0;32mfor\u001b[0m \u001b[0mi\u001b[0m \u001b[0;32min\u001b[0m \u001b[0mrange\u001b[0m\u001b[0;34m(\u001b[0m\u001b[0mn_experiments\u001b[0m\u001b[0;34m)\u001b[0m\u001b[0;34m:\u001b[0m\u001b[0;34m\u001b[0m\u001b[0;34m\u001b[0m\u001b[0m\n\u001b[1;32m      6\u001b[0m     \u001b[0mk\u001b[0m \u001b[0;34m+=\u001b[0m \u001b[0;36m1\u001b[0m\u001b[0;34m\u001b[0m\u001b[0;34m\u001b[0m\u001b[0m\n\u001b[0;32m----> 7\u001b[0;31m     \u001b[0mbest_values2\u001b[0m\u001b[0;34m.\u001b[0m\u001b[0mappend\u001b[0m\u001b[0;34m(\u001b[0m\u001b[0mclair_ex2\u001b[0m\u001b[0;34m[\u001b[0m\u001b[0mj\u001b[0m\u001b[0;34m]\u001b[0m\u001b[0;34m)\u001b[0m\u001b[0;34m\u001b[0m\u001b[0;34m\u001b[0m\u001b[0m\n\u001b[0m\u001b[1;32m      8\u001b[0m     \u001b[0;32mif\u001b[0m \u001b[0mk\u001b[0m \u001b[0;34m==\u001b[0m \u001b[0msw_size\u001b[0m\u001b[0;34m:\u001b[0m\u001b[0;34m\u001b[0m\u001b[0;34m\u001b[0m\u001b[0m\n\u001b[1;32m      9\u001b[0m         \u001b[0mk\u001b[0m \u001b[0;34m=\u001b[0m \u001b[0;36m0\u001b[0m\u001b[0;34m\u001b[0m\u001b[0;34m\u001b[0m\u001b[0m\n",
      "\u001b[0;31mIndexError\u001b[0m: list index out of range"
     ]
    }
   ],
   "metadata": {}
  }
 ],
 "metadata": {
  "orig_nbformat": 4,
  "language_info": {
   "name": "python",
   "version": "3.8.8",
   "mimetype": "text/x-python",
   "codemirror_mode": {
    "name": "ipython",
    "version": 3
   },
   "pygments_lexer": "ipython3",
   "nbconvert_exporter": "python",
   "file_extension": ".py"
  },
  "kernelspec": {
   "name": "python3",
   "display_name": "Python 3.8.8 64-bit ('projects_env': conda)"
  },
  "interpreter": {
   "hash": "7b65a0b764bf49cc7947e468da38261005013c03fd7f348ce5375f68cfcbfbf1"
  }
 },
 "nbformat": 4,
 "nbformat_minor": 2
}