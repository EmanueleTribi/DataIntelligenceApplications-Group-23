{
 "cells": [
  {
   "cell_type": "code",
   "execution_count": 1,
   "source": [
    "import matplotlib.pyplot as plt\n",
    "import numpy as np\n",
    "from SocialNetwork.social_network_environment import *\n",
    "from SocialNetwork.cascade import *\n",
    "from Advertising.enviroment.bid import *\n",
    "from Advertising.enviroment.VCG import *\n",
    "from Advertising.learners.Greedy_algorithm import *\n",
    "from Advertising.learners.GTS_Learner import *\n",
    "from Advertising.learners.GTS_SW_Learner import *\n",
    "from Advertising.learners.TS_no_qualities import *\n",
    "from Advertising.learners.TS_no_anything import *\n",
    "\n",
    "from tqdm.autonotebook import tqdm\n",
    "from Advertising.learners.TS_sliding_window import *\n",
    "import itertools\n",
    "seed = 6789\n",
    "random.seed(seed)\n",
    "only_first = False\n",
    "\n",
    "\n",
    "lambdas = [0.5, 0.42, 0.38, 0.30, 0.2, 0.05]\n",
    "social_network = social_network_environment()\n",
    "social_network.init_from_json(\n",
    "    json_path_network='Config/network.json', json_path_features='Config/features.json')\n",
    "\n",
    "\n",
    "\n",
    "\n",
    "with open(\"Config/estimated_influence.json\", \"r\"):\n",
    "    data = json.load(open(\"Config/estimated_influence.json\"))\n",
    "\n",
    "active_by_influence_reward = np.array(data.get(\"estimated_influence\"))\n"
   ],
   "outputs": [],
   "metadata": {}
  },
  {
   "cell_type": "code",
   "execution_count": 2,
   "source": [
    "def create_adv_bids():\n",
    "\n",
    "    adversary_bids = []\n",
    "    for _ in range(0, 10): \n",
    "        adversary_i_bids = []\n",
    "        for _ in range(0, 5):\n",
    "            adversary_i_bids.append(random.randint(0, 4))\n",
    "        adversary_bids.append(adversary_i_bids)\n",
    "    return adversary_bids"
   ],
   "outputs": [],
   "metadata": {}
  },
  {
   "cell_type": "code",
   "execution_count": 3,
   "source": [
    "variance = 10\n",
    "expected_values = []\n",
    "sw_size = 2000\n",
    "interval = 5000\n",
    "n_experiments=15000\n",
    "n_change = (int)(n_experiments/interval)\n",
    "list_of_bids = []\n",
    "\n",
    "\n",
    "arms = arms_creation(seed=30291, number_of_arms=20)\n",
    "\n",
    "for l in range(0, n_change):\n",
    "    list_of_bids.append(create_adv_bids())\n",
    "\n",
    "## we simulate a ts for the clairvoyant, as much as the change in adversary biddings\n",
    "ts_only = [] \n",
    "best_arm_indexes_only = []\n",
    "expected_values_list_only = []\n",
    "for r in range(0, n_change):\n",
    "    ts_only.append(GTS_Learner(20, arms, variance=variance,ad_id=1))\n",
    "    _, best_arm_index, _, expected_values, _ = ts(ts_only[r], arms, list_of_bids[r], only_first, n_experiments, lambdas, social_network)\n",
    "    best_arm_indexes_only.append(best_arm_index)\n",
    "    expected_values_list_only.append(expected_values)\n",
    "\n",
    "\n",
    "ts_all = []\n",
    "best_arm_indexes_all = []\n",
    "expected_values_list_all = []\n",
    "for r in range(0, n_change):\n",
    "    ts_all.append(GTS_Learner(20, arms, variance=variance,ad_id=1))\n",
    "    _, best_arm_index, _, expected_values, _ = ts(ts_all[r], arms, list_of_bids[r], only_first, n_experiments, lambdas, social_network)\n",
    "    best_arm_indexes_all.append(best_arm_index)\n",
    "    expected_values_list_all.append(expected_values)\n",
    "\n",
    "\n",
    "\n",
    "\n"
   ],
   "outputs": [],
   "metadata": {}
  },
  {
   "cell_type": "code",
   "execution_count": 4,
   "source": [
    "ts_learner = GTS_SW_Learner(20, arms, variance=variance, size_SW=sw_size, ad_id=1)\n",
    "ts_learner2 = GTS_SW_Learner(20, arms, variance=variance, size_SW=sw_size, ad_id=1)\n",
    "\n",
    "\n",
    "for j in range(0, 1):\n",
    "    print(\"This is TS number \" + str(j))\n",
    "\n",
    "    best_arm, best_arm_index, number_of_pulls, expected_values, thing_to_plot_only= test_sw(ts_learner, arms, list_of_bids, only_first, n_experiments, lambdas, social_network, interval)\n",
    "    best_arm2, best_arm_index2, number_of_pulls2, expected_values2, thing_to_plot_all= test_sw(ts_learner2, arms, list_of_bids, not only_first, n_experiments, lambdas, social_network, interval)\n"
   ],
   "outputs": [
    {
     "output_type": "stream",
     "name": "stdout",
     "text": [
      "This is TS number 0\n"
     ]
    }
   ],
   "metadata": {}
  },
  {
   "cell_type": "code",
   "execution_count": 5,
   "source": [
    "\n",
    "print(\"THE BEST ARM FOR EXPERIMENT ONLY FIRST IS:\",\n",
    "      arms[best_arm_index], \"INDEX\", best_arm_index)\n",
    "print(\"THE BEST ARM FOR EXPERIMENT total IS:\",\n",
    "      arms[best_arm_index2], \"INDEX\", best_arm_index2)\n",
    "\n",
    "array = [i+1 for i in range(0, 20)]\n",
    "\n",
    "\n",
    "plt.figure(0)\n",
    "plt.errorbar(array, expected_values, yerr=(1/ts_learner.tau0), fmt='o')\n",
    "plt.figure(1)\n",
    "plt.errorbar(array, expected_values2, yerr=(1/ts_learner2.tau0), fmt='o')\n",
    "\n",
    "plt.show()\n",
    "\n",
    "\n"
   ],
   "outputs": [
    {
     "output_type": "stream",
     "name": "stdout",
     "text": [
      "THE BEST ARM FOR EXPERIMENT ONLY FIRST IS: [2 3 2 1 1] INDEX 14\n",
      "THE BEST ARM FOR EXPERIMENT total IS: [0 4 3 3 1] INDEX 9\n"
     ]
    },
    {
     "output_type": "display_data",
     "data": {
      "image/png": "[encoded data removed]",
      "text/plain": [
       "<Figure size 432x288 with 1 Axes>"
      ]
     },
     "metadata": {
      "needs_background": "light"
     }
    },
    {
     "output_type": "display_data",
     "data": {
      "image/png": "[encoded data removed]",
      "text/plain": [
       "<Figure size 432x288 with 1 Axes>"
      ]
     },
     "metadata": {
      "needs_background": "light"
     }
    }
   ],
   "metadata": {}
  },
  {
   "cell_type": "code",
   "execution_count": 13,
   "source": [
    "# best_values = []\n",
    "# j = 0\n",
    "# k = 0\n",
    "# for i in range(n_experiments):\n",
    "#     k += 1\n",
    "#     best_values.append(clair_ex[j])\n",
    "#     if k == sw_size:\n",
    "#         k = 0\n",
    "#         j += 1\n",
    "\n",
    "# regret_no_qualities = [\n",
    "#     best_values[x] - thing_to_plot[x] for x in range(len(thing_to_plot))]\n",
    "\n",
    "## Here i calculate the clairvoyant running the algorithm in a static enviroment as much as the times i vary the adversarial bids\n",
    "clairvoyant_only = []\n",
    "\n",
    "for i,index in enumerate(best_arm_indexes_only):\n",
    "    for j in range(0, interval):\n",
    "        clairvoyant_only.append(expected_values_list_only[i][index])\n",
    "\n",
    "#the following three lines of code are to adjust the lenght of the clairvoyant to the lenght of the expected value array\n",
    "clairvoyant_only.append(expected_values_list_only[2][best_arm_indexes_only[2]])\n",
    "clairvoyant_only.append(expected_values_list_only[2][best_arm_indexes_only[2]])\n",
    "clairvoyant_only.append(expected_values_list_only[2][best_arm_indexes_only[2]])\n",
    "        \n",
    "\n",
    "plt.figure(0)\n",
    "plt.ylabel(\"Reward\")\n",
    "plt.xlabel(\"Rounds\")\n",
    "plt.plot(clairvoyant_only, 'r')\n",
    "plt.plot(thing_to_plot_only, 'y')\n",
    "plt.legend([\"Clairvoyant\", \"TS\" ])\n",
    "\n",
    "print(len(thing_to_plot_only))\n",
    "print(len(clairvoyant_only))\n",
    "regret_only = []\n",
    "for i in range(0, len(thing_to_plot_only)):\n",
    "    regret_only.append(clairvoyant_only[i] - thing_to_plot_only[i])\n",
    "\n",
    "plt.figure(1)\n",
    "plt.ylabel(\"Regret\")\n",
    "plt.xlabel(\"Rounds\")\n",
    "plt.plot(regret_only, 'g')\n"
   ],
   "outputs": [
    {
     "output_type": "stream",
     "name": "stdout",
     "text": [
      "15003\n",
      "15003\n"
     ]
    },
    {
     "output_type": "execute_result",
     "data": {
      "text/plain": [
       "[<matplotlib.lines.Line2D at 0x1211fe100>]"
      ]
     },
     "metadata": {},
     "execution_count": 13
    },
    {
     "output_type": "display_data",
     "data": {
      "image/png": "[encoded data removed]",
      "text/plain": [
       "<Figure size 432x288 with 1 Axes>"
      ]
     },
     "metadata": {
      "needs_background": "light"
     }
    },
    {
     "output_type": "display_data",
     "data": {
      "image/png": "[encoded data removed]",
      "text/plain": [
       "<Figure size 432x288 with 1 Axes>"
      ]
     },
     "metadata": {
      "needs_background": "light"
     }
    }
   ],
   "metadata": {}
  },
  {
   "cell_type": "code",
   "execution_count": 14,
   "source": [
    "clairvoyant_all = []\n",
    "\n",
    "for i,index in enumerate(best_arm_indexes_all):\n",
    "    for j in range(0, interval):\n",
    "        clairvoyant_all.append(expected_values_list_all[i][index])\n",
    "\n",
    "clairvoyant_all.append(expected_values_list_all[2][best_arm_indexes_all[2]])\n",
    "clairvoyant_all.append(expected_values_list_all[2][best_arm_indexes_all[2]])\n",
    "clairvoyant_all.append(expected_values_list_all[2][best_arm_indexes_all[2]])\n",
    "        \n",
    "        \n",
    "\n",
    "plt.figure(0)\n",
    "plt.ylabel(\"Reward\")\n",
    "plt.xlabel(\"Rounds\")\n",
    "plt.plot(clairvoyant_all, 'r')\n",
    "plt.plot(thing_to_plot_all, 'y')\n",
    "plt.legend([\"Clairvoyant\", \"TS\" ])\n",
    "\n",
    "\n",
    "regret_all = []\n",
    "for i in range(0, len(thing_to_plot_all)):\n",
    "    regret_all.append(clairvoyant_all[i] - thing_to_plot_all[i])\n",
    "\n",
    "\n",
    "\n",
    "\n",
    "plt.figure(1)\n",
    "plt.ylabel(\"Regret\")\n",
    "plt.xlabel(\"Rounds\")\n",
    "plt.plot(regret_all, 'g')\n",
    "\n"
   ],
   "outputs": [
    {
     "output_type": "execute_result",
     "data": {
      "text/plain": [
       "[<matplotlib.lines.Line2D at 0x1211dbe80>]"
      ]
     },
     "metadata": {},
     "execution_count": 14
    },
    {
     "output_type": "display_data",
     "data": {
      "image/png": "[encoded data removed]",
      "text/plain": [
       "<Figure size 432x288 with 1 Axes>"
      ]
     },
     "metadata": {
      "needs_background": "light"
     }
    },
    {
     "output_type": "display_data",
     "data": {
      "image/png": "[encoded data removed]",
      "text/plain": [
       "<Figure size 432x288 with 1 Axes>"
      ]
     },
     "metadata": {
      "needs_background": "light"
     }
    }
   ],
   "metadata": {}
  }
 ],
 "metadata": {
  "orig_nbformat": 4,
  "language_info": {
   "name": "python",
   "version": "3.8.8",
   "mimetype": "text/x-python",
   "codemirror_mode": {
    "name": "ipython",
    "version": 3
   },
   "pygments_lexer": "ipython3",
   "nbconvert_exporter": "python",
   "file_extension": ".py"
  },
  "kernelspec": {
   "name": "python3",
   "display_name": "Python 3.8.8 64-bit ('projects_env': conda)"
  },
  "interpreter": {
   "hash": "7b65a0b764bf49cc7947e468da38261005013c03fd7f348ce5375f68cfcbfbf1"
  }
 },
 "nbformat": 4,
 "nbformat_minor": 2
}