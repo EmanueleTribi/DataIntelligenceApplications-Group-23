{
 "metadata": {
  "language_info": {
   "codemirror_mode": {
    "name": "ipython",
    "version": 3
   },
   "file_extension": ".py",
   "mimetype": "text/x-python",
   "name": "python",
   "nbconvert_exporter": "python",
   "pygments_lexer": "ipython3",
   "version": "3.8.3"
  },
  "orig_nbformat": 2,
  "kernelspec": {
   "name": "python383jvsc74a57bd08ea93a4be839af7a424e339c84e5ffad6953d1e8831fc099e1d2e0df932eafc0",
   "display_name": "Python 3.8.3 64-bit ('base': conda)"
  }
 },
 "nbformat": 4,
 "nbformat_minor": 2,
 "cells": [
  {
   "source": [
    "## Monte Carlo Influence Estimation\n",
    "Notebook used for testing the social network enviroment and mainly used for the computation required in point 1 of the project.\n",
    "Current implementation:\n",
    "+ generates a random allocation for the ads of every category, basically does not take into account the bids yet\n",
    "+ estimates the average number of seeds $|S|$ given the allocation\n",
    "+ runs a Monte Carlo Influence Estimation algorithm with an increasing number of repetitions $R$\n",
    "+ computes the error as: $ error = \\sqrt{\\frac{1}{R}\\log (|S|) \\log (\\frac{1}{\\sigma})} \\cdot nodes$\n",
    "with $\\sigma = 0.05$\n",
    "+ plots the error with respect to a specific MC run with a certain number of repetitions\n",
    "+ plots the MC estimation of each run with its associated interval $\\pm error$\n",
    "\n",
    "### Currently Missing\n",
    "+ generating the ads allocation through a real set of bids\n",
    "+ citing the text: *\"Use the best performance you obtain as a baseline and show the performance gap due a different number of iterations (also report the theoretical upper bound on the approximation error)\"*"
   ],
   "cell_type": "markdown",
   "metadata": {}
  },
  {
   "cell_type": "code",
   "execution_count": null,
   "metadata": {},
   "outputs": [],
   "source": [
    "import numpy as np \n",
    "from SocialNetwork.social_network_environment import *\n",
    "from SocialNetwork.activation_probabilities import *\n",
    "from SocialNetwork.influence_estimation import *\n"
   ]
  },
  {
   "cell_type": "code",
   "execution_count": null,
   "metadata": {},
   "outputs": [],
   "source": [
    "enviroment = social_network_environment()\n",
    "enviroment.init_from_json(json_path_network = 'Config/network.json', json_path_features = 'Config/features.json')"
   ]
  },
  {
   "cell_type": "code",
   "execution_count": null,
   "metadata": {},
   "outputs": [],
   "source": [
    "import random\n",
    "import json\n",
    "\n",
    "adv_number = 8 # total advertisers for testing\n",
    "ad_allocation = []\n",
    "for i in range(5):\n",
    "    ad_allocation.append(random.sample(range(adv_number), 6))\n",
    "\n",
    "json_slots = open('Config/prominence.json', 'r')\n",
    "slots = json.load(json_slots)\n"
   ]
  },
  {
   "cell_type": "code",
   "execution_count": null,
   "metadata": {},
   "outputs": [],
   "source": [
    "seeds_num = estimate_seeds(social_network= enviroment, ad_allocation_list= ad_allocation,                                             learner_id=1, slot_prominence=slots['slots'], iterations= 1000)"
   ]
  },
  {
   "cell_type": "code",
   "execution_count": null,
   "metadata": {},
   "outputs": [],
   "source": [
    "\n",
    "iterations = np.arange(start = 10, stop = 1000, step = 10)\n",
    "activations = []\n",
    "\n",
    "for iter in iterations:\n",
    "    node_prob = estimate_bids_influence( social_network= enviroment, ad_allocation_list= ad_allocation,                                             learner_id=1, slot_prominence=slots['slots'], iterations= iter)\n",
    "    net_percentage = np.mean(node_prob) * enviroment.active_nodes.shape[0]\n",
    "    \n",
    "    \n",
    "    activations.append(net_percentage)\n",
    "    print(\"ITER #\",iter)\n",
    "\n"
   ]
  },
  {
   "cell_type": "code",
   "execution_count": null,
   "metadata": {},
   "outputs": [],
   "source": [
    "import math\n",
    "\n",
    "sigma = 0.05 # probability that the estimate is outside the confidence interval\n",
    "nodes = enviroment.adj_matrix.shape[0] # number of nodes\n",
    "S = seeds_num # average number of seeds given the set of bids\n",
    "\n",
    "errors = []\n",
    "for iter in iterations:\n",
    "    error = (math.sqrt( 1/iter * math.log(S) * math.log(1/sigma)) * nodes)\n",
    "    errors.append(error)\n"
   ]
  },
  {
   "cell_type": "code",
   "execution_count": null,
   "metadata": {},
   "outputs": [],
   "source": [
    "from matplotlib import pyplot as plt\n",
    "\n",
    "errors = np.array(errors)\n",
    "activations = np.array(activations)\n",
    "\n",
    "plt.figure(0)\n",
    "plt.plot(iterations, errors, \"green\")\n",
    "plt.xlabel(\"iterations\")\n",
    "plt.ylabel(\"error\")\n",
    "\n",
    "plt.figure(1)\n",
    "plt.plot(iterations, activations, \"red\")\n",
    "plt.xlabel(\"iterations\")\n",
    "plt.ylabel(\"active nodes\")\n",
    "plt.fill_between(iterations, (activations-errors), (activations+errors), color = \"green\", alpha = 0.2)\n",
    "\n",
    "\n",
    "\n",
    "plt.show()\n",
    "\n",
    "\n"
   ]
  }
 ]
}