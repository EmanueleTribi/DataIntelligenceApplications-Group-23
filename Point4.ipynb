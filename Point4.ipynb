{
 "cells": [
  {
   "cell_type": "markdown",
   "source": [
    "Point 4\n",
    "in this part we instantiate an auction in the social network and we try to estimate the best set of bids with a Upper confidence and Thompson sampling approach.\n",
    "in particular we have 10 advertiser that participate, 9 of them have a stochstic behaviour"
   ],
   "metadata": {}
  },
  {
   "cell_type": "code",
   "execution_count": 19,
   "source": [
    "from SocialNetwork.social_network_environment import *\n",
    "from SocialNetwork.cascade import *\n",
    "from Advertising.enviroment.bid import *\n",
    "from Advertising.enviroment.VCG import *\n",
    "from Advertising.learners.TSLearner import *\n",
    "from Advertising.learners.UCB_Learner import *\n",
    "from tqdm.autonotebook import tqdm\n",
    "\n",
    "random.seed(1234)\n"
   ],
   "outputs": [],
   "metadata": {}
  },
  {
   "cell_type": "code",
   "execution_count": 20,
   "source": [
    "#control if the learner is present in all auction and compute the correspondent reward\n",
    "def reward_control_allocation(best_allocation, ad_id, reward):\n",
    "    temp = []\n",
    "    for i in range(5):\n",
    "        control = False\n",
    "        for j in range(len(best_allocation[i])):\n",
    "            if (best_allocation[i][j].ad_id == ad_id):\n",
    "                control = True\n",
    "                break\n",
    "        if control:\n",
    "            temp.append(reward)\n",
    "        else:\n",
    "            temp.append(0)\n",
    "    return temp\n"
   ],
   "outputs": [],
   "metadata": {}
  },
  {
   "cell_type": "code",
   "execution_count": 21,
   "source": [
    "def test(n_test=1000, learner=None, vcg=None, social_network=None, lambdas=[]):\n",
    "    collected_tot = []\n",
    "    bids_adversaries = []\n",
    "    for i in range(0, 5):\n",
    "        bid_categoria = np.array([])\n",
    "        for j in range(0, 10):  # number of competitors\n",
    "            bid = Bid(bid=random.randint(1, 4), id=j+3)\n",
    "            bid_categoria = np.append(bid_categoria, bid)\n",
    "        bids_adversaries.append(bid_categoria)\n",
    "\n",
    "    count_presence=np.zeros(5)    \n",
    "     \n",
    "    for i in tqdm(range(n_test)):\n",
    "\n",
    "        #creation of the stochstic advertisers\n",
    "       \n",
    "\n",
    "        pulled_arm = learner.pull_arm()\n",
    "        # add the bids of the learner into the auction\n",
    "        for j in range(5):\n",
    "            bids_adversaries[j][0] = pulled_arm[j]\n",
    "    #the vgc calculate the best allocation        \n",
    "        best_allocation = vcg.all_best_allocations(\n",
    "            list_camp_bids=bids_adversaries, social_network=social_network)\n",
    "\n",
    "\n",
    "        #linea di controllo per controllare che effettivamente ci sia nell'asta    \n",
    "        for n in range(5):\n",
    "            for m in range(6):\n",
    "                if(best_allocation[n][m].ad_id==1):\n",
    "                    count_presence[n]+=1\n",
    "\n",
    "\n",
    "\n",
    "    # ACTIVATE THE CASCADE OF OUR SOCIAL NETWORK AND COMPUTE THE REWARDS\n",
    "        reward = activate_cascade(social_network=social_network,\n",
    "                                  ad_allocation_list=best_allocation, slot_prominence=lambdas)[0]\n",
    "    # with this part of code i set that if the learner is present in the allocation list then get the normal allocation\n",
    "    # reward, if it's not present and it bids 0 then the reward is 0.\n",
    "\n",
    "        temp = np.array(reward_control_allocation(best_allocation, 1, reward))\n",
    "        \n",
    "        payments = np.array(vcg.payments(\n",
    "            bids_adversaries, best_allocation, social_network=social_network))\n",
    "        rew=np.sum(temp)/5-np.sum(payments)   \n",
    "    # updating of the learners\n",
    "        learner.update(pulled_arm,rew)\n",
    "        collected_tot.append(rew)\n",
    "\n",
    "    #printing the reward of the learner    \n",
    "    plt.figure(0)\n",
    "    plt.plot(np.cumsum(max_reward(social_network)-np.array(collected_tot)), 'r')\n",
    "    plt.show()\n",
    "\n",
    "\n",
    "    \n",
    "    print(\"la percentuale di volte in cui c'è il learner è: \", count_presence/n_test)"
   ],
   "outputs": [],
   "metadata": {}
  },
  {
   "cell_type": "code",
   "execution_count": 22,
   "source": [
    "#setting of the environment for the test\n",
    "prev_reward = 0\n",
    "social_network = social_network_environment()\n",
    "social_network.init_from_json(\n",
    "    json_path_network='Config/network.json', json_path_features='Config/features.json')\n",
    "lambdas = [0.9, 0.85, 0.7, 0.40, 0.35, 0.20]\n",
    "arms = np.array([0,1,2,3,4])\n",
    "vcg = VCG()\n",
    "\n",
    "n_experiments=1000\n",
    "\n",
    "\n",
    "ts_learner = TS_Learner(n_arms=len(arms), arms=arms, n_categories=5, ad_id=1)\n",
    "ts_learner.max=max_reward(social_network)\n",
    "ucb_learner = UCB_Learner(n_arms=len(arms), arms=arms, n_categories=5, ad_id=1)\n",
    "test(n_experiments, ts_learner, vcg, social_network, lambdas)\n",
    "test(n_experiments, ucb_learner,vcg, social_network, lambdas)"
   ],
   "outputs": [
    {
     "output_type": "stream",
     "name": "stderr",
     "text": [
      "100%|██████████| 1000/1000 [00:04<00:00, 217.21it/s]\n"
     ]
    },
    {
     "output_type": "display_data",
     "data": {
      "image/png": "[encoded data removed]",
      "text/plain": [
       "<Figure size 432x288 with 1 Axes>"
      ]
     },
     "metadata": {
      "needs_background": "light"
     }
    },
    {
     "output_type": "stream",
     "name": "stderr",
     "text": [
      "  0%|          | 0/1000 [00:00<?, ?it/s]/Users/matteomainardi/Library/Mobile Documents/com~apple~CloudDocs/github/DirezioneInvestigativaAntimafia-DIA-/Advertising/learners/UCB_Learner.py:37: RuntimeWarning: invalid value encountered in double_scalars\n",
      "  2*np.log(self.t)/(self.count[i][pulled_arm[i].bid]-1))\n",
      "/Users/matteomainardi/Library/Mobile Documents/com~apple~CloudDocs/github/DirezioneInvestigativaAntimafia-DIA-/Advertising/learners/UCB_Learner.py:37: RuntimeWarning: divide by zero encountered in double_scalars\n",
      "  2*np.log(self.t)/(self.count[i][pulled_arm[i].bid]-1))\n",
      "  1%|          | 8/1000 [00:00<00:12, 79.68it/s]"
     ]
    },
    {
     "output_type": "stream",
     "name": "stdout",
     "text": [
      "la percentuale di volte in cui c'è il learner è:  [0.951 0.918 0.909 0.186 0.545]\n"
     ]
    },
    {
     "output_type": "stream",
     "name": "stderr",
     "text": [
      "100%|██████████| 1000/1000 [00:03<00:00, 270.61it/s]\n"
     ]
    },
    {
     "output_type": "display_data",
     "data": {
      "image/png": "[encoded data removed]",
      "text/plain": [
       "<Figure size 432x288 with 1 Axes>"
      ]
     },
     "metadata": {
      "needs_background": "light"
     }
    },
    {
     "output_type": "stream",
     "name": "stdout",
     "text": [
      "la percentuale di volte in cui c'è il learner è:  [0.88  0.88  0.051 0.88  0.88 ]\n"
     ]
    }
   ],
   "metadata": {}
  },
  {
   "cell_type": "code",
   "execution_count": 23,
   "source": [
    "ts_learner.pull_arm()"
   ],
   "outputs": [
    {
     "output_type": "execute_result",
     "data": {
      "text/plain": [
       "[(bid=2, id=1), (bid=4, id=1), (bid=1, id=1), (bid=0, id=1), (bid=3, id=1)]"
      ]
     },
     "metadata": {},
     "execution_count": 23
    }
   ],
   "metadata": {}
  },
  {
   "cell_type": "code",
   "execution_count": 24,
   "source": [
    "ucb_learner.pull_arm()"
   ],
   "outputs": [
    {
     "output_type": "execute_result",
     "data": {
      "text/plain": [
       "[(bid=2, id=1), (bid=2, id=1), (bid=2, id=1), (bid=2, id=1), (bid=2, id=1)]"
      ]
     },
     "metadata": {},
     "execution_count": 24
    }
   ],
   "metadata": {}
  },
  {
   "cell_type": "markdown",
   "source": [
    "Testing for Slicing Windows"
   ],
   "metadata": {}
  },
  {
   "cell_type": "code",
   "execution_count": 25,
   "source": [
    "class TS_SW_Learner:\n",
    "    def __init__(self, n_arms, arms, n_categories, ad_id):\n",
    "        self.ad_id = ad_id\n",
    "        self.arms = arms\n",
    "        self.n_categories = n_categories\n",
    "        self.beta_parameters = np.ones((n_categories, n_arms, 2))\n",
    "        self.n_arms = n_arms\n",
    "        self.t = 0\n",
    "        self.collected_rewards = []\n",
    "        self.prev_reward = np.zeros(n_categories)\n",
    "        self.max = 40\n",
    "        self.isSw = False\n",
    "        self.sizeSw = 0\n",
    "        self.rewards_per_arm = []\n",
    "\n",
    "    def update_observations(self, pulled_arm, reward):\n",
    "        self.collected_rewards.append(reward)\n",
    "\n",
    "    def pull_arm(self):\n",
    "        bid = []\n",
    "        values = np.random.beta(\n",
    "            self.beta_parameters[:, :, 0], self.beta_parameters[:, :, 1])\n",
    "        value_bid = np.argmax(values, axis=-1)\n",
    "        value_bid = self.arms[value_bid]\n",
    "        for i in range(len(value_bid)):\n",
    "            bid.append(Bid(value_bid[i], self.ad_id))\n",
    "        return bid\n",
    "\n",
    "    def update(self, pulled_arm, reward):\n",
    "        self.t += 1\n",
    "        self.update_observations(pulled_arm, reward)\n",
    "        for i in range(self.n_categories):\n",
    "            rew = reward/self.max\n",
    "            if not self.isSw:\n",
    "                #\n",
    "                self.beta_parameters[i, pulled_arm[i].bid, 0] += rew\n",
    "                self.beta_parameters[i, pulled_arm[i].bid, 1] += 1.0 - rew\n",
    "            else:\n",
    "                # implementation of slicing window update\n",
    "                self.rewards_per_arm[i][pulled_arm[i].bid].append(rew)\n",
    "\n",
    "                cum_rew = np.sum(\n",
    "                    self.rewards_per_arm[i][pulled_arm[i].bid][-self.sizeSW:]\n",
    "                )\n",
    "                n_rounds_arm = len(\n",
    "                    self.rewards_per_arm[i][pulled_arm[i].bid][-self.sizeSW:])\n",
    "\n",
    "                self.beta_parameters[i, pulled_arm[i].bid, 0] += cum_rew + 1.0\n",
    "                self.beta_parameters[i, pulled_arm[i].bid,\n",
    "                                     1] += n_rounds_arm - cum_rew + 1.0\n",
    "\n",
    "    def activateSW(self, sizeSW=40):\n",
    "        self.isSw = True\n",
    "        self.sizeSW = sizeSW\n",
    "        self.rewards_per_arm = [\n",
    "            [[] for j in range(self.n_arms)] for i in range(self.n_categories)]\n"
   ],
   "outputs": [],
   "metadata": {}
  },
  {
   "cell_type": "code",
   "execution_count": 26,
   "source": [
    "class UCB_SW_Learner():\n",
    "    def __init__(self, n_arms, arms, n_categories, ad_id):\n",
    "        self. n_arms = n_arms\n",
    "        self.n_categories = n_categories\n",
    "        self.ad_id = ad_id\n",
    "        self.arms=arms\n",
    "        # sum of reward of each arm in each category\n",
    "        self.reward_per_arm = np.zeros((n_categories, n_arms))\n",
    "        self.empirical_mean = np.ones((n_categories, n_arms))\n",
    "        self.confidence = np.ones((n_categories, n_arms))*np.inf\n",
    "        # counting of how many time an arm in pulled in each category\n",
    "        self.count = np.zeros((n_categories, n_arms))\n",
    "        self.collected_rewards = []\n",
    "        self.t = 0  # number of executions\n",
    "        self.c = 5.0  # exploration factor\n",
    "        self.isSW = False\n",
    "        self.sizeSW = 0\n",
    "        self.rewards_per_arm = []\n",
    "        self.count_for_sw = []\n",
    "\n",
    "    def pull_arm(self):\n",
    "        ucb = self.empirical_mean+self.confidence\n",
    "        pulled_arm = np.argmax(ucb, axis=-1)\n",
    "        pulled_arm = self.arms[pulled_arm]\n",
    "        bids = [Bid(pulled_arm[i], self.ad_id) for i in range(5)]\n",
    "        return bids\n",
    "\n",
    "    def update(self, pulled_arm, reward):\n",
    "        self.t += 1\n",
    "\n",
    "        self.collected_rewards.append(reward)\n",
    "        for i in range(self.n_categories):\n",
    "\n",
    "            if not self.isSW:\n",
    "                self.reward_per_arm[i][pulled_arm[i].bid] += reward\n",
    "                self.count[i][pulled_arm[i].bid] += 1\n",
    "            # computation empirical mean reward and confidence\n",
    "                self.empirical_mean[i][pulled_arm[i].bid\n",
    "                                       ] = self.reward_per_arm[i][pulled_arm[i].bid]/self.count[i][pulled_arm[i].bid]\n",
    "                self.confidence[i][pulled_arm[i].bid] = self.c*np.sqrt(\n",
    "                    2*np.log(self.t)/(self.count[i][pulled_arm[i].bid]-1))\n",
    "            # improvement to force the pulling of all arm\n",
    "            else:\n",
    "                for k in range(self.n_categories):\n",
    "                    for l in range(len(self.count_for_sw[k])):\n",
    "                        if l == pulled_arm[i].bid:\n",
    "                            self.self.count_for_sw[k][l].append(1)\n",
    "                        else:\n",
    "                            self.self.count_for_sw[k][l].append(0)\n",
    "                self.rewards_per_arm[i][pulled_arm[i].bid].append(reward)\n",
    "                count_rew = np.sum(\n",
    "                    self.rewards_per_arm[i][pulled_arm[i].bid][-self.sizeSW:])\n",
    "                num_exp = len(\n",
    "                    self.rewards_per_arm[i][pulled_arm[i].bid][-self.sizeSW:])\n",
    "\n",
    "                self.empirical_mean[i][pulled_arm[i].bid\n",
    "                                       ] = count_rew/num_exp\n",
    "                \n",
    "                countsw = np.sum(np.sum(\n",
    "                    self.count_for_sw[i][pulled_arm[i].bid][-self.sizeSW:]))\n",
    "                self.confidence = self.c*np.sqrt(\n",
    "                    2*np.log(self.t)/(countsw-1))\n",
    "        for i in range(self.n_categories):\n",
    "            self.empirical_mean[i][self.count[i] == 0] = np.inf\n",
    "            self.confidence[i][self.count[i] == 0] = np.inf\n",
    "\n",
    "    def activateSW(self, sizeSW=40):\n",
    "        self.isSw = True\n",
    "        self.sizeSW = sizeSW\n",
    "        self.rewards_per_arm = [\n",
    "            [[] for j in range(self.n_arms)] for i in range(self.n_categories)]\n",
    "        self.count_for_sw = [\n",
    "            [[] for j in range(self.n_arms)] for i in range(self.n_categories)]\n"
   ],
   "outputs": [],
   "metadata": {}
  },
  {
   "cell_type": "code",
   "execution_count": 27,
   "source": [
    "def test_sw(n_test=1000, learner=None, vcg=None, sizeSW=300, social_network=None, lambdas=[]):\n",
    "    collected_tot = []\n",
    "    count_sw = 1000\n",
    "    count_presence = np.zeros(5)\n",
    "\n",
    "    sel = 0\n",
    "    for i in tqdm(range(n_test)):\n",
    "        count_sw += 1\n",
    "        # creation of the stochastic advertisers\n",
    "        if count_sw >= sizeSW:\n",
    "            bids_adversaries = []\n",
    "            for k in range(0, 5):\n",
    "                bid_categoria = np.array([])\n",
    "                for j in range(0, 10):  # number of competitors\n",
    "                    bid = Bid(bid=random.randint(1, 4), id=j+3)\n",
    "                    bid_categoria = np.append(bid_categoria, bid)\n",
    "                bids_adversaries.append(bid_categoria)\n",
    "            count_sw=0    \n",
    "\n",
    "        pulled_arm = learner.pull_arm()\n",
    "        # add the bids of the learner into the auction\n",
    "        for j in range(5):\n",
    "            bids_adversaries[j][0] = pulled_arm[j]\n",
    "    # the vgc calculate the best allocation\n",
    "        best_allocation = vcg.all_best_allocations(\n",
    "            list_camp_bids=bids_adversaries, social_network=social_network)\n",
    "   #linea di controllo per controllare che effettivamente ci sia nell'asta\n",
    "        for n in range(5):\n",
    "            for m in range(6):\n",
    "                if(best_allocation[n][m].ad_id == 1):\n",
    "                    count_presence[n] += 1\n",
    "\n",
    "    # ACTIVATE THE CASCADE OF OUR SOCIAL NETWORK AND COMPUTE THE REWARDS\n",
    "        reward = activate_cascade(social_network=social_network,\n",
    "                                  ad_allocation_list=best_allocation, slot_prominence=lambdas)[0]\n",
    "    # with this part of code i set that if the learner is present in the allocation list then get the normal allocation\n",
    "    # reward, if it's not present and it bids 0 then the reward is 0.\n",
    "\n",
    "        temp = np.array(reward_control_allocation(best_allocation, 1, reward))\n",
    "\n",
    "        payments = np.array(vcg.payments(\n",
    "            bids_adversaries, best_allocation, social_network=social_network))\n",
    "        rew = np.sum(temp)/5-np.sum(payments)\n",
    "    # updating of the learners\n",
    "        learner.update(pulled_arm, rew)\n",
    "        collected_tot.append(rew)\n",
    "\n",
    "    #printing the reward of the learner\n",
    "    plt.figure(0)\n",
    "    plt.plot((max_reward(social_network)-np.array(collected_tot)), 'r')\n",
    "    plt.show()\n"
   ],
   "outputs": [],
   "metadata": {}
  },
  {
   "cell_type": "code",
   "execution_count": 28,
   "source": [
    "prev_reward = 0\n",
    "social_network = social_network_environment()\n",
    "social_network.init_from_json(\n",
    "    json_path_network='Config/network.json', json_path_features='Config/features.json')\n",
    "lambdas = [0.9, 0.85, 0.7, 0.40, 0.35, 0.20]\n",
    "arms = np.array([0, 1, 2, 3, 4])\n",
    "vcg = VCG()\n",
    "\n",
    "n_experiments = 2000\n",
    "random.seed(1234)\n",
    "\n",
    "\n",
    "ts_learner = TS_SW_Learner(n_arms=len(arms), arms=arms, n_categories=5, ad_id=1)\n",
    "ts_learner.max = max_reward(social_network)\n",
    "ucb_learner = UCB_SW_Learner(n_arms=len(arms), arms=arms, n_categories=5, ad_id=1)\n",
    "\n",
    "ts_learner.activateSW(sizeSW=400)\n",
    "ucb_learner.activateSW(sizeSW=400)\n",
    "\n",
    "test_sw(n_experiments, ts_learner, vcg,400 , social_network, lambdas)\n",
    "test_sw(n_experiments, ucb_learner, vcg,400, social_network, lambdas)\n"
   ],
   "outputs": [
    {
     "output_type": "stream",
     "name": "stderr",
     "text": [
      "100%|██████████| 2000/2000 [00:09<00:00, 218.74it/s]\n"
     ]
    },
    {
     "output_type": "display_data",
     "data": {
      "image/png": "[encoded data removed]",
      "text/plain": [
       "<Figure size 432x288 with 1 Axes>"
      ]
     },
     "metadata": {
      "needs_background": "light"
     }
    },
    {
     "output_type": "stream",
     "name": "stderr",
     "text": [
      "  0%|          | 0/2000 [00:00<?, ?it/s]<ipython-input-26-6c7a898d910d>:41: RuntimeWarning: invalid value encountered in double_scalars\n",
      "  2*np.log(self.t)/(self.count[i][pulled_arm[i].bid]-1))\n",
      "<ipython-input-26-6c7a898d910d>:41: RuntimeWarning: divide by zero encountered in double_scalars\n",
      "  2*np.log(self.t)/(self.count[i][pulled_arm[i].bid]-1))\n",
      "100%|██████████| 2000/2000 [00:06<00:00, 329.94it/s]\n"
     ]
    },
    {
     "output_type": "display_data",
     "data": {
      "image/png": "[encoded data removed]",
      "text/plain": [
       "<Figure size 432x288 with 1 Axes>"
      ]
     },
     "metadata": {
      "needs_background": "light"
     }
    }
   ],
   "metadata": {}
  }
 ],
 "metadata": {
  "orig_nbformat": 4,
  "language_info": {
   "name": "python",
   "version": "3.9.5",
   "mimetype": "text/x-python",
   "codemirror_mode": {
    "name": "ipython",
    "version": 3
   },
   "pygments_lexer": "ipython3",
   "nbconvert_exporter": "python",
   "file_extension": ".py"
  },
  "kernelspec": {
   "name": "python3",
   "display_name": "Python 3.9.5 64-bit"
  },
  "interpreter": {
   "hash": "aee8b7b246df8f9039afb4144a1f6fd8d2ca17a180786b69acc140d282b71a49"
  }
 },
 "nbformat": 4,
 "nbformat_minor": 2
}