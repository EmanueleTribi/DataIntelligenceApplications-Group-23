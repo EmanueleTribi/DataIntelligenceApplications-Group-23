{
 "cells": [
  {
   "cell_type": "code",
   "execution_count": 1,
   "source": [
    "from SocialNetwork.network_init import *\r\n",
    "from SocialNetwork.social_network_environment import *\r\n",
    "from Advertising.learners.Greedy_algorithm import *\r\n",
    "\r\n",
    "\r\n",
    "social_network = social_network_environment()\r\n",
    "social_network.init_from_json(json_path_network='Config/network.json', json_path_features='Config/features.json')"
   ],
   "outputs": [],
   "metadata": {}
  },
  {
   "cell_type": "code",
   "execution_count": 2,
   "source": [
    "seed=6789\r\n",
    "n_rounds=50000\r\n",
    "number_of_greedy=1"
   ],
   "outputs": [],
   "metadata": {}
  },
  {
   "cell_type": "code",
   "execution_count": 3,
   "source": [
    "for _ in range(number_of_greedy):\r\n",
    "    result, rewards, marginals = greedy(n_bids=5, n_adversaries=10, social_network=social_network, rounds=n_rounds, seed=seed)"
   ],
   "outputs": [
    {
     "output_type": "stream",
     "name": "stdout",
     "text": [
      "Marginal Reward for [1. 0. 0. 0. 0.] is 0.04810099999999995\n",
      "Marginal Reward for [0. 1. 0. 0. 0.] is 0.052132000000000234\n",
      "Marginal Reward for [0. 0. 1. 0. 0.] is 1.1591869999998468\n",
      "Marginal Reward for [0. 0. 0. 1. 0.] is 0\n",
      "Marginal Reward for [0. 0. 0. 0. 1.] is 0.03498600000000012\n",
      "The max gain from the previous iteration was 1.1591869999998468 and the new bids are [0. 0. 1. 0. 0.]\n",
      "Marginal Reward for [1. 0. 1. 0. 0.] is 0.03916799999999743\n",
      "Marginal Reward for [0. 1. 1. 0. 0.] is 0.048163000000000844\n",
      "Marginal Reward for [0. 0. 2. 0. 0.] is 0.5983234285716457\n",
      "Marginal Reward for [0. 0. 1. 1. 0.] is 0\n",
      "Marginal Reward for [0. 0. 1. 0. 1.] is 0.034299000000000746\n",
      "The max gain from the previous iteration was 0.5983234285716457 and the new bids are [0. 0. 2. 0. 0.]\n",
      "Marginal Reward for [1. 0. 2. 0. 0.] is 0.023677142857160938\n",
      "Marginal Reward for [0. 1. 2. 0. 0.] is 0.01643128571428787\n",
      "Marginal Reward for [0. 0. 3. 0. 0.] is 0.02573537142839566\n",
      "Marginal Reward for [0. 0. 2. 1. 0.] is 0\n",
      "Marginal Reward for [0. 0. 2. 0. 1.] is -0.020428714285723792\n",
      "The max gain from the previous iteration was 0.02573537142839566 and the new bids are [0. 0. 3. 0. 0.]\n",
      "Marginal Reward for [1. 0. 3. 0. 0.] is 0.0437765999999995\n",
      "Marginal Reward for [0. 1. 3. 0. 0.] is -0.030190399999977746\n",
      "Marginal Reward for [0. 0. 4. 0. 0.] is 0.0057384000000253454\n",
      "Marginal Reward for [0. 0. 3. 1. 0.] is 0\n",
      "Marginal Reward for [0. 0. 3. 0. 1.] is -0.018682399999985\n",
      "The max gain from the previous iteration was 0.0437765999999995 and the new bids are [1. 0. 3. 0. 0.]\n",
      "Marginal Reward for [2. 0. 3. 0. 0.] is -0.048418399999963224\n",
      "Marginal Reward for [1. 1. 3. 0. 0.] is -0.03727839999999438\n",
      "Marginal Reward for [1. 0. 4. 0. 0.] is -0.03614659999998859\n",
      "Marginal Reward for [1. 0. 3. 1. 0.] is 0\n",
      "Marginal Reward for [1. 0. 3. 0. 1.] is -0.036191799999969465\n",
      "The max gain from the previous iteration was negative and the new bids are [1. 0. 3. 0. 0.]\n"
     ]
    }
   ],
   "metadata": {}
  },
  {
   "cell_type": "code",
   "execution_count": 4,
   "source": [
    "import matplotlib.pyplot as plt\r\n",
    "plt.figure(0)\r\n",
    "plt.plot(rewards, 'r', label='Reward')\r\n",
    "plt.plot(marginals,'bo', label='Marginal increment')\r\n",
    "plt.legend()"
   ],
   "outputs": [
    {
     "output_type": "execute_result",
     "data": {
      "text/plain": [
       "<matplotlib.legend.Legend at 0x2a9755e3700>"
      ]
     },
     "metadata": {},
     "execution_count": 4
    },
    {
     "output_type": "display_data",
     "data": {
      "image/png": "[encoded data removed]",
      "text/plain": [
       "<Figure size 432x288 with 1 Axes>"
      ]
     },
     "metadata": {
      "needs_background": "light"
     }
    }
   ],
   "metadata": {}
  }
 ],
 "metadata": {
  "orig_nbformat": 4,
  "language_info": {
   "name": "python",
   "version": "3.8.3",
   "mimetype": "text/x-python",
   "codemirror_mode": {
    "name": "ipython",
    "version": 3
   },
   "pygments_lexer": "ipython3",
   "nbconvert_exporter": "python",
   "file_extension": ".py"
  },
  "kernelspec": {
   "name": "python3",
   "display_name": "Python 3.8.3 64-bit ('base': conda)"
  },
  "interpreter": {
   "hash": "c6f967de16b0bff6e471d965b97f90b6b70e6b627c25a55181a3ca712f1e785a"
  }
 },
 "nbformat": 4,
 "nbformat_minor": 2
}