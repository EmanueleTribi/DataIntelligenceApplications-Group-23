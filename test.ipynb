{
 "metadata": {
  "language_info": {
   "codemirror_mode": {
    "name": "ipython",
    "version": 3
   },
   "file_extension": ".py",
   "mimetype": "text/x-python",
   "name": "python",
   "nbconvert_exporter": "python",
   "pygments_lexer": "ipython3",
   "version": "3.6.7"
  },
  "orig_nbformat": 2,
  "kernelspec": {
   "name": "python367jvsc74a57bd08e66534d7a745b3b564871a275f31820175faedb070998aaf071d4b3473f909c",
   "display_name": "Python 3.6.7 64-bit"
  }
 },
 "nbformat": 4,
 "nbformat_minor": 2,
 "cells": [
  {
   "cell_type": "code",
   "execution_count": 1,
   "metadata": {
    "tags": [
     "outputPrepend"
    ]
   },
   "outputs": [
    {
     "output_type": "stream",
     "name": "stderr",
     "text": [
      "te-packages\\sklearn\\gaussian_process\\kernels.py:409: ConvergenceWarning: The optimal value found for dimension 0 of parameter k1__constant_value is close to the specified lower bound 0.001. Decreasing the bound and calling fit again may find a better value.\n",
      "  ConvergenceWarning)\n",
      "C:\\Users\\powam\\AppData\\Local\\Programs\\Python\\Python36\\lib\\site-packages\\sklearn\\gaussian_process\\kernels.py:409: ConvergenceWarning: The optimal value found for dimension 0 of parameter k1__constant_value is close to the specified lower bound 0.001. Decreasing the bound and calling fit again may find a better value.\n",
      "  ConvergenceWarning)\n",
      "C:\\Users\\powam\\AppData\\Local\\Programs\\Python\\Python36\\lib\\site-packages\\sklearn\\gaussian_process\\kernels.py:409: ConvergenceWarning: The optimal value found for dimension 0 of parameter k1__constant_value is close to the specified lower bound 0.001. Decreasing the bound and calling fit again may find a better value.\n",
      "  ConvergenceWarning)\n",
      "C:\\Users\\powam\\AppData\\Local\\Programs\\Python\\Python36\\lib\\site-packages\\sklearn\\gaussian_process\\kernels.py:409: ConvergenceWarning: The optimal value found for dimension 0 of parameter k1__constant_value is close to the specified lower bound 0.001. Decreasing the bound and calling fit again may find a better value.\n",
      "  ConvergenceWarning)\n",
      "C:\\Users\\powam\\AppData\\Local\\Programs\\Python\\Python36\\lib\\site-packages\\sklearn\\gaussian_process\\kernels.py:409: ConvergenceWarning: The optimal value found for dimension 0 of parameter k1__constant_value is close to the specified lower bound 0.001. Decreasing the bound and calling fit again may find a better value.\n",
      "  ConvergenceWarning)\n",
      "C:\\Users\\powam\\AppData\\Local\\Programs\\Python\\Python36\\lib\\site-packages\\sklearn\\gaussian_process\\kernels.py:409: ConvergenceWarning: The optimal value found for dimension 0 of parameter k1__constant_value is close to the specified lower bound 0.001. Decreasing the bound and calling fit again may find a better value.\n",
      "  ConvergenceWarning)\n",
      "C:\\Users\\powam\\AppData\\Local\\Programs\\Python\\Python36\\lib\\site-packages\\sklearn\\gaussian_process\\kernels.py:409: ConvergenceWarning: The optimal value found for dimension 0 of parameter k1__constant_value is close to the specified lower bound 0.001. Decreasing the bound and calling fit again may find a better value.\n",
      "  ConvergenceWarning)\n",
      "C:\\Users\\powam\\AppData\\Local\\Programs\\Python\\Python36\\lib\\site-packages\\sklearn\\gaussian_process\\kernels.py:409: ConvergenceWarning: The optimal value found for dimension 0 of parameter k1__constant_value is close to the specified lower bound 0.001. Decreasing the bound and calling fit again may find a better value.\n",
      "  ConvergenceWarning)\n",
      "C:\\Users\\powam\\AppData\\Local\\Programs\\Python\\Python36\\lib\\site-packages\\sklearn\\gaussian_process\\kernels.py:409: ConvergenceWarning: The optimal value found for dimension 0 of parameter k1__constant_value is close to the specified lower bound 0.001. Decreasing the bound and calling fit again may find a better value.\n",
      "  ConvergenceWarning)\n",
      "C:\\Users\\powam\\AppData\\Local\\Programs\\Python\\Python36\\lib\\site-packages\\sklearn\\gaussian_process\\kernels.py:409: ConvergenceWarning: The optimal value found for dimension 0 of parameter k1__constant_value is close to the specified lower bound 0.001. Decreasing the bound and calling fit again may find a better value.\n",
      "  ConvergenceWarning)\n",
      "C:\\Users\\powam\\AppData\\Local\\Programs\\Python\\Python36\\lib\\site-packages\\sklearn\\gaussian_process\\kernels.py:409: ConvergenceWarning: The optimal value found for dimension 0 of parameter k1__constant_value is close to the specified lower bound 0.001. Decreasing the bound and calling fit again may find a better value.\n",
      "  ConvergenceWarning)\n",
      "C:\\Users\\powam\\AppData\\Local\\Programs\\Python\\Python36\\lib\\site-packages\\sklearn\\gaussian_process\\kernels.py:409: ConvergenceWarning: The optimal value found for dimension 0 of parameter k1__constant_value is close to the specified lower bound 0.001. Decreasing the bound and calling fit again may find a better value.\n",
      "  ConvergenceWarning)\n",
      "C:\\Users\\powam\\AppData\\Local\\Programs\\Python\\Python36\\lib\\site-packages\\sklearn\\gaussian_process\\kernels.py:409: ConvergenceWarning: The optimal value found for dimension 0 of parameter k1__constant_value is close to the specified lower bound 0.001. Decreasing the bound and calling fit again may find a better value.\n",
      "  ConvergenceWarning)\n",
      "C:\\Users\\powam\\AppData\\Local\\Programs\\Python\\Python36\\lib\\site-packages\\sklearn\\gaussian_process\\kernels.py:409: ConvergenceWarning: The optimal value found for dimension 0 of parameter k1__constant_value is close to the specified lower bound 0.001. Decreasing the bound and calling fit again may find a better value.\n",
      "  ConvergenceWarning)\n",
      "C:\\Users\\powam\\AppData\\Local\\Programs\\Python\\Python36\\lib\\site-packages\\sklearn\\gaussian_process\\kernels.py:409: ConvergenceWarning: The optimal value found for dimension 0 of parameter k1__constant_value is close to the specified lower bound 0.001. Decreasing the bound and calling fit again may find a better value.\n",
      "  ConvergenceWarning)\n",
      "C:\\Users\\powam\\AppData\\Local\\Programs\\Python\\Python36\\lib\\site-packages\\sklearn\\gaussian_process\\kernels.py:409: ConvergenceWarning: The optimal value found for dimension 0 of parameter k1__constant_value is close to the specified lower bound 0.001. Decreasing the bound and calling fit again may find a better value.\n",
      "  ConvergenceWarning)\n",
      "C:\\Users\\powam\\AppData\\Local\\Programs\\Python\\Python36\\lib\\site-packages\\sklearn\\gaussian_process\\kernels.py:409: ConvergenceWarning: The optimal value found for dimension 0 of parameter k1__constant_value is close to the specified lower bound 0.001. Decreasing the bound and calling fit again may find a better value.\n",
      "  ConvergenceWarning)\n",
      "C:\\Users\\powam\\AppData\\Local\\Programs\\Python\\Python36\\lib\\site-packages\\sklearn\\gaussian_process\\kernels.py:409: ConvergenceWarning: The optimal value found for dimension 0 of parameter k1__constant_value is close to the specified lower bound 0.001. Decreasing the bound and calling fit again may find a better value.\n",
      "  ConvergenceWarning)\n",
      "C:\\Users\\powam\\AppData\\Local\\Programs\\Python\\Python36\\lib\\site-packages\\sklearn\\gaussian_process\\kernels.py:409: ConvergenceWarning: The optimal value found for dimension 0 of parameter k1__constant_value is close to the specified lower bound 0.001. Decreasing the bound and calling fit again may find a better value.\n",
      "  ConvergenceWarning)\n",
      "C:\\Users\\powam\\AppData\\Local\\Programs\\Python\\Python36\\lib\\site-packages\\sklearn\\gaussian_process\\kernels.py:409: ConvergenceWarning: The optimal value found for dimension 0 of parameter k1__constant_value is close to the specified lower bound 0.001. Decreasing the bound and calling fit again may find a better value.\n",
      "  ConvergenceWarning)\n",
      "C:\\Users\\powam\\AppData\\Local\\Programs\\Python\\Python36\\lib\\site-packages\\sklearn\\gaussian_process\\kernels.py:409: ConvergenceWarning: The optimal value found for dimension 0 of parameter k1__constant_value is close to the specified lower bound 0.001. Decreasing the bound and calling fit again may find a better value.\n",
      "  ConvergenceWarning)\n",
      "C:\\Users\\powam\\AppData\\Local\\Programs\\Python\\Python36\\lib\\site-packages\\sklearn\\gaussian_process\\kernels.py:409: ConvergenceWarning: The optimal value found for dimension 0 of parameter k1__constant_value is close to the specified lower bound 0.001. Decreasing the bound and calling fit again may find a better value.\n",
      "  ConvergenceWarning)\n",
      "C:\\Users\\powam\\AppData\\Local\\Programs\\Python\\Python36\\lib\\site-packages\\sklearn\\gaussian_process\\kernels.py:409: ConvergenceWarning: The optimal value found for dimension 0 of parameter k1__constant_value is close to the specified lower bound 0.001. Decreasing the bound and calling fit again may find a better value.\n",
      "  ConvergenceWarning)\n",
      "C:\\Users\\powam\\AppData\\Local\\Programs\\Python\\Python36\\lib\\site-packages\\sklearn\\gaussian_process\\kernels.py:409: ConvergenceWarning: The optimal value found for dimension 0 of parameter k1__constant_value is close to the specified lower bound 0.001. Decreasing the bound and calling fit again may find a better value.\n",
      "  ConvergenceWarning)\n",
      "C:\\Users\\powam\\AppData\\Local\\Programs\\Python\\Python36\\lib\\site-packages\\sklearn\\gaussian_process\\kernels.py:409: ConvergenceWarning: The optimal value found for dimension 0 of parameter k1__constant_value is close to the specified lower bound 0.001. Decreasing the bound and calling fit again may find a better value.\n",
      "  ConvergenceWarning)\n",
      "C:\\Users\\powam\\AppData\\Local\\Programs\\Python\\Python36\\lib\\site-packages\\sklearn\\gaussian_process\\kernels.py:409: ConvergenceWarning: The optimal value found for dimension 0 of parameter k1__constant_value is close to the specified lower bound 0.001. Decreasing the bound and calling fit again may find a better value.\n",
      "  ConvergenceWarning)\n",
      "C:\\Users\\powam\\AppData\\Local\\Programs\\Python\\Python36\\lib\\site-packages\\sklearn\\gaussian_process\\kernels.py:409: ConvergenceWarning: The optimal value found for dimension 0 of parameter k1__constant_value is close to the specified lower bound 0.001. Decreasing the bound and calling fit again may find a better value.\n",
      "  ConvergenceWarning)\n",
      "C:\\Users\\powam\\AppData\\Local\\Programs\\Python\\Python36\\lib\\site-packages\\sklearn\\gaussian_process\\kernels.py:409: ConvergenceWarning: The optimal value found for dimension 0 of parameter k1__constant_value is close to the specified lower bound 0.001. Decreasing the bound and calling fit again may find a better value.\n",
      "  ConvergenceWarning)\n",
      "C:\\Users\\powam\\AppData\\Local\\Programs\\Python\\Python36\\lib\\site-packages\\sklearn\\gaussian_process\\kernels.py:409: ConvergenceWarning: The optimal value found for dimension 0 of parameter k1__constant_value is close to the specified lower bound 0.001. Decreasing the bound and calling fit again may find a better value.\n",
      "  ConvergenceWarning)\n",
      "C:\\Users\\powam\\AppData\\Local\\Programs\\Python\\Python36\\lib\\site-packages\\sklearn\\gaussian_process\\kernels.py:409: ConvergenceWarning: The optimal value found for dimension 0 of parameter k1__constant_value is close to the specified lower bound 0.001. Decreasing the bound and calling fit again may find a better value.\n",
      "  ConvergenceWarning)\n",
      "C:\\Users\\powam\\AppData\\Local\\Programs\\Python\\Python36\\lib\\site-packages\\sklearn\\gaussian_process\\kernels.py:409: ConvergenceWarning: The optimal value found for dimension 0 of parameter k1__constant_value is close to the specified lower bound 0.001. Decreasing the bound and calling fit again may find a better value.\n",
      "  ConvergenceWarning)\n",
      "C:\\Users\\powam\\AppData\\Local\\Programs\\Python\\Python36\\lib\\site-packages\\sklearn\\gaussian_process\\kernels.py:409: ConvergenceWarning: The optimal value found for dimension 0 of parameter k1__constant_value is close to the specified lower bound 0.001. Decreasing the bound and calling fit again may find a better value.\n",
      "  ConvergenceWarning)\n",
      "C:\\Users\\powam\\AppData\\Local\\Programs\\Python\\Python36\\lib\\site-packages\\sklearn\\gaussian_process\\kernels.py:409: ConvergenceWarning: The optimal value found for dimension 0 of parameter k1__constant_value is close to the specified lower bound 0.001. Decreasing the bound and calling fit again may find a better value.\n",
      "  ConvergenceWarning)\n",
      "C:\\Users\\powam\\AppData\\Local\\Programs\\Python\\Python36\\lib\\site-packages\\sklearn\\gaussian_process\\kernels.py:409: ConvergenceWarning: The optimal value found for dimension 0 of parameter k1__constant_value is close to the specified lower bound 0.001. Decreasing the bound and calling fit again may find a better value.\n",
      "  ConvergenceWarning)\n",
      "C:\\Users\\powam\\AppData\\Local\\Programs\\Python\\Python36\\lib\\site-packages\\sklearn\\gaussian_process\\kernels.py:409: ConvergenceWarning: The optimal value found for dimension 0 of parameter k1__constant_value is close to the specified lower bound 0.001. Decreasing the bound and calling fit again may find a better value.\n",
      "  ConvergenceWarning)\n",
      "C:\\Users\\powam\\AppData\\Local\\Programs\\Python\\Python36\\lib\\site-packages\\sklearn\\gaussian_process\\kernels.py:409: ConvergenceWarning: The optimal value found for dimension 0 of parameter k1__constant_value is close to the specified lower bound 0.001. Decreasing the bound and calling fit again may find a better value.\n",
      "  ConvergenceWarning)\n",
      "C:\\Users\\powam\\AppData\\Local\\Programs\\Python\\Python36\\lib\\site-packages\\sklearn\\gaussian_process\\kernels.py:409: ConvergenceWarning: The optimal value found for dimension 0 of parameter k1__constant_value is close to the specified lower bound 0.001. Decreasing the bound and calling fit again may find a better value.\n",
      "  ConvergenceWarning)\n",
      "C:\\Users\\powam\\AppData\\Local\\Programs\\Python\\Python36\\lib\\site-packages\\sklearn\\gaussian_process\\kernels.py:409: ConvergenceWarning: The optimal value found for dimension 0 of parameter k1__constant_value is close to the specified lower bound 0.001. Decreasing the bound and calling fit again may find a better value.\n",
      "  ConvergenceWarning)\n",
      "C:\\Users\\powam\\AppData\\Local\\Programs\\Python\\Python36\\lib\\site-packages\\sklearn\\gaussian_process\\kernels.py:409: ConvergenceWarning: The optimal value found for dimension 0 of parameter k1__constant_value is close to the specified lower bound 0.001. Decreasing the bound and calling fit again may find a better value.\n",
      "  ConvergenceWarning)\n",
      "C:\\Users\\powam\\AppData\\Local\\Programs\\Python\\Python36\\lib\\site-packages\\sklearn\\gaussian_process\\kernels.py:409: ConvergenceWarning: The optimal value found for dimension 0 of parameter k1__constant_value is close to the specified lower bound 0.001. Decreasing the bound and calling fit again may find a better value.\n",
      "  ConvergenceWarning)\n",
      "C:\\Users\\powam\\AppData\\Local\\Programs\\Python\\Python36\\lib\\site-packages\\sklearn\\gaussian_process\\kernels.py:409: ConvergenceWarning: The optimal value found for dimension 0 of parameter k1__constant_value is close to the specified lower bound 0.001. Decreasing the bound and calling fit again may find a better value.\n",
      "  ConvergenceWarning)\n",
      "C:\\Users\\powam\\AppData\\Local\\Programs\\Python\\Python36\\lib\\site-packages\\sklearn\\gaussian_process\\kernels.py:409: ConvergenceWarning: The optimal value found for dimension 0 of parameter k1__constant_value is close to the specified lower bound 0.001. Decreasing the bound and calling fit again may find a better value.\n",
      "  ConvergenceWarning)\n",
      "C:\\Users\\powam\\AppData\\Local\\Programs\\Python\\Python36\\lib\\site-packages\\sklearn\\gaussian_process\\kernels.py:409: ConvergenceWarning: The optimal value found for dimension 0 of parameter k1__constant_value is close to the specified lower bound 0.001. Decreasing the bound and calling fit again may find a better value.\n",
      "  ConvergenceWarning)\n",
      "C:\\Users\\powam\\AppData\\Local\\Programs\\Python\\Python36\\lib\\site-packages\\sklearn\\gaussian_process\\kernels.py:409: ConvergenceWarning: The optimal value found for dimension 0 of parameter k1__constant_value is close to the specified lower bound 0.001. Decreasing the bound and calling fit again may find a better value.\n",
      "  ConvergenceWarning)\n",
      "C:\\Users\\powam\\AppData\\Local\\Programs\\Python\\Python36\\lib\\site-packages\\sklearn\\gaussian_process\\kernels.py:409: ConvergenceWarning: The optimal value found for dimension 0 of parameter k1__constant_value is close to the specified lower bound 0.001. Decreasing the bound and calling fit again may find a better value.\n",
      "  ConvergenceWarning)\n",
      "C:\\Users\\powam\\AppData\\Local\\Programs\\Python\\Python36\\lib\\site-packages\\sklearn\\gaussian_process\\kernels.py:409: ConvergenceWarning: The optimal value found for dimension 0 of parameter k1__constant_value is close to the specified lower bound 0.001. Decreasing the bound and calling fit again may find a better value.\n",
      "  ConvergenceWarning)\n",
      "C:\\Users\\powam\\AppData\\Local\\Programs\\Python\\Python36\\lib\\site-packages\\sklearn\\gaussian_process\\kernels.py:409: ConvergenceWarning: The optimal value found for dimension 0 of parameter k1__constant_value is close to the specified lower bound 0.001. Decreasing the bound and calling fit again may find a better value.\n",
      "  ConvergenceWarning)\n",
      "C:\\Users\\powam\\AppData\\Local\\Programs\\Python\\Python36\\lib\\site-packages\\sklearn\\gaussian_process\\kernels.py:409: ConvergenceWarning: The optimal value found for dimension 0 of parameter k1__constant_value is close to the specified lower bound 0.001. Decreasing the bound and calling fit again may find a better value.\n",
      "  ConvergenceWarning)\n",
      "C:\\Users\\powam\\AppData\\Local\\Programs\\Python\\Python36\\lib\\site-packages\\sklearn\\gaussian_process\\kernels.py:409: ConvergenceWarning: The optimal value found for dimension 0 of parameter k1__constant_value is close to the specified lower bound 0.001. Decreasing the bound and calling fit again may find a better value.\n",
      "  ConvergenceWarning)\n",
      "C:\\Users\\powam\\AppData\\Local\\Programs\\Python\\Python36\\lib\\site-packages\\sklearn\\gaussian_process\\kernels.py:409: ConvergenceWarning: The optimal value found for dimension 0 of parameter k1__constant_value is close to the specified lower bound 0.001. Decreasing the bound and calling fit again may find a better value.\n",
      "  ConvergenceWarning)\n",
      "C:\\Users\\powam\\AppData\\Local\\Programs\\Python\\Python36\\lib\\site-packages\\sklearn\\gaussian_process\\kernels.py:409: ConvergenceWarning: The optimal value found for dimension 0 of parameter k1__constant_value is close to the specified lower bound 0.001. Decreasing the bound and calling fit again may find a better value.\n",
      "  ConvergenceWarning)\n",
      "C:\\Users\\powam\\AppData\\Local\\Programs\\Python\\Python36\\lib\\site-packages\\sklearn\\gaussian_process\\kernels.py:409: ConvergenceWarning: The optimal value found for dimension 0 of parameter k1__constant_value is close to the specified lower bound 0.001. Decreasing the bound and calling fit again may find a better value.\n",
      "  ConvergenceWarning)\n",
      "C:\\Users\\powam\\AppData\\Local\\Programs\\Python\\Python36\\lib\\site-packages\\sklearn\\gaussian_process\\kernels.py:409: ConvergenceWarning: The optimal value found for dimension 0 of parameter k1__constant_value is close to the specified lower bound 0.001. Decreasing the bound and calling fit again may find a better value.\n",
      "  ConvergenceWarning)\n",
      "C:\\Users\\powam\\AppData\\Local\\Programs\\Python\\Python36\\lib\\site-packages\\sklearn\\gaussian_process\\kernels.py:409: ConvergenceWarning: The optimal value found for dimension 0 of parameter k1__constant_value is close to the specified lower bound 0.001. Decreasing the bound and calling fit again may find a better value.\n",
      "  ConvergenceWarning)\n",
      "C:\\Users\\powam\\AppData\\Local\\Programs\\Python\\Python36\\lib\\site-packages\\sklearn\\gaussian_process\\kernels.py:409: ConvergenceWarning: The optimal value found for dimension 0 of parameter k1__constant_value is close to the specified lower bound 0.001. Decreasing the bound and calling fit again may find a better value.\n",
      "  ConvergenceWarning)\n",
      "C:\\Users\\powam\\AppData\\Local\\Programs\\Python\\Python36\\lib\\site-packages\\sklearn\\gaussian_process\\kernels.py:409: ConvergenceWarning: The optimal value found for dimension 0 of parameter k1__constant_value is close to the specified lower bound 0.001. Decreasing the bound and calling fit again may find a better value.\n",
      "  ConvergenceWarning)\n",
      "C:\\Users\\powam\\AppData\\Local\\Programs\\Python\\Python36\\lib\\site-packages\\sklearn\\gaussian_process\\kernels.py:409: ConvergenceWarning: The optimal value found for dimension 0 of parameter k1__constant_value is close to the specified lower bound 0.001. Decreasing the bound and calling fit again may find a better value.\n",
      "  ConvergenceWarning)\n",
      "C:\\Users\\powam\\AppData\\Local\\Programs\\Python\\Python36\\lib\\site-packages\\sklearn\\gaussian_process\\kernels.py:409: ConvergenceWarning: The optimal value found for dimension 0 of parameter k1__constant_value is close to the specified lower bound 0.001. Decreasing the bound and calling fit again may find a better value.\n",
      "  ConvergenceWarning)\n",
      "C:\\Users\\powam\\AppData\\Local\\Programs\\Python\\Python36\\lib\\site-packages\\sklearn\\gaussian_process\\kernels.py:409: ConvergenceWarning: The optimal value found for dimension 0 of parameter k1__constant_value is close to the specified lower bound 0.001. Decreasing the bound and calling fit again may find a better value.\n",
      "  ConvergenceWarning)\n"
     ]
    }
   ],
   "source": [
    "from Advertising.enviroment.Auction_manager import Auction_Manager\n",
    "from Advertising.enviroment.advertising_environment import Advertising_envirorment\n",
    "from Advertising.learners.GPTSLearner import GPTS_Learner\n",
    "from Advertising.learners.GeneralLearner import GeneralLearner\n",
    "import numpy as np \n",
    "from matplotlib import pyplot as plt \n",
    "\n",
    "n_arms=6\n",
    "min_bid=0.0\n",
    "max_bid=1.0\n",
    "bids=np.linspace(min_bid, max_bid, n_arms)\n",
    "sigma=2\n",
    "manager=Auction_Manager(bids,sigma)\n",
    "learner=GPTS_Learner(n_arms,bids)\n",
    "collected_rewards=manager.auction(10,n_arms, bids, sigma)\n"
   ]
  },
  {
   "cell_type": "code",
   "execution_count": null,
   "metadata": {},
   "outputs": [],
   "source": [
    "\n",
    "opt=np.max(manager.env.means)\n",
    "plt.figure(0)\n",
    "plt.ylabel(\"Regret\")\n",
    "plt.xlabel(\"t\")\n",
    "plt.plot(np.cumsum(np.mean(opt-collected_rewards,axis=0)), 'g')\n",
    "plt.legend([ \"GPTS\"])\n",
    "plt.show()"
   ]
  },
  {
   "cell_type": "code",
   "execution_count": 6,
   "metadata": {},
   "outputs": [],
   "source": [
    "exp=np.random.normal(0,1,6)"
   ]
  },
  {
   "cell_type": "code",
   "execution_count": 7,
   "metadata": {},
   "outputs": [
    {
     "output_type": "execute_result",
     "data": {
      "text/plain": [
       "array([ 0.47499601,  0.61992108, -1.64365045, -0.63897169,  0.04105706,\n",
       "        0.58553329])"
      ]
     },
     "metadata": {},
     "execution_count": 7
    }
   ],
   "source": [
    "exp"
   ]
  },
  {
   "cell_type": "code",
   "execution_count": null,
   "metadata": {},
   "outputs": [],
   "source": []
  }
 ]
}