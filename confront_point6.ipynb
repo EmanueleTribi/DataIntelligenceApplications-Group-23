{
 "cells": [
  {
   "cell_type": "code",
   "execution_count": 1,
   "source": [
    "import matplotlib.pyplot as plt\n",
    "import numpy as np\n",
    "from SocialNetwork.social_network_environment import *\n",
    "from SocialNetwork.cascade import *\n",
    "from Advertising.enviroment.bid import *\n",
    "from Advertising.enviroment.VCG import *\n",
    "from Advertising.learners.Greedy_algorithm import *\n",
    "from Advertising.learners.GTS_Learner import *\n",
    "from Advertising.learners.GTS_SW_Learner import *\n",
    "from experiment_utilities import*\n",
    "from Advertising.learners.UCB_sw import*\n",
    "\n",
    "import math\n",
    "\n",
    "from tqdm.autonotebook import tqdm\n",
    "from Advertising.learners.TS_sliding_window import *\n",
    "import itertools\n",
    "\n",
    "arms = arms_creation(seed=30291, number_of_arms=20)\n",
    "\n",
    "seed = 6789\n",
    "random.seed(seed)\n",
    "only_first = True\n",
    "#initialization\n",
    "n_try = 1\n",
    "variance = 200\n",
    "expected_values = []\n",
    "interval = 5000\n",
    "n_experiments=20000\n",
    "sw_size = 3000\n",
    "#sw_size = math.isqrt(n_experiments)\n",
    "n_change = (int)(n_experiments/interval)\n",
    "exploration=4.2\n",
    "\n",
    "lambdas = [0.5, 0.42, 0.38, 0.30, 0.2, 0.05]\n",
    "social_network = social_network_environment()\n",
    "social_network.init_from_json(\n",
    "    json_path_network='Config/network.json', json_path_features='Config/features.json')\n",
    "\n",
    "\n",
    "\n",
    "\n",
    "with open(\"Config/estimated_influence.json\", \"r\"):\n",
    "    data = json.load(open(\"Config/estimated_influence.json\"))\n",
    "\n",
    "active_by_influence_reward = np.array(data.get(\"estimated_influence\"))\n",
    "\n",
    "\n",
    "\n",
    "with open('Config/clairvoyants_sw.json', 'r') as file:\n",
    "    clairvoyants = json.load(file)\n",
    "clairvoyants_first = clairvoyants.get('clairvoyant_f_sw')\n",
    "clairvoyants_all = clairvoyants.get('clairvoyant_a_sw')\n",
    "\n",
    "\n",
    "with open('Config/bids.json', 'r') as file:\n",
    "    bids = json.load(file)\n",
    "    list_of_bids = bids.get('bids')\n",
    "#print(list_of_bids)"
   ],
   "outputs": [],
   "metadata": {}
  },
  {
   "cell_type": "code",
   "execution_count": 2,
   "source": [
    "ts_learner = GTS_SW_Learner(arms, variance=variance, size_SW=sw_size, ad_id=1)\n",
    "ucb_learner = UCB_sw(arms = arms, hyperpar= exploration, window_size= sw_size)\n"
   ],
   "outputs": [],
   "metadata": {}
  },
  {
   "cell_type": "code",
   "execution_count": 3,
   "source": [
    "moving_avarage_only_mean_ts = []\n",
    "\n",
    "moving_avarage_only_ts = experiment(n_experiments, ts_learner, list_of_bids, social_network, arms, only_first, sliding_window = True, interval=interval)\n",
    "moving_avarage_only_mean_ts.append(moving_avarage_only_ts)\n",
    "cum_mov_avarage_only_ts = np.cumsum(np.mean(moving_avarage_only_mean_ts, axis=0))"
   ],
   "outputs": [
    {
     "output_type": "display_data",
     "data": {
      "application/vnd.jupyter.widget-view+json": {
       "version_major": 2,
       "version_minor": 0,
       "model_id": "3779a015c1434c22b8198b57a9a21f52"
      },
      "text/plain": [
       "  0%|          | 0/20000 [00:00<?, ?it/s]"
      ]
     },
     "metadata": {}
    }
   ],
   "metadata": {}
  },
  {
   "cell_type": "code",
   "execution_count": 4,
   "source": [
    "print(cum_mov_avarage_only_ts[-1])"
   ],
   "outputs": [
    {
     "output_type": "stream",
     "name": "stdout",
     "text": [
      "11978.489624360784\n"
     ]
    }
   ],
   "metadata": {}
  },
  {
   "cell_type": "code",
   "execution_count": 5,
   "source": [
    "moving_avarage_only_mean_ucb = []\n",
    "\n",
    "moving_avarage_only_ucb = experiment(n_experiments, ucb_learner, list_of_bids, social_network, arms, only_first, sliding_window = True, interval=interval)\n",
    "moving_avarage_only_mean_ucb.append(moving_avarage_only_ucb)\n",
    "cum_mov_avarage_only_ucb = np.cumsum(np.mean(moving_avarage_only_mean_ucb, axis=0))\n"
   ],
   "outputs": [
    {
     "output_type": "display_data",
     "data": {
      "application/vnd.jupyter.widget-view+json": {
       "version_major": 2,
       "version_minor": 0,
       "model_id": "4b27757f185d410fba2485cb5b119b0d"
      },
      "text/plain": [
       "  0%|          | 0/20000 [00:00<?, ?it/s]"
      ]
     },
     "metadata": {}
    }
   ],
   "metadata": {}
  },
  {
   "cell_type": "code",
   "execution_count": 6,
   "source": [
    "print(cum_mov_avarage_only_ucb[-1])"
   ],
   "outputs": [
    {
     "output_type": "stream",
     "name": "stdout",
     "text": [
      "21413.129779780484\n"
     ]
    }
   ],
   "metadata": {}
  },
  {
   "cell_type": "code",
   "execution_count": 7,
   "source": [
    "clairvoyant_non_cum_only = []\n",
    "for i in range(0, len(clairvoyants_first)):\n",
    "    for j in range(0, interval):\n",
    "        #clairvoyant_non_cum.append(expected_values_list_only[i][index])\n",
    "        clairvoyant_non_cum_only.append(clairvoyants_first[i])\n",
    "\n",
    "clairvoyant_cum_only = clairvoyant_non_cum_only.append(clairvoyant_non_cum_only[-1])\n",
    "clairvoyant_cum_only = np.cumsum(clairvoyant_non_cum_only)\n"
   ],
   "outputs": [],
   "metadata": {}
  },
  {
   "cell_type": "code",
   "execution_count": 8,
   "source": [
    "print(\"Graphic for confront with ads only in first position\")\n",
    "\n",
    "plt.figure(1)\n",
    "plt.ylabel(\"Reward\")\n",
    "plt.xlabel(\"Rounds\")\n",
    "plt.plot(clairvoyant_cum_only, 'r')\n",
    "plt.plot(cum_mov_avarage_only_ts, 'y')\n",
    "plt.plot(cum_mov_avarage_only_ucb, 'b')\n",
    "plt.legend([\"Clairvoyant\", \"TS\", \"UCB1\" ])"
   ],
   "outputs": [
    {
     "output_type": "stream",
     "name": "stdout",
     "text": [
      "Graphic for confront with ads only in first position\n"
     ]
    },
    {
     "output_type": "execute_result",
     "data": {
      "text/plain": [
       "<matplotlib.legend.Legend at 0x11f40c4c0>"
      ]
     },
     "metadata": {},
     "execution_count": 8
    },
    {
     "output_type": "display_data",
     "data": {
      "image/png": "[encoded data removed]",
      "text/plain": [
       "<Figure size 432x288 with 1 Axes>"
      ]
     },
     "metadata": {
      "needs_background": "light"
     }
    }
   ],
   "metadata": {}
  },
  {
   "cell_type": "code",
   "execution_count": 9,
   "source": [
    "ts_learner2 = GTS_SW_Learner(arms, variance=variance, size_SW=sw_size, ad_id=1)\n",
    "ucb_learner2 = UCB_sw(arms = arms, hyperpar= exploration, window_size= sw_size)"
   ],
   "outputs": [],
   "metadata": {}
  },
  {
   "cell_type": "code",
   "execution_count": 10,
   "source": [
    "moving_avarage_all_mean_ts = []\n",
    "\n",
    "moving_avarage_all_ts = experiment(n_experiments, ts_learner2, list_of_bids, social_network, arms, not only_first, sliding_window = True, interval=interval)\n",
    "moving_avarage_all_mean_ts.append(moving_avarage_all_ts)\n",
    "cum_mov_avarage_all_ts = np.cumsum(np.mean(moving_avarage_all_mean_ts, axis=0))"
   ],
   "outputs": [
    {
     "output_type": "display_data",
     "data": {
      "application/vnd.jupyter.widget-view+json": {
       "version_major": 2,
       "version_minor": 0,
       "model_id": "fadda3cab94141efa79d05da10876f07"
      },
      "text/plain": [
       "  0%|          | 0/20000 [00:00<?, ?it/s]"
      ]
     },
     "metadata": {}
    }
   ],
   "metadata": {}
  },
  {
   "cell_type": "code",
   "execution_count": 11,
   "source": [
    "moving_avarage_all_mean_ucb = []\n",
    "\n",
    "moving_avarage_all_ucb = experiment(n_experiments, ucb_learner2, list_of_bids, social_network, arms, not only_first, sliding_window = True, interval=interval)\n",
    "moving_avarage_all_mean_ucb.append(moving_avarage_all_ucb)\n",
    "cum_mov_avarage_all_ucb = np.cumsum(np.mean(moving_avarage_all_mean_ucb, axis=0))"
   ],
   "outputs": [
    {
     "output_type": "display_data",
     "data": {
      "application/vnd.jupyter.widget-view+json": {
       "version_major": 2,
       "version_minor": 0,
       "model_id": "514712f6fe9b41c9a9525a7f432cb081"
      },
      "text/plain": [
       "  0%|          | 0/20000 [00:00<?, ?it/s]"
      ]
     },
     "metadata": {}
    }
   ],
   "metadata": {}
  },
  {
   "cell_type": "code",
   "execution_count": 12,
   "source": [
    "clairvoyant_non_cum_all = []\n",
    "for i in range(0, len(clairvoyants_all)):\n",
    "    for j in range(0, interval):\n",
    "        #clairvoyant_non_cum.append(expected_values_list_only[i][index])\n",
    "        clairvoyant_non_cum_all.append(clairvoyants_all[i])\n",
    "\n",
    "clairvoyant__non_cum_all = clairvoyant_non_cum_all.append(clairvoyant_non_cum_all[-1])\n",
    "clairvoyant_cum_all = np.cumsum(clairvoyant_non_cum_all)\n"
   ],
   "outputs": [],
   "metadata": {}
  },
  {
   "cell_type": "code",
   "execution_count": 13,
   "source": [
    "print(\"Graphic for confront with all ads\")\n",
    "\n",
    "plt.figure(1)\n",
    "plt.ylabel(\"Reward\")\n",
    "plt.xlabel(\"Rounds\")\n",
    "plt.plot(clairvoyant_cum_all, 'r')\n",
    "plt.plot(cum_mov_avarage_all_ts, 'y')\n",
    "plt.plot(cum_mov_avarage_all_ucb, 'b')\n",
    "plt.legend([\"Clairvoyant\", \"TS\", \"UCB1\" ])"
   ],
   "outputs": [
    {
     "output_type": "stream",
     "name": "stdout",
     "text": [
      "Graphic for confront with all ads\n"
     ]
    },
    {
     "output_type": "execute_result",
     "data": {
      "text/plain": [
       "<matplotlib.legend.Legend at 0x11fa2e460>"
      ]
     },
     "metadata": {},
     "execution_count": 13
    },
    {
     "output_type": "display_data",
     "data": {
      "image/png": "[encoded data removed]",
      "text/plain": [
       "<Figure size 432x288 with 1 Axes>"
      ]
     },
     "metadata": {
      "needs_background": "light"
     }
    }
   ],
   "metadata": {}
  }
 ],
 "metadata": {
  "orig_nbformat": 4,
  "language_info": {
   "name": "python",
   "version": "3.8.8",
   "mimetype": "text/x-python",
   "codemirror_mode": {
    "name": "ipython",
    "version": 3
   },
   "pygments_lexer": "ipython3",
   "nbconvert_exporter": "python",
   "file_extension": ".py"
  },
  "kernelspec": {
   "name": "python3",
   "display_name": "Python 3.8.8 64-bit ('projects_env': conda)"
  },
  "interpreter": {
   "hash": "7b65a0b764bf49cc7947e468da38261005013c03fd7f348ce5375f68cfcbfbf1"
  }
 },
 "nbformat": 4,
 "nbformat_minor": 2
}