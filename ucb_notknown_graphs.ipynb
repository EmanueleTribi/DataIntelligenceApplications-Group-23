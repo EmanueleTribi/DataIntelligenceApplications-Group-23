{
 "cells": [
  {
   "cell_type": "code",
   "execution_count": 1,
   "source": [
    "from SocialNetwork.social_network_environment import *\n",
    "from pprint import pprint\n",
    "import numpy as np\n",
    "import matplotlib.pyplot as plt\n",
    "#from SocialNetwork.cascade import *\n",
    "from Advertising.learners.greedyLearner import *\n",
    "from Advertising.learners.UCB_notknown import *\n",
    "seed = 6789 \n",
    "random.seed(seed)\n",
    "deltas=[0.5,0.42,0.38,0.30,0.2,0.05]\n",
    "social_network = social_network_environment()\n",
    "social_network.init_from_json(json_path_network='Config/network.json', json_path_features='Config/features.json')\n",
    "adversary_bids = []\n",
    "for _ in range(0, 10): \n",
    "    adversary_i_bids = []\n",
    "    for _ in range(0, 5):\n",
    "        adversary_i_bids.append(random.randint(0, 4))\n",
    "    adversary_bids.append(adversary_i_bids)\n",
    "#print(evaluate(n_bids=5, n_adversaries=10, social_network=social_network, rounds=5000))\n",
    "\n",
    "\"\"\" for i in range(0, 1):\n",
    "    best_arm = []\n",
    "    print(\"This is UCB number \" + str(i))\n",
    "    best_arm, expected_values, number_of_pulls, index, bounds = ucb(arms_creation(number_of_arms=20, seed=seed), 1000, adversary_bids, array_estimation, social_network, deltas, 1, True)\n",
    "    print(best_arm) \"\"\"\n",
    "\n",
    "for j in range(0, 1):\n",
    "    best_arm2 = []\n",
    "    print(\"This is UCB number \" + str(j))\n",
    "    best_arm2, expected_values2, number_of_pulls2, index2, bounds2 = ucb(arms_creation(number_of_arms=20, seed=seed), 10000, adversary_bids, social_network, deltas, 1, False)\n",
    "    print(best_arm2)\n",
    "\n",
    "print(adversary_bids)"
   ],
   "outputs": [
    {
     "output_type": "stream",
     "name": "stdout",
     "text": [
      "This is UCB number 0\n",
      "[1, 4, 1, 1, 3]\n",
      "[[1, 4, 1, 1, 3], [3, 3, 3, 1, 1], [0, 0, 2, 3, 4], [3, 1, 0, 4, 4], [4, 4, 0, 2, 2], [1, 2, 1, 2, 2], [0, 0, 2, 1, 0], [3, 0, 1, 4, 1], [3, 1, 1, 3, 0], [1, 4, 0, 0, 1]]\n"
     ]
    }
   ],
   "metadata": {}
  },
  {
   "cell_type": "code",
   "execution_count": 2,
   "source": [
    "array = [i+1 for i in range(0, 20)]\n",
    "\"\"\" print(expected_values)\n",
    "print(number_of_pulls)\n",
    "print(index)\n",
    "print(bounds)\n",
    "plt.figure(0)\n",
    "plt.errorbar(array, expected_values, yerr=bounds, fmt='o') \"\"\"\n",
    "\n",
    "print(expected_values2)\n",
    "print(number_of_pulls2)\n",
    "print(index2)\n",
    "print(bounds2)\n",
    "plt.figure(0)\n",
    "plt.errorbar(array, expected_values2, yerr=bounds2, fmt='o')\n",
    "\n",
    "plt.show()"
   ],
   "outputs": [
    {
     "output_type": "stream",
     "name": "stdout",
     "text": [
      "[-4.228947368421056, 0.13859649122806536, 1.7836455545643723, -4.950000000000005, -0.6482456140350926, -0.22171052631579502, 2.0964279891506, -1.9526315789473723, -2.5934210526315855, 1.9981328042945503, -0.3231578947368458, -0.4431578947368472, -7.628947368421061, 1.9666875522138658, 1.7542839657282703, 1.7210314091680783, 1.5511101973684176, -0.5331578947368444, 0.40756578947368016, 1.996054185049399]\n",
      "[1, 6, 177, 1, 3, 4, 7102, 3, 2, 902, 5, 5, 1, 630, 129, 124, 64, 5, 8, 847]\n",
      "6\n",
      "[4.291932052578694, 1.7521739232523108, 0.3226013679778804, 4.291932052578694, 2.4779481258998923, 2.145966026289347, 0.050928689832314536, 2.4779481258998923, 3.034854258770293, 0.1429057057506421, 1.9194103648752325, 1.9194103648752325, 4.291932052578694, 0.17099466595204477, 0.3778835465580907, 0.3854268762908962, 0.5364915065723368, 1.9194103648752325, 1.5174271293851465, 0.14747253058584703]\n"
     ]
    },
    {
     "output_type": "display_data",
     "data": {
      "image/png": "[encoded data removed]",
      "text/plain": [
       "<Figure size 432x288 with 1 Axes>"
      ]
     },
     "metadata": {
      "needs_background": "light"
     }
    }
   ],
   "metadata": {}
  }
 ],
 "metadata": {
  "orig_nbformat": 4,
  "language_info": {
   "name": "python",
   "version": "3.8.8",
   "mimetype": "text/x-python",
   "codemirror_mode": {
    "name": "ipython",
    "version": 3
   },
   "pygments_lexer": "ipython3",
   "nbconvert_exporter": "python",
   "file_extension": ".py"
  },
  "kernelspec": {
   "name": "python3",
   "display_name": "Python 3.8.8 64-bit ('projects_env': conda)"
  },
  "interpreter": {
   "hash": "7b65a0b764bf49cc7947e468da38261005013c03fd7f348ce5375f68cfcbfbf1"
  }
 },
 "nbformat": 4,
 "nbformat_minor": 2
}