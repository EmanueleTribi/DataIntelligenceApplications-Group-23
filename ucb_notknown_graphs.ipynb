{
 "cells": [
  {
   "cell_type": "code",
   "execution_count": 1,
   "source": [
    "from SocialNetwork.social_network_environment import *\r\n",
    "from pprint import pprint\r\n",
    "import numpy as np\r\n",
    "import matplotlib.pyplot as plt\r\n",
    "#from SocialNetwork.cascade import *\r\n",
    "from Advertising.learners.greedyLearner import *\r\n",
    "from Advertising.learners.UCB_no_anything import *\r\n",
    "seed = 6789 \r\n",
    "random.seed(seed)\r\n",
    "deltas=[0.5,0.42,0.38,0.30,0.2,0.05]\r\n",
    "social_network = social_network_environment()\r\n",
    "social_network.init_from_json(json_path_network='Config/network.json', json_path_features='Config/features.json')\r\n",
    "adversary_bids = []\r\n",
    "for _ in range(0, 10): \r\n",
    "    adversary_i_bids = []\r\n",
    "    for _ in range(0, 5):\r\n",
    "        adversary_i_bids.append(random.randint(0, 4))\r\n",
    "    adversary_bids.append(adversary_i_bids)\r\n",
    "#print(adversary_bids)\r\n",
    "#print(evaluate(n_bids=5, n_adversaries=10, social_network=social_network, rounds=5000))\r\n",
    "\r\n",
    "\"\"\" for i in range(0, 1):\r\n",
    "    best_arm = []\r\n",
    "    print(\"This is UCB number \" + str(i))\r\n",
    "    best_arm, expected_values, number_of_pulls, index, bounds = ucb(arms_creation(number_of_arms=20, seed=seed), 1000, adversary_bids, array_estimation, social_network, deltas, 1, True)\r\n",
    "    print(best_arm) \"\"\"\r\n",
    "\r\n",
    "\"\"\" bounds=[]\r\n",
    "expected_values=[]\r\n",
    "number_of_pulls=[]\r\n",
    "indexes=[] \"\"\"\r\n",
    "for j in range(0, 1):\r\n",
    "    best_arm2 = []\r\n",
    "    #print(\"This is UCB number \" + str(j))\r\n",
    "    best_arm2, expected_values2, number_of_pulls2, index2, bounds2 = ucb(arms_creation(number_of_arms=20, seed=30291), 5000, adversary_bids, social_network, deltas, 1)\r\n",
    "    #print(best_arm2)\r\n",
    "    #bounds.append(bounds2)\r\n",
    "    #expected_values.append(expected_values2)\r\n",
    "    #number_of_pulls.append(number_of_pulls2)\r\n",
    "    #indexes.append(index2)\r\n",
    "#print(number_of_pulls2)"
   ],
   "outputs": [],
   "metadata": {}
  },
  {
   "cell_type": "code",
   "execution_count": 2,
   "source": [
    "array = [i+1 for i in range(1, 21)]\r\n",
    "print(best_arm2)\r\n",
    "print(bounds2)\r\n",
    "print(number_of_pulls2)\r\n",
    "print(expected_values2)\r\n",
    "plt.figure(0)\r\n",
    "plt.errorbar(array, expected_values2, yerr=bounds2, fmt='o') \r\n",
    "\r\n",
    "\r\n",
    "#print(expected_values2[index2])"
   ],
   "outputs": [
    {
     "output_type": "stream",
     "name": "stdout",
     "text": [
      "[2, 3, 2, 1, 1]\n",
      "[2.3164264958319376, 1.8692324497192192, 2.451475375332842, 1.623529228588261, 1.38787463363019, 0.46196727288492684, 2.2378806037304018, 3.3995846793461117, 2.7408327922055227, 12.25737687666421, 5.004053155469449, 1.3704163961027613, 1.9142806577150622, 1.9380614534669847, 6.128688438332105, 0.2020019897991865, 2.5020265777347244, 3.1648411007672244, 1.8478690915397074, 1.3373894609265509]\n",
      "[28, 43, 25, 57, 78, 704, 30, 13, 20, 1, 6, 80, 41, 40, 4, 3682, 24, 15, 44, 84]\n",
      "[0.0, 0.38226438188494305, -0.1935057644110272, 0.6252631578947356, 0.9615811965811975, 1.88075892857143, 0.0653508771929827, -1.3700000000000032, -0.4704999999999989, -15.541428571428577, -3.0603508771929824, 0.9433750000000007, 0.35423620025674185, 0.2819999999999984, -5.85, 2.1672661079640934, -0.20307017543859848, -0.8839999999999965, 0.4809090909090928, 0.9486424394319124]\n"
     ]
    },
    {
     "output_type": "execute_result",
     "data": {
      "text/plain": [
       "<ErrorbarContainer object of 3 artists>"
      ]
     },
     "metadata": {},
     "execution_count": 2
    },
    {
     "output_type": "display_data",
     "data": {
      "image/png": "[encoded data removed]",
      "text/plain": [
       "<Figure size 432x288 with 1 Axes>"
      ]
     },
     "metadata": {
      "needs_background": "light"
     }
    }
   ],
   "metadata": {}
  }
 ],
 "metadata": {
  "orig_nbformat": 4,
  "language_info": {
   "name": "python",
   "version": "3.8.3",
   "mimetype": "text/x-python",
   "codemirror_mode": {
    "name": "ipython",
    "version": 3
   },
   "pygments_lexer": "ipython3",
   "nbconvert_exporter": "python",
   "file_extension": ".py"
  },
  "kernelspec": {
   "name": "python3",
   "display_name": "Python 3.8.3 64-bit ('base': conda)"
  },
  "interpreter": {
   "hash": "c6f967de16b0bff6e471d965b97f90b6b70e6b627c25a55181a3ca712f1e785a"
  }
 },
 "nbformat": 4,
 "nbformat_minor": 2
}