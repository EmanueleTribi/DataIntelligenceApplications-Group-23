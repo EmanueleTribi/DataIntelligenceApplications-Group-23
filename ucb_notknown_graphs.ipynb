{
 "cells": [
  {
   "cell_type": "code",
   "execution_count": 1,
   "source": [
    "from SocialNetwork.social_network_environment import *\r\n",
    "from pprint import pprint\r\n",
    "import numpy as np\r\n",
    "import matplotlib.pyplot as plt\r\n",
    "#from SocialNetwork.cascade import *\r\n",
    "from Advertising.learners.greedyLearner import *\r\n",
    "from Advertising.learners.UCB_no_anything import *\r\n",
    "seed = 6789 \r\n",
    "random.seed(seed)\r\n",
    "deltas=[0.5,0.42,0.38,0.30,0.2,0.05]\r\n",
    "social_network = social_network_environment()\r\n",
    "social_network.init_from_json(json_path_network='Config/network.json', json_path_features='Config/features.json')\r\n",
    "adversary_bids = []\r\n",
    "for _ in range(0, 10): \r\n",
    "    adversary_i_bids = []\r\n",
    "    for _ in range(0, 5):\r\n",
    "        adversary_i_bids.append(random.randint(0, 4))\r\n",
    "    adversary_bids.append(adversary_i_bids)\r\n",
    "#print(adversary_bids)\r\n",
    "#print(evaluate(n_bids=5, n_adversaries=10, social_network=social_network, rounds=5000))\r\n",
    "\r\n",
    "\"\"\" for i in range(0, 1):\r\n",
    "    best_arm = []\r\n",
    "    print(\"This is UCB number \" + str(i))\r\n",
    "    best_arm, expected_values, number_of_pulls, index, bounds = ucb(arms_creation(number_of_arms=20, seed=seed), 1000, adversary_bids, array_estimation, social_network, deltas, 1, True)\r\n",
    "    print(best_arm) \"\"\"\r\n",
    "\r\n",
    "\"\"\" bounds=[]\r\n",
    "expected_values=[]\r\n",
    "number_of_pulls=[]\r\n",
    "indexes=[] \"\"\"\r\n",
    "for j in range(0, 1):\r\n",
    "    best_arm2 = []\r\n",
    "    #print(\"This is UCB number \" + str(j))\r\n",
    "    best_arm2, expected_values2, number_of_pulls2, index2, bounds2 = ucb(arms_creation(number_of_arms=20, seed=30291), 5000, adversary_bids, social_network, deltas, 1)\r\n",
    "    #print(best_arm2)\r\n",
    "    #bounds.append(bounds2)\r\n",
    "    #expected_values.append(expected_values2)\r\n",
    "    #number_of_pulls.append(number_of_pulls2)\r\n",
    "    #indexes.append(index2)\r\n",
    "#print(number_of_pulls2)"
   ],
   "outputs": [],
   "metadata": {}
  },
  {
   "cell_type": "code",
   "execution_count": 2,
   "source": [
    "array = [i+1 for i in range(1, 21)]\r\n",
    "print(best_arm2)\r\n",
    "print(bounds2)\r\n",
    "print(number_of_pulls2)\r\n",
    "print(expected_values2)\r\n",
    "plt.figure(0)\r\n",
    "plt.errorbar(array, expected_values2, yerr=bounds2, fmt='o') \r\n",
    "\r\n",
    "\r\n",
    "#print(expected_values2[index2])"
   ],
   "outputs": [
    {
     "output_type": "stream",
     "name": "stdout",
     "text": [
      "[2, 3, 2, 1, 1]\n",
      "[2.4038693799835302, 2.451475375332842, 2.201489875989282, 1.7334548618096892, 1.087666315987454, 0.47143757217939264, 3.3995846793461117, 2.889091436349482, 3.27592176664591, 3.3995846793461117, 3.3995846793461117, 1.213661159776817, 1.3704163961027613, 1.8272218614703486, 12.25737687666421, 0.20266357013958608, 1.9380614534669847, 2.1668185772621116, 2.2378806037304018, 2.451475375332842]\n",
      "[26, 25, 31, 50, 127, 676, 13, 18, 14, 13, 13, 102, 80, 45, 1, 3658, 40, 32, 30, 25]\n",
      "[0.0, -0.2212842105263158, 0.04875576036866363, 0.6751999999999987, 1.3502099737532816, 1.9555980557903643, -1.3115384615384622, -0.6072222222222259, -1.1035714285714273, -1.359450549450552, -1.172145748987855, 1.1826143790849681, 0.9962631578947384, 0.5399999999999985, -10.309999999999995, 2.238228019474601, 0.4496052631578933, 0.221250000000002, 0.17266666666666802, -0.022260651629073643]\n"
     ]
    },
    {
     "output_type": "execute_result",
     "data": {
      "text/plain": [
       "<ErrorbarContainer object of 3 artists>"
      ]
     },
     "metadata": {},
     "execution_count": 2
    },
    {
     "output_type": "display_data",
     "data": {
      "image/png": "[encoded data removed]",
      "text/plain": [
       "<Figure size 432x288 with 1 Axes>"
      ]
     },
     "metadata": {
      "needs_background": "light"
     }
    }
   ],
   "metadata": {}
  }
 ],
 "metadata": {
  "orig_nbformat": 4,
  "language_info": {
   "name": "python",
   "version": "3.8.3",
   "mimetype": "text/x-python",
   "codemirror_mode": {
    "name": "ipython",
    "version": 3
   },
   "pygments_lexer": "ipython3",
   "nbconvert_exporter": "python",
   "file_extension": ".py"
  },
  "kernelspec": {
   "name": "python3",
   "display_name": "Python 3.8.3 64-bit ('base': conda)"
  },
  "interpreter": {
   "hash": "c6f967de16b0bff6e471d965b97f90b6b70e6b627c25a55181a3ca712f1e785a"
  }
 },
 "nbformat": 4,
 "nbformat_minor": 2
}