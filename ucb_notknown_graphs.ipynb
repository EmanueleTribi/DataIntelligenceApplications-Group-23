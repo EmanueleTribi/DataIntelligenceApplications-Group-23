{
 "cells": [
  {
   "cell_type": "code",
   "execution_count": 1,
   "source": [
    "from SocialNetwork.social_network_environment import *\r\n",
    "from pprint import pprint\r\n",
    "import numpy as np\r\n",
    "import matplotlib.pyplot as plt\r\n",
    "#from SocialNetwork.cascade import *\r\n",
    "from Advertising.learners.greedyLearner import *\r\n",
    "from Advertising.learners.UCB_no_anything import *\r\n",
    "from Advertising.learners.UCB_no_qualities import *\r\n",
    "seed = 6789 \r\n",
    "random.seed(seed)\r\n",
    "deltas=[0.5,0.42,0.38,0.30,0.2,0.05]\r\n",
    "social_network = social_network_environment()\r\n",
    "social_network.init_from_json(json_path_network='Config/network.json', json_path_features='Config/features.json')\r\n",
    "adversary_bids = []\r\n",
    "for _ in range(0, 10): \r\n",
    "    adversary_i_bids = []\r\n",
    "    for _ in range(0, 5):\r\n",
    "        adversary_i_bids.append(random.randint(0, 4))\r\n",
    "    adversary_bids.append(adversary_i_bids)\r\n",
    "#print(adversary_bids)\r\n",
    "#print(evaluate(n_bids=5, n_adversaries=10, social_network=social_network, rounds=5000))\r\n",
    "array_estimation = compute_array_estimated_influence(social_network, 6000)\r\n"
   ],
   "outputs": [
    {
     "output_type": "stream",
     "name": "stdout",
     "text": [
      "Doing node number 0\n",
      "Doing node number 1\n",
      "Doing node number 2\n",
      "Doing node number 3\n",
      "Doing node number 4\n",
      "Doing node number 5\n",
      "Doing node number 6\n",
      "Doing node number 7\n",
      "Doing node number 8\n",
      "Doing node number 9\n",
      "Doing node number 10\n",
      "Doing node number 11\n",
      "Doing node number 12\n",
      "Doing node number 13\n",
      "Doing node number 14\n",
      "Doing node number 15\n",
      "Doing node number 16\n",
      "Doing node number 17\n",
      "Doing node number 18\n",
      "Doing node number 19\n",
      "Doing node number 20\n",
      "Doing node number 21\n",
      "Doing node number 22\n",
      "Doing node number 23\n",
      "Doing node number 24\n",
      "Doing node number 25\n",
      "Doing node number 26\n",
      "Doing node number 27\n",
      "Doing node number 28\n",
      "Doing node number 29\n",
      "Doing node number 30\n",
      "Doing node number 31\n",
      "Doing node number 32\n",
      "Doing node number 33\n",
      "Doing node number 34\n",
      "Doing node number 35\n",
      "Doing node number 36\n",
      "Doing node number 37\n",
      "Doing node number 38\n",
      "Doing node number 39\n",
      "Doing node number 40\n",
      "Doing node number 41\n",
      "Doing node number 42\n",
      "Doing node number 43\n",
      "Doing node number 44\n",
      "Doing node number 45\n",
      "Doing node number 46\n",
      "Doing node number 47\n",
      "Doing node number 48\n",
      "Doing node number 49\n"
     ]
    }
   ],
   "metadata": {}
  },
  {
   "cell_type": "code",
   "execution_count": 9,
   "source": [
    "for i in range(0, 1):\r\n",
    "    \r\n",
    "    #print(\"This is UCB number \" + str(i))\r\n",
    "    best_arm_no_qualities, expected_values_no_qualities, number_of_pulls_no_qualities, index_no_qualities, bounds_no_qualities, plotting_no_qualities = ucb_no_qualities(arms_creation(number_of_arms=20, seed=30291), 15000, adversary_bids, array_estimation, social_network, deltas, 1, True)\r\n",
    "    print(best_arm_no_qualities)\r\n",
    "    print(expected_values_no_qualities[index_no_qualities])\r\n",
    "print(\"Done first no quality\")\r\n"
   ],
   "outputs": [
    {
     "output_type": "stream",
     "name": "stdout",
     "text": [
      "[3, 3, 4, 2, 3]\n",
      "1.933186544036573\n",
      "Done first no quality\n"
     ]
    }
   ],
   "metadata": {}
  },
  {
   "cell_type": "code",
   "execution_count": 12,
   "source": [
    "plt.figure(2)\r\n",
    "array = [i+1 for i in range(1, 21)]\r\n",
    "plt.errorbar(array, expected_values_no_qualities, yerr=bounds_no_qualities, fmt='o')\r\n",
    "print(index_no_qualities)\r\n"
   ],
   "outputs": [
    {
     "output_type": "stream",
     "name": "stdout",
     "text": [
      "1\n"
     ]
    },
    {
     "output_type": "display_data",
     "data": {
      "image/png": "[encoded data removed]",
      "text/plain": [
       "<Figure size 432x288 with 1 Axes>"
      ]
     },
     "metadata": {
      "needs_background": "light"
     }
    }
   ],
   "metadata": {}
  },
  {
   "cell_type": "code",
   "execution_count": null,
   "source": [
    "for i in range(0, 6):\r\n",
    "    \r\n",
    "    #print(\"This is UCB number \" + str(i))\r\n",
    "    best_arm_no_qualities2, expected_values_no_qualities2, number_of_pulls_no_qualities2, index_no_qualities2, bounds_no_qualities2, plotting_no_qualities2 = ucb_no_qualities(arms_creation(number_of_arms=100, seed=30291), 15000, adversary_bids, array_estimation, social_network, deltas, 1)\r\n",
    "    print(best_arm_no_qualities2)\r\n",
    "    print(expected_values_no_qualities2[index_no_qualities2])\r\n",
    "print(\"Done second no quality\")"
   ],
   "outputs": [],
   "metadata": {}
  },
  {
   "cell_type": "code",
   "execution_count": 4,
   "source": [
    "for i in range(0, 1):\r\n",
    "    \r\n",
    "    \r\n",
    "    best_arm, expected_values, number_of_pulls, index, bounds, plotting = ucb(arms_creation(number_of_arms=100, seed=30291), 15000, adversary_bids, social_network, deltas, 1, True)\r\n",
    "    \r\n",
    "print(\"Done first no anything\")\r\n",
    "\"\"\" bounds=[]\r\n",
    "expected_values=[]\r\n",
    "number_of_pulls=[]\r\n",
    "indexes=[] \"\"\"\r\n",
    "for j in range(0, 1):\r\n",
    "    \r\n",
    "    #print(\"This is UCB number \" + str(j))\r\n",
    "    best_arm2, expected_values2, number_of_pulls2, index2, bounds2, plotting2 = ucb(arms_creation(number_of_arms=100, seed=30291), 15000, adversary_bids, social_network, deltas, 1)\r\n",
    "    #print(best_arm2)\r\n",
    "    #bounds.append(bounds2)\r\n",
    "    #expected_values.append(expected_values2)\r\n",
    "    #number_of_pulls.append(number_of_pulls2)\r\n",
    "    #indexes.append(index2)\r\n",
    "#print(number_of_pulls2)\r\n",
    "print(\"Done second no anything\")"
   ],
   "outputs": [
    {
     "output_type": "stream",
     "name": "stdout",
     "text": [
      "Done first no anything\n",
      "Done second no anything\n"
     ]
    }
   ],
   "metadata": {}
  },
  {
   "cell_type": "code",
   "execution_count": 8,
   "source": [
    "array = [i+1 for i in range(1, 101)]\r\n",
    "plt.figure(0)\r\n",
    "plt.ylim(-2, 4)\r\n",
    "print(best_arm_no_qualities)\r\n",
    "print(best_arm_no_qualities2)\r\n",
    "print(best_arm)\r\n",
    "print(best_arm2)\r\n",
    "print(number_of_pulls_no_qualities[index_no_qualities2]) \r\n",
    "print(number_of_pulls_no_qualities2[index_no_qualities2])\r\n",
    "print(number_of_pulls[index_no_qualities2])\r\n",
    "print(number_of_pulls2[index_no_qualities2])\r\n",
    "plt.plot(np.array(plotting_no_qualities), 'b') #punto 4, solo prima posizione blu\r\n",
    "plt.plot(np.array(plotting_no_qualities2), 'y') #punto 4, tutte le posizioni giallo\r\n",
    "plt.plot(np.array(plotting), 'r')  #punto 5, solo prima posizione rosso\r\n",
    "plt.plot(np.array(plotting2), 'g')  #punto 5,tutte le posizioni verde\r\n",
    "\r\n",
    "\r\n",
    "#print(best_arm2)\r\n",
    "plt.show()\r\n",
    "\r\n",
    "plt.figure(1)\r\n",
    "plt.errorbar(array, expected_values2, yerr=bounds2)\r\n",
    "plt.show\r\n",
    "#print(expected_values2[index2])\r\n",
    "print(expected_values_no_qualities[index_no_qualities])\r\n",
    "print(expected_values_no_qualities2[index_no_qualities2])\r\n",
    "print(expected_values[index])\r\n",
    "print(expected_values2[index2])"
   ],
   "outputs": [
    {
     "output_type": "stream",
     "name": "stdout",
     "text": [
      "[1, 3, 4, 3, 1]\n",
      "[2, 2, 1, 2, 1]\n",
      "[2, 3, 1, 2, 3]\n",
      "[2, 3, 1, 2, 3]\n",
      "31\n",
      "2911\n",
      "143\n",
      "557\n"
     ]
    },
    {
     "output_type": "display_data",
     "data": {
      "image/png": "[encoded data removed]",
      "text/plain": [
       "<Figure size 432x288 with 1 Axes>"
      ]
     },
     "metadata": {
      "needs_background": "light"
     }
    },
    {
     "output_type": "stream",
     "name": "stdout",
     "text": [
      "2.0171639682400286\n",
      "2.371901778980102\n",
      "2.2665527366929163\n",
      "2.262590195954449\n"
     ]
    },
    {
     "output_type": "display_data",
     "data": {
      "image/png": "[encoded data removed]",
      "text/plain": [
       "<Figure size 432x288 with 1 Axes>"
      ]
     },
     "metadata": {
      "needs_background": "light"
     }
    }
   ],
   "metadata": {}
  },
  {
   "cell_type": "code",
   "execution_count": 6,
   "source": [
    "for i in range(0, 6):\r\n",
    "    \r\n",
    "    #print(\"This is UCB number \" + str(i))\r\n",
    "    best_arm_no_qualities, expected_values_no_qualities, number_of_pulls_no_qualities, index_no_qualities, bounds_no_qualities, plotting_no_qualities = ucb_no_qualities(arms_creation(number_of_arms=100, seed=30291), 15000, adversary_bids, array_estimation, social_network, deltas, 1, True)\r\n",
    "    print(best_arm_no_qualities)\r\n",
    "print(\"Done first no quality\")\r\n",
    "for i in range(0, 6):\r\n",
    "    \r\n",
    "    #print(\"This is UCB number \" + str(i))\r\n",
    "    best_arm_no_qualities2, expected_values_no_qualities2, number_of_pulls_no_qualities2, index_no_qualities2, bounds_no_qualities2, plotting_no_qualities2 = ucb_no_qualities(arms_creation(number_of_arms=100, seed=30291), 15000, adversary_bids, array_estimation, social_network, deltas, 1)\r\n",
    "    #print(best_arm)\r\n",
    "print(\"Done second no quality\")"
   ],
   "outputs": [
    {
     "output_type": "stream",
     "name": "stdout",
     "text": [
      "[0, 2, 4, 3, 1]\n",
      "[3, 2, 3, 2, 2]\n",
      "[0, 2, 4, 3, 1]\n",
      "[2, 2, 3, 1, 0]\n",
      "[3, 0, 3, 1, 2]\n",
      "[1, 3, 4, 3, 1]\n",
      "Done first no quality\n"
     ]
    },
    {
     "output_type": "error",
     "ename": "KeyboardInterrupt",
     "evalue": "",
     "traceback": [
      "\u001b[1;31m---------------------------------------------------------------------------\u001b[0m",
      "\u001b[1;31mKeyboardInterrupt\u001b[0m                         Traceback (most recent call last)",
      "\u001b[1;32m<ipython-input-6-8b1255f25559>\u001b[0m in \u001b[0;36m<module>\u001b[1;34m\u001b[0m\n\u001b[0;32m      8\u001b[0m \u001b[1;33m\u001b[0m\u001b[0m\n\u001b[0;32m      9\u001b[0m     \u001b[1;31m#print(\"This is UCB number \" + str(i))\u001b[0m\u001b[1;33m\u001b[0m\u001b[1;33m\u001b[0m\u001b[1;33m\u001b[0m\u001b[0m\n\u001b[1;32m---> 10\u001b[1;33m     \u001b[0mbest_arm_no_qualities2\u001b[0m\u001b[1;33m,\u001b[0m \u001b[0mexpected_values_no_qualities2\u001b[0m\u001b[1;33m,\u001b[0m \u001b[0mnumber_of_pulls_no_qualities2\u001b[0m\u001b[1;33m,\u001b[0m \u001b[0mindex_no_qualities2\u001b[0m\u001b[1;33m,\u001b[0m \u001b[0mbounds_no_qualities2\u001b[0m\u001b[1;33m,\u001b[0m \u001b[0mplotting_no_qualities2\u001b[0m \u001b[1;33m=\u001b[0m \u001b[0mucb_no_qualities\u001b[0m\u001b[1;33m(\u001b[0m\u001b[0marms_creation\u001b[0m\u001b[1;33m(\u001b[0m\u001b[0mnumber_of_arms\u001b[0m\u001b[1;33m=\u001b[0m\u001b[1;36m100\u001b[0m\u001b[1;33m,\u001b[0m \u001b[0mseed\u001b[0m\u001b[1;33m=\u001b[0m\u001b[1;36m30291\u001b[0m\u001b[1;33m)\u001b[0m\u001b[1;33m,\u001b[0m \u001b[1;36m15000\u001b[0m\u001b[1;33m,\u001b[0m \u001b[0madversary_bids\u001b[0m\u001b[1;33m,\u001b[0m \u001b[0marray_estimation\u001b[0m\u001b[1;33m,\u001b[0m \u001b[0msocial_network\u001b[0m\u001b[1;33m,\u001b[0m \u001b[0mdeltas\u001b[0m\u001b[1;33m,\u001b[0m \u001b[1;36m1\u001b[0m\u001b[1;33m)\u001b[0m\u001b[1;33m\u001b[0m\u001b[1;33m\u001b[0m\u001b[0m\n\u001b[0m\u001b[0;32m     11\u001b[0m     \u001b[1;31m#print(best_arm)\u001b[0m\u001b[1;33m\u001b[0m\u001b[1;33m\u001b[0m\u001b[1;33m\u001b[0m\u001b[0m\n\u001b[0;32m     12\u001b[0m \u001b[0mprint\u001b[0m\u001b[1;33m(\u001b[0m\u001b[1;34m\"Done second no quality\"\u001b[0m\u001b[1;33m)\u001b[0m\u001b[1;33m\u001b[0m\u001b[1;33m\u001b[0m\u001b[0m\n",
      "\u001b[1;32mc:\\Users\\Giulio Alizoni\\Documents\\GitHub\\DirezioneInvestigativaAntimafia-DIA-\\Advertising\\learners\\UCB_no_qualities.py\u001b[0m in \u001b[0;36mucb_no_qualities\u001b[1;34m(arms, n_rounds, adversary_bids, active_by_influence_reward, social_network, deltas, learner_id, only_first)\u001b[0m\n\u001b[0;32m    111\u001b[0m                         \u001b[0mbest_allocation\u001b[0m\u001b[1;33m[\u001b[0m\u001b[0mj\u001b[0m\u001b[1;33m]\u001b[0m \u001b[1;33m=\u001b[0m \u001b[0mtemp_allocation\u001b[0m\u001b[1;33m\u001b[0m\u001b[1;33m\u001b[0m\u001b[0m\n\u001b[0;32m    112\u001b[0m \u001b[1;33m\u001b[0m\u001b[0m\n\u001b[1;32m--> 113\u001b[1;33m         \u001b[0mpayments\u001b[0m \u001b[1;33m=\u001b[0m \u001b[0mvcg\u001b[0m\u001b[1;33m.\u001b[0m\u001b[0mpayments\u001b[0m\u001b[1;33m(\u001b[0m\u001b[0mad_allocation_list\u001b[0m\u001b[1;33m,\u001b[0m \u001b[0mbest_allocation\u001b[0m\u001b[1;33m,\u001b[0m \u001b[0msocial_network\u001b[0m\u001b[1;33m)\u001b[0m\u001b[1;33m\u001b[0m\u001b[1;33m\u001b[0m\u001b[0m\n\u001b[0m\u001b[0;32m    114\u001b[0m         \u001b[0mactive_nodes\u001b[0m\u001b[1;33m,\u001b[0m \u001b[0mclick_rewards\u001b[0m \u001b[1;33m=\u001b[0m \u001b[0mactive_nodes_click\u001b[0m\u001b[1;33m(\u001b[0m\u001b[0msocial_network\u001b[0m\u001b[1;33m,\u001b[0m \u001b[0mbest_allocation\u001b[0m\u001b[1;33m,\u001b[0m \u001b[0mdeltas\u001b[0m\u001b[1;33m,\u001b[0m \u001b[0mlearner_id\u001b[0m\u001b[1;33m)\u001b[0m\u001b[1;33m\u001b[0m\u001b[1;33m\u001b[0m\u001b[0m\n\u001b[0;32m    115\u001b[0m         \u001b[0mpayments_tot\u001b[0m \u001b[1;33m=\u001b[0m \u001b[0mcalculate_total_payment\u001b[0m\u001b[1;33m(\u001b[0m\u001b[0mpayments\u001b[0m\u001b[1;33m,\u001b[0m \u001b[0msocial_network\u001b[0m\u001b[1;33m.\u001b[0m\u001b[0mcategories\u001b[0m\u001b[1;33m,\u001b[0m \u001b[0mactive_nodes\u001b[0m\u001b[1;33m)\u001b[0m\u001b[1;33m\u001b[0m\u001b[1;33m\u001b[0m\u001b[0m\n",
      "\u001b[1;32mc:\\Users\\Giulio Alizoni\\Documents\\GitHub\\DirezioneInvestigativaAntimafia-DIA-\\Advertising\\enviroment\\VCG.py\u001b[0m in \u001b[0;36mpayments\u001b[1;34m(self, bids, best_allocation, social_network)\u001b[0m\n\u001b[0;32m     59\u001b[0m                     \u001b[1;31m#NB - np.delete() removes the INDEX, so we remove the first one - first player\u001b[0m\u001b[1;33m\u001b[0m\u001b[1;33m\u001b[0m\u001b[1;33m\u001b[0m\u001b[0m\n\u001b[0;32m     60\u001b[0m                     \u001b[0mauxiliary\u001b[0m \u001b[1;33m=\u001b[0m \u001b[0mnp\u001b[0m\u001b[1;33m.\u001b[0m\u001b[0mdelete\u001b[0m\u001b[1;33m(\u001b[0m\u001b[0mbids\u001b[0m\u001b[1;33m[\u001b[0m\u001b[0mi\u001b[0m\u001b[1;33m]\u001b[0m\u001b[1;33m,\u001b[0m \u001b[1;36m0\u001b[0m\u001b[1;33m)\u001b[0m\u001b[1;33m\u001b[0m\u001b[1;33m\u001b[0m\u001b[0m\n\u001b[1;32m---> 61\u001b[1;33m                     auxiliary_allocation = self.best_allocation(bids=auxiliary, campaign=i+1, \n\u001b[0m\u001b[0;32m     62\u001b[0m                                 social_network=social_network, allocation_length=6) \n\u001b[0;32m     63\u001b[0m \u001b[1;33m\u001b[0m\u001b[0m\n",
      "\u001b[1;32mc:\\Users\\Giulio Alizoni\\Documents\\GitHub\\DirezioneInvestigativaAntimafia-DIA-\\Advertising\\enviroment\\VCG.py\u001b[0m in \u001b[0;36mbest_allocation\u001b[1;34m(self, bids, campaign, social_network, allocation_length)\u001b[0m\n\u001b[0;32m     34\u001b[0m             \u001b[1;32mif\u001b[0m\u001b[1;33m(\u001b[0m\u001b[0mitem\u001b[0m\u001b[1;33m.\u001b[0m\u001b[0mbid\u001b[0m \u001b[1;33m!=\u001b[0m \u001b[1;36m0\u001b[0m\u001b[1;33m)\u001b[0m\u001b[1;33m:\u001b[0m\u001b[1;33m\u001b[0m\u001b[1;33m\u001b[0m\u001b[0m\n\u001b[0;32m     35\u001b[0m                 \u001b[0mbest_allocation\u001b[0m\u001b[1;33m.\u001b[0m\u001b[0mappend\u001b[0m\u001b[1;33m(\u001b[0m\u001b[0mitem\u001b[0m\u001b[1;33m)\u001b[0m\u001b[1;33m\u001b[0m\u001b[1;33m\u001b[0m\u001b[0m\n\u001b[1;32m---> 36\u001b[1;33m             \u001b[0mausiliary_array\u001b[0m \u001b[1;33m=\u001b[0m \u001b[0mnp\u001b[0m\u001b[1;33m.\u001b[0m\u001b[0mdelete\u001b[0m\u001b[1;33m(\u001b[0m\u001b[0mausiliary_array\u001b[0m\u001b[1;33m,\u001b[0m \u001b[0mnp\u001b[0m\u001b[1;33m.\u001b[0m\u001b[0mwhere\u001b[0m\u001b[1;33m(\u001b[0m\u001b[0mnp\u001b[0m\u001b[1;33m.\u001b[0m\u001b[0marray\u001b[0m\u001b[1;33m(\u001b[0m\u001b[0mausiliary_array\u001b[0m\u001b[1;33m)\u001b[0m \u001b[1;33m==\u001b[0m \u001b[0mitem\u001b[0m\u001b[1;33m)\u001b[0m\u001b[1;33m)\u001b[0m\u001b[1;33m\u001b[0m\u001b[1;33m\u001b[0m\u001b[0m\n\u001b[0m\u001b[0;32m     37\u001b[0m \u001b[1;33m\u001b[0m\u001b[0m\n\u001b[0;32m     38\u001b[0m \u001b[1;33m\u001b[0m\u001b[0m\n",
      "\u001b[1;32m<__array_function__ internals>\u001b[0m in \u001b[0;36mdelete\u001b[1;34m(*args, **kwargs)\u001b[0m\n",
      "\u001b[1;32m~\\anaconda3\\lib\\site-packages\\numpy\\lib\\function_base.py\u001b[0m in \u001b[0;36mdelete\u001b[1;34m(arr, obj, axis)\u001b[0m\n\u001b[0;32m   4464\u001b[0m     \u001b[1;32melse\u001b[0m\u001b[1;33m:\u001b[0m\u001b[1;33m\u001b[0m\u001b[1;33m\u001b[0m\u001b[0m\n\u001b[0;32m   4465\u001b[0m         \u001b[0m_obj\u001b[0m \u001b[1;33m=\u001b[0m \u001b[0mobj\u001b[0m\u001b[1;33m\u001b[0m\u001b[1;33m\u001b[0m\u001b[0m\n\u001b[1;32m-> 4466\u001b[1;33m         \u001b[0mobj\u001b[0m \u001b[1;33m=\u001b[0m \u001b[0mnp\u001b[0m\u001b[1;33m.\u001b[0m\u001b[0masarray\u001b[0m\u001b[1;33m(\u001b[0m\u001b[0mobj\u001b[0m\u001b[1;33m)\u001b[0m\u001b[1;33m\u001b[0m\u001b[1;33m\u001b[0m\u001b[0m\n\u001b[0m\u001b[0;32m   4467\u001b[0m         \u001b[1;32mif\u001b[0m \u001b[0mobj\u001b[0m\u001b[1;33m.\u001b[0m\u001b[0msize\u001b[0m \u001b[1;33m==\u001b[0m \u001b[1;36m0\u001b[0m \u001b[1;32mand\u001b[0m \u001b[1;32mnot\u001b[0m \u001b[0misinstance\u001b[0m\u001b[1;33m(\u001b[0m\u001b[0m_obj\u001b[0m\u001b[1;33m,\u001b[0m \u001b[0mnp\u001b[0m\u001b[1;33m.\u001b[0m\u001b[0mndarray\u001b[0m\u001b[1;33m)\u001b[0m\u001b[1;33m:\u001b[0m\u001b[1;33m\u001b[0m\u001b[1;33m\u001b[0m\u001b[0m\n\u001b[0;32m   4468\u001b[0m             \u001b[0mobj\u001b[0m \u001b[1;33m=\u001b[0m \u001b[0mobj\u001b[0m\u001b[1;33m.\u001b[0m\u001b[0mastype\u001b[0m\u001b[1;33m(\u001b[0m\u001b[0mintp\u001b[0m\u001b[1;33m)\u001b[0m\u001b[1;33m\u001b[0m\u001b[1;33m\u001b[0m\u001b[0m\n",
      "\u001b[1;32m~\\anaconda3\\lib\\site-packages\\numpy\\core\\_asarray.py\u001b[0m in \u001b[0;36masarray\u001b[1;34m(a, dtype, order, like)\u001b[0m\n\u001b[0;32m    100\u001b[0m         \u001b[1;32mreturn\u001b[0m \u001b[0m_asarray_with_like\u001b[0m\u001b[1;33m(\u001b[0m\u001b[0ma\u001b[0m\u001b[1;33m,\u001b[0m \u001b[0mdtype\u001b[0m\u001b[1;33m=\u001b[0m\u001b[0mdtype\u001b[0m\u001b[1;33m,\u001b[0m \u001b[0morder\u001b[0m\u001b[1;33m=\u001b[0m\u001b[0morder\u001b[0m\u001b[1;33m,\u001b[0m \u001b[0mlike\u001b[0m\u001b[1;33m=\u001b[0m\u001b[0mlike\u001b[0m\u001b[1;33m)\u001b[0m\u001b[1;33m\u001b[0m\u001b[1;33m\u001b[0m\u001b[0m\n\u001b[0;32m    101\u001b[0m \u001b[1;33m\u001b[0m\u001b[0m\n\u001b[1;32m--> 102\u001b[1;33m     \u001b[1;32mreturn\u001b[0m \u001b[0marray\u001b[0m\u001b[1;33m(\u001b[0m\u001b[0ma\u001b[0m\u001b[1;33m,\u001b[0m \u001b[0mdtype\u001b[0m\u001b[1;33m,\u001b[0m \u001b[0mcopy\u001b[0m\u001b[1;33m=\u001b[0m\u001b[1;32mFalse\u001b[0m\u001b[1;33m,\u001b[0m \u001b[0morder\u001b[0m\u001b[1;33m=\u001b[0m\u001b[0morder\u001b[0m\u001b[1;33m)\u001b[0m\u001b[1;33m\u001b[0m\u001b[1;33m\u001b[0m\u001b[0m\n\u001b[0m\u001b[0;32m    103\u001b[0m \u001b[1;33m\u001b[0m\u001b[0m\n\u001b[0;32m    104\u001b[0m \u001b[1;33m\u001b[0m\u001b[0m\n",
      "\u001b[1;31mKeyboardInterrupt\u001b[0m: "
     ]
    }
   ],
   "metadata": {}
  },
  {
   "cell_type": "code",
   "execution_count": null,
   "source": [
    "from Advertising.enviroment.VCG import *\r\n",
    "vcg=VCG()\r\n",
    "\r\n",
    "bids_no_qualities = []\r\n",
    "bids_no_qualities.append(best_arm_no_qualities)\r\n",
    "bids_no_qualities2 = []\r\n",
    "bids_no_qualities2.append(best_arm_no_qualities2)\r\n",
    "bids = []\r\n",
    "bids.append(best_arm)\r\n",
    "bids2 = []\r\n",
    "bids2.append(best_arm2)\r\n",
    "for element in adversary_bids:\r\n",
    "    bids_no_qualities.append(element)\r\n",
    "    bids_no_qualities2.append(element)\r\n",
    "    bids.append(element)\r\n",
    "    bids2.append(element)\r\n",
    "bids_no_qualities=setup(bids_no_qualities,5)\r\n",
    "bids_no_qualities2=setup(bids_no_qualities2,5)\r\n",
    "bids=setup(bids,5)\r\n",
    "bids2=setup(bids2,5)\r\n",
    "\r\n",
    "\r\n",
    "\r\n",
    "best_allocation_no_qualities=vcg.all_best_allocations(bids_no_qualities, social_network)\r\n",
    "best_allocation_no_qualities2=vcg.all_best_allocations(bids_no_qualities2, social_network)\r\n",
    "best_allocation=vcg.all_best_allocations(bids, social_network)\r\n",
    "best_allocation2=vcg.all_best_allocations(bids2, social_network)\r\n",
    "\r\n",
    "print(best_allocation_no_qualities)\r\n",
    "print(vcg.payments(bids_no_qualities, best_allocation_no_qualities, social_network))\r\n",
    "\r\n",
    "\r\n",
    "print(best_allocation_no_qualities2)\r\n",
    "print(vcg.payments(bids_no_qualities2, best_allocation_no_qualities2, social_network))\r\n",
    "\r\n",
    "\r\n",
    "print(best_allocation)\r\n",
    "print(vcg.payments(bids, best_allocation, social_network))\r\n",
    "\r\n",
    "\r\n",
    "print(best_allocation2)\r\n",
    "print(vcg.payments(bids2, best_allocation2, social_network))\r\n",
    "\r\n"
   ],
   "outputs": [
    {
     "output_type": "stream",
     "name": "stdout",
     "text": [
      "[[(bid=4, id=6), (bid=3, id=3), (bid=3, id=5), (bid=3, id=9), (bid=3, id=10), (bid=1, id=2)], [(bid=4, id=2), (bid=4, id=6), (bid=4, id=11), (bid=3, id=3), (bid=2, id=1), (bid=2, id=7)], [(bid=4, id=1), (bid=3, id=3), (bid=2, id=4), (bid=2, id=8), (bid=1, id=2), (bid=1, id=7)], [(bid=4, id=5), (bid=4, id=9), (bid=3, id=1), (bid=3, id=4), (bid=3, id=10), (bid=2, id=6)], [(bid=4, id=4), (bid=4, id=5), (bid=3, id=2), (bid=2, id=6), (bid=2, id=7), (bid=1, id=1)]]\n",
      "[0.0, 1.7499999999999998, 1.5599999999999987, 2.4736842105263146, 0.9999999999999964]\n",
      "[[(bid=4, id=6), (bid=3, id=3), (bid=3, id=5), (bid=3, id=9), (bid=3, id=10), (bid=1, id=1)], [(bid=4, id=2), (bid=4, id=6), (bid=4, id=11), (bid=3, id=3), (bid=2, id=1), (bid=2, id=7)], [(bid=3, id=3), (bid=2, id=1), (bid=2, id=4), (bid=2, id=8), (bid=1, id=2), (bid=1, id=7)], [(bid=4, id=5), (bid=4, id=9), (bid=3, id=4), (bid=3, id=10), (bid=2, id=6), (bid=2, id=7)], [(bid=4, id=4), (bid=4, id=5), (bid=3, id=2), (bid=2, id=6), (bid=2, id=7), (bid=1, id=1)]]\n",
      "[1.0000000000000007, 1.7499999999999998, 1.2857142857142847, 0.0, 0.9999999999999964]\n",
      "[[(bid=4, id=6), (bid=3, id=3), (bid=3, id=5), (bid=3, id=9), (bid=3, id=10), (bid=2, id=1)], [(bid=4, id=2), (bid=4, id=6), (bid=4, id=11), (bid=3, id=1), (bid=3, id=3), (bid=2, id=7)], [(bid=3, id=3), (bid=2, id=1), (bid=2, id=4), (bid=2, id=8), (bid=1, id=2), (bid=1, id=7)], [(bid=4, id=5), (bid=4, id=9), (bid=3, id=4), (bid=3, id=10), (bid=2, id=6), (bid=2, id=7)], [(bid=4, id=4), (bid=4, id=5), (bid=3, id=2), (bid=2, id=6), (bid=2, id=7), (bid=1, id=1)]]\n",
      "[1.0000000000000007, 2.1666666666666674, 1.2857142857142847, 0.0, 0.9999999999999964]\n",
      "[[(bid=4, id=6), (bid=3, id=3), (bid=3, id=5), (bid=3, id=9), (bid=3, id=10), (bid=1, id=1)], [(bid=4, id=2), (bid=4, id=6), (bid=4, id=11), (bid=3, id=3), (bid=2, id=1), (bid=2, id=7)], [(bid=3, id=3), (bid=2, id=1), (bid=2, id=4), (bid=2, id=8), (bid=1, id=2), (bid=1, id=7)], [(bid=4, id=5), (bid=4, id=9), (bid=3, id=4), (bid=3, id=10), (bid=2, id=6), (bid=2, id=7)], [(bid=4, id=4), (bid=4, id=5), (bid=3, id=2), (bid=2, id=6), (bid=2, id=7), (bid=1, id=1)]]\n",
      "[1.0000000000000007, 1.7499999999999998, 1.2857142857142847, 0.0, 0.9999999999999964]\n"
     ]
    }
   ],
   "metadata": {}
  }
 ],
 "metadata": {
  "orig_nbformat": 4,
  "language_info": {
   "name": "python",
   "version": "3.8.3",
   "mimetype": "text/x-python",
   "codemirror_mode": {
    "name": "ipython",
    "version": 3
   },
   "pygments_lexer": "ipython3",
   "nbconvert_exporter": "python",
   "file_extension": ".py"
  },
  "kernelspec": {
   "name": "python3",
   "display_name": "Python 3.8.3 64-bit ('base': conda)"
  },
  "interpreter": {
   "hash": "c6f967de16b0bff6e471d965b97f90b6b70e6b627c25a55181a3ca712f1e785a"
  }
 },
 "nbformat": 4,
 "nbformat_minor": 2
}