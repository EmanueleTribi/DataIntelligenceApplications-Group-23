{
 "cells": [
  {
   "cell_type": "code",
   "execution_count": 1,
   "source": [
    "from SocialNetwork.social_network_environment import *\r\n",
    "from pprint import pprint\r\n",
    "import numpy as np\r\n",
    "import matplotlib.pyplot as plt\r\n",
    "from Advertising.learners.Greedy_algorithm import *\r\n",
    "from Advertising.learners.GTS_Learner import *\r\n",
    "from Advertising.learners.GTS_Learner_qualities import *\r\n",
    "from experiment_utilities import *\r\n",
    "\r\n",
    "seed = 6789 \r\n",
    "arms = arms_creation(seed = 30291, number_of_arms= 20)\r\n",
    "random.seed(seed)\r\n",
    "\r\n",
    "exploration=4.2\r\n",
    "\r\n",
    "deltas=[0.5,0.42,0.38,0.30,0.2,0.05]\r\n",
    "\r\n",
    "social_network = social_network_environment()\r\n",
    "social_network.init_from_json(json_path_network='Config/network.json', json_path_features='Config/features.json')\r\n",
    "\r\n",
    "with open('Config/estimated_influence.json', 'r') as file:\r\n",
    "    data = json.load(file)\r\n",
    "    nodes_estimation = data.get('estimated_influence')\r\n",
    "\r\n",
    "with open('Config/clairvoyants.json', 'r') as file:\r\n",
    "    clairvoyants = json.load(file)\r\n",
    "\r\n",
    "n_rounds=6000\r\n",
    "print(clairvoyants)\r\n",
    "\r\n",
    "all_bids = create_adv_bids()"
   ],
   "outputs": [
    {
     "output_type": "stream",
     "name": "stdout",
     "text": [
      "{'clairvoyant_q_f': 0.24936147844443757, 'clairvoyant_q_a': 0.48842019490079885, 'clairvoyant_nq_f': 1.7742390000000792, 'clairvoyant_nq_a': 2.1363950000000385}\n"
     ]
    }
   ],
   "metadata": {}
  },
  {
   "cell_type": "code",
   "execution_count": null,
   "source": [
    "from Advertising.learners.UCB_Learner_qualities import *\r\n",
    "\r\n",
    "# Running UCB, missing qualities, samples in only first position\r\n",
    "\r\n",
    "learner_TS = GTS_Learner_qualities( arms = arms, variance=20, ad_id = 1, nodes_estimation = nodes_estimation)\r\n",
    "learner_UCB = UCB_Learner_qualities( arms = arms, hyperpar=exploration, nodes_estimation = nodes_estimation)\r\n",
    "\r\n",
    "moving_average_TS = experiment(rounds = n_rounds, learner = learner_TS, all_bids = all_bids, arms = arms,\r\n",
    "                            social_network= social_network, first = True, qualities = True)\r\n",
    "moving_average_UCB = experiment(rounds = n_rounds, learner = learner_UCB, all_bids = all_bids, arms = arms,\r\n",
    "                            social_network= social_network, first = True, qualities = True)\r\n",
    "\r\n",
    "clairvoyant = clairvoyants.get('clairvoyant_q_f')\r\n",
    "# Plotting\r\n",
    "\r\n",
    "plt.figure()\r\n",
    "plt.axhline(y = clairvoyant, color = 'r', linestyle = '-')\r\n",
    "plt.plot(moving_average_TS, color = 'b')\r\n",
    "plt.plot(moving_average_UCB, color = 'g')\r\n",
    "plt.legend([\"clairvoyant\", \"MA-TS\", \"MA-UCB\"])\r\n",
    "plt.ylabel(\"Rolling Mean Reward\")\r\n",
    "plt.xlabel(\"Rounds\")\r\n",
    "plt.show()\r\n"
   ],
   "outputs": [],
   "metadata": {}
  },
  {
   "cell_type": "code",
   "execution_count": 2,
   "source": [
    "from Advertising.learners.UCB_Learner_qualities import *\r\n",
    "\r\n",
    "experiments = 50\r\n",
    "clairvoyant = clairvoyants.get('clairvoyant_q_f')\r\n",
    "\r\n",
    "ts_rewards_exp = []\r\n",
    "ucb_rewards_exp = []\r\n",
    "\r\n",
    "for exp in trange(experiments):\r\n",
    "    learner_TS = GTS_Learner_qualities( arms = arms, variance=20, ad_id = 1, nodes_estimation = nodes_estimation)\r\n",
    "    learner_UCB = UCB_Learner_qualities( arms = arms, hyperpar=exploration, nodes_estimation = nodes_estimation)\r\n",
    "\r\n",
    "    experiment(rounds = n_rounds, learner = learner_TS, all_bids = all_bids, arms = arms,\r\n",
    "                            social_network= social_network, first = True, qualities = True)\r\n",
    "    experiment(rounds = n_rounds, learner = learner_UCB, all_bids = all_bids, arms = arms,\r\n",
    "                            social_network= social_network, first = True, qualities = True)\r\n",
    "                            \r\n",
    "    ts_rewards_exp.append(learner_TS.collected_rewards)\r\n",
    "    ucb_rewards_exp.append(learner_UCB.collected_rewards)\r\n",
    "\r\n",
    "\r\n"
   ],
   "outputs": [
    {
     "output_type": "display_data",
     "data": {
      "application/vnd.jupyter.widget-view+json": {
       "version_major": 2,
       "version_minor": 0,
       "model_id": "0bc519d87d824550954c02504292f261"
      },
      "text/plain": [
       "HBox(children=(FloatProgress(value=0.0, max=50.0), HTML(value='')))"
      ]
     },
     "metadata": {}
    },
    {
     "output_type": "stream",
     "name": "stdout",
     "text": [
      "\n"
     ]
    }
   ],
   "metadata": {}
  },
  {
   "cell_type": "code",
   "execution_count": 32,
   "source": [
    "clair = np.ones((50,6000))\r\n",
    "clair = clair * clairvoyant\r\n",
    "\r\n",
    "regrets_ts = np.matrix(ts_rewards_exp)\r\n",
    "regrets_ucb = np.matrix(ucb_rewards_exp)\r\n",
    "\r\n",
    "regrets_ts = np.subtract(clair, regrets_ts)\r\n",
    "regrets_ucb = np.subtract(clair, regrets_ucb)\r\n",
    "\r\n",
    "\r\n",
    "# Calculate the average regret for each iteration t\r\n",
    "# Note that we are conducting n_experiments so we need the average over all the experiments for each iteration t\r\n",
    "# Note that axis=0 means that you are averaging over each iteration t (over the column)\r\n",
    "avg_regrets_ts = np.mean(regrets_ts, axis=0)\r\n",
    "avg_regrets_ucb = np.mean(regrets_ucb, axis=0)\r\n",
    "\r\n",
    "plt.figure()\r\n",
    "# Plot\r\n",
    "plt.plot(avg_regrets_ts.tolist()[0], 'g')\r\n",
    "plt.plot(avg_regrets_ucb.tolist()[0], 'b')\r\n",
    "\r\n",
    "# The same is done for Greedy_Learner\r\n",
    "\r\n",
    "plt.legend([\"TS\", \"UCB\"])\r\n",
    "plt.show()"
   ],
   "outputs": [
    {
     "output_type": "display_data",
     "data": {
      "image/png": "[encoded data removed]",
      "text/plain": [
       "<Figure size 432x288 with 1 Axes>"
      ]
     },
     "metadata": {
      "needs_background": "light"
     }
    }
   ],
   "metadata": {}
  }
 ],
 "metadata": {
  "orig_nbformat": 4,
  "language_info": {
   "name": "python",
   "version": "3.8.3",
   "mimetype": "text/x-python",
   "codemirror_mode": {
    "name": "ipython",
    "version": 3
   },
   "pygments_lexer": "ipython3",
   "nbconvert_exporter": "python",
   "file_extension": ".py"
  },
  "kernelspec": {
   "name": "python3",
   "display_name": "Python 3.8.3 64-bit ('base': conda)"
  },
  "interpreter": {
   "hash": "8ea93a4be839af7a424e339c84e5ffad6953d1e8831fc099e1d2e0df932eafc0"
  }
 },
 "nbformat": 4,
 "nbformat_minor": 2
}