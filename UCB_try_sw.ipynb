{
 "cells": [
  {
   "cell_type": "code",
   "execution_count": 1,
   "source": [
    "from SocialNetwork.social_network_environment import *\r\n",
    "from pprint import pprint\r\n",
    "import numpy as np\r\n",
    "import matplotlib.pyplot as plt\r\n",
    "#from SocialNetwork.cascade import *\r\n",
    "from Advertising.learners.Greedy_algorithm import *\r\n",
    "from Advertising.learners.UCB_no_anything import *\r\n",
    "from Advertising.learners.UCB_no_qualities import *\r\n",
    "\r\n",
    "seed = 6789 \r\n",
    "\r\n",
    "arms = arms_creation(seed = 30291, number_of_arms= 20)\r\n",
    "\r\n",
    "random.seed(seed)\r\n",
    "\r\n",
    "exploration=4.2\r\n",
    "\r\n",
    "deltas=[0.5,0.42,0.38,0.30,0.2,0.05]\r\n",
    "\r\n",
    "social_network = social_network_environment()\r\n",
    "social_network.init_from_json(json_path_network='Config/network.json', json_path_features='Config/features.json')\r\n",
    "\r\n",
    "def create_adv_bids():\r\n",
    "    adversary_bids = []\r\n",
    "    for _ in range(0, 10): \r\n",
    "        adversary_i_bids = []\r\n",
    "        for _ in range(0, 5):\r\n",
    "            adversary_i_bids.append(random.randint(0, 4))\r\n",
    "        adversary_bids.append(adversary_i_bids)\r\n",
    "    return adversary_bids\r\n",
    "\r\n",
    "\r\n",
    "n_rounds=20000\r\n"
   ],
   "outputs": [],
   "metadata": {}
  },
  {
   "cell_type": "code",
   "execution_count": 2,
   "source": [
    "from Advertising.learners.UCB_sw import *\r\n",
    "from tqdm.notebook import trange\r\n",
    "\r\n",
    "vcg = VCG()\r\n",
    "rewards = [2.157131535448255, 1.057468991772039, 1.5243366983264601, 2.321893063583789]\r\n",
    "clairvoyant = []\r\n",
    "\r\n",
    "rolling_mean = []\r\n",
    "\r\n",
    "\r\n",
    "ucb_nq_a = UCB_sw(arms = arms, hyperpar=exploration, window_size=6000)\r\n",
    "\r\n",
    "for t in trange(0, n_rounds):\r\n",
    "\r\n",
    "    if t%5000 == 0:\r\n",
    "        all_bids = create_adv_bids()\r\n",
    "        rolling_mean.append(0)\r\n",
    "\r\n",
    "\r\n",
    "    index=ucb_nq_a.pull_arm()\r\n",
    "    best_arm = arms[index]\r\n",
    "\r\n",
    "\r\n",
    "    all_bids.insert(0, best_arm)\r\n",
    "    ad_allocation_list = setup(bids=all_bids, n_bids=5)\r\n",
    "    best_allocation = vcg.all_best_allocations(ad_allocation_list, social_network)\r\n",
    "\r\n",
    "    # Computing payments\r\n",
    "    payments = vcg.payments(ad_allocation_list, best_allocation, social_network)\r\n",
    "\r\n",
    "    active_nodes, total_reward = activate_cascade(social_network=social_network, ad_allocation_list=best_allocation, slot_prominence=deltas,learner_id=1)\r\n",
    "\r\n",
    "    payments_tot = calculate_total_payment(payments, social_network.categories, active_nodes)\r\n",
    "\r\n",
    "\r\n",
    "    reward = (total_reward-payments_tot)\r\n",
    "\r\n",
    "\r\n",
    "    ucb_nq_a.update(index, reward)\r\n",
    "\r\n",
    "    all_bids.pop(0)\r\n",
    "    reset_nodes(social_network)\r\n",
    "\r\n",
    "    if t<5000:\r\n",
    "        clairvoyant.append(rewards[0])\r\n",
    "    elif t<10000:\r\n",
    "        clairvoyant.append(rewards[1])\r\n",
    "    elif t<15000:\r\n",
    "        clairvoyant.append(rewards[2])\r\n",
    "    else:\r\n",
    "        clairvoyant.append(rewards[3])\r\n",
    "\r\n",
    "    rolling_mean.append((rolling_mean[-1]*t + reward)/(t+1))\r\n",
    "\r\n",
    "print(\"Optimal arm, no qualities, all positions: \"+str(arms[ucb_nq_a.return_best_arm()]))"
   ],
   "outputs": [
    {
     "output_type": "display_data",
     "data": {
      "application/vnd.jupyter.widget-view+json": {
       "version_major": 2,
       "version_minor": 0,
       "model_id": "35bd823b885645e19e7335a9a397d27d"
      },
      "text/plain": [
       "HBox(children=(FloatProgress(value=0.0, max=20000.0), HTML(value='')))"
      ]
     },
     "metadata": {}
    },
    {
     "output_type": "stream",
     "name": "stdout",
     "text": [
      "\n",
      "Optimal arm, no qualities, all positions: [2, 3, 2, 1, 1]\n"
     ]
    }
   ],
   "metadata": {}
  },
  {
   "cell_type": "code",
   "execution_count": null,
   "source": [
    "from Advertising.learners.UCB_sw import *\r\n",
    "from tqdm.notebook import trange\r\n",
    "\r\n",
    "vcg = VCG()\r\n",
    "rewards = [2.157131535448255, 1.057468991772039, 1.5243366983264601, 2.321893063583789]\r\n",
    "clairvoyant = []\r\n",
    "\r\n",
    "rolling_mean = []\r\n",
    "rolling_mean.append(0)\r\n",
    "\r\n",
    "ucb_nq_a = UCB_sw(arms = arms, hyperpar=exploration, window_size=2500)\r\n",
    "\r\n",
    "for t in trange(0, n_rounds):\r\n",
    "\r\n",
    "    if t%5000 == 0:\r\n",
    "        all_bids = create_adv_bids()\r\n",
    "        \r\n",
    "\r\n",
    "\r\n",
    "    index=ucb_nq_a.pull_arm()\r\n",
    "    best_arm = arms[index]\r\n",
    "\r\n",
    "\r\n",
    "    all_bids.insert(0, best_arm)\r\n",
    "    ad_allocation_list = setup(bids=all_bids, n_bids=5)\r\n",
    "    best_allocation = vcg.all_best_allocations(ad_allocation_list, social_network)\r\n",
    "\r\n",
    "    # Computing payments\r\n",
    "    payments = vcg.payments(ad_allocation_list, best_allocation, social_network)\r\n",
    "\r\n",
    "    active_nodes, total_reward = activate_cascade(social_network=social_network, ad_allocation_list=best_allocation, slot_prominence=deltas,learner_id=1)\r\n",
    "\r\n",
    "    payments_tot = calculate_total_payment(payments, social_network.categories, active_nodes)\r\n",
    "\r\n",
    "\r\n",
    "    reward = (total_reward-payments_tot)\r\n",
    "\r\n",
    "\r\n",
    "    ucb_nq_a.update(index, reward)\r\n",
    "\r\n",
    "    all_bids.pop(0)\r\n",
    "    reset_nodes(social_network)\r\n",
    "\r\n",
    "    if t<5000:\r\n",
    "        clairvoyant.append(np.sum(rewards[0]))\r\n",
    "    elif t<10000:\r\n",
    "        clairvoyant.append(np.sum(rewards[:1]))\r\n",
    "    elif t<15000:\r\n",
    "        clairvoyant.append(np.sum(rewards[:2]))\r\n",
    "    else:\r\n",
    "        clairvoyant.append(np.sum(rewards[:3]))\r\n",
    "\r\n",
    "    rolling_mean.append((rolling_mean[-1]*t + reward)/(t+1))\r\n",
    "\r\n",
    "print(\"Optimal arm, no qualities, all positions: \"+str(arms[ucb_nq_a.return_best_arm()]))"
   ],
   "outputs": [],
   "metadata": {}
  },
  {
   "cell_type": "code",
   "execution_count": 3,
   "source": [
    "import matplotlib.pyplot as plt\r\n",
    "\r\n",
    "plt.figure()\r\n",
    "plt.plot(np.cumsum(clairvoyant))\r\n",
    "plt.plot(np.cumsum(ucb_nq_a.collected_rewards))\r\n",
    "plt.show()\r\n"
   ],
   "outputs": [
    {
     "output_type": "display_data",
     "data": {
      "image/png": "[encoded data removed]",
      "text/plain": [
       "<Figure size 432x288 with 1 Axes>"
      ]
     },
     "metadata": {
      "needs_background": "light"
     }
    }
   ],
   "metadata": {}
  },
  {
   "cell_type": "code",
   "execution_count": 4,
   "source": [
    "import matplotlib.pyplot as plt\r\n",
    "\r\n",
    "plt.figure()\r\n",
    "plt.plot(clairvoyant)\r\n",
    "plt.plot(rolling_mean)\r\n",
    "plt.show()\r\n"
   ],
   "outputs": [
    {
     "output_type": "display_data",
     "data": {
      "image/png": "[encoded data removed]",
      "text/plain": [
       "<Figure size 432x288 with 1 Axes>"
      ]
     },
     "metadata": {
      "needs_background": "light"
     }
    }
   ],
   "metadata": {}
  },
  {
   "cell_type": "code",
   "execution_count": 9,
   "source": [
    "collected_rewards = ucb_nq_a.collected_rewards\r\n",
    "\r\n",
    "plt.figure()\r\n",
    "plt.plot(np.subtract(np.cumsum(clairvoyant), np.cumsum(collected_rewards)))\r\n",
    "plt.show()"
   ],
   "outputs": [
    {
     "output_type": "display_data",
     "data": {
      "image/png": "[encoded data removed]",
      "text/plain": [
       "<Figure size 432x288 with 1 Axes>"
      ]
     },
     "metadata": {
      "needs_background": "light"
     }
    }
   ],
   "metadata": {}
  }
 ],
 "metadata": {
  "orig_nbformat": 4,
  "language_info": {
   "name": "python",
   "version": "3.8.3",
   "mimetype": "text/x-python",
   "codemirror_mode": {
    "name": "ipython",
    "version": 3
   },
   "pygments_lexer": "ipython3",
   "nbconvert_exporter": "python",
   "file_extension": ".py"
  },
  "kernelspec": {
   "name": "python3",
   "display_name": "Python 3.8.3 64-bit ('base': conda)"
  },
  "interpreter": {
   "hash": "8ea93a4be839af7a424e339c84e5ffad6953d1e8831fc099e1d2e0df932eafc0"
  }
 },
 "nbformat": 4,
 "nbformat_minor": 2
}