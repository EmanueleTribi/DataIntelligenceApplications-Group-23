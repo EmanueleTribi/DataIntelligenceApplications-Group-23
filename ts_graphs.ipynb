{
 "cells": [
  {
   "cell_type": "code",
   "execution_count": 1,
   "source": [
    "from SocialNetwork.social_network_environment import *\n",
    "from pprint import pprint\n",
    "import numpy as np\n",
    "import matplotlib.pyplot as plt\n",
    "#from SocialNetwork.cascade import *\n",
    "from Advertising.learners.greedyLearner import *\n",
    "from Advertising.learners.UCB_no_anything import *\n",
    "from Advertising.learners.UCB_no_qualities import *\n",
    "from Advertising.learners.GTS_Learner import*\n",
    "from Advertising.learners.TS_no_qualities import *\n",
    "from Advertising.learners.TS_no_anything import *\n",
    "seed = 6789 \n",
    "random.seed(seed)\n",
    "deltas=[0.5,0.42,0.38,0.30,0.2,0.05]\n",
    "social_network = social_network_environment()\n",
    "social_network.init_from_json(json_path_network='Config/network.json', json_path_features='Config/features.json')\n",
    "adversary_bids = []\n",
    "for _ in range(0, 10): \n",
    "    adversary_i_bids = []\n",
    "    for _ in range(0, 5):\n",
    "        adversary_i_bids.append(random.randint(0, 4))\n",
    "    adversary_bids.append(adversary_i_bids)\n",
    "array_estimation = compute_array_estimated_influence(social_network, 2000)\n"
   ],
   "outputs": [
    {
     "output_type": "stream",
     "name": "stdout",
     "text": [
      "Doing node number 0\n",
      "Doing node number 1\n",
      "Doing node number 2\n",
      "Doing node number 3\n",
      "Doing node number 4\n",
      "Doing node number 5\n",
      "Doing node number 6\n",
      "Doing node number 7\n",
      "Doing node number 8\n",
      "Doing node number 9\n",
      "Doing node number 10\n",
      "Doing node number 11\n",
      "Doing node number 12\n",
      "Doing node number 13\n",
      "Doing node number 14\n",
      "Doing node number 15\n",
      "Doing node number 16\n",
      "Doing node number 17\n",
      "Doing node number 18\n",
      "Doing node number 19\n",
      "Doing node number 20\n",
      "Doing node number 21\n",
      "Doing node number 22\n",
      "Doing node number 23\n",
      "Doing node number 24\n",
      "Doing node number 25\n",
      "Doing node number 26\n",
      "Doing node number 27\n",
      "Doing node number 28\n",
      "Doing node number 29\n",
      "Doing node number 30\n",
      "Doing node number 31\n",
      "Doing node number 32\n",
      "Doing node number 33\n",
      "Doing node number 34\n",
      "Doing node number 35\n",
      "Doing node number 36\n",
      "Doing node number 37\n",
      "Doing node number 38\n",
      "Doing node number 39\n",
      "Doing node number 40\n",
      "Doing node number 41\n",
      "Doing node number 42\n",
      "Doing node number 43\n",
      "Doing node number 44\n",
      "Doing node number 45\n",
      "Doing node number 46\n",
      "Doing node number 47\n",
      "Doing node number 48\n",
      "Doing node number 49\n"
     ]
    }
   ],
   "metadata": {}
  },
  {
   "cell_type": "code",
   "execution_count": 2,
   "source": [
    "arms = arms_creation(number_of_arms=20, seed=30291)\n",
    "expected_values = []\n",
    "vcg = VCG()\n",
    "for i in range(0, len(arms)):\n",
    "    expected_i=0\n",
    "    bids = []\n",
    "    bids.append(arms[i])\n",
    "    for element in adversary_bids:\n",
    "        bids.append(element)\n",
    "    bids = setup(bids, 5)\n",
    "    ad_allocation_list=vcg.all_best_allocations(bids, social_network)\n",
    "    if i == 14:\n",
    "        print(ad_allocation_list)\n",
    "    payments = vcg.payments(bids, ad_allocation_list, social_network)\n",
    "\n",
    "\n",
    "    for _ in range(3000):\n",
    "        gain, active_by_click = activate_cascade(social_network, ad_allocation_list, 1, deltas)\n",
    "        payments_tot = calculate_total_payment(payments, social_network.categories, active_by_click)\n",
    "        reward = gain-payments_tot\n",
    "        expected_i+=reward\n",
    "        reset_nodes(social_network)\n",
    "    \n",
    "    expected_i = expected_i/3000\n",
    "    expected_values.append(expected_i)\n"
   ],
   "outputs": [
    {
     "output_type": "stream",
     "name": "stdout",
     "text": [
      "[[(bid=4, id=6), (bid=3, id=3), (bid=3, id=5), (bid=3, id=9), (bid=3, id=10), (bid=2, id=1)], [(bid=4, id=2), (bid=4, id=6), (bid=4, id=11), (bid=3, id=1), (bid=3, id=3), (bid=2, id=7)], [(bid=3, id=3), (bid=2, id=1), (bid=2, id=4), (bid=2, id=8), (bid=1, id=2), (bid=1, id=7)], [(bid=4, id=5), (bid=4, id=9), (bid=3, id=4), (bid=3, id=10), (bid=2, id=6), (bid=2, id=7)], [(bid=4, id=4), (bid=4, id=5), (bid=3, id=2), (bid=2, id=6), (bid=2, id=7), (bid=1, id=1)]]\n"
     ]
    }
   ],
   "metadata": {}
  },
  {
   "cell_type": "code",
   "execution_count": 3,
   "source": [
    "print(\"Here are the maximum expected value and the arm that provides it, computed with the above \\\"Greedy\\\" approach\")\n",
    "print(max(expected_values))\n",
    "print(arms[np.argmax(expected_values)])"
   ],
   "outputs": [
    {
     "output_type": "stream",
     "name": "stdout",
     "text": [
      "Here are the maximum expected value and the arm that provides it, computed with the above \"Greedy\" approach\n",
      "2.1150571428571414\n",
      "[2 3 2 1 1]\n"
     ]
    }
   ],
   "metadata": {}
  },
  {
   "cell_type": "code",
   "execution_count": 4,
   "source": [
    "rounds=10000\n",
    "repetitions=4"
   ],
   "outputs": [],
   "metadata": {}
  },
  {
   "cell_type": "code",
   "execution_count": 5,
   "source": [
    "print(\"Here are some outputs for the case without ad qualities, with only ads in first position\")\n",
    "for i in range(0, repetitions):\n",
    "    \n",
    "    ts_learner = GTS_Learner(20, arms, variance=20, ad_id=1)\n",
    "    best_arm_no_qualities, index_no_qualities, number_of_pulls_no_qualities, expected_values_no_qualities, plotting_no_qualities = ts_no_qualities(ts_learner, arms, adversary_bids, True, array_estimation, rounds, deltas, social_network)\n",
    "    print(best_arm_no_qualities)\n",
    "    print(expected_values_no_qualities[index_no_qualities])\n"
   ],
   "outputs": [
    {
     "output_type": "stream",
     "name": "stdout",
     "text": [
      "Here are some outputs for the case without ad qualities, with only ads in first position\n",
      "[3 3 4 2 3]\n",
      "3.563705179487943\n",
      "[3 3 4 2 3]\n",
      "3.5601666946133954\n",
      "[3 3 4 2 3]\n",
      "3.5909095798409565\n",
      "[3 3 4 2 3]\n",
      "3.563198986410626\n"
     ]
    }
   ],
   "metadata": {}
  },
  {
   "cell_type": "code",
   "execution_count": 6,
   "source": [
    "print(\"Here are some outputs for the case without ad qualities, with all ads\")\n",
    "for i in range(0, repetitions):\n",
    "    \n",
    "    ts_learner2 = GTS_Learner(20, arms, variance=20, ad_id=1)\n",
    "    best_arm_no_qualities2, index_no_qualities2, number_of_pulls_no_qualities2, expected_values_no_qualities2, plotting_no_qualities2 = ts_no_qualities(ts_learner2, arms, adversary_bids, False, array_estimation, rounds, deltas, social_network)\n",
    "    print(best_arm_no_qualities2)\n",
    "    print(expected_values_no_qualities2[index_no_qualities2])\n"
   ],
   "outputs": [
    {
     "output_type": "stream",
     "name": "stdout",
     "text": [
      "Here are some outputs for the case without ad qualities, with all ads\n",
      "[2 3 2 1 1]\n",
      "3.587599888468865\n",
      "[2 3 2 1 1]\n",
      "3.5829076029270848\n",
      "[2 3 2 1 1]\n",
      "3.586244246408384\n",
      "[2 3 2 1 1]\n",
      "3.591100272265153\n"
     ]
    }
   ],
   "metadata": {}
  },
  {
   "cell_type": "code",
   "execution_count": 14,
   "source": [
    "print(\"Here are some outputs for the case without anything, with only ads in first position\")\n",
    "for i in range(0, repetitions):\n",
    "    \n",
    "    ts_learner3 = GTS_Learner(20, arms, variance=3 0, ad_id=1)\n",
    "    best_arm, index, number_of_pulls, expected_values, plotting = ts(ts_learner3, arms, adversary_bids, True, array_estimation, rounds, deltas, social_network)\n",
    "    print(best_arm)\n",
    "    print(expected_values[index])"
   ],
   "outputs": [
    {
     "output_type": "stream",
     "name": "stdout",
     "text": [
      "Here are some outputs for the case without anything, with only ads in first position\n",
      "[2 2 3 3 4]\n",
      "1.4861873706004358\n",
      "[3 3 4 2 3]\n",
      "1.7805531086756843\n",
      "[3 3 4 2 3]\n",
      "1.7386608934418255\n",
      "[1 3 3 1 4]\n",
      "1.4966484536082736\n"
     ]
    }
   ],
   "metadata": {}
  },
  {
   "cell_type": "code",
   "execution_count": 8,
   "source": [
    "print(\"Here are some outputs for the case without anything, with all ads\")\n",
    "for i in range(0, repetitions):\n",
    "    \n",
    "    ts_learner4 = GTS_Learner(20, arms, variance=20, ad_id=1)\n",
    "    best_arm2, index2, number_of_pulls2, expected_values2, plotting2 = ts(ts_learner4, arms, adversary_bids, False, array_estimation, rounds, deltas, social_network)\n",
    "    print(best_arm2)\n",
    "    print(expected_values2[index2])"
   ],
   "outputs": [
    {
     "output_type": "stream",
     "name": "stdout",
     "text": [
      "Here are some outputs for the case without anything, with all ads\n",
      "[2 3 2 1 1]\n",
      "2.1942728519979684\n",
      "[1 4 3 2 0]\n",
      "1.4161538461538448\n",
      "[1 1 2 0 4]\n",
      "1.841676959691539\n",
      "[2 1 3 0 4]\n",
      "1.4736857973511548\n"
     ]
    }
   ],
   "metadata": {}
  },
  {
   "cell_type": "code",
   "execution_count": 9,
   "source": [
    "print(\"Here are reward and regret for the case without ad qualities, with only ads in first position\")\n",
    "clairvoyant_no_qualities = expected_values_no_qualities[index_no_qualities]\n",
    "regret_no_qualities = [expected_values_no_qualities[index_no_qualities] - x for x in plotting_no_qualities]\n",
    "plt.figure(0)\n",
    "plt.plot(plotting_no_qualities, 'y')\n",
    "plt.axhline(y=expected_values_no_qualities[index_no_qualities], color='r', linestyle='-')\n",
    "print(index_no_qualities)\n",
    "plt.figure(1)\n",
    "plt.plot(regret_no_qualities)"
   ],
   "outputs": [
    {
     "output_type": "stream",
     "name": "stdout",
     "text": [
      "Here are reward and regret for the case without ad qualities, with only ads in first position\n",
      "1\n"
     ]
    },
    {
     "output_type": "execute_result",
     "data": {
      "text/plain": [
       "[<matplotlib.lines.Line2D at 0x11b522550>]"
      ]
     },
     "metadata": {},
     "execution_count": 9
    },
    {
     "output_type": "display_data",
     "data": {
      "image/png": "[encoded data removed]",
      "text/plain": [
       "<Figure size 432x288 with 1 Axes>"
      ]
     },
     "metadata": {
      "needs_background": "light"
     }
    },
    {
     "output_type": "display_data",
     "data": {
      "image/png": "[encoded data removed]",
      "text/plain": [
       "<Figure size 432x288 with 1 Axes>"
      ]
     },
     "metadata": {
      "needs_background": "light"
     }
    }
   ],
   "metadata": {}
  },
  {
   "cell_type": "code",
   "execution_count": 10,
   "source": [
    "print(\"Here are reward and regret for the case without ad qualities, with all ads\")\n",
    "clairvoyant_no_qualities2 = expected_values_no_qualities2[index_no_qualities2]\n",
    "regret_no_qualities2 = [expected_values_no_qualities2[index_no_qualities2] - x for x in plotting_no_qualities2]\n",
    "plt.figure(0)\n",
    "plt.plot(plotting_no_qualities2, 'y')\n",
    "plt.axhline(y=expected_values_no_qualities2[index_no_qualities2], color='r', linestyle='-')\n",
    "print(index_no_qualities2)\n",
    "plt.figure(1)\n",
    "plt.plot(regret_no_qualities2)"
   ],
   "outputs": [
    {
     "output_type": "stream",
     "name": "stdout",
     "text": [
      "Here are reward and regret for the case without ad qualities, with all ads\n",
      "14\n"
     ]
    },
    {
     "output_type": "execute_result",
     "data": {
      "text/plain": [
       "[<matplotlib.lines.Line2D at 0x11b93cee0>]"
      ]
     },
     "metadata": {},
     "execution_count": 10
    },
    {
     "output_type": "display_data",
     "data": {
      "image/png": "[encoded data removed]",
      "text/plain": [
       "<Figure size 432x288 with 1 Axes>"
      ]
     },
     "metadata": {
      "needs_background": "light"
     }
    },
    {
     "output_type": "display_data",
     "data": {
      "image/png": "[encoded data removed]",
      "text/plain": [
       "<Figure size 432x288 with 1 Axes>"
      ]
     },
     "metadata": {
      "needs_background": "light"
     }
    }
   ],
   "metadata": {}
  },
  {
   "cell_type": "code",
   "execution_count": 15,
   "source": [
    "print(\"Here are reward and regret for the case without anything, with only ads in first position\")\n",
    "clairvoyant = expected_values[index]\n",
    "regret = [expected_values[index] - x for x in plotting]\n",
    "plt.figure(4)\n",
    "plt.plot(plotting, 'y')\n",
    "plt.axhline(y=expected_values[index], color='r', linestyle='-')\n",
    "print(index)\n",
    "plt.figure(5)\n",
    "plt.plot(regret) "
   ],
   "outputs": [
    {
     "output_type": "stream",
     "name": "stdout",
     "text": [
      "Here are reward and regret for the case without anything, with only ads in first position\n",
      "3\n"
     ]
    },
    {
     "output_type": "execute_result",
     "data": {
      "text/plain": [
       "[<matplotlib.lines.Line2D at 0x11bb512e0>]"
      ]
     },
     "metadata": {},
     "execution_count": 15
    },
    {
     "output_type": "display_data",
     "data": {
      "image/png": "[encoded data removed]",
      "text/plain": [
       "<Figure size 432x288 with 1 Axes>"
      ]
     },
     "metadata": {
      "needs_background": "light"
     }
    },
    {
     "output_type": "display_data",
     "data": {
      "image/png": "[encoded data removed]",
      "text/plain": [
       "<Figure size 432x288 with 1 Axes>"
      ]
     },
     "metadata": {
      "needs_background": "light"
     }
    }
   ],
   "metadata": {}
  },
  {
   "cell_type": "code",
   "execution_count": 12,
   "source": [
    "print(\"Here are reward and regret for the case without anything, with all ads\")\n",
    "clairvoyant2 = expected_values2[index2]\n",
    "regret2 = [expected_values2[index2] - x for x in plotting2]\n",
    "plt.figure(6)\n",
    "plt.plot(plotting2, 'y')\n",
    "plt.axhline(y=expected_values2[index2], color='r', linestyle='-')\n",
    "print(index2)\n",
    "plt.figure(7)\n",
    "plt.plot(regret2) "
   ],
   "outputs": [
    {
     "output_type": "stream",
     "name": "stdout",
     "text": [
      "Here are reward and regret for the case without anything, with all ads\n",
      "7\n"
     ]
    },
    {
     "output_type": "execute_result",
     "data": {
      "text/plain": [
       "[<matplotlib.lines.Line2D at 0x11bea7fd0>]"
      ]
     },
     "metadata": {},
     "execution_count": 12
    },
    {
     "output_type": "display_data",
     "data": {
      "image/png": "[encoded data removed]",
      "text/plain": [
       "<Figure size 432x288 with 1 Axes>"
      ]
     },
     "metadata": {
      "needs_background": "light"
     }
    },
    {
     "output_type": "display_data",
     "data": {
      "image/png": "[encoded data removed]",
      "text/plain": [
       "<Figure size 432x288 with 1 Axes>"
      ]
     },
     "metadata": {
      "needs_background": "light"
     }
    }
   ],
   "metadata": {}
  }
 ],
 "metadata": {
  "orig_nbformat": 4,
  "language_info": {
   "name": "python",
   "version": "3.8.8",
   "mimetype": "text/x-python",
   "codemirror_mode": {
    "name": "ipython",
    "version": 3
   },
   "pygments_lexer": "ipython3",
   "nbconvert_exporter": "python",
   "file_extension": ".py"
  },
  "kernelspec": {
   "name": "python3",
   "display_name": "Python 3.8.8 64-bit ('projects_env': conda)"
  },
  "interpreter": {
   "hash": "7b65a0b764bf49cc7947e468da38261005013c03fd7f348ce5375f68cfcbfbf1"
  }
 },
 "nbformat": 4,
 "nbformat_minor": 2
}