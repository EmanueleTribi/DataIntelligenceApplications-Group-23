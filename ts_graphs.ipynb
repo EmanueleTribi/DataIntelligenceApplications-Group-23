{
 "cells": [
  {
   "cell_type": "code",
   "execution_count": 1,
   "source": [
    "from SocialNetwork.social_network_environment import *\n",
    "from pprint import pprint\n",
    "import numpy as np\n",
    "import matplotlib.pyplot as plt\n",
    "#from SocialNetwork.cascade import *\n",
    "from Advertising.learners.Greedy_algorithm import *\n",
    "from Advertising.learners.UCB_no_anything import *\n",
    "from Advertising.learners.UCB_no_qualities import *\n",
    "from Advertising.learners.GTS_Learner import*\n",
    "from Advertising.learners.GTS_SW_Learner import *\n",
    "from Advertising.learners.TS_no_qualities import *\n",
    "from Advertising.learners.TS_no_anything import *\n",
    "from Advertising.learners.TS_sliding_window import *\n",
    "\n",
    "seed = 6789 \n",
    "random.seed(seed)\n",
    "deltas=[0.5,0.42,0.38,0.30,0.2,0.05]\n",
    "social_network = social_network_environment()\n",
    "social_network.init_from_json(json_path_network='Config/network.json', json_path_features='Config/features.json')\n",
    "adversary_bids = []\n",
    "for _ in range(0, 10): \n",
    "    adversary_i_bids = []\n",
    "    for _ in range(0, 5):\n",
    "        adversary_i_bids.append(random.randint(0, 4))\n",
    "    adversary_bids.append(adversary_i_bids)\n",
    "array_estimation = compute_array_estimated_influence(social_network, 2000)\n"
   ],
   "outputs": [
    {
     "output_type": "stream",
     "name": "stdout",
     "text": [
      "Doing node number 0\n",
      "Doing node number 1\n",
      "Doing node number 2\n",
      "Doing node number 3\n",
      "Doing node number 4\n",
      "Doing node number 5\n",
      "Doing node number 6\n",
      "Doing node number 7\n",
      "Doing node number 8\n",
      "Doing node number 9\n",
      "Doing node number 10\n",
      "Doing node number 11\n",
      "Doing node number 12\n",
      "Doing node number 13\n",
      "Doing node number 14\n",
      "Doing node number 15\n",
      "Doing node number 16\n",
      "Doing node number 17\n",
      "Doing node number 18\n",
      "Doing node number 19\n",
      "Doing node number 20\n",
      "Doing node number 21\n",
      "Doing node number 22\n",
      "Doing node number 23\n",
      "Doing node number 24\n",
      "Doing node number 25\n",
      "Doing node number 26\n",
      "Doing node number 27\n",
      "Doing node number 28\n",
      "Doing node number 29\n",
      "Doing node number 30\n",
      "Doing node number 31\n",
      "Doing node number 32\n",
      "Doing node number 33\n",
      "Doing node number 34\n",
      "Doing node number 35\n",
      "Doing node number 36\n",
      "Doing node number 37\n",
      "Doing node number 38\n",
      "Doing node number 39\n",
      "Doing node number 40\n",
      "Doing node number 41\n",
      "Doing node number 42\n",
      "Doing node number 43\n",
      "Doing node number 44\n",
      "Doing node number 45\n",
      "Doing node number 46\n",
      "Doing node number 47\n",
      "Doing node number 48\n",
      "Doing node number 49\n"
     ]
    }
   ],
   "metadata": {}
  },
  {
   "cell_type": "code",
   "execution_count": 2,
   "source": [
    "arms = arms_creation(number_of_arms=20, seed=30291)\n",
    "expected_values = []\n",
    "vcg = VCG()\n",
    "for i in range(0, len(arms)):\n",
    "    expected_i=0\n",
    "    bids = []\n",
    "    bids.append(arms[i])\n",
    "    for element in adversary_bids:\n",
    "        bids.append(element)\n",
    "    bids = setup(bids, 5)\n",
    "    ad_allocation_list=vcg.all_best_allocations(bids, social_network)\n",
    "    if i == 14:\n",
    "        print(ad_allocation_list)\n",
    "    payments = vcg.payments(bids, ad_allocation_list, social_network)\n",
    "\n",
    "\n",
    "    for _ in range(3000):\n",
    "        gain, active_by_click = activate_cascade(social_network, ad_allocation_list, 1, deltas)\n",
    "        payments_tot = calculate_total_payment(payments, social_network.categories, active_by_click)\n",
    "        reward = gain-payments_tot\n",
    "        expected_i+=reward\n",
    "        reset_nodes(social_network)\n",
    "    \n",
    "    expected_i = expected_i/3000\n",
    "    expected_values.append(expected_i)\n"
   ],
   "outputs": [
    {
     "output_type": "stream",
     "name": "stdout",
     "text": [
      "[[(bid=4, id=6), (bid=3, id=3), (bid=3, id=5), (bid=3, id=9), (bid=3, id=10), (bid=2, id=1)], [(bid=4, id=2), (bid=4, id=6), (bid=4, id=11), (bid=3, id=1), (bid=3, id=3), (bid=2, id=7)], [(bid=3, id=3), (bid=2, id=1), (bid=2, id=4), (bid=2, id=8), (bid=1, id=2), (bid=1, id=7)], [(bid=4, id=5), (bid=4, id=9), (bid=3, id=4), (bid=3, id=10), (bid=2, id=6), (bid=2, id=7)], [(bid=4, id=4), (bid=4, id=5), (bid=3, id=2), (bid=2, id=6), (bid=2, id=7), (bid=1, id=1)]]\n"
     ]
    }
   ],
   "metadata": {}
  },
  {
   "cell_type": "code",
   "execution_count": 3,
   "source": [
    "print(\"Here are the maximum expected value and the arm that provides it, computed with the above \\\"Greedy\\\" approach\")\n",
    "print(max(expected_values))\n",
    "print(arms[np.argmax(expected_values)])"
   ],
   "outputs": [
    {
     "output_type": "stream",
     "name": "stdout",
     "text": [
      "Here are the maximum expected value and the arm that provides it, computed with the above \"Greedy\" approach\n",
      "1.9683555555555536\n",
      "[2 3 2 1 1]\n"
     ]
    }
   ],
   "metadata": {}
  },
  {
   "cell_type": "code",
   "execution_count": 4,
   "source": [
    "rounds=10000\n",
    "repetitions=4"
   ],
   "outputs": [],
   "metadata": {}
  },
  {
   "cell_type": "code",
   "execution_count": 5,
   "source": [
    "print(\"Here are some outputs for the case without ad qualities, with only ads in first position\")\n",
    "for i in range(0, repetitions):\n",
    "    \n",
    "    ts_learner = GTS_Learner(20, arms, variance=20, ad_id=1)\n",
    "    best_arm_no_qualities, index_no_qualities, number_of_pulls_no_qualities, expected_values_no_qualities, plotting_no_qualities = ts_no_qualities(ts_learner, arms, adversary_bids, True, array_estimation, rounds, deltas, social_network)\n",
    "    print(best_arm_no_qualities)\n",
    "    print(expected_values_no_qualities[index_no_qualities])\n"
   ],
   "outputs": [
    {
     "output_type": "stream",
     "name": "stdout",
     "text": [
      "Here are some outputs for the case without ad qualities, with only ads in first position\n",
      "[3 3 4 2 3]\n",
      "3.7392971457149318\n",
      "[3 3 4 2 3]\n",
      "3.7573950595240286\n",
      "[2 2 3 3 4]\n",
      "3.282798935479058\n",
      "[3 3 4 2 3]\n",
      "3.740227507416395\n"
     ]
    }
   ],
   "metadata": {}
  },
  {
   "cell_type": "code",
   "execution_count": 6,
   "source": [
    "print(\"Here are some outputs for the case without ad qualities, with all ads\")\n",
    "for i in range(0, repetitions):\n",
    "    \n",
    "    ts_learner2 = GTS_Learner(20, arms, variance=20, ad_id=1)\n",
    "    best_arm_no_qualities2, index_no_qualities2, number_of_pulls_no_qualities2, expected_values_no_qualities2, plotting_no_qualities2 = ts_no_qualities(ts_learner2, arms, adversary_bids, False, array_estimation, rounds, deltas, social_network)\n",
    "    print(best_arm_no_qualities2)\n",
    "    print(expected_values_no_qualities2[index_no_qualities2])\n"
   ],
   "outputs": [
    {
     "output_type": "stream",
     "name": "stdout",
     "text": [
      "Here are some outputs for the case without ad qualities, with all ads\n",
      "[2 3 2 1 1]\n",
      "3.76651108724722\n",
      "[2 3 2 1 1]\n",
      "3.795692688083657\n",
      "[2 3 2 1 1]\n",
      "3.791654628729414\n",
      "[2 3 2 1 1]\n",
      "3.7575854405635347\n"
     ]
    }
   ],
   "metadata": {}
  },
  {
   "cell_type": "code",
   "execution_count": 8,
   "source": [
    "print(\"Here are some outputs for the case without anything, with only ads in first position\")\n",
    "for i in range(0, repetitions):\n",
    "    \n",
    "    ts_learner3 = GTS_Learner(20, arms, variance=30, ad_id=1)\n",
    "    best_arm, index, number_of_pulls, expected_values, plotting = ts(ts_learner3, arms, adversary_bids, True, array_estimation, rounds, deltas, social_network)\n",
    "    print(best_arm)\n",
    "    print(expected_values[index])"
   ],
   "outputs": [
    {
     "output_type": "stream",
     "name": "stdout",
     "text": [
      "Here are some outputs for the case without anything, with only ads in first position\n",
      "[2 1 3 0 4]\n",
      "1.4482740256596496\n",
      "[2 3 4 2 4]\n",
      "1.479080149501679\n",
      "[2 3 4 2 4]\n",
      "1.5468168572069279\n",
      "[3 3 4 2 3]\n",
      "1.7766752954418095\n"
     ]
    }
   ],
   "metadata": {}
  },
  {
   "cell_type": "code",
   "execution_count": 9,
   "source": [
    "print(\"Here are some outputs for the case without anything, with all ads\")\n",
    "for i in range(0, repetitions):\n",
    "    \n",
    "    ts_learner4 = GTS_Learner(20, arms, variance=20, ad_id=1)\n",
    "    best_arm2, index2, number_of_pulls2, expected_values2, plotting2 = ts(ts_learner4, arms, adversary_bids, False, array_estimation, rounds, deltas, social_network)\n",
    "    print(best_arm2)\n",
    "    print(expected_values2[index2])"
   ],
   "outputs": [
    {
     "output_type": "stream",
     "name": "stdout",
     "text": [
      "Here are some outputs for the case without anything, with all ads\n",
      "[2 3 2 1 1]\n",
      "2.173236793339359\n",
      "[2 3 2 1 1]\n",
      "2.0688997247115566\n",
      "[2 3 2 1 1]\n",
      "2.103876298617808\n",
      "[2 3 2 1 1]\n",
      "2.203880161767846\n"
     ]
    }
   ],
   "metadata": {}
  },
  {
   "cell_type": "code",
   "execution_count": 10,
   "source": [
    "print(\"Here are reward and regret for the case without ad qualities, with only ads in first position\")\n",
    "clairvoyant_no_qualities = expected_values_no_qualities[index_no_qualities]\n",
    "regret_no_qualities = [expected_values_no_qualities[index_no_qualities] - x for x in plotting_no_qualities]\n",
    "plt.figure(0)\n",
    "plt.plot(plotting_no_qualities, 'y')\n",
    "plt.axhline(y=expected_values_no_qualities[index_no_qualities], color='r', linestyle='-')\n",
    "print(index_no_qualities)\n",
    "plt.figure(1)\n",
    "plt.plot(regret_no_qualities)"
   ],
   "outputs": [
    {
     "output_type": "stream",
     "name": "stdout",
     "text": [
      "Here are reward and regret for the case without ad qualities, with only ads in first position\n",
      "1\n"
     ]
    },
    {
     "output_type": "execute_result",
     "data": {
      "text/plain": [
       "[<matplotlib.lines.Line2D at 0x127d8bb20>]"
      ]
     },
     "metadata": {},
     "execution_count": 10
    },
    {
     "output_type": "display_data",
     "data": {
      "image/png": "[encoded data removed]",
      "text/plain": [
       "<Figure size 432x288 with 1 Axes>"
      ]
     },
     "metadata": {
      "needs_background": "light"
     }
    },
    {
     "output_type": "display_data",
     "data": {
      "image/png": "[encoded data removed]",
      "text/plain": [
       "<Figure size 432x288 with 1 Axes>"
      ]
     },
     "metadata": {
      "needs_background": "light"
     }
    }
   ],
   "metadata": {}
  },
  {
   "cell_type": "code",
   "execution_count": 11,
   "source": [
    "print(\"Here are reward and regret for the case without ad qualities, with all ads\")\n",
    "clairvoyant_no_qualities2 = expected_values_no_qualities2[index_no_qualities2]\n",
    "regret_no_qualities2 = [expected_values_no_qualities2[index_no_qualities2] - x for x in plotting_no_qualities2]\n",
    "plt.figure(0)\n",
    "plt.plot(plotting_no_qualities2, 'y')\n",
    "plt.axhline(y=expected_values_no_qualities2[index_no_qualities2], color='r', linestyle='-')\n",
    "print(index_no_qualities2)\n",
    "plt.figure(1)\n",
    "plt.plot(regret_no_qualities2)"
   ],
   "outputs": [
    {
     "output_type": "stream",
     "name": "stdout",
     "text": [
      "Here are reward and regret for the case without ad qualities, with all ads\n",
      "14\n"
     ]
    },
    {
     "output_type": "execute_result",
     "data": {
      "text/plain": [
       "[<matplotlib.lines.Line2D at 0x127f18fd0>]"
      ]
     },
     "metadata": {},
     "execution_count": 11
    },
    {
     "output_type": "display_data",
     "data": {
      "image/png": "[encoded data removed]",
      "text/plain": [
       "<Figure size 432x288 with 1 Axes>"
      ]
     },
     "metadata": {
      "needs_background": "light"
     }
    },
    {
     "output_type": "display_data",
     "data": {
      "image/png": "[encoded data removed]",
      "text/plain": [
       "<Figure size 432x288 with 1 Axes>"
      ]
     },
     "metadata": {
      "needs_background": "light"
     }
    }
   ],
   "metadata": {}
  },
  {
   "cell_type": "code",
   "execution_count": 12,
   "source": [
    "print(\"Here are reward and regret for the case without anything, with only ads in first position\")\n",
    "clairvoyant = expected_values[index]\n",
    "regret = [expected_values[index] - x for x in plotting]\n",
    "plt.figure(4)\n",
    "plt.plot(plotting, 'y')\n",
    "plt.axhline(y=expected_values[index], color='r', linestyle='-')\n",
    "print(index)\n",
    "plt.figure(5)\n",
    "plt.plot(regret) "
   ],
   "outputs": [
    {
     "output_type": "stream",
     "name": "stdout",
     "text": [
      "Here are reward and regret for the case without anything, with only ads in first position\n",
      "1\n"
     ]
    },
    {
     "output_type": "execute_result",
     "data": {
      "text/plain": [
       "[<matplotlib.lines.Line2D at 0x1280571c0>]"
      ]
     },
     "metadata": {},
     "execution_count": 12
    },
    {
     "output_type": "display_data",
     "data": {
      "image/png": "[encoded data removed]",
      "text/plain": [
       "<Figure size 432x288 with 1 Axes>"
      ]
     },
     "metadata": {
      "needs_background": "light"
     }
    },
    {
     "output_type": "display_data",
     "data": {
      "image/png": "[encoded data removed]",
      "text/plain": [
       "<Figure size 432x288 with 1 Axes>"
      ]
     },
     "metadata": {
      "needs_background": "light"
     }
    }
   ],
   "metadata": {}
  },
  {
   "cell_type": "code",
   "execution_count": 13,
   "source": [
    "print(\"Here are reward and regret for the case without anything, with all ads\")\n",
    "clairvoyant2 = expected_values2[index2]\n",
    "regret2 = [expected_values2[index2] - x for x in plotting2]\n",
    "plt.figure(6)\n",
    "plt.plot(plotting2, 'y')\n",
    "plt.axhline(y=expected_values2[index2], color='r', linestyle='-')\n",
    "print(index2)\n",
    "plt.figure(7)\n",
    "plt.plot(regret2) "
   ],
   "outputs": [
    {
     "output_type": "stream",
     "name": "stdout",
     "text": [
      "Here are reward and regret for the case without anything, with all ads\n",
      "14\n"
     ]
    },
    {
     "output_type": "execute_result",
     "data": {
      "text/plain": [
       "[<matplotlib.lines.Line2D at 0x128102970>]"
      ]
     },
     "metadata": {},
     "execution_count": 13
    },
    {
     "output_type": "display_data",
     "data": {
      "image/png": "[encoded data removed]",
      "text/plain": [
       "<Figure size 432x288 with 1 Axes>"
      ]
     },
     "metadata": {
      "needs_background": "light"
     }
    },
    {
     "output_type": "display_data",
     "data": {
      "image/png": "[encoded data removed]",
      "text/plain": [
       "<Figure size 432x288 with 1 Axes>"
      ]
     },
     "metadata": {
      "needs_background": "light"
     }
    }
   ],
   "metadata": {}
  },
  {
   "cell_type": "code",
   "execution_count": 14,
   "source": [
    "expected_values = []\n",
    "expected_values2 = []\n",
    "sw_size = 5000\n",
    "only_first = False\n",
    "arms = arms_creation(seed=30291, number_of_arms=20)\n",
    "ts_learner = GTS_SW_Learner(20, arms, variance=20, size_SW=sw_size, ad_id=1)\n",
    "ts_learner2 = GTS_SW_Learner(20, arms, variance=10, size_SW=sw_size, ad_id=1)\n",
    "n_experiments = 15000\n",
    "\n",
    "for j in range(0, 1):\n",
    "    best_Arm = []\n",
    "    print(\"This is TS number \" + str(j))\n",
    "\n",
    "    best_arm, best_arm_index, number_of_pulls, expected_values, thing_to_plot, clairvoyants, clair_ex = test_sw(\n",
    "        ts_learner, arms, adversary_bids.copy(), only_first, n_experiments, deltas, social_network, sw_size)\n",
    "    best_arm2, best_arm_index2, number_of_pulls2, expected_values2, thing_to_plot2, clairvoyants2, clair_ex2 = test_sw(\n",
    "        ts_learner2, arms, adversary_bids.copy(), not only_first, n_experiments, deltas, social_network, sw_size)\n",
    "\n",
    "print(np.array(arms)[clairvoyants])\n",
    "print(clair_ex)\n",
    "print(np.array(arms)[clairvoyants2])\n",
    "print(clair_ex2)\n"
   ],
   "outputs": [
    {
     "output_type": "stream",
     "name": "stdout",
     "text": [
      "This is TS number 0\n",
      "[[2 3 2 1 1]\n",
      " [2 3 2 1 1]\n",
      " [2 3 2 1 1]]\n",
      "[2.1529785809906286, 1.5111939206655354, 2.1629819277108475]\n",
      "[[3 3 4 2 3]\n",
      " [4 2 3 4 0]\n",
      " [3 1 2 2 3]]\n",
      "[1.7302636916835568, 7.620000000000001, 2.6964551641312933]\n"
     ]
    }
   ],
   "metadata": {}
  },
  {
   "cell_type": "code",
   "execution_count": 15,
   "source": [
    "best_values = []\n",
    "j = 0\n",
    "k = 0\n",
    "for i in range(n_experiments):\n",
    "    k += 1\n",
    "    best_values.append(clair_ex[j])\n",
    "    if k == sw_size:\n",
    "        k = 0\n",
    "        j += 1\n",
    "\n",
    "regret_no_qualities = [\n",
    "    best_values[x] - thing_to_plot[x] for x in range(len(thing_to_plot))]\n",
    "plt.figure(0)\n",
    "plt.plot(thing_to_plot, 'y')\n",
    "plt.ylabel(\"Reward\")\n",
    "plt.xlabel(\"Rounds\")\n",
    "plt.plot(best_values, 'r')\n",
    "plt.legend([\"Clairvoyant\", \"TS\"])\n",
    "\n",
    "plt.figure(1)\n",
    "plt.ylabel(\"Regret\")\n",
    "plt.xlabel(\"Rounds\")\n",
    "plt.plot(regret_no_qualities, 'g')\n"
   ],
   "outputs": [
    {
     "output_type": "execute_result",
     "data": {
      "text/plain": [
       "[<matplotlib.lines.Line2D at 0x1284df820>]"
      ]
     },
     "metadata": {},
     "execution_count": 15
    },
    {
     "output_type": "display_data",
     "data": {
      "image/png": "[encoded data removed]",
      "text/plain": [
       "<Figure size 432x288 with 1 Axes>"
      ]
     },
     "metadata": {
      "needs_background": "light"
     }
    },
    {
     "output_type": "display_data",
     "data": {
      "image/png": "[encoded data removed]",
      "text/plain": [
       "<Figure size 432x288 with 1 Axes>"
      ]
     },
     "metadata": {
      "needs_background": "light"
     }
    }
   ],
   "metadata": {}
  },
  {
   "cell_type": "code",
   "execution_count": 16,
   "source": [
    "print(\"Here are reward and regret for the case without ad qualities, with only ads in first position\")\n",
    "best_values2 = []\n",
    "j = 0\n",
    "k = 0\n",
    "for i in range(n_experiments):\n",
    "    k += 1\n",
    "    best_values2.append(clair_ex2[j])\n",
    "    if k == sw_size:\n",
    "        k = 0\n",
    "        j += 1\n",
    "\n",
    "regret_no_qualities2 = [\n",
    "    best_values2[x] - thing_to_plot2[x] for x in range(len(thing_to_plot2))]\n",
    "plt.figure(0)\n",
    "plt.plot(best_values2, 'r')\n",
    "plt.plot(thing_to_plot2, 'y')\n",
    "plt.ylabel(\"Reward\")\n",
    "plt.xlabel(\"Rounds\")\n",
    "plt.legend([\"Clairvoyant\", \"TS\"])\n",
    "\n",
    "plt.figure(1)\n",
    "plt.ylabel(\"Regret\")\n",
    "plt.xlabel(\"Rounds\")\n",
    "plt.plot(regret_no_qualities2, 'g')\n"
   ],
   "outputs": [
    {
     "output_type": "stream",
     "name": "stdout",
     "text": [
      "Here are reward and regret for the case without ad qualities, with only ads in first position\n"
     ]
    },
    {
     "output_type": "execute_result",
     "data": {
      "text/plain": [
       "[<matplotlib.lines.Line2D at 0x1285af0d0>]"
      ]
     },
     "metadata": {},
     "execution_count": 16
    },
    {
     "output_type": "display_data",
     "data": {
      "image/png": "[encoded data removed]",
      "text/plain": [
       "<Figure size 432x288 with 1 Axes>"
      ]
     },
     "metadata": {
      "needs_background": "light"
     }
    },
    {
     "output_type": "display_data",
     "data": {
      "image/png": "[encoded data removed]",
      "text/plain": [
       "<Figure size 432x288 with 1 Axes>"
      ]
     },
     "metadata": {
      "needs_background": "light"
     }
    }
   ],
   "metadata": {}
  }
 ],
 "metadata": {
  "orig_nbformat": 4,
  "language_info": {
   "name": "python",
   "version": "3.8.8",
   "mimetype": "text/x-python",
   "codemirror_mode": {
    "name": "ipython",
    "version": 3
   },
   "pygments_lexer": "ipython3",
   "nbconvert_exporter": "python",
   "file_extension": ".py"
  },
  "kernelspec": {
   "name": "python3",
   "display_name": "Python 3.8.8 64-bit ('projects_env': conda)"
  },
  "interpreter": {
   "hash": "7b65a0b764bf49cc7947e468da38261005013c03fd7f348ce5375f68cfcbfbf1"
  }
 },
 "nbformat": 4,
 "nbformat_minor": 2
}