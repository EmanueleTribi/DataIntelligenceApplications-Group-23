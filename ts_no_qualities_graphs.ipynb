{
 "cells": [
  {
   "cell_type": "code",
   "execution_count": 1,
   "source": [
    "from Advertising.learners.greedyLearner import *\n",
    "import matplotlib.pyplot as plt\n",
    "import numpy as np\n",
    "from SocialNetwork.social_network_environment import *\n",
    "from SocialNetwork.cascade import *\n",
    "from Advertising.enviroment.bid import *\n",
    "from Advertising.enviroment.VCG import *\n",
    "from Advertising.learners.GTS_Learner import *\n",
    "from Advertising.learners.TS_no_qualities import *\n",
    "from tqdm.autonotebook import tqdm\n",
    "import itertools\n",
    "seed = 6789\n",
    "random.seed(seed)\n",
    "\n",
    "only_first=False\n",
    "\n",
    "lambdas = [0.5, 0.42, 0.38, 0.30, 0.2, 0.05]\n",
    "social_network = social_network_environment()\n",
    "social_network.init_from_json(json_path_network='Config/network.json', json_path_features='Config/features.json')\n",
    "\n",
    "adversary_bids = []\n",
    "for _ in range(0, 10): \n",
    "    adversary_i_bids = []\n",
    "    for _ in range(0, 5):\n",
    "        adversary_i_bids.append(random.randint(0, 4))\n",
    "    adversary_bids.append(adversary_i_bids)\n",
    "\n",
    "arms = arms_creation(seed=seed, number_of_arms=20)\n",
    "ts_learner = GTS_Learner(20, arms, variance=10, ad_id=1)\n",
    "ts_learner2 = GTS_Learner(20, arms, variance=10, ad_id=1)\n",
    "\n",
    "active_by_influence_reward = compute_array_estimated_influence(social_network, 2000)\n",
    "\n",
    "for j in range (0, 1):\n",
    "    best_Arm = []\n",
    "    print(\"This is TS number \" + str(j))\n",
    "\n",
    "    \n",
    "    best_arm, best_arm_index, number_of_pulls, expected_values, thing_to_plot = test(ts_learner, arms, adversary_bids, only_first, active_by_influence_reward, 500, lambdas, social_network)\n",
    "    best_arm2, best_arm_index2, number_of_pulls2, expected_values2, thing_to_plot2 = test(ts_learner2, arms, adversary_bids, not only_first, active_by_influence_reward, 500, lambdas, social_network)\n",
    "\n",
    "\n",
    "\n",
    "    print(\"Valori non solo prima posizione:\")\n",
    "    print(best_arm)\n",
    "    print(number_of_pulls)\n",
    "    print(expected_values)\n",
    "\n",
    "    print(\"Valori solo prima posizione:\")\n",
    "    print(best_arm2)\n",
    "    print(number_of_pulls2)\n",
    "    print(expected_values2)\n"
   ],
   "outputs": [
    {
     "output_type": "stream",
     "name": "stdout",
     "text": [
      "Doing node number 0\n",
      "Doing node number 1\n",
      "Doing node number 2\n",
      "Doing node number 3\n",
      "Doing node number 4\n",
      "Doing node number 5\n",
      "Doing node number 6\n",
      "Doing node number 7\n",
      "Doing node number 8\n",
      "Doing node number 9\n",
      "Doing node number 10\n",
      "Doing node number 11\n",
      "Doing node number 12\n",
      "Doing node number 13\n",
      "Doing node number 14\n",
      "Doing node number 15\n",
      "Doing node number 16\n",
      "Doing node number 17\n",
      "Doing node number 18\n",
      "Doing node number 19\n",
      "Doing node number 20\n",
      "Doing node number 21\n",
      "Doing node number 22\n",
      "Doing node number 23\n",
      "Doing node number 24\n",
      "Doing node number 25\n",
      "Doing node number 26\n",
      "Doing node number 27\n",
      "Doing node number 28\n",
      "Doing node number 29\n",
      "Doing node number 30\n",
      "Doing node number 31\n",
      "Doing node number 32\n",
      "Doing node number 33\n",
      "Doing node number 34\n",
      "Doing node number 35\n",
      "Doing node number 36\n",
      "Doing node number 37\n",
      "Doing node number 38\n",
      "Doing node number 39\n",
      "Doing node number 40\n",
      "Doing node number 41\n",
      "Doing node number 42\n",
      "Doing node number 43\n",
      "Doing node number 44\n",
      "Doing node number 45\n",
      "Doing node number 46\n",
      "Doing node number 47\n",
      "Doing node number 48\n",
      "Doing node number 49\n",
      "This is TS number 0\n",
      "[1.9577765899122717, 3.0354590416666603, 3.0968451341374235, 0.7076083234126885, 0.29873307291665707, 2.8278369047619067, 3.5396094038129706, 1.0496577976190442, 1.6811180811403446, 1.7076700000000031, 2.787622666666672, 2.4179193043154723, 2.389111380208324, 2.2814120311940496, -0.006794004151019717, 1.7102736688596376, 2.401349767909348, 1.2665427916666598, 2.836282031249996, 2.0125266538742697]\n",
      "6\n",
      "[2.376250000000005, 3.563140618818014, 2.1073214285714337, 1.7469024999999967, -1.6480406770833524, 0.0, 0.0, 1.1903131250000016, 0.0, 1.5224150000000036, 0.0, 0.938225000000003, 2.0495429166666606, 0.8538350000000016, -0.3481192708333458, 1.3101819444444451, 2.555461944444436, 1.5661912083333174, 3.434007387609654, 2.2217400000000085]\n",
      "1\n",
      "Valori non solo prima posizione:\n",
      "[0 0 2 1 0]\n",
      "[5, 10, 30, 3, 4, 7, 345, 4, 5, 5, 25, 8, 8, 7, 4, 5, 6, 5, 8, 6]\n",
      "[1.9577765899122717, 3.0354590416666603, 3.0968451341374235, 0.7076083234126885, 0.29873307291665707, 2.8278369047619067, 3.5396094038129706, 1.0496577976190442, 1.6811180811403446, 1.7076700000000031, 2.787622666666672, 2.4179193043154723, 2.389111380208324, 2.2814120311940496, -0.006794004151019717, 1.7102736688596376, 2.401349767909348, 1.2665427916666598, 2.836282031249996, 2.0125266538742697]\n",
      "Valori solo prima posizione:\n",
      "[3 3 3 1 1]\n",
      "[5, 337, 7, 5, 4, 4, 4, 5, 4, 5, 4, 4, 5, 5, 4, 6, 6, 5, 76, 5]\n",
      "[2.376250000000005, 3.563140618818014, 2.1073214285714337, 1.7469024999999967, -1.6480406770833524, 0.0, 0.0, 1.1903131250000016, 0.0, 1.5224150000000036, 0.0, 0.938225000000003, 2.0495429166666606, 0.8538350000000016, -0.3481192708333458, 1.3101819444444451, 2.555461944444436, 1.5661912083333174, 3.434007387609654, 2.2217400000000085]\n"
     ]
    }
   ],
   "metadata": {}
  },
  {
   "cell_type": "code",
   "execution_count": 2,
   "source": [
    "# plt.figure(0)\n",
    "# plt.xlabel('round')\n",
    "# plt.ylabel('reward')\n",
    "# plt.plot(learner.collected_rewards)\n",
    "# plt.show()\n",
    "\n",
    "print(\"THE BEST ARM FOR EXPERIMENT TOTAL IS:\", arms[best_arm_index], \"INDEX\",best_arm_index)\n",
    "print(\"THE BEST ARM FOR EXPERIMENT ONLY FIRST IS:\", arms[best_arm_index2], \"INDEX\",best_arm_index2)\n",
    "\n",
    "array = [i+1 for i in range(0, 20)]\n",
    "\n",
    "\n",
    "\n",
    "plt.figure(1)\n",
    "plt.errorbar(array, expected_values, yerr=(1/ts_learner.tau0)*5, fmt='o')\n",
    "plt.figure(0)\n",
    "plt.errorbar(array, expected_values2, yerr=(1/ts_learner2.tau0)*5, fmt='o')\n",
    "    \n",
    "plt.show()\n"
   ],
   "outputs": [
    {
     "output_type": "stream",
     "name": "stdout",
     "text": [
      "THE BEST ARM FOR EXPERIMENT TOTAL IS: [0 0 2 1 0] INDEX 6\n",
      "THE BEST ARM FOR EXPERIMENT ONLY FIRST IS: [3 3 3 1 1] INDEX 1\n"
     ]
    },
    {
     "output_type": "display_data",
     "data": {
      "image/png": "[encoded data removed]",
      "text/plain": [
       "<Figure size 432x288 with 1 Axes>"
      ]
     },
     "metadata": {
      "needs_background": "light"
     }
    },
    {
     "output_type": "display_data",
     "data": {
      "image/png": "[encoded data removed]",
      "text/plain": [
       "<Figure size 432x288 with 1 Axes>"
      ]
     },
     "metadata": {
      "needs_background": "light"
     }
    }
   ],
   "metadata": {}
  }
 ],
 "metadata": {
  "orig_nbformat": 4,
  "language_info": {
   "name": "python",
   "version": "3.8.8",
   "mimetype": "text/x-python",
   "codemirror_mode": {
    "name": "ipython",
    "version": 3
   },
   "pygments_lexer": "ipython3",
   "nbconvert_exporter": "python",
   "file_extension": ".py"
  },
  "kernelspec": {
   "name": "python3",
   "display_name": "Python 3.8.8 64-bit ('projects_env': conda)"
  },
  "interpreter": {
   "hash": "7b65a0b764bf49cc7947e468da38261005013c03fd7f348ce5375f68cfcbfbf1"
  }
 },
 "nbformat": 4,
 "nbformat_minor": 2
}