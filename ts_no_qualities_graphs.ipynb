{
 "cells": [
  {
   "cell_type": "code",
   "execution_count": 1,
   "source": [
    "from Advertising.learners.greedyLearner import *\n",
    "import matplotlib.pyplot as plt\n",
    "import numpy as np\n",
    "from SocialNetwork.social_network_environment import *\n",
    "from SocialNetwork.cascade import *\n",
    "from Advertising.enviroment.bid import *\n",
    "from Advertising.enviroment.VCG import *\n",
    "from Advertising.learners.GTS_Learner import *\n",
    "from Advertising.learners.TS_no_qualities import *\n",
    "from tqdm.autonotebook import tqdm\n",
    "import itertools\n",
    "seed = 6789\n",
    "random.seed(seed)\n",
    "only_first=False\n",
    "\n",
    "\n",
    "lambdas = [0.5, 0.42, 0.38, 0.30, 0.2, 0.05]\n",
    "social_network = social_network_environment()\n",
    "social_network.init_from_json(json_path_network='Config/network.json', json_path_features='Config/features.json')\n",
    "\n",
    "adversary_bids = []\n",
    "for _ in range(0, 10): \n",
    "    adversary_i_bids = []\n",
    "    for _ in range(0, 5):\n",
    "        adversary_i_bids.append(random.randint(0, 4))\n",
    "    adversary_bids.append(adversary_i_bids)\n",
    "\n",
    "ts_learner = GTS_Learner(20, arms, variance=10, ad_id=1)\n",
    "ts_learner2 = GTS_Learner(20, arms, variance=10, ad_id=1)\n",
    "\n",
    "active_by_influence_reward = compute_array_estimated_influence(social_network, 2000)\n"
   ],
   "outputs": [
    {
     "output_type": "stream",
     "name": "stdout",
     "text": [
      "Doing node number 0\n",
      "Doing node number 1\n",
      "Doing node number 2\n",
      "Doing node number 3\n",
      "Doing node number 4\n",
      "Doing node number 5\n",
      "Doing node number 6\n",
      "Doing node number 7\n",
      "Doing node number 8\n",
      "Doing node number 9\n",
      "Doing node number 10\n",
      "Doing node number 11\n",
      "Doing node number 12\n",
      "Doing node number 13\n",
      "Doing node number 14\n",
      "Doing node number 15\n",
      "Doing node number 16\n",
      "Doing node number 17\n",
      "Doing node number 18\n",
      "Doing node number 19\n",
      "Doing node number 20\n",
      "Doing node number 21\n",
      "Doing node number 22\n",
      "Doing node number 23\n",
      "Doing node number 24\n",
      "Doing node number 25\n",
      "Doing node number 26\n",
      "Doing node number 27\n",
      "Doing node number 28\n",
      "Doing node number 29\n",
      "Doing node number 30\n",
      "Doing node number 31\n",
      "Doing node number 32\n",
      "Doing node number 33\n",
      "Doing node number 34\n",
      "Doing node number 35\n",
      "Doing node number 36\n",
      "Doing node number 37\n",
      "Doing node number 38\n",
      "Doing node number 39\n",
      "Doing node number 40\n",
      "Doing node number 41\n",
      "Doing node number 42\n",
      "Doing node number 43\n",
      "Doing node number 44\n",
      "Doing node number 45\n",
      "Doing node number 46\n",
      "Doing node number 47\n",
      "Doing node number 48\n",
      "Doing node number 49\n",
      "This is TS number 0\n",
      "[1.5472690104166666, 1.3511476007727588, 0.16372720238094712, 1.328533558201057, 0.9596968750000024, 1.4284831191259355, 1.4082231770833342, 1.9127492481202988, 2.1025601190476175, -0.05036093750000514, 0.08120146679197245, 2.0699220514354018, -0.726833854166667, -0.4591546875000073, 2.2252942582149844, -1.0668790000000037, -2.5585983333333426, 0.20822864583333323, 2.7458982298350594, 1.8232982684575978]\n",
      "18\n",
      "[1.553591145833337, -0.10361624999999766, 1.2917237500000052, 1.9861701139601184, 1.4637358333333368, -0.17662833333333267, 1.3736303240740755, 0.9581859375000018, 1.195449322916661, 1.4873675347222275, -1.1803541666666668, 0.770175000000003, -1.3572305121527801, 0.21832847222221888, 0.0, -0.35861315476190214, -2.17247242063493, 1.3931354166666736, 0.0, 1.797156068840585]\n",
      "3\n",
      "Valori non solo prima posizione:\n",
      "[3 1 2 2 3]\n",
      "[8, 6, 5, 9, 6, 6, 8, 7, 7, 4, 5, 11, 4, 5, 9, 5, 3, 4, 382, 6]\n",
      "[1.5472690104166666, 1.3511476007727588, 0.16372720238094712, 1.328533558201057, 0.9596968750000024, 1.4284831191259355, 1.4082231770833342, 1.9127492481202988, 2.1025601190476175, -0.05036093750000514, 0.08120146679197245, 2.0699220514354018, -0.726833854166667, -0.4591546875000073, 2.2252942582149844, -1.0668790000000037, -2.5585983333333426, 0.20822864583333323, 2.7458982298350594, 1.8232982684575978]\n",
      "Valori solo prima posizione:\n",
      "[1 3 3 1 4]\n",
      "[8, 5, 10, 351, 10, 5, 9, 8, 8, 12, 5, 5, 4, 6, 5, 7, 4, 10, 5, 23]\n",
      "[1.553591145833337, -0.10361624999999766, 1.2917237500000052, 1.9861701139601184, 1.4637358333333368, -0.17662833333333267, 1.3736303240740755, 0.9581859375000018, 1.195449322916661, 1.4873675347222275, -1.1803541666666668, 0.770175000000003, -1.3572305121527801, 0.21832847222221888, 0.0, -0.35861315476190214, -2.17247242063493, 1.3931354166666736, 0.0, 1.797156068840585]\n"
     ]
    }
   ],
   "metadata": {}
  },
  {
   "cell_type": "code",
   "execution_count": null,
   "source": [
    "arms = arms_creation(seed=30291, number_of_arms=20)\n",
    "expected_values = []\n",
    "expected_values2 = []\n",
    "\n",
    "\n",
    "\n",
    "\n",
    "\n",
    "for j in range (0, 1):\n",
    "    best_Arm = []\n",
    "    print(\"This is TS number \" + str(j))\n",
    "\n",
    "    \n",
    "    best_arm, best_arm_index, number_of_pulls, expected_values, thing_to_plot = test(ts_learner, arms, adversary_bids, only_first, active_by_influence_reward, 500, lambdas, social_network)\n",
    "    best_arm2, best_arm_index2, number_of_pulls2, expected_values2, thing_to_plot2 = test(ts_learner2, arms, adversary_bids, not only_first, active_by_influence_reward, 500, lambdas, social_network)\n",
    "\n",
    "\n",
    "\n",
    "    print(\"Valori non solo prima posizione:\")\n",
    "    print(best_arm)\n",
    "    print(number_of_pulls)\n",
    "    print(expected_values)\n",
    "\n",
    "    print(\"Valori solo prima posizione:\")\n",
    "    print(best_arm2)\n",
    "    print(number_of_pulls2)\n",
    "    print(expected_values2)\n"
   ],
   "outputs": [],
   "metadata": {}
  },
  {
   "cell_type": "code",
   "execution_count": 2,
   "source": [
    "# plt.figure(0)\n",
    "# plt.xlabel('round')\n",
    "# plt.ylabel('reward')\n",
    "# plt.plot(learner.collected_rewards)\n",
    "# plt.show()\n",
    "\n",
    "print(\"THE BEST ARM FOR EXPERIMENT TOTAL IS:\", arms[best_arm_index], \"INDEX\",best_arm_index)\n",
    "print(\"THE BEST ARM FOR EXPERIMENT ONLY FIRST IS:\", arms[best_arm_index2], \"INDEX\",best_arm_index2)\n",
    "\n",
    "array = [i+1 for i in range(0, 20)]\n",
    "\n",
    "\n",
    "\n",
    "plt.figure(1)\n",
    "plt.errorbar(array, expected_values, yerr=(1/ts_learner.tau0)*5, fmt='o')\n",
    "plt.figure(0)\n",
    "plt.errorbar(array, expected_values2, yerr=(1/ts_learner2.tau0)*5, fmt='o')\n",
    "    \n",
    "plt.show()\n"
   ],
   "outputs": [
    {
     "output_type": "stream",
     "name": "stdout",
     "text": [
      "THE BEST ARM FOR EXPERIMENT TOTAL IS: [3 1 2 2 3] INDEX 18\n",
      "THE BEST ARM FOR EXPERIMENT ONLY FIRST IS: [1 3 3 1 4] INDEX 3\n"
     ]
    },
    {
     "output_type": "display_data",
     "data": {
      "image/png": "[encoded data removed]",
      "text/plain": [
       "<Figure size 432x288 with 1 Axes>"
      ]
     },
     "metadata": {
      "needs_background": "light"
     }
    },
    {
     "output_type": "display_data",
     "data": {
      "image/png": "[encoded data removed]",
      "text/plain": [
       "<Figure size 432x288 with 1 Axes>"
      ]
     },
     "metadata": {
      "needs_background": "light"
     }
    }
   ],
   "metadata": {}
  }
 ],
 "metadata": {
  "orig_nbformat": 4,
  "language_info": {
   "name": "python",
   "version": "3.8.8",
   "mimetype": "text/x-python",
   "codemirror_mode": {
    "name": "ipython",
    "version": 3
   },
   "pygments_lexer": "ipython3",
   "nbconvert_exporter": "python",
   "file_extension": ".py"
  },
  "kernelspec": {
   "name": "python3",
   "display_name": "Python 3.8.8 64-bit ('projects_env': conda)"
  },
  "interpreter": {
   "hash": "7b65a0b764bf49cc7947e468da38261005013c03fd7f348ce5375f68cfcbfbf1"
  }
 },
 "nbformat": 4,
 "nbformat_minor": 2
}