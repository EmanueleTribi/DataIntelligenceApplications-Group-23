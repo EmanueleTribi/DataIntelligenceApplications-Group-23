{
 "cells": [
  {
   "cell_type": "code",
   "execution_count": 1,
   "source": [
    "from Advertising.learners.greedyLearner import *\n",
    "import matplotlib.pyplot as plt\n",
    "import numpy as np\n",
    "from SocialNetwork.social_network_environment import *\n",
    "from SocialNetwork.cascade import *\n",
    "from Advertising.enviroment.bid import *\n",
    "from Advertising.enviroment.VCG import *\n",
    "from Advertising.learners.GTS_Learner import *\n",
    "from Advertising.learners.TS_no_qualities import *\n",
    "from tqdm.autonotebook import tqdm\n",
    "import itertools\n",
    "seed = 6789\n",
    "random.seed(6789)\n",
    "\n",
    "only_first=False\n",
    "\n",
    "lambdas = [0.5, 0.42, 0.38, 0.30, 0.2, 0.05]\n",
    "social_network = social_network_environment()\n",
    "social_network.init_from_json(json_path_network='Config/network.json', json_path_features='Config/features.json')\n",
    "\n",
    "adversary_bids = []\n",
    "for _ in range(0, 10): \n",
    "    adversary_i_bids = []\n",
    "    for _ in range(0, 5):\n",
    "        adversary_i_bids.append(random.randint(0, 4))\n",
    "    adversary_bids.append(adversary_i_bids)\n",
    "\n",
    "arms = arms_creation(seed=seed, number_of_arms=20)\n",
    "ts_learner = GTS_Learner(20, arms, variance=10, ad_id=1)\n",
    "active_by_influence_reward = compute_array_estimated_influence(social_network, 2000)\n",
    "\n",
    "for j in range (0, 1):\n",
    "    best_Arm = []\n",
    "    print(\"This is TS number \" + str(j))\n",
    "\n",
    "    best_arm, best_arm_index, number_of_pulls, expected_values = test(ts_learner, arms, adversary_bids, only_first, active_by_influence_reward, 5000, lambdas, social_network)\n",
    "    print(best_arm)\n",
    "    print(number_of_pulls)\n",
    "    print(expected_values)\n"
   ],
   "outputs": [
    {
     "output_type": "stream",
     "name": "stdout",
     "text": [
      "Doing node number 0\n",
      "Doing node number 1\n",
      "Doing node number 2\n",
      "Doing node number 3\n",
      "Doing node number 4\n",
      "Doing node number 5\n",
      "Doing node number 6\n",
      "Doing node number 7\n",
      "Doing node number 8\n",
      "Doing node number 9\n",
      "Doing node number 10\n",
      "Doing node number 11\n",
      "Doing node number 12\n",
      "Doing node number 13\n",
      "Doing node number 14\n",
      "Doing node number 15\n",
      "Doing node number 16\n",
      "Doing node number 17\n",
      "Doing node number 18\n",
      "Doing node number 19\n",
      "Doing node number 20\n",
      "Doing node number 21\n",
      "Doing node number 22\n",
      "Doing node number 23\n",
      "Doing node number 24\n",
      "Doing node number 25\n",
      "Doing node number 26\n",
      "Doing node number 27\n",
      "Doing node number 28\n",
      "Doing node number 29\n",
      "Doing node number 30\n",
      "Doing node number 31\n",
      "Doing node number 32\n",
      "Doing node number 33\n",
      "Doing node number 34\n",
      "Doing node number 35\n",
      "Doing node number 36\n",
      "Doing node number 37\n",
      "Doing node number 38\n",
      "Doing node number 39\n",
      "Doing node number 40\n",
      "Doing node number 41\n",
      "Doing node number 42\n",
      "Doing node number 43\n",
      "Doing node number 44\n",
      "Doing node number 45\n",
      "Doing node number 46\n",
      "Doing node number 47\n",
      "Doing node number 48\n",
      "Doing node number 49\n",
      "This is TS number 0\n",
      "[2 3 3 1 0]\n",
      "[11, 17, 4739, 11, 11, 19, 14, 11, 13, 13, 16, 15, 12, 12, 12, 13, 16, 14, 20, 11]\n",
      "[2.255825209330138, 2.425171974789908, 3.292931767968543, 0.6703676569263944, 0.37776028138526674, 3.888619736842111, 3.1884297193877633, 1.5829695400432824, 1.9959450602467663, 1.4706639423076953, 2.1622757812500026, 2.192339853174601, 2.5846012847222135, 2.0031873292606406, 1.482415951206124, 1.3256470782725993, 3.2808478124510403, 1.9818505516581493, 3.8925873958333375, 1.7057706539074966]\n"
     ]
    }
   ],
   "metadata": {}
  },
  {
   "cell_type": "code",
   "execution_count": 3,
   "source": [
    "# plt.figure(0)\n",
    "# plt.xlabel('round')\n",
    "# plt.ylabel('reward')\n",
    "# plt.plot(learner.collected_rewards)\n",
    "# plt.show()\n",
    "\n",
    "print(\"THE BEST ARM IS:\", arms[best_arm_index], \"INDEX\",best_arm_index)\n",
    "array = [i+1 for i in range(0, 20)]\n",
    "\n",
    "plt.figure(1)\n",
    "plt.errorbar(array, expected_values, yerr=(1/ts_learner.tau0)*5, fmt='o')\n",
    "plt.show()\n",
    "    "
   ],
   "outputs": [
    {
     "output_type": "stream",
     "name": "stdout",
     "text": [
      "THE BEST ARM IS: [2 3 3 1 0] INDEX 18\n"
     ]
    },
    {
     "output_type": "display_data",
     "data": {
      "image/png": "[encoded data removed]",
      "text/plain": [
       "<Figure size 432x288 with 1 Axes>"
      ]
     },
     "metadata": {
      "needs_background": "light"
     }
    }
   ],
   "metadata": {}
  }
 ],
 "metadata": {
  "orig_nbformat": 4,
  "language_info": {
   "name": "python",
   "version": "3.8.8",
   "mimetype": "text/x-python",
   "codemirror_mode": {
    "name": "ipython",
    "version": 3
   },
   "pygments_lexer": "ipython3",
   "nbconvert_exporter": "python",
   "file_extension": ".py"
  },
  "kernelspec": {
   "name": "python3",
   "display_name": "Python 3.8.8 64-bit ('projects_env': conda)"
  },
  "interpreter": {
   "hash": "7b65a0b764bf49cc7947e468da38261005013c03fd7f348ce5375f68cfcbfbf1"
  }
 },
 "nbformat": 4,
 "nbformat_minor": 2
}