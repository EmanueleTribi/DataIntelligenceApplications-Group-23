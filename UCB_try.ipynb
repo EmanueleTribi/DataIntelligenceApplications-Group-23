{
 "cells": [
  {
   "cell_type": "code",
   "execution_count": 1,
   "source": [
    "from SocialNetwork.social_network_environment import *\r\n",
    "from pprint import pprint\r\n",
    "import numpy as np\r\n",
    "import matplotlib.pyplot as plt\r\n",
    "from Advertising.learners.Greedy_algorithm import *\r\n",
    "from Advertising.learners.UCB_no_anything import *\r\n",
    "from Advertising.learners.UCB_no_qualities import *\r\n",
    "\r\n",
    "seed = 6789 \r\n",
    "arms = arms_creation(seed = 30291, number_of_arms= 20)\r\n",
    "random.seed(seed)\r\n",
    "\r\n",
    "exploration=4.2\r\n",
    "\r\n",
    "deltas=[0.5,0.42,0.38,0.30,0.2,0.05]\r\n",
    "\r\n",
    "social_network = social_network_environment()\r\n",
    "social_network.init_from_json(json_path_network='Config/network.json', json_path_features='Config/features.json')\r\n",
    "\r\n",
    "\r\n",
    "n_rounds=10000\r\n",
    "\r\n",
    "\r\n"
   ],
   "outputs": [],
   "metadata": {}
  },
  {
   "cell_type": "code",
   "execution_count": 2,
   "source": [
    "from tqdm.notebook import tqdm_notebook\r\n",
    "\r\n",
    "def create_adv_bids():\r\n",
    "    \r\n",
    "    adversary_bids = []\r\n",
    "    for _ in range(0, 10): \r\n",
    "        adversary_i_bids = []\r\n",
    "        for _ in range(0, 5):\r\n",
    "            adversary_i_bids.append(random.randint(0, 4))\r\n",
    "        adversary_bids.append(adversary_i_bids)\r\n",
    "    return adversary_bids\r\n",
    "\r\n",
    "def experiment(rounds, learner, all_bids, first = False, qualities = False):\r\n",
    "    \r\n",
    "    vcg = VCG()\r\n",
    "\r\n",
    "    for t in tqdm_notebook(range(0, rounds)):\r\n",
    "\r\n",
    "        index=learner.pull_arm()\r\n",
    "        best_arm = arms[index]\r\n",
    "\r\n",
    "\r\n",
    "        all_bids.insert(0, best_arm)\r\n",
    "        ad_allocation_list = setup(bids=all_bids, n_bids=5)\r\n",
    "        best_allocation = vcg.all_best_allocations(ad_allocation_list, social_network)\r\n",
    "\r\n",
    "        if first:\r\n",
    "            for j in range(0, len(best_allocation)):\r\n",
    "                temp_allocation = []\r\n",
    "                temp_allocation = best_allocation[j]\r\n",
    "                for k in range(0, len(best_allocation[j])):\r\n",
    "                    if temp_allocation[k].ad_id == 1 and k != 0:\r\n",
    "                        temp_allocation[k].ad_id = None\r\n",
    "                        best_allocation[j] = temp_allocation\r\n",
    "\r\n",
    "        # Computing payments\r\n",
    "        payments = vcg.payments(ad_allocation_list, best_allocation, social_network)\r\n",
    "\r\n",
    "        if qualities:\r\n",
    "            active_nodes, total_reward = active_nodes_click(social_network, best_allocation, deltas, learner_id=1)\r\n",
    "        else:     \r\n",
    "            active_nodes, total_reward = activate_cascade(social_network=social_network, ad_allocation_list=best_allocation, slot_prominence=deltas,learner_id=1)\r\n",
    "\r\n",
    "        payments_tot = calculate_total_payment(payments, social_network.categories, active_nodes)\r\n",
    "\r\n",
    "\r\n",
    "        reward = (total_reward-payments_tot)\r\n",
    "\r\n",
    "        if qualities:\r\n",
    "            learner.update(index, reward, np.where(active_nodes==1)[0])\r\n",
    "        else:\r\n",
    "            learner.update(index, reward)\r\n",
    "\r\n",
    "        all_bids.pop(0)\r\n",
    "        reset_nodes(social_network)\r\n",
    "\r\n",
    "# Function for computing the rolling mean (i.e. moving average)\r\n",
    "def compute_ma(collected_rewards):\r\n",
    "    ma = []\r\n",
    "    ma.append(0)\r\n",
    "\r\n",
    "    for t in range(1,len(collected_rewards)):\r\n",
    "        ma.append((ma[-1] * (t-1) +collected_rewards[t]) / t)\r\n",
    "    \r\n",
    "    return ma\r\n",
    "\r\n",
    "def plot_clairvoyant(learner):\r\n",
    "    collected_rewards = learner.collected_rewards\r\n",
    "    rolling_mean = compute_ma(collected_rewards)\r\n",
    "    best_arm = learner.return_best_arm()\r\n",
    "    clairvoyant = learner.exp_values[best_arm]\r\n",
    "\r\n",
    "    plt.figure()\r\n",
    "    plt.axhline(y = clairvoyant, color = 'r', linestyle = '-')\r\n",
    "    plt.plot(rolling_mean, color = 'b')\r\n",
    "    plt.show()\r\n",
    "\r\n",
    "all_bids = create_adv_bids()"
   ],
   "outputs": [],
   "metadata": {}
  },
  {
   "cell_type": "code",
   "execution_count": 3,
   "source": [
    "from Advertising.learners.UCB_Learner import *\r\n",
    "# Running UCB, without everything, samples only in first position\r\n",
    "\r\n",
    "learner = UCB_Learner(arms = arms, hyperpar = exploration)\r\n",
    "\r\n",
    "experiment(rounds = n_rounds, learner = learner, all_bids = all_bids, first = True, qualities = False)\r\n",
    "\r\n",
    "# Plotting\r\n",
    "plot_clairvoyant(learner = learner)\r\n",
    "\r\n"
   ],
   "outputs": [
    {
     "output_type": "error",
     "ename": "TypeError",
     "evalue": "reset() missing 1 required positional argument: 'self'",
     "traceback": [
      "\u001b[1;31m---------------------------------------------------------------------------\u001b[0m",
      "\u001b[1;31mTypeError\u001b[0m                                 Traceback (most recent call last)",
      "\u001b[1;32m<ipython-input-3-8d89e2de8781>\u001b[0m in \u001b[0;36m<module>\u001b[1;34m\u001b[0m\n\u001b[0;32m      4\u001b[0m \u001b[0mlearner\u001b[0m \u001b[1;33m=\u001b[0m \u001b[0mUCB_Learner\u001b[0m\u001b[1;33m(\u001b[0m\u001b[0marms\u001b[0m \u001b[1;33m=\u001b[0m \u001b[0marms\u001b[0m\u001b[1;33m,\u001b[0m \u001b[0mhyperpar\u001b[0m \u001b[1;33m=\u001b[0m \u001b[0mexploration\u001b[0m\u001b[1;33m)\u001b[0m\u001b[1;33m\u001b[0m\u001b[1;33m\u001b[0m\u001b[0m\n\u001b[0;32m      5\u001b[0m \u001b[1;33m\u001b[0m\u001b[0m\n\u001b[1;32m----> 6\u001b[1;33m \u001b[0mexperiment\u001b[0m\u001b[1;33m(\u001b[0m\u001b[0mrounds\u001b[0m \u001b[1;33m=\u001b[0m \u001b[0mn_rounds\u001b[0m\u001b[1;33m,\u001b[0m \u001b[0mlearner\u001b[0m \u001b[1;33m=\u001b[0m \u001b[0mlearner\u001b[0m\u001b[1;33m,\u001b[0m \u001b[0mall_bids\u001b[0m \u001b[1;33m=\u001b[0m \u001b[0mall_bids\u001b[0m\u001b[1;33m,\u001b[0m \u001b[0mfirst\u001b[0m \u001b[1;33m=\u001b[0m \u001b[1;32mTrue\u001b[0m\u001b[1;33m,\u001b[0m \u001b[0mqualities\u001b[0m \u001b[1;33m=\u001b[0m \u001b[1;32mFalse\u001b[0m\u001b[1;33m)\u001b[0m\u001b[1;33m\u001b[0m\u001b[1;33m\u001b[0m\u001b[0m\n\u001b[0m\u001b[0;32m      7\u001b[0m \u001b[1;33m\u001b[0m\u001b[0m\n\u001b[0;32m      8\u001b[0m \u001b[1;31m# Plotting\u001b[0m\u001b[1;33m\u001b[0m\u001b[1;33m\u001b[0m\u001b[1;33m\u001b[0m\u001b[0m\n",
      "\u001b[1;32m<ipython-input-2-d4b21b31a06b>\u001b[0m in \u001b[0;36mexperiment\u001b[1;34m(rounds, learner, all_bids, first, qualities)\u001b[0m\n\u001b[0;32m     12\u001b[0m \u001b[1;33m\u001b[0m\u001b[0m\n\u001b[0;32m     13\u001b[0m \u001b[1;32mdef\u001b[0m \u001b[0mexperiment\u001b[0m\u001b[1;33m(\u001b[0m\u001b[0mrounds\u001b[0m\u001b[1;33m,\u001b[0m \u001b[0mlearner\u001b[0m\u001b[1;33m,\u001b[0m \u001b[0mall_bids\u001b[0m\u001b[1;33m,\u001b[0m \u001b[0mfirst\u001b[0m \u001b[1;33m=\u001b[0m \u001b[1;32mFalse\u001b[0m\u001b[1;33m,\u001b[0m \u001b[0mqualities\u001b[0m \u001b[1;33m=\u001b[0m \u001b[1;32mFalse\u001b[0m\u001b[1;33m)\u001b[0m\u001b[1;33m:\u001b[0m\u001b[1;33m\u001b[0m\u001b[1;33m\u001b[0m\u001b[0m\n\u001b[1;32m---> 14\u001b[1;33m     \u001b[0mtqdm_notebook\u001b[0m\u001b[1;33m.\u001b[0m\u001b[0mreset\u001b[0m\u001b[1;33m(\u001b[0m\u001b[1;33m)\u001b[0m\u001b[1;33m\u001b[0m\u001b[1;33m\u001b[0m\u001b[0m\n\u001b[0m\u001b[0;32m     15\u001b[0m     \u001b[0mvcg\u001b[0m \u001b[1;33m=\u001b[0m \u001b[0mVCG\u001b[0m\u001b[1;33m(\u001b[0m\u001b[1;33m)\u001b[0m\u001b[1;33m\u001b[0m\u001b[1;33m\u001b[0m\u001b[0m\n\u001b[0;32m     16\u001b[0m \u001b[1;33m\u001b[0m\u001b[0m\n",
      "\u001b[1;31mTypeError\u001b[0m: reset() missing 1 required positional argument: 'self'"
     ]
    }
   ],
   "metadata": {}
  },
  {
   "cell_type": "code",
   "execution_count": null,
   "source": [
    "from Advertising.learners.UCB_Learner_qualities import *\r\n",
    "\r\n",
    "# Running UCB, missing qualities, samples in only first position\r\n",
    "\r\n",
    "learner = UCB_Learner_qualities(arms = arms, hyperpar = exploration, social_network = social_network)\r\n",
    "\r\n",
    "experiment(rounds = n_rounds, learner = learner, all_bids = all_bids, first = True, qualities = True)\r\n",
    "\r\n",
    "# Plotting\r\n",
    "plot_clairvoyant(learner = learner)\r\n"
   ],
   "outputs": [
    {
     "output_type": "display_data",
     "data": {
      "application/vnd.jupyter.widget-view+json": {
       "version_major": 2,
       "version_minor": 0,
       "model_id": "456ea196d34c4fa38351263b63ad98c3"
      },
      "text/plain": [
       "HBox(children=(FloatProgress(value=0.0, max=10000.0), HTML(value='')))"
      ]
     },
     "metadata": {}
    },
    {
     "output_type": "stream",
     "name": "stdout",
     "text": [
      "\n"
     ]
    },
    {
     "output_type": "display_data",
     "data": {
      "image/png": "[encoded data removed]",
      "text/plain": [
       "<Figure size 432x288 with 1 Axes>"
      ]
     },
     "metadata": {
      "needs_background": "light"
     }
    }
   ],
   "metadata": {}
  },
  {
   "cell_type": "code",
   "execution_count": null,
   "source": [
    "from Advertising.learners.UCB_Learner_qualities import *\r\n",
    "\r\n",
    "# Running UCB, missing everything, all samples\r\n",
    "\r\n",
    "learner = UCB_Learner(arms = arms, hyperpar = exploration, social_network = social_network)\r\n",
    "\r\n",
    "experiment(rounds = n_rounds, learner = learner, all_bids = all_bids, first = False, qualities = False)\r\n",
    "\r\n",
    "# Plotting\r\n",
    "plot_clairvoyant(learner = learner)\r\n"
   ],
   "outputs": [
    {
     "output_type": "display_data",
     "data": {
      "application/vnd.jupyter.widget-view+json": {
       "version_major": 2,
       "version_minor": 0,
       "model_id": "c22fcc8239cc46db9cc77ee1b81998fb"
      },
      "text/plain": [
       "HBox(children=(FloatProgress(value=0.0, max=10000.0), HTML(value='')))"
      ]
     },
     "metadata": {}
    },
    {
     "output_type": "stream",
     "name": "stdout",
     "text": [
      "\n"
     ]
    },
    {
     "output_type": "error",
     "ename": "TypeError",
     "evalue": "update() missing 1 required positional argument: 'seeds'",
     "traceback": [
      "\u001b[1;31m---------------------------------------------------------------------------\u001b[0m",
      "\u001b[1;31mTypeError\u001b[0m                                 Traceback (most recent call last)",
      "\u001b[1;32m<ipython-input-5-fa1ec2330f1b>\u001b[0m in \u001b[0;36m<module>\u001b[1;34m\u001b[0m\n\u001b[0;32m      5\u001b[0m \u001b[0mlearner\u001b[0m \u001b[1;33m=\u001b[0m \u001b[0mUCB_Learner_qualities\u001b[0m\u001b[1;33m(\u001b[0m\u001b[0marms\u001b[0m \u001b[1;33m=\u001b[0m \u001b[0marms\u001b[0m\u001b[1;33m,\u001b[0m \u001b[0mhyperpar\u001b[0m \u001b[1;33m=\u001b[0m \u001b[0mexploration\u001b[0m\u001b[1;33m,\u001b[0m \u001b[0msocial_network\u001b[0m \u001b[1;33m=\u001b[0m \u001b[0msocial_network\u001b[0m\u001b[1;33m)\u001b[0m\u001b[1;33m\u001b[0m\u001b[1;33m\u001b[0m\u001b[0m\n\u001b[0;32m      6\u001b[0m \u001b[1;33m\u001b[0m\u001b[0m\n\u001b[1;32m----> 7\u001b[1;33m \u001b[0mexperiment\u001b[0m\u001b[1;33m(\u001b[0m\u001b[0mrounds\u001b[0m \u001b[1;33m=\u001b[0m \u001b[0mn_rounds\u001b[0m\u001b[1;33m,\u001b[0m \u001b[0mlearner\u001b[0m \u001b[1;33m=\u001b[0m \u001b[0mlearner\u001b[0m\u001b[1;33m,\u001b[0m \u001b[0mall_bids\u001b[0m \u001b[1;33m=\u001b[0m \u001b[0mall_bids\u001b[0m\u001b[1;33m,\u001b[0m \u001b[0mfirst\u001b[0m \u001b[1;33m=\u001b[0m \u001b[1;32mFalse\u001b[0m\u001b[1;33m,\u001b[0m \u001b[0mqualities\u001b[0m \u001b[1;33m=\u001b[0m \u001b[1;32mFalse\u001b[0m\u001b[1;33m)\u001b[0m\u001b[1;33m\u001b[0m\u001b[1;33m\u001b[0m\u001b[0m\n\u001b[0m\u001b[0;32m      8\u001b[0m \u001b[1;33m\u001b[0m\u001b[0m\n\u001b[0;32m      9\u001b[0m \u001b[1;31m# Plotting\u001b[0m\u001b[1;33m\u001b[0m\u001b[1;33m\u001b[0m\u001b[1;33m\u001b[0m\u001b[0m\n",
      "\u001b[1;32m<ipython-input-2-6c5ffb19863d>\u001b[0m in \u001b[0;36mexperiment\u001b[1;34m(rounds, learner, all_bids, first, qualities)\u001b[0m\n\u001b[0;32m     50\u001b[0m             \u001b[0mlearner\u001b[0m\u001b[1;33m.\u001b[0m\u001b[0mupdate\u001b[0m\u001b[1;33m(\u001b[0m\u001b[0mindex\u001b[0m\u001b[1;33m,\u001b[0m \u001b[0mreward\u001b[0m\u001b[1;33m,\u001b[0m \u001b[0mnp\u001b[0m\u001b[1;33m.\u001b[0m\u001b[0mwhere\u001b[0m\u001b[1;33m(\u001b[0m\u001b[0mactive_nodes\u001b[0m\u001b[1;33m==\u001b[0m\u001b[1;36m1\u001b[0m\u001b[1;33m)\u001b[0m\u001b[1;33m[\u001b[0m\u001b[1;36m0\u001b[0m\u001b[1;33m]\u001b[0m\u001b[1;33m)\u001b[0m\u001b[1;33m\u001b[0m\u001b[1;33m\u001b[0m\u001b[0m\n\u001b[0;32m     51\u001b[0m         \u001b[1;32melse\u001b[0m\u001b[1;33m:\u001b[0m\u001b[1;33m\u001b[0m\u001b[1;33m\u001b[0m\u001b[0m\n\u001b[1;32m---> 52\u001b[1;33m             \u001b[0mlearner\u001b[0m\u001b[1;33m.\u001b[0m\u001b[0mupdate\u001b[0m\u001b[1;33m(\u001b[0m\u001b[0mindex\u001b[0m\u001b[1;33m,\u001b[0m \u001b[0mreward\u001b[0m\u001b[1;33m)\u001b[0m\u001b[1;33m\u001b[0m\u001b[1;33m\u001b[0m\u001b[0m\n\u001b[0m\u001b[0;32m     53\u001b[0m \u001b[1;33m\u001b[0m\u001b[0m\n\u001b[0;32m     54\u001b[0m         \u001b[0mall_bids\u001b[0m\u001b[1;33m.\u001b[0m\u001b[0mpop\u001b[0m\u001b[1;33m(\u001b[0m\u001b[1;36m0\u001b[0m\u001b[1;33m)\u001b[0m\u001b[1;33m\u001b[0m\u001b[1;33m\u001b[0m\u001b[0m\n",
      "\u001b[1;31mTypeError\u001b[0m: update() missing 1 required positional argument: 'seeds'"
     ]
    }
   ],
   "metadata": {}
  },
  {
   "cell_type": "code",
   "execution_count": null,
   "source": [
    "from Advertising.learners.UCB_Learner_qualities import *\r\n",
    "\r\n",
    "# Running UCB, missing qualities, all samples\r\n",
    "\r\n",
    "learner = UCB_Learner_qualities(arms = arms, hyperpar = exploration, social_network = social_network)\r\n",
    "\r\n",
    "experiment(rounds = n_rounds, learner = learner, all_bids = all_bids, first = False, qualities = True)\r\n",
    "\r\n",
    "# Plotting\r\n",
    "plot_clairvoyant(learner = learner)\r\n"
   ],
   "outputs": [],
   "metadata": {}
  }
 ],
 "metadata": {
  "orig_nbformat": 4,
  "language_info": {
   "name": "python",
   "version": "3.8.3",
   "mimetype": "text/x-python",
   "codemirror_mode": {
    "name": "ipython",
    "version": 3
   },
   "pygments_lexer": "ipython3",
   "nbconvert_exporter": "python",
   "file_extension": ".py"
  },
  "kernelspec": {
   "name": "python3",
   "display_name": "Python 3.8.3 64-bit ('base': conda)"
  },
  "interpreter": {
   "hash": "8ea93a4be839af7a424e339c84e5ffad6953d1e8831fc099e1d2e0df932eafc0"
  }
 },
 "nbformat": 4,
 "nbformat_minor": 2
}