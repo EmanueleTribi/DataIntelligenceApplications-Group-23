{
 "cells": [
  {
   "cell_type": "markdown",
   "source": [
    "## UCB performances for point 4 and 5"
   ],
   "metadata": {}
  },
  {
   "cell_type": "code",
   "execution_count": 1,
   "source": [
    "from SocialNetwork.social_network_environment import *\r\n",
    "from pprint import pprint\r\n",
    "import numpy as np\r\n",
    "import matplotlib.pyplot as plt\r\n",
    "from Advertising.learners.Greedy_algorithm import *\r\n",
    "from Advertising.learners.UCB_no_anything import *\r\n",
    "from Advertising.learners.UCB_no_qualities import *\r\n",
    "from Advertising.learners.UCB_Learner import *\r\n",
    "from Advertising.learners.UCB_Learner_qualities import *\r\n",
    "from experiment_utilities import *\r\n",
    "\r\n",
    "seed = 6789 \r\n",
    "arms = arms_creation(seed = 30291, number_of_arms= 20)\r\n",
    "random.seed(seed)\r\n",
    "\r\n",
    "exploration=4.2\r\n",
    "\r\n",
    "deltas=[0.5,0.42,0.38,0.30,0.2,0.05]\r\n",
    "\r\n",
    "social_network = social_network_environment()\r\n",
    "social_network.init_from_json(json_path_network='Config/network.json', json_path_features='Config/features.json')\r\n",
    "\r\n",
    "with open('Config/estimated_influence.json', 'r') as file:\r\n",
    "    data = json.load(file)\r\n",
    "    nodes_estimation = data.get('estimated_influence')\r\n",
    "\r\n",
    "with open('Config/clairvoyants.json', 'r') as file:\r\n",
    "    clairvoyants = json.load(file)\r\n",
    "\r\n",
    "n_rounds=10000\r\n",
    "print(clairvoyants)\r\n",
    "\r\n",
    "all_bids = create_adv_bids()\r\n"
   ],
   "outputs": [
    {
     "output_type": "stream",
     "name": "stdout",
     "text": [
      "{'clairvoyant_q_f': 0.24936147844443757, 'clairvoyant_q_a': 0.48842019490079885, 'clairvoyant_nq_f': 1.7742390000000792, 'clairvoyant_nq_a': 2.1363950000000385}\n"
     ]
    }
   ],
   "metadata": {}
  },
  {
   "cell_type": "markdown",
   "source": [
    "### Testing UCB: point 4, only samples in first position"
   ],
   "metadata": {}
  },
  {
   "cell_type": "code",
   "execution_count": 3,
   "source": [
    "\r\n",
    "\r\n",
    "# Running UCB, missing qualities, samples in only first position\r\n",
    "\r\n",
    "learner = UCB_Learner_qualities(arms = arms, hyperpar = exploration, nodes_estimation = nodes_estimation)\r\n",
    "\r\n",
    "\r\n",
    "moving_average = experiment(rounds = n_rounds, learner = learner, all_bids = all_bids, arms = arms,\r\n",
    "                            social_network= social_network, first = True, qualities = True)\r\n",
    "\r\n",
    "clairvoyant = clairvoyants.get('clairvoyant_q_f')\r\n",
    "# Plotting\r\n",
    "plot_clairvoyant(clairvoyant=clairvoyant, moving_average= moving_average)\r\n"
   ],
   "outputs": [
    {
     "output_type": "display_data",
     "data": {
      "application/vnd.jupyter.widget-view+json": {
       "version_major": 2,
       "version_minor": 0,
       "model_id": "8b2e64cd68034497b95d9a7788ad6076"
      },
      "text/plain": [
       "HBox(children=(FloatProgress(value=0.0, max=10000.0), HTML(value='')))"
      ]
     },
     "metadata": {}
    },
    {
     "output_type": "stream",
     "name": "stdout",
     "text": [
      "\n"
     ]
    },
    {
     "output_type": "display_data",
     "data": {
      "image/png": "[encoded data removed]",
      "text/plain": [
       "<Figure size 432x288 with 1 Axes>"
      ]
     },
     "metadata": {
      "needs_background": "light"
     }
    }
   ],
   "metadata": {}
  },
  {
   "cell_type": "markdown",
   "source": [
    "### Testing UCB: point 4, all samples available"
   ],
   "metadata": {}
  },
  {
   "cell_type": "code",
   "execution_count": 4,
   "source": [
    "\r\n",
    "\r\n",
    "# Running UCB, missing qualities, all samples\r\n",
    "\r\n",
    "learner = UCB_Learner_qualities(arms = arms, hyperpar = exploration, nodes_estimation = nodes_estimation)\r\n",
    "\r\n",
    "\r\n",
    "moving_average = experiment(rounds = n_rounds, learner = learner, all_bids = all_bids, \r\n",
    "                            arms = arms,\r\n",
    "                            social_network= social_network,first = False, qualities = True)\r\n",
    "\r\n",
    "clairvoyant = clairvoyants.get('clairvoyant_q_a')\r\n",
    "# Plotting\r\n",
    "plot_clairvoyant(clairvoyant=clairvoyant, moving_average= moving_average)\r\n"
   ],
   "outputs": [
    {
     "output_type": "display_data",
     "data": {
      "application/vnd.jupyter.widget-view+json": {
       "version_major": 2,
       "version_minor": 0,
       "model_id": "c42b332634354147a301b8dfd8ad3c85"
      },
      "text/plain": [
       "HBox(children=(FloatProgress(value=0.0, max=10000.0), HTML(value='')))"
      ]
     },
     "metadata": {}
    },
    {
     "output_type": "stream",
     "name": "stdout",
     "text": [
      "\n"
     ]
    },
    {
     "output_type": "display_data",
     "data": {
      "image/png": "[encoded data removed]",
      "text/plain": [
       "<Figure size 432x288 with 1 Axes>"
      ]
     },
     "metadata": {
      "needs_background": "light"
     }
    }
   ],
   "metadata": {}
  },
  {
   "cell_type": "markdown",
   "source": [
    "### Testing UCB: point 5, only samples in first position"
   ],
   "metadata": {}
  },
  {
   "cell_type": "code",
   "execution_count": 5,
   "source": [
    "\r\n",
    "# Running UCB, missing everything, samples only in first position\r\n",
    "\r\n",
    "learner = UCB_Learner(arms = arms, hyperpar = exploration)\r\n",
    "\r\n",
    "moving_average = experiment(rounds = n_rounds, learner = learner, all_bids = all_bids,\r\n",
    "                            arms = arms,\r\n",
    "                            social_network= social_network, first = True, qualities = False)\r\n",
    "\r\n",
    "clairvoyant = clairvoyants.get('clairvoyant_nq_f')\r\n",
    "# Plotting\r\n",
    "plot_clairvoyant(clairvoyant=clairvoyant, moving_average= moving_average)\r\n",
    "\r\n"
   ],
   "outputs": [
    {
     "output_type": "display_data",
     "data": {
      "application/vnd.jupyter.widget-view+json": {
       "version_major": 2,
       "version_minor": 0,
       "model_id": "674d90090e5b48468930565861483748"
      },
      "text/plain": [
       "HBox(children=(FloatProgress(value=0.0, max=10000.0), HTML(value='')))"
      ]
     },
     "metadata": {}
    },
    {
     "output_type": "stream",
     "name": "stdout",
     "text": [
      "\n"
     ]
    },
    {
     "output_type": "display_data",
     "data": {
      "image/png": "[encoded data removed]",
      "text/plain": [
       "<Figure size 432x288 with 1 Axes>"
      ]
     },
     "metadata": {
      "needs_background": "light"
     }
    }
   ],
   "metadata": {}
  },
  {
   "cell_type": "markdown",
   "source": [
    "### Testing UCB: point 5, all samples available"
   ],
   "metadata": {}
  },
  {
   "cell_type": "code",
   "execution_count": 6,
   "source": [
    "\r\n",
    "\r\n",
    "# Running UCB, missing everything, all samples\r\n",
    "\r\n",
    "learner = UCB_Learner(arms = arms, hyperpar = exploration)\r\n",
    "\r\n",
    "moving_average = experiment(rounds = n_rounds, learner = learner, all_bids = all_bids,\r\n",
    "                            arms = arms,\r\n",
    "                            social_network= social_network, first = False, qualities = False)\r\n",
    "\r\n",
    "clairvoyant = clairvoyants.get('clairvoyant_nq_a')\r\n",
    "# Plotting\r\n",
    "plot_clairvoyant(clairvoyant=clairvoyant, moving_average= moving_average)\r\n"
   ],
   "outputs": [
    {
     "output_type": "display_data",
     "data": {
      "application/vnd.jupyter.widget-view+json": {
       "version_major": 2,
       "version_minor": 0,
       "model_id": "45779711af024230b28d1548dc73e3f1"
      },
      "text/plain": [
       "HBox(children=(FloatProgress(value=0.0, max=10000.0), HTML(value='')))"
      ]
     },
     "metadata": {}
    },
    {
     "output_type": "stream",
     "name": "stdout",
     "text": [
      "\n"
     ]
    },
    {
     "output_type": "display_data",
     "data": {
      "image/png": "[encoded data removed]",
      "text/plain": [
       "<Figure size 432x288 with 1 Axes>"
      ]
     },
     "metadata": {
      "needs_background": "light"
     }
    }
   ],
   "metadata": {}
  }
 ],
 "metadata": {
  "orig_nbformat": 4,
  "language_info": {
   "name": "python",
   "version": "3.8.3",
   "mimetype": "text/x-python",
   "codemirror_mode": {
    "name": "ipython",
    "version": 3
   },
   "pygments_lexer": "ipython3",
   "nbconvert_exporter": "python",
   "file_extension": ".py"
  },
  "kernelspec": {
   "name": "python3",
   "display_name": "Python 3.8.3 64-bit ('base': conda)"
  },
  "interpreter": {
   "hash": "8ea93a4be839af7a424e339c84e5ffad6953d1e8831fc099e1d2e0df932eafc0"
  }
 },
 "nbformat": 4,
 "nbformat_minor": 2
}