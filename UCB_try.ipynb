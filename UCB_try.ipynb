{
 "cells": [
  {
   "cell_type": "markdown",
   "source": [
    "## UCB performances for point 4 and 5"
   ],
   "metadata": {}
  },
  {
   "cell_type": "code",
   "execution_count": 1,
   "source": [
    "from SocialNetwork.social_network_environment import *\r\n",
    "from pprint import pprint\r\n",
    "import numpy as np\r\n",
    "import matplotlib.pyplot as plt\r\n",
    "from Advertising.learners.Greedy_algorithm import *\r\n",
    "from Advertising.learners.UCB_Learner import *\r\n",
    "from Advertising.learners.UCB_Learner_qualities import *\r\n",
    "from experiment_utilities import *\r\n",
    "\r\n",
    "seed = 6789 \r\n",
    "arms = arms_creation(seed = 30291, number_of_arms= 20)\r\n",
    "random.seed(seed)\r\n",
    "\r\n",
    "exploration=4.2\r\n",
    "\r\n",
    "deltas=[0.5,0.42,0.38,0.30,0.2,0.05]\r\n",
    "\r\n",
    "social_network = social_network_environment()\r\n",
    "social_network.init_from_json(json_path_network='Config/network.json', json_path_features='Config/features.json')\r\n",
    "\r\n",
    "with open('Config/estimated_influence.json', 'r') as file:\r\n",
    "    data = json.load(file)\r\n",
    "    nodes_estimation = data.get('estimated_influence')\r\n",
    "\r\n",
    "with open('Config/clairvoyants.json', 'r') as file:\r\n",
    "    clairvoyants = json.load(file)\r\n",
    "\r\n",
    "with open('Config/bids.json', 'r') as file:\r\n",
    "    data = json.load(file)\r\n",
    "    bids = data.get('bids')\r\n",
    "\r\n",
    "n_rounds=5000\r\n",
    "\r\n",
    "all_bids = bids[0]\r\n",
    "\r\n"
   ],
   "outputs": [],
   "metadata": {}
  },
  {
   "cell_type": "markdown",
   "source": [
    "### Testing UCB: point 4, only samples in first position"
   ],
   "metadata": {}
  },
  {
   "cell_type": "code",
   "execution_count": 2,
   "source": [
    "\r\n",
    "\r\n",
    "# Running UCB, missing qualities, samples in only first position\r\n",
    "\r\n",
    "learner = UCB_Learner_qualities(arms = arms, hyperpar = exploration, nodes_estimation = nodes_estimation)\r\n",
    "\r\n",
    "\r\n",
    "moving_average = experiment(rounds = n_rounds, learner = learner, all_bids = all_bids, arms = arms,\r\n",
    "                            social_network= social_network, first = True, qualities = True)\r\n",
    "\r\n",
    "clairvoyant = clairvoyants.get('clairvoyant_q_f')\r\n",
    "# Plotting\r\n",
    "plot_clairvoyant(clairvoyant=clairvoyant, moving_average= moving_average)\r\n"
   ],
   "outputs": [
    {
     "output_type": "display_data",
     "data": {
      "application/vnd.jupyter.widget-view+json": {
       "version_major": 2,
       "version_minor": 0,
       "model_id": "1e14a09e9f704a5892678256401fd2e8"
      },
      "text/plain": [
       "HBox(children=(FloatProgress(value=0.0, max=5000.0), HTML(value='')))"
      ]
     },
     "metadata": {}
    },
    {
     "output_type": "stream",
     "name": "stdout",
     "text": [
      "\n"
     ]
    },
    {
     "output_type": "display_data",
     "data": {
      "image/png": "[encoded data removed]",
      "text/plain": [
       "<Figure size 432x288 with 1 Axes>"
      ]
     },
     "metadata": {
      "needs_background": "light"
     }
    }
   ],
   "metadata": {}
  },
  {
   "cell_type": "markdown",
   "source": [
    "### Testing UCB: point 4, all samples available"
   ],
   "metadata": {}
  },
  {
   "cell_type": "code",
   "execution_count": 3,
   "source": [
    "\r\n",
    "\r\n",
    "# Running UCB, missing qualities, all samples\r\n",
    "\r\n",
    "learner = UCB_Learner_qualities(arms = arms, hyperpar = exploration, nodes_estimation = nodes_estimation)\r\n",
    "\r\n",
    "\r\n",
    "moving_average = experiment(rounds = n_rounds, learner = learner, all_bids = all_bids, \r\n",
    "                            arms = arms,\r\n",
    "                            social_network= social_network,first = False, qualities = True)\r\n",
    "\r\n",
    "clairvoyant = clairvoyants.get('clairvoyant_q_a')\r\n",
    "# Plotting\r\n",
    "plot_clairvoyant(clairvoyant=clairvoyant, moving_average= moving_average)\r\n"
   ],
   "outputs": [
    {
     "output_type": "display_data",
     "data": {
      "application/vnd.jupyter.widget-view+json": {
       "version_major": 2,
       "version_minor": 0,
       "model_id": "e099016c68ff4a67b1c128898ba78505"
      },
      "text/plain": [
       "HBox(children=(FloatProgress(value=0.0, max=5000.0), HTML(value='')))"
      ]
     },
     "metadata": {}
    },
    {
     "output_type": "stream",
     "name": "stdout",
     "text": [
      "\n"
     ]
    },
    {
     "output_type": "display_data",
     "data": {
      "image/png": "[encoded data removed]",
      "text/plain": [
       "<Figure size 432x288 with 1 Axes>"
      ]
     },
     "metadata": {
      "needs_background": "light"
     }
    }
   ],
   "metadata": {}
  },
  {
   "cell_type": "markdown",
   "source": [
    "### Testing UCB: point 5, only samples in first position"
   ],
   "metadata": {}
  },
  {
   "cell_type": "code",
   "execution_count": 4,
   "source": [
    "\r\n",
    "# Running UCB, missing everything, samples only in first position\r\n",
    "\r\n",
    "learner = UCB_Learner(arms = arms, hyperpar = exploration)\r\n",
    "\r\n",
    "moving_average = experiment(rounds = n_rounds, learner = learner, all_bids = all_bids,\r\n",
    "                            arms = arms,\r\n",
    "                            social_network= social_network, first = True, qualities = False)\r\n",
    "\r\n",
    "clairvoyant = clairvoyants.get('clairvoyant_nq_f')\r\n",
    "# Plotting\r\n",
    "plot_clairvoyant(clairvoyant=clairvoyant, moving_average= moving_average)\r\n",
    "\r\n"
   ],
   "outputs": [
    {
     "output_type": "display_data",
     "data": {
      "application/vnd.jupyter.widget-view+json": {
       "version_major": 2,
       "version_minor": 0,
       "model_id": "ca83a9c48c334880b2e3ca4f6d6380ba"
      },
      "text/plain": [
       "HBox(children=(FloatProgress(value=0.0, max=5000.0), HTML(value='')))"
      ]
     },
     "metadata": {}
    },
    {
     "output_type": "stream",
     "name": "stdout",
     "text": [
      "\n"
     ]
    },
    {
     "output_type": "display_data",
     "data": {
      "image/png": "[encoded data removed]",
      "text/plain": [
       "<Figure size 432x288 with 1 Axes>"
      ]
     },
     "metadata": {
      "needs_background": "light"
     }
    }
   ],
   "metadata": {}
  },
  {
   "cell_type": "markdown",
   "source": [
    "### Testing UCB: point 5, all samples available"
   ],
   "metadata": {}
  },
  {
   "cell_type": "code",
   "execution_count": 5,
   "source": [
    "\r\n",
    "\r\n",
    "# Running UCB, missing everything, all samples\r\n",
    "\r\n",
    "learner = UCB_Learner(arms = arms, hyperpar = exploration)\r\n",
    "\r\n",
    "moving_average = experiment(rounds = n_rounds, learner = learner, all_bids = all_bids,\r\n",
    "                            arms = arms,\r\n",
    "                            social_network= social_network, first = False, qualities = False)\r\n",
    "\r\n",
    "clairvoyant = clairvoyants.get('clairvoyant_nq_a')\r\n",
    "# Plotting\r\n",
    "plot_clairvoyant(clairvoyant=clairvoyant, moving_average= moving_average)\r\n"
   ],
   "outputs": [
    {
     "output_type": "display_data",
     "data": {
      "application/vnd.jupyter.widget-view+json": {
       "version_major": 2,
       "version_minor": 0,
       "model_id": "ba46b08afbd744da8e917308b83475f6"
      },
      "text/plain": [
       "HBox(children=(FloatProgress(value=0.0, max=5000.0), HTML(value='')))"
      ]
     },
     "metadata": {}
    },
    {
     "output_type": "stream",
     "name": "stdout",
     "text": [
      "\n"
     ]
    },
    {
     "output_type": "display_data",
     "data": {
      "image/png": "[encoded data removed]",
      "text/plain": [
       "<Figure size 432x288 with 1 Axes>"
      ]
     },
     "metadata": {
      "needs_background": "light"
     }
    }
   ],
   "metadata": {}
  }
 ],
 "metadata": {
  "orig_nbformat": 4,
  "language_info": {
   "name": "python",
   "version": "3.8.3",
   "mimetype": "text/x-python",
   "codemirror_mode": {
    "name": "ipython",
    "version": 3
   },
   "pygments_lexer": "ipython3",
   "nbconvert_exporter": "python",
   "file_extension": ".py"
  },
  "kernelspec": {
   "name": "python3",
   "display_name": "Python 3.8.3 64-bit ('base': conda)"
  },
  "interpreter": {
   "hash": "8ea93a4be839af7a424e339c84e5ffad6953d1e8831fc099e1d2e0df932eafc0"
  }
 },
 "nbformat": 4,
 "nbformat_minor": 2
}