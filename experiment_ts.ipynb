{
 "cells": [
  {
   "cell_type": "code",
   "execution_count": 12,
   "source": [
    "from Advertising.learners.greedyLearner import *\n",
    "import matplotlib.pyplot as plt\n",
    "import numpy as np\n",
    "from SocialNetwork.social_network_environment import *\n",
    "from SocialNetwork.cascade import *\n",
    "from Advertising.enviroment.bid import *\n",
    "from Advertising.enviroment.VCG import *\n",
    "from tqdm.autonotebook import tqdm\n",
    "import itertools\n",
    "random.seed(6789)\n",
    "np.random.seed(6789)\n",
    "\n"
   ],
   "outputs": [],
   "metadata": {}
  },
  {
   "cell_type": "code",
   "execution_count": 13,
   "source": [
    "deltas = [0.5, 0.42, 0.38, 0.30, 0.2, 0.05]\n",
    "social_network = social_network_environment()\n",
    "social_network.init_from_json(\n",
    "    json_path_network='Config/network.json', json_path_features='Config/features.json')\n"
   ],
   "outputs": [],
   "metadata": {}
  },
  {
   "cell_type": "code",
   "execution_count": 14,
   "source": [
    "def arms_creation(seed=None, number_of_arms=-1):\n",
    "    arms = []\n",
    "    if number_of_arms < 0:\n",
    "        for i in itertools.product([0, 1, 2, 3, 4], repeat=5):\n",
    "            arms.append(list(i))\n",
    "    else:\n",
    "        random.seed(seed)\n",
    "\n",
    "        arms = []\n",
    "        for i in range(0, number_of_arms):\n",
    "            arm = []\n",
    "            for i in range(0, 5):\n",
    "                arm.append(random.randint(0, 4))\n",
    "            arms.append(np.array(arm))\n",
    "    return arms\n"
   ],
   "outputs": [],
   "metadata": {}
  },
  {
   "cell_type": "code",
   "execution_count": 15,
   "source": [
    "class GTS_Learner():\n",
    "    def __init__(self, n_arms, arms, variance=20, ad_id=1):\n",
    "        self.n_arms = n_arms\n",
    "        self.arms = arms\n",
    "        self.tau = 1/variance  # precision of the Gaussian\n",
    "        self.tau0 = np.ones(n_arms)*0.001\n",
    "        self.u0 = np.zeros(n_arms)\n",
    "        self.rewards_per_arm = [[] for i in range(self.n_arms)]\n",
    "        self.t = 0\n",
    "        self.ad_id = ad_id\n",
    "        self.collected_rewards=[]\n",
    "\n",
    "    def pull_arm(self):\n",
    "        values = np.random.normal(self.u0, 1/self.tau0)\n",
    "        pulled_arm = np.argmax(values)\n",
    "        arm = self.arms[pulled_arm]\n",
    "        bids = [Bid(arm[i], self.ad_id) for i in range(len(arm))]\n",
    "        return bids, pulled_arm\n",
    "\n",
    "#per risparmiare tempo passo l'indice dell'arm, e viene pullato insieme alle bid\n",
    "    def update(self, index, reward):\n",
    "        self.t += 1\n",
    "        # aggiungo la reward a quelle ottenute\n",
    "        self.rewards_per_arm[index].append(reward)\n",
    "\n",
    "        self.collected_rewards.append(reward)\n",
    "        # aggiorno i parametri della normale\n",
    "        self.tau0[index] += self.t*self.tau\n",
    "        rews = np.sum(self.rewards_per_arm[index])\n",
    "\n",
    "        self.u0[index] = (self.tau0[index]*self.u0[index] +\n",
    "                          self.tau*rews)/(self.tau0[index]+(self.t*self.tau))\n"
   ],
   "outputs": [],
   "metadata": {}
  },
  {
   "cell_type": "code",
   "execution_count": 16,
   "source": [
    "def test(learner, arms, bids_adversaries, only_first, active_by_influence_reward, n_rounds, point5):\n",
    "    for i in tqdm(range(n_rounds)):\n",
    "\n",
    "        \n",
    "        bids, pulled_arm = learner.pull_arm()\n",
    "\n",
    "        for j in range(5):\n",
    "            bids_adversaries[j][0] = bids[j]\n",
    "    \n",
    "        best_allocation = vcg.all_best_allocations(\n",
    "            list_camp_bids=bids_adversaries, social_network=social_network)\n",
    "\n",
    "        if only_first:\n",
    "            for j in range(0, len(best_allocation)):\n",
    "                temp_allocation = []\n",
    "                temp_allocation = best_allocation[j]\n",
    "                for k in range(0, len(best_allocation[j])):\n",
    "                    if temp_allocation[k].ad_id == 1 and k != 0:\n",
    "                        temp_allocation[k].ad_id = None\n",
    "                        best_allocation[j] = temp_allocation\n",
    "\n",
    "\n",
    "        if not point5:                \n",
    "            active_nodes, click_rewards = active_nodes_click( social_network, best_allocation, lambdas, 1)\n",
    "        else:\n",
    "            total_reward, active_nodes = activate_cascade(\n",
    "                social_network=social_network, ad_allocation_list=best_allocation, slot_prominence=deltas, learner_id=1)\n",
    "\n",
    "        payments = np.array(vcg.payments(bids_adversaries, best_allocation, social_network=social_network))\n",
    "    # with this part of code i set that if the learner is present in the allocation list then get the normal allocation\n",
    "    # reward, if it's not present and it bids 0 then the reward is 0.\n",
    "        payments_tot = calculate_total_payment(payments, social_network.categories, active_nodes)\n",
    "\n",
    "        if not point5: \n",
    "            reward = 0\n",
    "            reward_influence = 0\n",
    "            indexes = np.where(active_nodes == 1)[0]\n",
    "\n",
    "            if len(indexes) != 0:\n",
    "                for i in range(0, len(indexes)):\n",
    "                    reward_influence += active_by_influence_reward[i]\n",
    "                reward_influence = (reward_influence/len(indexes) + reward_influence)/2\n",
    "                reward = (click_rewards + reward_influence - payments_tot)\n",
    "        else:\n",
    "            reward=total_reward-payments_tot\n",
    "        \n",
    "        reset_nodes(social_network=social_network)\n",
    "\n",
    "        #rew = reward-np.sum(payments_tot)\n",
    "\n",
    "    # updating of the learners\n",
    "        learner.update(pulled_arm, reward)\n",
    "\n",
    "    plt.figure(0)\n",
    "    plt.xlabel('round')\n",
    "    plt.ylabel('reward')\n",
    "    plt.plot(learner.collected_rewards)\n",
    "    plt.show()\n",
    "\n",
    "    print(\"THE BEST ARM IS:\",\n",
    "          arms[learner.pull_arm()[1]], \"INDEX\",learner.pull_arm()[1])\n",
    "    array = [i+1 for i in range(0, 20)]\n",
    "\n",
    "    plt.figure(1)\n",
    "    plt.errorbar(array, ts_learner.u0, yerr=(1/ts_learner.tau0)*5, fmt='o')\n",
    "    plt.show()\n",
    "    \n"
   ],
   "outputs": [],
   "metadata": {}
  },
  {
   "cell_type": "code",
   "execution_count": 17,
   "source": [
    "arms = arms_creation(30291,20)\n",
    "lambdas = [0.5, 0.42, 0.38, 0.30, 0.2, 0.05]\n",
    "vcg = VCG()\n",
    "\n",
    "bids_adversaries = []\n",
    "for i in range(0, 5):\n",
    "    bid_categoria = np.array([])\n",
    "    for j in range(0, 11):  # number of competitors\n",
    "        bid = Bid(bid=random.randint(1, 4), id=j+3)\n",
    "        bid_categoria = np.append(bid_categoria, bid)\n",
    "    bids_adversaries.append(bid_categoria)\n"
   ],
   "outputs": [],
   "metadata": {}
  },
  {
   "cell_type": "code",
   "execution_count": 18,
   "source": [
    "ts_learner = GTS_Learner(n_arms=len(arms), arms=arms,\n",
    "                         variance=10, ad_id=1)\n",
    "only_first=True\n",
    "point5=True\n",
    "active_by_influence_reward=None\n",
    "if not point5:\n",
    "    active_by_influence_reward = compute_array_estimated_influence(\n",
    "        social_network, 2000)\n",
    "test(ts_learner, arms, bids_adversaries,\n",
    "     False, active_by_influence_reward, 5000, point5)\n",
    "ts_learner1 = GTS_Learner(n_arms=len(arms), arms=arms,\n",
    "                         variance=10, ad_id=1)\n",
    "test(ts_learner1, arms, bids_adversaries, True, active_by_influence_reward, 5000, point5)\n"
   ],
   "outputs": [
    {
     "output_type": "stream",
     "name": "stderr",
     "text": [
      "  6%|▌         | 276/5000 [00:01<00:35, 131.38it/s]"
     ]
    }
   ],
   "metadata": {}
  },
  {
   "cell_type": "code",
   "execution_count": null,
   "source": [
    "class SWGTS_Learner():\n",
    "    def __init__(self, n_arms, arms, variance=20, ad_id=1):\n",
    "        self.n_arms = n_arms\n",
    "        self.arms = arms\n",
    "        self.tau = 1/variance  # precision of the Gaussian\n",
    "        self.tau0 = np.ones(n_arms)*0.0001\n",
    "        self.u0 = np.zeros(n_arms)\n",
    "        self.rewards_per_arm = [[] for i in range(self.n_arms)]\n",
    "        self.t = 0\n",
    "        self.ad_id = ad_id\n",
    "        self.collected_rewards = []\n",
    "        self.collected_tau0 = [[] for i in range(n_arms)]\n",
    "        self.isSw=False\n",
    "        self.sizeSw=0\n",
    "\n",
    "    def pull_arm(self):\n",
    "        values = np.random.normal(self.u0, 1/self.tau0)\n",
    "        pulled_arm = np.argmax(values)\n",
    "        arm = self.arms[pulled_arm]\n",
    "        bids = [Bid(arm[i], self.ad_id) for i in range(len(arm))]\n",
    "        return bids, pulled_arm\n",
    "\n",
    "#per risparmiare tempo passo l'indice dell'arm, e viene pullato insieme alle bid\n",
    "    def update(self, index, reward):\n",
    "        self.rewards_per_arm[index].append(reward)\n",
    "        self.t += 1\n",
    "\n",
    "        self.collected_rewards.append(reward)\n",
    "\n",
    "        if not self.isSw:                \n",
    "        # aggiorno i parametri della normale\n",
    "            self.tau0[index] += self.t*self.tau\n",
    "            rews = np.sum(self.rewards_per_arm[index])\n",
    "\n",
    "            self.u0[index] = (self.tau0[index]*self.u0[index] +\n",
    "                          self.tau*rews)/(self.tau0[index]+(self.t*self.tau))\n",
    "        else:\n",
    "            rews = np.sum(self.rewards_per_arm[index][-self.sizeSW:])\n",
    "            if self.t>self.sizeSW: self.t=self.sizeSW\n",
    "            self.collected_tau0[index].append(self.tau0[index])\n",
    "\n",
    "            self.tau0[index] = np.sum(\n",
    "                self.collected_tau0[index][-self.sizeSW:])+self.t*self.tau\n",
    "            self.u0[index] = (self.tau0[index]*self.u0[index] +\n",
    "                                              self.tau*rews)/(self.tau0[index]+(self.t*self.tau))\n",
    "    def activateSW(self, sizeSW):\n",
    "        self.sizeSW =sizeSW\n",
    "        self.isSw=True\n"
   ],
   "outputs": [],
   "metadata": {}
  },
  {
   "cell_type": "code",
   "execution_count": null,
   "source": [
    "ts_learner = SWGTS_Learner(n_arms=len(arms), arms=arms,\n",
    "                         variance=20, ad_id=1)\n",
    "\n",
    "sizesw=2000\n",
    "ts_learner.activateSW(sizesw)\n",
    "\n",
    "t=10000                       \n",
    "for i in tqdm(range(5000)):\n",
    "    t+=1\n",
    "    if t>sizesw:\n",
    "        bids_adversaries = []\n",
    "        for i in range(0, 5):\n",
    "            bid_categoria = np.array([])\n",
    "            for j in range(0, 11):  # number of competitors\n",
    "                bid = Bid(bid=random.randint(1, 4), id=j+3)\n",
    "                bid_categoria = np.append(bid_categoria, bid)\n",
    "            bids_adversaries.append(bid_categoria)\n",
    "        t=0\n",
    "\n",
    "\n",
    "    bids, pulled_arm = ts_learner.pull_arm()\n",
    "\n",
    "    for j in range(5):\n",
    "        bids_adversaries[j][0] = bids[j]\n",
    "\n",
    "    best_allocation = vcg.all_best_allocations(\n",
    "        list_camp_bids=bids_adversaries, social_network=social_network)\n",
    "    reward = activate_cascade(social_network=social_network,\n",
    "                              ad_allocation_list=best_allocation, slot_prominence=lambdas)[0]\n",
    "\n",
    "    active_nodes, click_rewards = active_nodes_click(\n",
    "        social_network, best_allocation, lambdas, 1)\n",
    "    payments = np.array(vcg.payments(\n",
    "        bids_adversaries, best_allocation, social_network=social_network))\n",
    "\n",
    "    # with this part of code i set that if the learner is present in the allocation list then get the normal allocation\n",
    "    # reward, if it's not present and it bids 0 then the reward is 0.\n",
    "    payments_tot = calculate_total_payment(\n",
    "        payments, social_network.categories, active_nodes)\n",
    "\n",
    "    reset_nodes(social_network=social_network)\n",
    "\n",
    "    rew = reward-np.sum(payments_tot)\n",
    "\n",
    "    # updating of the learners\n",
    "    ts_learner.update(pulled_arm, rew)\n",
    "\n",
    "plt.figure(0)\n",
    "plt.xlabel('round')\n",
    "plt.ylabel('reward')\n",
    "plt.plot(ts_learner.collected_rewards)\n",
    "plt.show()\n",
    "\n",
    "arms[ts_learner.pull_arm()[1]]\n"
   ],
   "outputs": [
    {
     "output_type": "stream",
     "name": "stderr",
     "text": [
      " 22%|██▏       | 1084/5000 [00:04<00:13, 284.23it/s]/Library/Frameworks/Python.framework/Versions/3.9/lib/python3.9/site-packages/numpy/core/fromnumeric.py:87: RuntimeWarning: overflow encountered in reduce\n",
      "  return ufunc.reduce(obj, axis, dtype, out, **passkwargs)\n",
      "<ipython-input-311-824f5a75c9d9>:44: RuntimeWarning: invalid value encountered in double_scalars\n",
      "  self.u0[index] = (self.tau0[index]*self.u0[index] +\n",
      "100%|██████████| 5000/5000 [00:19<00:00, 262.48it/s]\n"
     ]
    },
    {
     "output_type": "display_data",
     "data": {
      "image/png": "[encoded data removed]",
      "text/plain": [
       "<Figure size 432x288 with 1 Axes>"
      ]
     },
     "metadata": {
      "needs_background": "light"
     }
    },
    {
     "output_type": "execute_result",
     "data": {
      "text/plain": [
       "array([1, 3, 3, 1, 4])"
      ]
     },
     "metadata": {},
     "execution_count": 312
    }
   ],
   "metadata": {}
  },
  {
   "cell_type": "code",
   "execution_count": null,
   "source": [
    "array = [i+1 for i in range(0, 20)]\n",
    "plt.figure(0)\n",
    "plt.errorbar(array, ts_learner.u0, yerr=(1/ts_learner.tau0)*5, fmt='o')\n",
    "plt.show()\n"
   ],
   "outputs": [
    {
     "output_type": "display_data",
     "data": {
      "image/png": "[encoded data removed]",
      "text/plain": [
       "<Figure size 432x288 with 1 Axes>"
      ]
     },
     "metadata": {
      "needs_background": "light"
     }
    }
   ],
   "metadata": {}
  }
 ],
 "metadata": {
  "orig_nbformat": 4,
  "language_info": {
   "name": "python",
   "version": "3.9.5",
   "mimetype": "text/x-python",
   "codemirror_mode": {
    "name": "ipython",
    "version": 3
   },
   "pygments_lexer": "ipython3",
   "nbconvert_exporter": "python",
   "file_extension": ".py"
  },
  "kernelspec": {
   "name": "python3",
   "display_name": "Python 3.9.5 64-bit"
  },
  "interpreter": {
   "hash": "aee8b7b246df8f9039afb4144a1f6fd8d2ca17a180786b69acc140d282b71a49"
  }
 },
 "nbformat": 4,
 "nbformat_minor": 2
}