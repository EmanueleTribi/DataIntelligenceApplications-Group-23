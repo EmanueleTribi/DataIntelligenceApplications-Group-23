{
 "metadata": {
  "language_info": {
   "codemirror_mode": {
    "name": "ipython",
    "version": 3
   },
   "file_extension": ".py",
   "mimetype": "text/x-python",
   "name": "python",
   "nbconvert_exporter": "python",
   "pygments_lexer": "ipython3",
   "version": "3.8.8"
  },
  "orig_nbformat": 2,
  "kernelspec": {
   "name": "python388jvsc74a57bd07b65a0b764bf49cc7947e468da38261005013c03fd7f348ce5375f68cfcbfbf1",
   "display_name": "Python 3.8.8 64-bit ('projects_env': conda)"
  },
  "metadata": {
   "interpreter": {
    "hash": "7b65a0b764bf49cc7947e468da38261005013c03fd7f348ce5375f68cfcbfbf1"
   }
  }
 },
 "nbformat": 4,
 "nbformat_minor": 2,
 "cells": [
  {
   "cell_type": "code",
   "execution_count": 35,
   "metadata": {},
   "outputs": [
    {
     "output_type": "error",
     "ename": "ModuleNotFoundError",
     "evalue": "No module named 'numpy'",
     "traceback": [
      "\u001b[0;31m---------------------------------------------------------------------------\u001b[0m",
      "\u001b[0;31mModuleNotFoundError\u001b[0m                       Traceback (most recent call last)",
      "\u001b[0;32m<ipython-input-35-b92946cb19f8>\u001b[0m in \u001b[0;36m<module>\u001b[0;34m\u001b[0m\n\u001b[0;32m----> 1\u001b[0;31m \u001b[0;32mimport\u001b[0m \u001b[0mnumpy\u001b[0m \u001b[0;32mas\u001b[0m \u001b[0mnp\u001b[0m\u001b[0;34m\u001b[0m\u001b[0;34m\u001b[0m\u001b[0m\n\u001b[0m\u001b[1;32m      2\u001b[0m \u001b[0;32mimport\u001b[0m \u001b[0moperator\u001b[0m\u001b[0;34m\u001b[0m\u001b[0;34m\u001b[0m\u001b[0m\n\u001b[1;32m      3\u001b[0m \u001b[0;31m# test probability of observing a slot: equivalent to delta_s(observe prob) q_a(click probability)\u001b[0m\u001b[0;34m\u001b[0m\u001b[0;34m\u001b[0m\u001b[0;34m\u001b[0m\u001b[0m\n\u001b[1;32m      4\u001b[0m \u001b[0;31m#i assume that the quality of the ad is for all 1 (WRONG ASSUMPTION!!!!)\u001b[0m\u001b[0;34m\u001b[0m\u001b[0;34m\u001b[0m\u001b[0;34m\u001b[0m\u001b[0m\n\u001b[1;32m      5\u001b[0m \u001b[0mdeltas\u001b[0m\u001b[0;34m=\u001b[0m\u001b[0;34m[\u001b[0m\u001b[0;36m0.8\u001b[0m\u001b[0;34m,\u001b[0m\u001b[0;36m0.5\u001b[0m\u001b[0;34m,\u001b[0m\u001b[0;36m.44\u001b[0m\u001b[0;34m,\u001b[0m\u001b[0;36m0.40\u001b[0m\u001b[0;34m,\u001b[0m\u001b[0;36m0.35\u001b[0m\u001b[0;34m,\u001b[0m\u001b[0;36m0.20\u001b[0m\u001b[0;34m]\u001b[0m\u001b[0;34m\u001b[0m\u001b[0;34m\u001b[0m\u001b[0m\n",
      "\u001b[0;31mModuleNotFoundError\u001b[0m: No module named 'numpy'"
     ]
    }
   ],
   "source": [
    "import numpy as np\n",
    "import operator\n",
    "# test probability of observing a slot: equivalent to delta_s(observe prob) q_a(click probability)\n",
    "#i assume that the quality of the ad is for all 1 (WRONG ASSUMPTION!!!!)\n",
    "deltas=[0.8,0.5,.44,0.40,0.35,0.20]\n",
    "\n",
    "#this is the best possible auction we can make \n",
    "\n",
    "class VCG():\n",
    "    def __init__(self,deltas=[0.8,0.5,.44,0.40,0.35,0.20]):\n",
    "        self.deltas=np.array(deltas)\n",
    "\n",
    "##this is the payment function \n",
    "## take in input the payment for a single ad (the bid)\n",
    "# and the list of all bids, necessary to calculate the VCG payment function\n",
    "    def payment(self,bid, bids):\n",
    "        best_allo=self.best_allocation(bids)\n",
    "        xa=np.inner(self.deltas,np.array(best_allo))\n",
    "        ya=0\n",
    "        newbids=bids[:]\n",
    "        for e in newbids:\n",
    "            if e.ad_id==bid.ad_id:\n",
    "                newbids.remove(e)\n",
    "                break    \n",
    "        ya=np.inner(self.deltas,np.array(self.best_allocation(newbids)))\n",
    "\n",
    "        payment=(xa-ya)/deltas[best_allo.index(bid)]\n",
    "        return payment\n",
    "\n",
    "## function that finds the best allocation  of 6 ads of a campaign\n",
    "\n",
    "    def best_allocation(self,bids):\n",
    "        #make a copy \n",
    "        ausiliary_array = bids\n",
    "\n",
    "        best_allocation = []\n",
    "\n",
    "        for i in range(0, 5):\n",
    "\n",
    "            ##TODO: CHECK THE FUNCTION WITH MAX OPERATOR\n",
    "            \n",
    "            item = max(ausiliary_array, key=operator.attrgetter('ad_id'))[0]\n",
    "            best_allocation.append(item)\n",
    "            ausiliary_array.remove(item)\n",
    "\n",
    "        return best_allocation\n",
    "        \n",
    "    ##function that finds the best allocation of all the campaigns\n",
    "    def all_best_allocations(self, list_camp_bids):\n",
    "\n",
    "        best_alloc_all_camp = []\n",
    "    \n",
    "        for i in range(0, 4):\n",
    "            best_alloc_all_camp.append(best_allocation(list_camp_bids(i)))\n",
    "        \n",
    "        return best_alloc_all_camp"
   ]
  },
  {
   "source": [
    "class Bid():\n",
    "    def __init__(self,bid,id):\n",
    "        self.bid=bid\n",
    "        self.ad_id=id\n",
    "        "
   ],
   "cell_type": "code",
   "metadata": {},
   "execution_count": 31,
   "outputs": []
  },
  {
   "cell_type": "code",
   "execution_count": 11,
   "metadata": {},
   "outputs": [],
   "source": []
  },
  {
   "cell_type": "code",
   "execution_count": 32,
   "metadata": {},
   "outputs": [
    {
     "output_type": "error",
     "ename": "NameError",
     "evalue": "name 'VCG' is not defined",
     "traceback": [
      "\u001b[0;31m---------------------------------------------------------------------------\u001b[0m",
      "\u001b[0;31mNameError\u001b[0m                                 Traceback (most recent call last)",
      "\u001b[0;32m<ipython-input-32-22bf35e26a6c>\u001b[0m in \u001b[0;36m<module>\u001b[0;34m\u001b[0m\n\u001b[1;32m     37\u001b[0m \u001b[0mlist_forall\u001b[0m\u001b[0;34m.\u001b[0m\u001b[0mappend\u001b[0m\u001b[0;34m(\u001b[0m\u001b[0mbids_5\u001b[0m\u001b[0;34m)\u001b[0m\u001b[0;34m\u001b[0m\u001b[0;34m\u001b[0m\u001b[0m\n\u001b[1;32m     38\u001b[0m \u001b[0;34m\u001b[0m\u001b[0m\n\u001b[0;32m---> 39\u001b[0;31m \u001b[0mvcg\u001b[0m \u001b[0;34m=\u001b[0m \u001b[0mVCG\u001b[0m\u001b[0;34m(\u001b[0m\u001b[0;34m)\u001b[0m\u001b[0;34m\u001b[0m\u001b[0;34m\u001b[0m\u001b[0m\n\u001b[0m\u001b[1;32m     40\u001b[0m \u001b[0;34m\u001b[0m\u001b[0m\n\u001b[1;32m     41\u001b[0m \u001b[0;34m\u001b[0m\u001b[0m\n",
      "\u001b[0;31mNameError\u001b[0m: name 'VCG' is not defined"
     ]
    }
   ],
   "source": [
    "import random\n",
    "\n",
    "\n",
    "bids_1 = []\n",
    "bids_2 = []\n",
    "bids_3 = []\n",
    "bids_4 = []\n",
    "bids_5 = []\n",
    "\n",
    "for i in range (0, 8):\n",
    "    bid = Bid(bid=random.randint(0, 4), id=i)\n",
    "    bids_1.append(bid)\n",
    "\n",
    "for i in range (0, 8):\n",
    "    bids_2.append(Bid(bid=random.randint(0, 4), id=i))\n",
    "\n",
    "for i in range (0, 8):\n",
    "    bids_3.append(Bid(bid=random.randint(0, 4), id=i))\n",
    "\n",
    "for i in range (0, 8):\n",
    "    bids_4.append(Bid(bid=random.randint(0, 4), id=i))\n",
    "\n",
    "for i in range (0, 8):\n",
    "    bids_5.append(Bid(bid=random.randint(0, 4), id=i))\n",
    "\n",
    "\n",
    "'''for i in range (0, 8):\n",
    "    print(\"id:\", bids_1[i].ad_id)\n",
    "    print(\"bid:\", bids_1[i].bid)\n",
    "'''\n",
    "alloc = []\n",
    "list_forall = []\n",
    "list_forall.append(bids_1)\n",
    "list_forall.append(bids_2)\n",
    "list_forall.append(bids_3)\n",
    "list_forall.append(bids_4)\n",
    "list_forall.append(bids_5)\n",
    "\n",
    "vcg = VCG()\n",
    "\n",
    "\n",
    "alloc = vcg.all_best_allocations(list_camp_bids = list_forall)\n",
    "for i in range(0, 4):\n",
    "    for j in range(0, 5):\n",
    "        print(\"id:\", alloc[i][j].ad_id)\n",
    "        print(\"bid:\", alloc[i][j].bid)\n",
    "\n",
    "\n"
   ]
  },
  {
   "cell_type": "code",
   "execution_count": null,
   "metadata": {},
   "outputs": [],
   "source": []
  }
 ]
}